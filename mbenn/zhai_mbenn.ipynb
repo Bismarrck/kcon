{
 "cells": [
  {
   "cell_type": "code",
   "execution_count": 1,
   "metadata": {
    "collapsed": false,
    "deletable": true,
    "editable": true
   },
   "outputs": [],
   "source": [
    "%matplotlib inline\n",
    "%load_ext autoreload\n",
    "%autoreload 1\n",
    "%aimport models"
   ]
  },
  {
   "cell_type": "markdown",
   "metadata": {
    "deletable": true,
    "editable": true
   },
   "source": [
    "# Xin Chen's implementation of the MBE-NN network"
   ]
  },
  {
   "cell_type": "markdown",
   "metadata": {
    "deletable": true,
    "editable": true
   },
   "source": [
    "* Author: Xin Chen\n",
    "* Email: Bismarrck@me.com\n",
    "\n",
    "This jupyter notebook is used to repeat the work of http://doi.org/10.1021/acs.jctc.6b00994. \n",
    "\n",
    "The test cluster is $\\textrm{C}_{9}\\textrm{H}_{7}\\textrm{N}$. The reference energies are calculated with DFTB.\n",
    "\n",
    "<img src=\"./C9H7N.png\" alt=\"network\" style=\"width: 600px;\"/>"
   ]
  },
  {
   "cell_type": "markdown",
   "metadata": {
    "deletable": true,
    "editable": true
   },
   "source": [
    "## 1. Overview"
   ]
  },
  {
   "cell_type": "markdown",
   "metadata": {
    "deletable": true,
    "editable": true
   },
   "source": [
    "The structure of the deep convolutional neural network for the $Pt_{13}$ cluster is as follows:\n",
    "\n",
    "<img src=\"./convnet.jpg\" alt=\"network\" style=\"width: 800px;\"/>\n",
    "\n",
    "The input features are transformed interatomic distances. The output node represents the estimated DFT energies.\n",
    "The detailed explanantion of this convolutionary neural network will be given in the following section **Inference**."
   ]
  },
  {
   "cell_type": "markdown",
   "metadata": {
    "deletable": true,
    "editable": true
   },
   "source": [
    "## 2. Declarations"
   ]
  },
  {
   "cell_type": "markdown",
   "metadata": {
    "deletable": true,
    "editable": true
   },
   "source": [
    "In this section we shall import python modules and declare global constants."
   ]
  },
  {
   "cell_type": "code",
   "execution_count": 2,
   "metadata": {
    "collapsed": false,
    "deletable": true,
    "editable": true
   },
   "outputs": [],
   "source": [
    "import tensorflow as tf\n",
    "import numpy as np\n",
    "import seaborn as sns\n",
    "import re\n",
    "import h5py\n",
    "import sys\n",
    "import time\n",
    "import hashlib\n",
    "import shutil\n",
    "from datetime import datetime\n",
    "from fnmatch import fnmatch\n",
    "from itertools import repeat\n",
    "from os.path import isfile, isdir, join, basename, splitext\n",
    "from os import makedirs, listdir\n",
    "from scipy.misc import comb\n",
    "from sklearn.preprocessing import MinMaxScaler\n",
    "from sklearn.model_selection import train_test_split\n",
    "from sklearn.metrics import pairwise_distances, r2_score\n",
    "from itertools import combinations\n",
    "from matplotlib import pyplot as plt\n",
    "from IPython.display import clear_output, Image, display, HTML\n",
    "from tensorflow.python.framework import constant_op\n",
    "from tensorflow.python.framework import ops\n",
    "from tensorflow.python.framework.ops import GraphKeys\n",
    "from tensorflow.python.ops import control_flow_ops\n",
    "from tensorflow.python.ops import math_ops\n",
    "from tensorflow.contrib.learn import ModeKeys\n",
    "sns.set(font=\"serif\")\n",
    "plt.rcParams[\"figure.figsize\"] = [15, 12]"
   ]
  },
  {
   "cell_type": "code",
   "execution_count": 3,
   "metadata": {
    "collapsed": false,
    "deletable": true,
    "editable": true
   },
   "outputs": [],
   "source": [
    "# The patch size is always 1x1\n",
    "PATCH_SIZE = 1\n",
    "\n",
    "# The HDF5 database file.\n",
    "HDF5_DATABASE_FILE = \"c9h7n.hdf5\"\n",
    "\n",
    "# The dimension of the cluster.\n",
    "NUM_SITES = 17\n",
    "\n",
    "# The total number of structures in the XYZ file should be 209660.\n",
    "XYZ_FILE = \"../datasets/C9H7N.xyz\"\n",
    "TOTAL_SIZE = 5000\n",
    "\n",
    "# Setup the size.\n",
    "LOAD_SIZE = 5000\n",
    "TEST_SIZE = 0.2\n",
    "\n",
    "# Setup the random seed.\n",
    "SEED = 235\n",
    "\n",
    "# Setup the precision of floats. \n",
    "TF_TYPE = tf.float32\n",
    "NP_TYPE = np.float32\n",
    "\n",
    "# Cuda\n",
    "CUDA_ON = True\n",
    "\n",
    "# Set this to True to make input features zero-centered.\n",
    "ZERO_CENTER = False\n",
    "\n",
    "# The fixed constants: C(N,k) and C(k,2) where k is 4.\n",
    "CNK = comb(NUM_SITES, 4, exact=True)\n",
    "CK2 = comb(4, 2, exact=True)\n",
    "\n",
    "# The pyykko radius (+1) for each element.\n",
    "pyykko = {\n",
    "  'Ac': 1.86, 'Ag': 1.28, 'Al': 1.26, 'Am': 1.66, 'Ar': 0.96, 'As': 1.21,\n",
    "  'At': 1.47, 'Au': 1.24, 'B': 0.85, 'Ba': 1.96, 'Be': 1.02, 'Bh': 1.41,\n",
    "  'Bi': 1.51, 'Bk': 1.68, 'Br': 1.14, 'C': 0.75, 'Ca': 1.71, 'Cd': 1.36,\n",
    "  'Ce': 1.63, 'Cf': 1.68, 'Cl': 0.99, 'Cm': 1.66, 'Co': 1.11, 'Cr': 1.22,\n",
    "  'Cs': 2.32, 'Cu': 1.12, 'Db': 1.49, 'Ds': 1.28, 'Dy': 1.67, 'Er': 1.65,\n",
    "  'Es': 1.65, 'Eu': 1.68, 'F': 0.64, 'Fe': 1.16, 'Fm': 1.67, 'Fr': 2.23,\n",
    "  'Ga': 1.24, 'Gd': 1.69, 'Ge': 1.21, 'H': 0.32, 'He': 0.46, 'Hf': 1.52,\n",
    "  'Hg': 1.33, 'Ho': 1.66, 'Hs': 1.34, 'I': 1.33, 'In': 1.42, 'Ir': 1.22,\n",
    "  'K': 1.96, 'Kr': 1.17, 'La': 1.8, 'Li': 1.33, 'Lu': 1.62, 'Md': 1.73,\n",
    "  'Mg': 1.39, 'Mn': 1.19, 'Mo': 1.38, 'Mt': 1.29, 'N': 0.71, 'Na': 1.55,\n",
    "  'Nb': 1.47, 'Nd': 1.74, 'Ne': 0.67, 'Ni': 1.1, 'No': 1.76, 'Np': 1.71,\n",
    "  'O': 0.63, 'Os': 1.29, 'P': 1.11, 'Pa': 1.69, 'Pb': 1.44, 'Pd': 1.2,\n",
    "  'Pm': 1.73, 'Po': 1.45, 'Pr': 1.76, 'Pt': 1.23, 'Pu': 1.72, 'Ra': 2.01,\n",
    "  'Rb': 2.1, 'Re': 1.31, 'Rf': 1.57, 'Rh': 1.25, 'Rn': 1.42, 'Ru': 1.25,\n",
    "  'S': 1.03, 'Sb': 1.4, 'Sc': 1.48, 'Se': 1.16, 'Sg': 1.43, 'Si': 1.16,\n",
    "  'Sm': 1.72, 'Sn': 1.4, 'Sr': 1.85, 'Ta': 1.46, 'Tb': 1.68, 'Tc': 1.28,\n",
    "  'Te': 1.36, 'Th': 1.75, 'Ti': 1.36, 'Tl': 1.44, 'Tm': 1.64, 'U': 1.7,\n",
    "  'V': 1.34, 'W': 1.37, 'X': 0.32, 'Xe': 1.31, 'Y': 1.63, 'Yb': 1.7,\n",
    "  'Zn': 1.18, 'Zr': 1.54\n",
    "}"
   ]
  },
  {
   "cell_type": "markdown",
   "metadata": {
    "deletable": true,
    "editable": true
   },
   "source": [
    "The following cell defines the pyykko radii matrix for exponentially scaling interactomic distances. In this $\\textrm{C}_{9}\\textrm{H}_{7}\\textrm{N}$ case, the pyykko bond lengths of C-H, C-N and C-C varys."
   ]
  },
  {
   "cell_type": "code",
   "execution_count": 4,
   "metadata": {
    "collapsed": false,
    "deletable": true,
    "editable": true
   },
   "outputs": [
    {
     "data": {
      "text/plain": [
       "<matplotlib.axes._subplots.AxesSubplot at 0x7fbbfbfebf28>"
      ]
     },
     "execution_count": 4,
     "metadata": {},
     "output_type": "execute_result"
    },
    {
     "data": {
      "image/png": "[encoded data removed]",
      "text/plain": [
       "<matplotlib.figure.Figure at 0x7fbbfbfeb898>"
      ]
     },
     "metadata": {},
     "output_type": "display_data"
    }
   ],
   "source": [
    "plt.rcParams[\"figure.figsize\"] = [8, 6]\n",
    "factor = 1.5\n",
    "pyykko_radii = {\"N\": 0.71, \"C\": 0.75, \"H\": 0.32}\n",
    "species = [\"N\"] + list(repeat(\"C\", 9)) + list(repeat(\"H\", 7))\n",
    "rr = np.asarray([pyykko_radii[specie] for specie in species])[:, np.newaxis]\n",
    "lmat = factor * (rr + rr.T).flatten()\n",
    "sns.heatmap(lmat.reshape((17, 17)), xticklabels=species, yticklabels=species)"
   ]
  },
  {
   "cell_type": "markdown",
   "metadata": {
    "deletable": true,
    "editable": true
   },
   "source": [
    "Some global helper functions are declared here."
   ]
  },
  {
   "cell_type": "code",
   "execution_count": 5,
   "metadata": {
    "collapsed": true,
    "deletable": true,
    "editable": true
   },
   "outputs": [],
   "source": [
    "def brange(start, stop, batchsize):\n",
    "  \"\"\"\n",
    "  Range from `start` to `stop` given a batch size and return the start and stop of each batch.\n",
    "  \n",
    "  Args:\n",
    "    start: int, the start number of a sequence.\n",
    "    stop: int, the end number of a sequence.\n",
    "    batchsize: int, the size of each batch.\n",
    "  \n",
    "  \"\"\"\n",
    "  istart = start\n",
    "  while istart < stop:\n",
    "    istop = min(istart + batchsize, stop)\n",
    "    yield istart, istop\n",
    "    istart = istop\n",
    "\n",
    "\n",
    "def exponential(x, l=4.0):\n",
    "  \"\"\"\n",
    "  Exponentially scale the input value(s).  \n",
    "  \"\"\"\n",
    "  return np.exp(-x / l)\n",
    "\n",
    "\n",
    "def md5(filename):\n",
    "  \"\"\" \n",
    "  Return the md5 checksum of the given file.\n",
    "\n",
    "  Args:\n",
    "    filename: a file.\n",
    "\n",
    "  Returns:\n",
    "    checksum: the MD5 checksum of the file.\n",
    "\n",
    "  \"\"\"\n",
    "  hash_md5 = hashlib.md5()\n",
    "  with open(filename, \"rb\") as f:\n",
    "    for chunk in iter(lambda: f.read(4096), b\"\"):\n",
    "      hash_md5.update(chunk)\n",
    "  return hash_md5.hexdigest()\n",
    "\n",
    "\n",
    "def root_mean_squred(x):\n",
    "  \"\"\"\n",
    "  Return the root mean squared of the given array.\n",
    "  \"\"\"\n",
    "  return np.sqrt(np.mean(np.square(x)))\n",
    "\n",
    "\n",
    "def mean_abs_error(y_true, y_pred):\n",
    "  \"\"\"\n",
    "  Return the mean absolute error.\n",
    "  \"\"\"\n",
    "  return np.mean(np.abs(y_true - y_pred))\n",
    "\n",
    "\n",
    "def get_time_id():\n",
    "  \"\"\"\n",
    "  Return a string as the ID of this run.\n",
    "  \"\"\"\n",
    "  return datetime.strftime(datetime.fromtimestamp(time.time()), \"%m%d%H%M\")\n",
    "\n",
    "\n",
    "def get_pyykko_scaling_matrix(species, factor=1.5, flat=True):\n",
    "  \"\"\"\n",
    "  Return the pyykko-bond-length based scaling matrix.\n",
    "  \n",
    "  Args:\n",
    "    species: List[str], a list of species.\n",
    "  \n",
    "  \"\"\"\n",
    "  rr = np.asarray([pyykko_radii[specie] for specie in species])[:, np.newaxis]\n",
    "  lmat = factor * (rr + rr.T)\n",
    "  if flat:\n",
    "    return lmat.flatten()\n",
    "  else:\n",
    "    return lmat\n",
    "\n",
    "\n",
    "def smooth(x, window_len=11, window='hanning'):\n",
    "  \"\"\"\n",
    "  smooth the data using a window with requested size.\n",
    "\n",
    "  This method is based on the convolution of a scaled window with the signal.\n",
    "  The signal is prepared by introducing reflected copies of the signal\n",
    "  (with the window size) in both ends so that transient parts are minimized\n",
    "  in the begining and end part of the output signal.\n",
    "\n",
    "  Args:\n",
    "    x: the input signal\n",
    "    window_len: the dimension of the smoothing window; should be an odd integer\n",
    "    window: the type of window from 'flat', 'hanning', 'hamming', 'bartlett', 'blackman' \n",
    "      flat window will produce a moving average smoothing.\n",
    "\n",
    "  output:\n",
    "    the smoothed signal\n",
    "  \"\"\"\n",
    "\n",
    "  if x.ndim != 1:\n",
    "    raise ValueError(\"smooth only accepts 1 dimension arrays.\")\n",
    "\n",
    "  if x.size < window_len:\n",
    "    raise ValueError(\"Input vector needs to be bigger than window size.\")\n",
    "\n",
    "  if window_len < 3:\n",
    "    return x\n",
    "\n",
    "  if not window in ['flat', 'hanning', 'hamming', 'bartlett', 'blackman']:\n",
    "    raise ValueError(\"Window is on of 'flat', 'hanning', 'hamming', 'bartlett', 'blackman'\")\n",
    "\n",
    "  s = np.r_[x[window_len-1:0:-1],x,x[-1:-window_len:-1]]\n",
    "  if window == 'flat':\n",
    "    w = np.ones(window_len,'d')\n",
    "  else:\n",
    "    w = eval('np.'+ window +'(window_len)')\n",
    "\n",
    "  return np.convolve(w / w.sum(), s, mode='valid')"
   ]
  },
  {
   "cell_type": "markdown",
   "metadata": {
    "deletable": true,
    "editable": true
   },
   "source": [
    "## 3. Inference"
   ]
  },
  {
   "cell_type": "markdown",
   "metadata": {
    "deletable": true,
    "editable": true
   },
   "source": [
    "This convnet is a slightly different from normal convolutionary neural networks. Suppose N is the batch size:\n",
    "\n",
    "* The shape of the input tensor is: $[N, 1, C_{N}^{k}, C_{k}^{2}]$\n",
    "* The **k** defines the many-body expansion. In this paper, k is selected to be 4.\n",
    "* The patch (kernel) is always 1x1.\n",
    "* The padding scheme is 'SAME' and the strides are 1 in both directions.\n",
    "\n",
    "The ``MBE-NN-M`` model and its variants are implemented in **``model.py``**."
   ]
  },
  {
   "cell_type": "markdown",
   "metadata": {
    "deletable": true,
    "editable": true
   },
   "source": [
    "## 4. Preparing the Dataset"
   ]
  },
  {
   "cell_type": "markdown",
   "metadata": {
    "deletable": true,
    "editable": true
   },
   "source": [
    "### 4.1 Transformation"
   ]
  },
  {
   "cell_type": "markdown",
   "metadata": {
    "deletable": true,
    "editable": true
   },
   "source": [
    "It is known that Gaussian coordinates are not suitable to direcly used as input of NN. Therefor, two transformations are adapted here on the input sample data in Cartesian coordiantes $\\{r_{j}\\}$:\n",
    "\n",
    "1. Transform each set of combination indices $\\{j\\}$ ($k=4$) to interatomic distances $\\{d_{i,j}\\}$ ($C_{k}^{2}=6$). \n",
    "2. Dump these interatomic distances with the exponential function: $d_{i,j}' = e^{-d_{i,j}/L}$. $L$ is a fixed parameter and 4.0 was used in this paper.\n",
    "\n",
    "The following figure demonstrates the workflow of these transformations:\n",
    "\n",
    "<img src=\"./input_transform.png\" alt=\"Drawing\" style=\"width: 900px;\"/>\n",
    "\n",
    "The shape of the final input matrix should be: [1, $C_{N}^{k}$, $C_{k}^{2}$]\n",
    "\n",
    "* The width is 1\n",
    "* The height is $C_{N}^{k}$\n",
    "* The depth is $C_{k}^{2}$\n",
    "\n",
    "So that we can use it in a convolutionary neural network!"
   ]
  },
  {
   "cell_type": "code",
   "execution_count": 6,
   "metadata": {
    "collapsed": true,
    "deletable": true,
    "editable": true
   },
   "outputs": [],
   "source": [
    "def transform_coords(coords, chunksize, mapping, l=4.0, verbose=True):\n",
    "  \"\"\"\n",
    "  Transform the cartesian coordinates to input features.\n",
    "\n",
    "  Args:\n",
    "    coords: a 3D array with shape [M,N,3] representing the cartesian coordinates.\n",
    "    chunksize: the transformed array is too large. So save it piece by piece.\n",
    "    mapping: a `h5py.Dataset`, which is a symbolic to the real data on disk.\n",
    "    l: the exponential parameter.\n",
    "    verbose: print the transformation progress if True.\n",
    "\n",
    "  \"\"\"\n",
    "  ntotal, n = coords.shape[:2]\n",
    "  cnkv = comb(n, 4, exact=True)\n",
    "  ck2v = comb(4, 2, exact=True)\n",
    "  cnkl = list(combinations(range(NUM_SITES), 4))\n",
    "  # Using mapping indices can increase the speed 30 times!\n",
    "  indices = np.zeros((ck2v, cnkv), dtype=int)\n",
    "  for i in range(cnkv):\n",
    "    for j, (vi, vj) in enumerate(combinations(cnkl[i], 2)):\n",
    "      indices[j, i] = vi * n + vj\n",
    "  dataset = np.zeros((chunksize, 1, cnkv, ck2v), dtype=NP_TYPE)\n",
    "  tic = time.time()\n",
    "  if verbose:\n",
    "    print(\"Transform the cartesian coordinates ...\\n\")\n",
    "  for i, inext in brange(0, ntotal, chunksize):\n",
    "    for j in range(i, inext):\n",
    "      dists = pairwise_distances(coords[j]).flatten()\n",
    "      dists = exponential(dists, l=l)\n",
    "      for k in range(ck2v):\n",
    "        dataset[j - i, 0, :, k] = dists[indices[k]]\n",
    "      del dists\n",
    "    batch_size = inext - i\n",
    "    mapping[i: inext, ...] = dataset[:batch_size, ...]\n",
    "    if verbose:\n",
    "      sys.stdout.write(\"\\rProgress: %7d  /  %7d\" % (inext, ntotal))\n",
    "    dataset.fill(0.0)\n",
    "  del indices\n",
    "  del dataset\n",
    "  if verbose:\n",
    "    print(\"\")\n",
    "    print(\"Total time: %.3f s\\n\" % (time.time() - tic))"
   ]
  },
  {
   "cell_type": "markdown",
   "metadata": {
    "deletable": true,
    "editable": true
   },
   "source": [
    "### 4.2 Parsing"
   ]
  },
  {
   "cell_type": "markdown",
   "metadata": {
    "deletable": true,
    "editable": true
   },
   "source": [
    "Extract the XYZ coordinates and atomic symbols from the raw file. The raw file is not a standard XYZ file, so we need to write a helper function to do this."
   ]
  },
  {
   "cell_type": "code",
   "execution_count": 7,
   "metadata": {
    "collapsed": true,
    "deletable": true,
    "editable": true
   },
   "outputs": [],
   "source": [
    "def extract_xyz(filename, verbose=True):\n",
    "  \"\"\"\n",
    "  Extract symbols, coordiantes and forces (for later usage) from the raw file.\n",
    "  \n",
    "  Args:\n",
    "    filename: a str.\n",
    "    verbose: a bool.\n",
    "\n",
    "  Returns\n",
    "    energies: Array[N,]\n",
    "    coordinates: Array[N, 17, 3], a 3D array containing the atomic coordinates.\n",
    "    forces: Array[N, 17, 3], a 3D array containing the atomic forces.\n",
    "  \n",
    "  \"\"\"\n",
    "  group = \"raw\"\n",
    "  hdb = h5py.File(HDF5_DATABASE_FILE)\n",
    "  if group not in hdb:\n",
    "    hdb.create_group(group)\n",
    "  \n",
    "  try:\n",
    "    energies = hdb[group][\"energies\"][:]\n",
    "    coordinates = hdb[group][\"coordinates\"][:]\n",
    "    forces = hdb[group][\"forces\"][:]\n",
    "\n",
    "  except Exception:\n",
    "    energies = np.zeros((TOTAL_SIZE,), dtype=NP_TYPE)\n",
    "    coordinates = np.zeros((TOTAL_SIZE, NUM_SITES, 3), dtype=NP_TYPE)\n",
    "    forces = np.zeros((TOTAL_SIZE, NUM_SITES, 3), dtype=NP_TYPE)\n",
    "    stage = 0\n",
    "    i = 0\n",
    "    j = 0\n",
    "    energy_patt = re.compile(r\".*energy=([\\d.-]+).*\")\n",
    "    string_patt = re.compile(r\"([A-Za-z]{1,2})\\s+([\\d.-]+)\\s+([\\d.-]+)\\s+([\\d.-]+)\\s+\"\n",
    "                              \"\\d+\\s+\\d.\\d+\\s+\\d+\\s+([\\d.-]+)\\s+([\\d.-]+)\\s+([\\d.-]+)\")\n",
    "    tic = time.time()\n",
    "    if verbose:\n",
    "      sys.stdout.write(\"Extract cartesian coordinates ...\\n\")\n",
    "    with open(filename) as f:\n",
    "      for line in f:\n",
    "        if i == TOTAL_SIZE:\n",
    "          break\n",
    "        l = line.strip()\n",
    "        if l == \"\":\n",
    "          continue\n",
    "        if stage == 0:\n",
    "          if l.isdigit():\n",
    "            n = int(l)\n",
    "            if n != NUM_SITES:\n",
    "              raise ValueError(\"The parsed size %d != NUM_SITES\" % n)\n",
    "            stage += 1\n",
    "        elif stage == 1:\n",
    "          m = energy_patt.search(l)\n",
    "          if m:\n",
    "            energies[i] = float(m.group(1))\n",
    "            stage += 1\n",
    "        elif stage == 2:\n",
    "          m = string_patt.search(l)\n",
    "          if m:\n",
    "            coordinates[i, j, :] = float(m.group(2)), float(m.group(3)), float(m.group(4))\n",
    "            forces[i, j, :] = float(m.group(5)), float(m.group(6)), float(m.group(7))\n",
    "            j += 1\n",
    "            if j == NUM_SITES:\n",
    "              j = 0\n",
    "              stage = 0\n",
    "              i += 1\n",
    "              if verbose and i % 1000 == 0:\n",
    "                sys.stdout.write(\"\\rProgress: %7d  /  %7d\" % (i, TOTAL_SIZE))\n",
    "      if verbose:\n",
    "        print(\"\")\n",
    "        print(\"Total time: %.3f s\\n\" % (time.time() - tic))\n",
    "      hdb[group].create_dataset(\"energies\", data=energies)\n",
    "      hdb[group].create_dataset(\"coordinates\", data=coordinates)\n",
    "      hdb[group].create_dataset(\"forces\", data=forces)\n",
    "  \n",
    "  finally:\n",
    "    hdb.close()\n",
    "  \n",
    "  return energies, coordinates, forces"
   ]
  },
  {
   "cell_type": "code",
   "execution_count": 8,
   "metadata": {
    "collapsed": false,
    "deletable": true,
    "editable": true
   },
   "outputs": [
    {
     "data": {
      "text/plain": [
       "<matplotlib.text.Text at 0x7fbbfbfabcf8>"
      ]
     },
     "execution_count": 8,
     "metadata": {},
     "output_type": "execute_result"
    },
    {
     "data": {
      "image/png": "[encoded data removed]",
      "text/plain": [
       "<matplotlib.figure.Figure at 0x7fbbf9ef9518>"
      ]
     },
     "metadata": {},
     "output_type": "display_data"
    }
   ],
   "source": [
    "energies, coordinates, _ = extract_xyz(XYZ_FILE)\n",
    "ax = sns.distplot(energies)\n",
    "ax.set_xlabel(\"DFTB Energy (eV)\", fontsize=14)\n",
    "ax.set_ylabel(\"Probablity\", fontsize=14)"
   ]
  },
  {
   "cell_type": "markdown",
   "metadata": {
    "deletable": true,
    "editable": true
   },
   "source": [
    "### 4.3 Building"
   ]
  },
  {
   "cell_type": "markdown",
   "metadata": {
    "deletable": true,
    "editable": true
   },
   "source": [
    "Build the dataset and split it into training, validation and testing datasets:\n",
    "\n",
    "1. Initialize a new hdf5 file if it can not be accessed.\n",
    "1. Extract symbols, energies, atomic coordinates and forces from the file.\n",
    "2. Transform and scale the coordinates to build the 4D array $[N, 1, C_{N}^{k}, C_{k}^{2}]$.\n",
    "\n",
    "**Warning: in this case ($\\textrm{C}_{9}\\textrm{H}_{7}\\textrm{N}$), all samples are considered unique!**"
   ]
  },
  {
   "cell_type": "code",
   "execution_count": 9,
   "metadata": {
    "collapsed": true,
    "deletable": true,
    "editable": true
   },
   "outputs": [],
   "source": [
    "def may_build_dataset(filename, l=4.0, verbose=True):\n",
    "  \"\"\"\n",
    "  Build the training, validation and testing dataset and targets from a XYZ file.\n",
    "\n",
    "  Args:\n",
    "    filename: str, a file with CP2K/XYZ format.\n",
    "    l: float, the exponential parameter.\n",
    "    verbose: bool, print the building progress if True.\n",
    "\n",
    "  Returns:\n",
    "    features: a 4D array as the transformed input features.\n",
    "    targets: a 2D array as the scaled ([0, 1]) targets.\n",
    "    scaler: a ``sklearn.preprocessing.MinMaxScaler``.\n",
    "\n",
    "  \"\"\"\n",
    "  # Compute the MD5 checksum of the xyzfile\n",
    "  checksum = md5(filename)\n",
    "\n",
    "  if verbose:\n",
    "    print(\"-> Load the training, validation and testing datasets ...\\n\")\n",
    "\n",
    "  coords, energies = None, None\n",
    "  features, targets = None, None\n",
    "  backup_hdf5 = False\n",
    "  extract_coords = True\n",
    "  build_features = True\n",
    "\n",
    "  # If the HDF5 file is already existed, we try to load dataset and targets from\n",
    "  # the HDF5 file directly if the checksums are equal.\n",
    "  if isfile(HDF5_DATABASE_FILE):\n",
    "    with h5py.File(HDF5_DATABASE_FILE, \"r\") as hdb:\n",
    "      if hdb.attrs.get(\"checksum\", 0) == checksum:\n",
    "        # There are two main groups in this HDF5 file:\n",
    "        # 1. the first group is 'train' where training data and training targets\n",
    "        # are stored.\n",
    "        if \"train\" in hdb:\n",
    "          features = hdb[\"train\"][\"dataset\"][:LOAD_SIZE]\n",
    "          targets = hdb[\"train\"][\"targets\"][:LOAD_SIZE]\n",
    "          build_features = False\n",
    "          extract_coords = False\n",
    "        # 2. the second group is 'unique' where uniquified cartesian coordinates\n",
    "        # and their energies extracted from a CP2K/XYZ file are saved.\n",
    "        elif \"unique\" in hdb.keys():\n",
    "          coords = hdb[\"unique\"][\"coords\"][:]\n",
    "          energies = hdb[\"unique\"][\"energies\"][:]\n",
    "          extract_coords = False\n",
    "      # The checksum are not equal, so we backup the existed HDF5 databse by\n",
    "      # renaming it.\n",
    "      else:\n",
    "        backup_hdf5 = True\n",
    "    if backup_hdf5:\n",
    "      if verbose:\n",
    "        print(\"MD5 checksums mismatched. Build a new dataset.\\n\")\n",
    "      shutil.move(HDF5_DATABASE_FILE, HDF5_DATABASE_FILE + \".bak\")\n",
    "\n",
    "  # Extract the raw cartesian coordinates and energis (eV) from the CP2K/XYZ\n",
    "  # file and save these data into group 'raw'. All data are compressed with the\n",
    "  # lossless gzip filter.\n",
    "  if extract_coords:\n",
    "    energies, coords, _ = extract_xyz(filename, verbose=verbose)\n",
    "    # Remove the duplicates to reduce the dataset\n",
    "    # coords, energies = remove_duplicates(coords, energies, verbose=verbose)\n",
    "    with h5py.File(HDF5_DATABASE_FILE) as hdb:\n",
    "      # Delete the previous group `unique`. This should not happen, but it may\n",
    "      # be inserted manually for debugging.\n",
    "      group = \"unique\"\n",
    "      if group in hdb.keys():\n",
    "        del hdb[group]\n",
    "      hdb.attrs[\"checksum\"] = checksum\n",
    "      hdb.create_group(group)\n",
    "      hdb[group].create_dataset(\"coords\", data=coords, compression=\"gzip\")\n",
    "      hdb[group].create_dataset(\"energies\", data=energies, compression=\"gzip\")\n",
    "  elif verbose:\n",
    "    print(\"Use existed coordinates and energies.\\n\")\n",
    "\n",
    "  # Transform the cartesian coordinates to a 4D dataset. Permute this dataset\n",
    "  # several times and then we split it into three parts: training, validation\n",
    "  # and testing. Save these datasets and their targets into group 'cnn'.\n",
    "  if build_features:\n",
    "    # Allocate the disk space and then write transformed data piece by piece\n",
    "    # because my little computer only has 16GB memory.\n",
    "    shape = [len(energies), 1, comb(NUM_SITES, 4, True), comb(4, 2, True)]\n",
    "    hdb = h5py.File(HDF5_DATABASE_FILE)\n",
    "    try:\n",
    "      group = hdb.require_group(\"train\")\n",
    "      group.create_dataset(\"targets\", data=energies)\n",
    "      mapping = group.create_dataset(\n",
    "        \"dataset\", shape=shape, dtype=np.float32)\n",
    "      # Set the chunksize to 10000.\n",
    "      chunksize = 10000\n",
    "      transform_coords(coords, chunksize, mapping, l=l, verbose=verbose)\n",
    "    except Exception as excp:\n",
    "      del hdb[\"train\"]\n",
    "      raise excp\n",
    "    finally:\n",
    "      hdb.close()\n",
    "    # After the transformation we now load the whole dataset into memory.\n",
    "    with h5py.File(HDF5_DATABASE_FILE) as hdb:\n",
    "      features = hdb[\"train\"][\"dataset\"][:LOAD_SIZE]\n",
    "      targets = np.array(energies[:LOAD_SIZE], copy=False)\n",
    "    if verbose:\n",
    "      print(\"Dataset size (MB)     : \", features.nbytes / 1024 / 1024)\n",
    "      print(\"Targets size (MB)     : \", targets.nbytes / 1024 / 1024)\n",
    "      print(\"\")\n",
    "    del coords\n",
    "  elif verbose:\n",
    "    print(\"Use existed features and targets.\\n\")\n",
    "\n",
    "  # Determine the maximum and minimum energy. The energies should be scaled to\n",
    "  # [0, 1] during training.\n",
    "  scaler = MinMaxScaler()\n",
    "  targets = scaler.fit_transform(np.atleast_2d(targets).T)\n",
    "\n",
    "  if verbose:\n",
    "    print(\"-> Datasets and targets are loaded into memories.\")\n",
    "    print(\"\")\n",
    "  return features, targets, scaler"
   ]
  },
  {
   "cell_type": "code",
   "execution_count": 10,
   "metadata": {
    "collapsed": false,
    "deletable": true,
    "editable": true
   },
   "outputs": [
    {
     "name": "stdout",
     "output_type": "stream",
     "text": [
      "-> Load the training, validation and testing datasets ...\n",
      "\n",
      "Use existed coordinates and energies.\n",
      "\n",
      "Use existed features and targets.\n",
      "\n",
      "-> Datasets and targets are loaded into memories.\n",
      "\n"
     ]
    }
   ],
   "source": [
    "features, targets, scaler = may_build_dataset(XYZ_FILE, l=lmat)"
   ]
  },
  {
   "cell_type": "markdown",
   "metadata": {
    "deletable": true,
    "editable": true
   },
   "source": [
    "### 4.4 Preprocessing"
   ]
  },
  {
   "cell_type": "markdown",
   "metadata": {
    "deletable": true,
    "editable": true
   },
   "source": [
    "In this section further data preprocessing procedures will be taken. See http://cs231n.github.io/neural-networks-2/#batchnorm for explanantions.\n",
    "\n",
    "Before preprocessing, let's first demonstrate the value distributions of the features:"
   ]
  },
  {
   "cell_type": "code",
   "execution_count": 11,
   "metadata": {
    "collapsed": false,
    "deletable": true,
    "editable": true
   },
   "outputs": [
    {
     "data": {
      "text/plain": [
       "<matplotlib.axes._subplots.AxesSubplot at 0x7fbbf9d4ff60>"
      ]
     },
     "execution_count": 11,
     "metadata": {},
     "output_type": "execute_result"
    },
    {
     "data": {
      "image/png": "[encoded data removed]",
      "text/plain": [
       "<matplotlib.figure.Figure at 0x7fbbf9f03ba8>"
      ]
     },
     "metadata": {},
     "output_type": "display_data"
    }
   ],
   "source": [
    "sns.distplot(features.flatten()[::20])"
   ]
  },
  {
   "cell_type": "markdown",
   "metadata": {
    "deletable": true,
    "editable": true
   },
   "source": [
    "Then, before we start training, the dataset should also be splited. ``sklearn.model_selection.train_test_split`` can be used to achieve this. Remember to set the random state!\n",
    "\n",
    "Some important notes:\n",
    "\n",
    "1. **In practice: ** it is very important to zero-center the data.\n",
    "2. **Common pitfall: ** An important point to make about the preprocessing is that any preprocessing statistics (e.g. the data mean) must only be computed on the training data, and then applied to the validation / test data. E.g. computing the mean and subtracting it from every image across the entire dataset and then splitting the data into train/val/test splits would be a mistake. Instead, the mean must be computed only over the training data and then subtracted equally from all splits (train/val/test).\n"
   ]
  },
  {
   "cell_type": "code",
   "execution_count": 12,
   "metadata": {
    "collapsed": true,
    "deletable": true,
    "editable": true
   },
   "outputs": [],
   "source": [
    "# Split the datatset into training and testing datasets.\n",
    "X_train, X_test, y_train, y_test = train_test_split(\n",
    "  features, \n",
    "  targets, \n",
    "  random_state=SEED, \n",
    "  test_size=TEST_SIZE\n",
    ")\n",
    "\n",
    "# Further split the training dataset into training and validation datasets.\n",
    "# X_train, X_valid, y_train, y_valid = train_test_split(X_train, y_train, random_state=SEED, test_size=0.1)\n",
    "\n",
    "# Make the data zero-centered.\n",
    "if ZERO_CENTER:\n",
    "  mean = X_train.mean()\n",
    "  X_train -= mean\n",
    "  X_test -= mean"
   ]
  },
  {
   "cell_type": "markdown",
   "metadata": {
    "deletable": true,
    "editable": true
   },
   "source": [
    "Display the value distributions of ``X_train`` and ``X_test``."
   ]
  },
  {
   "cell_type": "code",
   "execution_count": 13,
   "metadata": {
    "collapsed": false,
    "deletable": true,
    "editable": true
   },
   "outputs": [
    {
     "data": {
      "text/plain": [
       "<matplotlib.text.Text at 0x7fbbdb266898>"
      ]
     },
     "execution_count": 13,
     "metadata": {},
     "output_type": "execute_result"
    },
    {
     "data": {
      "image/png": "[encoded data removed]",
      "text/plain": [
       "<matplotlib.figure.Figure at 0x7fbbd7c376d8>"
      ]
     },
     "metadata": {},
     "output_type": "display_data"
    }
   ],
   "source": [
    "fig, axes = plt.subplots(1, 2, figsize=[14, 7])\n",
    "\n",
    "ax = sns.distplot(X_train.flatten()[::20], ax=axes[0])\n",
    "ax.set_xlabel(\"Scaled Distance\", fontsize=12)\n",
    "ax.set_ylabel(\"Relative Numbers\", fontsize=12)\n",
    "ax.set_title(\"X_train\", fontsize=14)\n",
    "\n",
    "ax = sns.distplot(X_test.flatten()[::2], ax=axes[1])\n",
    "ax.set_xlabel(\"Scaled Distance\", fontsize=12)\n",
    "ax.set_ylabel(\"Relative Numbers\", fontsize=12)\n",
    "ax.set_title(\"X_test\", fontsize=14)"
   ]
  },
  {
   "cell_type": "code",
   "execution_count": 14,
   "metadata": {
    "collapsed": false
   },
   "outputs": [
    {
     "data": {
      "text/plain": [
       "<matplotlib.text.Text at 0x7fbbdb00aa58>"
      ]
     },
     "execution_count": 14,
     "metadata": {},
     "output_type": "execute_result"
    },
    {
     "data": {
      "image/png": "[encoded data removed]",
      "text/plain": [
       "<matplotlib.figure.Figure at 0x7fbbd7b914e0>"
      ]
     },
     "metadata": {},
     "output_type": "display_data"
    }
   ],
   "source": [
    "fig, axes = plt.subplots(1, 2, figsize=[14, 7])\n",
    "\n",
    "ax = sns.distplot(y_train.flatten(), ax=axes[0])\n",
    "ax.set_xlabel(\"Scaled Energies\", fontsize=12)\n",
    "ax.set_ylabel(\"Relative Numbers\", fontsize=12)\n",
    "ax.set_title(\"y_train\", fontsize=14)\n",
    "\n",
    "ax = sns.distplot(y_test.flatten(), ax=axes[1])\n",
    "ax.set_xlabel(\"Scaled Energies\", fontsize=12)\n",
    "ax.set_ylabel(\"Relative Numbers\", fontsize=12)\n",
    "ax.set_title(\"y_test\", fontsize=14)"
   ]
  },
  {
   "cell_type": "markdown",
   "metadata": {
    "deletable": true,
    "editable": true
   },
   "source": [
    "## 5. Training"
   ]
  },
  {
   "cell_type": "markdown",
   "metadata": {
    "deletable": true,
    "editable": true
   },
   "source": [
    "Now we can start training this network. The training settings defined in this paper are summerized here:\n",
    "\n",
    "* Root-mean-squared loss.\n",
    "* Mini-batch stochastic gradient descent with momentum\n",
    "     * Batch size: 50.\n",
    "     * Momentum factor: 0.7.\n",
    "* Step Decay Function: $s_{i} = s_{0}r/(r + i)$\n",
    "     * $s_0$ is the initial step length, which is 0.1 in this paper.\n",
    "     * r is a predefined factor and r = 60 in this paper.\n",
    "* Regularization factor is not mentioned in this paper.\n",
    "     * $\\lambda$ is set to None.\n",
    "* The exponentia ldecay rate is 0.9 in this implementaion.\n",
    "* The total number of epochs for the reference dataset is 1400.\n",
    "\n",
    "These parameters are declared in the following section:"
   ]
  },
  {
   "cell_type": "code",
   "execution_count": 15,
   "metadata": {
    "collapsed": true,
    "deletable": true,
    "editable": true
   },
   "outputs": [],
   "source": [
    "batch_size = 50\n",
    "momentum_factor = 0.7\n",
    "start_learning_rate = 0.04\n",
    "decay_rate = 0.90\n",
    "decay_factor = 60\n",
    "rlambda = 5e-4"
   ]
  },
  {
   "cell_type": "markdown",
   "metadata": {
    "deletable": true,
    "editable": true
   },
   "source": [
    "### 5.1 Setup"
   ]
  },
  {
   "cell_type": "markdown",
   "metadata": {
    "deletable": true,
    "editable": true
   },
   "source": [
    "Invoke the interactive session."
   ]
  },
  {
   "cell_type": "code",
   "execution_count": 16,
   "metadata": {
    "collapsed": false,
    "deletable": true,
    "editable": true
   },
   "outputs": [],
   "source": [
    "tf.reset_default_graph()\n",
    "graph = tf.Graph()\n",
    "sess = tf.InteractiveSession(graph=graph)"
   ]
  },
  {
   "cell_type": "markdown",
   "metadata": {
    "deletable": true,
    "editable": true
   },
   "source": [
    "Now we can begin the training. Initialize a new ``graph`` and use it as the default graph. Then we get the infered network."
   ]
  },
  {
   "cell_type": "code",
   "execution_count": 17,
   "metadata": {
    "collapsed": false,
    "deletable": true,
    "editable": true
   },
   "outputs": [
    {
     "name": "stdout",
     "output_type": "stream",
     "text": [
      "Conv1/Tanh            : [     50,      1,   2380,     40]\n",
      "Conv2/Tanh            : [     50,      1,   2380,     70]\n",
      "Conv3/Tanh            : [     50,      1,   2380,     60]\n",
      "Conv4/Tanh            : [     50,      1,   2380,      2]\n",
      "Switch                : [     50,      1,      2,   2380]\n",
      "Conv5/Softplus        : [     50,      1,      2,    400]\n",
      "Conv6/Softplus        : [     50,      1,      2,    200]\n",
      "Flatten/Reshape       : [     50,    400]\n",
      "Dense7/Relu           : [     50,    200]\n",
      "dropDense7/mul        : [     50,    200]\n",
      "Dense8/Relu           : [     50,     20]\n"
     ]
    }
   ],
   "source": [
    "X_batch = tf.placeholder(TF_TYPE, [batch_size, 1, CNK, CK2], name=\"X_batch\")\n",
    "y_batch = tf.placeholder(TF_TYPE, [batch_size, 1], name=\"y_batch\")\n",
    "keep_prob = tf.placeholder(TF_TYPE, name=\"conv_keep\")\n",
    "dense_keep_prob = tf.placeholder(TF_TYPE, name=\"fc_keep\")\n",
    "\n",
    "y_pred = models.inference(\n",
    "  X_batch, \n",
    "  \"mbe-nn-m-fc\", \n",
    "  conv_keep_prob=keep_prob, \n",
    "  dense_keep_prob=dense_keep_prob, \n",
    "  dropouts=(6,), \n",
    "  dense_dims=[200, 20], \n",
    "  dense_funcs=[tf.nn.relu, tf.nn.relu, tf.nn.tanh],\n",
    "  conv_dims=[40, 70, 60, 2, 400, 200],\n",
    "  verbose=True\n",
    ")"
   ]
  },
  {
   "cell_type": "markdown",
   "metadata": {
    "deletable": true,
    "editable": true
   },
   "source": [
    "Output the total number of trainable parameters."
   ]
  },
  {
   "cell_type": "code",
   "execution_count": 18,
   "metadata": {
    "collapsed": false,
    "deletable": true,
    "editable": true
   },
   "outputs": [
    {
     "name": "stdout",
     "output_type": "stream",
     "text": [
      "Conv1/filter/kernel:0      240\n",
      "Conv1/biases/biases:0      40\n",
      "Conv2/filter/kernel:0      2800\n",
      "Conv2/biases/biases:0      70\n",
      "Conv3/filter/kernel:0      4200\n",
      "Conv3/biases/biases:0      60\n",
      "Conv4/filter/kernel:0      120\n",
      "Conv4/biases/biases:0      2\n",
      "Conv5/filter/kernel:0      952000\n",
      "Conv5/biases/biases:0      400\n",
      "Conv6/filter/kernel:0      80000\n",
      "Conv6/biases/biases:0      200\n",
      "Dense7/kernel/Variable:0   80000\n",
      "Dense7/bias/Variable:0     200\n",
      "Dense8/kernel/Variable:0   4000\n",
      "Dense8/bias/Variable:0     20\n",
      "\n",
      "Total number of parameters: 1124352\n"
     ]
    }
   ],
   "source": [
    "models.get_number_of_trainable_parameters(verbose=True)"
   ]
  },
  {
   "cell_type": "markdown",
   "metadata": {
    "deletable": true,
    "editable": true
   },
   "source": [
    "Add helper functions to visualize the graph. These codes are copied from the official example **deepdream**. Uncomment the last line can display the network graph inline."
   ]
  },
  {
   "cell_type": "code",
   "execution_count": 19,
   "metadata": {
    "collapsed": false,
    "deletable": true,
    "editable": true
   },
   "outputs": [],
   "source": [
    "def strip_consts(graph_def, max_const_size=32):\n",
    "  \"\"\"\n",
    "  Strip large constant values from graph_def.\n",
    "  \"\"\"\n",
    "  strip_def = tf.GraphDef()\n",
    "  for n0 in graph_def.node:\n",
    "    n = strip_def.node.add() \n",
    "    n.MergeFrom(n0)\n",
    "    if n.op == 'Const':\n",
    "      tensor = n.attr['value'].tensor\n",
    "      size = len(tensor.tensor_content)\n",
    "      if size > max_const_size:\n",
    "        tensor.tensor_content = \"<stripped %d bytes>\"%size\n",
    "  return strip_def\n",
    "\n",
    "def show_graph(graph_def, max_const_size=32):\n",
    "  \"\"\"\n",
    "  Visualize TensorFlow graph.\n",
    "  \"\"\"\n",
    "  if hasattr(graph_def, 'as_graph_def'):\n",
    "    graph_def = graph_def.as_graph_def()\n",
    "  strip_def = strip_consts(graph_def, max_const_size=max_const_size)\n",
    "  code = \"\"\"\n",
    "    <script src=\"//cdnjs.cloudflare.com/ajax/libs/polymer/0.3.3/platform.js\"></script>\n",
    "    <script>\n",
    "      function load() {{\n",
    "        document.getElementById(\"{id}\").pbtxt = {data};\n",
    "      }}\n",
    "    </script>\n",
    "    <link rel=\"import\" href=\"https://tensorboard.appspot.com/tf-graph-basic.build.html\" onload=load()>\n",
    "    <div style=\"height:600px\">\n",
    "    <tf-graph-basic id=\"{id}\"></tf-graph-basic>\n",
    "    </div>\n",
    "  \"\"\".format(data=repr(str(strip_def)), id='graph'+str(np.random.rand()))\n",
    "  iframe = \"\"\"\n",
    "    <iframe seamless style=\"width:1200px;height:620px;border:0\" srcdoc=\"{}\"></iframe>\n",
    "  \"\"\".format(code.replace('\"', '&quot;'))\n",
    "  display(HTML(iframe))\n",
    "\n",
    "# Uncomment the following line to visualize the graph in this notebook. \n",
    "# show_graph(graph.as_graph_def())"
   ]
  },
  {
   "cell_type": "markdown",
   "metadata": {
    "deletable": true,
    "editable": true
   },
   "source": [
    "Setup the total loss. Add L2 loss for the weights of dense layers."
   ]
  },
  {
   "cell_type": "code",
   "execution_count": 20,
   "metadata": {
    "collapsed": false,
    "deletable": true,
    "editable": true
   },
   "outputs": [],
   "source": [
    "with tf.name_scope(\"loss\"):\n",
    "  \n",
    "  regvars = tf.get_collection(GraphKeys.REGULARIZATION_LOSSES)\n",
    "  if len(regvars) > 0 and rlambda is not None:\n",
    "    def _nameit(_w):\n",
    "      return \"%sL2\" % _w.name.split(\"/\")[0]\n",
    "\n",
    "    with tf.name_scope(\"regularizer\"):\n",
    "      l2 = tf.multiply(\n",
    "        tf.add_n([tf.nn.l2_loss(w, name=_nameit(w)) for w in regvars]), rlambda)\n",
    "      tf.summary.scalar(\"l2\", l2)\n",
    "  else:\n",
    "    l2 = tf.constant(0.0)\n",
    "\n",
    "  rms = tf.sqrt(tf.losses.mean_squared_error(y_pred, y_batch, scope=\"RMSE\"))\n",
    "  loss = tf.add(rms, l2)\n",
    "  tf.summary.scalar(\"rms\", rms)\n",
    "  tf.summary.scalar(\"loss\", loss)"
   ]
  },
  {
   "cell_type": "markdown",
   "metadata": {
    "deletable": true,
    "editable": true
   },
   "source": [
    "Setup the learning rate decay and the momentum optimizer. The learning rate $r_i$ computed by the inverse decay function in this paper is implemented here:\n",
    "$$r_{i} = \\frac{rs_{0}}{r + i}$$\n",
    "where $i$ is the epoch, $r$ is a constant decay factor and $s_0$ is the initial learning rate. $r$ is set to 60 in this case."
   ]
  },
  {
   "cell_type": "code",
   "execution_count": 21,
   "metadata": {
    "collapsed": true,
    "deletable": true,
    "editable": true
   },
   "outputs": [],
   "source": [
    "def inverse_decay(init_learning_rate, epoch, decay_factor, name=None):\n",
    "  \"\"\"\n",
    "  The inverse decay function.\n",
    "  \n",
    "  Args:\n",
    "    init_learning_rate: A scalar `float32` or `float64` `Tensor` or a\n",
    "      Python number.  The initial learning rate.\n",
    "    global_epoch: A scalar `int32` or `int64` `Tensor` or a Python number.\n",
    "      Global epoch to use for the decay computation.  Must not be negative.\n",
    "    decay_factor: A scalar `int32` or `int64` `Tensor` or a Python number.\n",
    "      Must be positive.  See the decay equation above.\n",
    "    name: String.  Optional name of the operation.  Defaults to\n",
    "      'ExponentialDecay'.\n",
    "\n",
    "  Returns:\n",
    "    A scalar `Tensor` of the same type as `learning_rate`.  The decayed\n",
    "    learning rate.\n",
    "  \n",
    "  \"\"\"\n",
    "  if epoch is None:\n",
    "    raise ValueError(\"global_step is required for inv_decay.\")\n",
    "  with ops.name_scope(name, \"InvDecay\", \n",
    "                      [init_learning_rate, epoch, decay_factor]) as name:\n",
    "    init_learning_rate = ops.convert_to_tensor(\n",
    "      init_learning_rate, name=\"init_learning_rate\")\n",
    "    dtype = init_learning_rate.dtype\n",
    "    epoch = math_ops.cast(epoch, dtype)\n",
    "    decay_factor = math_ops.cast(decay_factor, dtype)\n",
    "    top = math_ops.multiply(init_learning_rate, decay_factor)\n",
    "    return math_ops.div(top, math_ops.add(epoch, decay_factor), name=name)"
   ]
  },
  {
   "cell_type": "code",
   "execution_count": 22,
   "metadata": {
    "collapsed": false,
    "deletable": true,
    "editable": true
   },
   "outputs": [],
   "source": [
    "global_epoch = tf.Variable(0, dtype=tf.int64, trainable=False, name=\"global_epoch\")\n",
    "global_epoch_op = tf.assign(global_epoch, global_epoch + 1)\n",
    "global_step = tf.Variable(0, dtype=tf.int64, trainable=False, name=\"global_step\")\n",
    "learning_rate = inverse_decay(start_learning_rate, global_epoch, decay_factor)\n",
    "\n",
    "# learning_rate = tf.train.exponential_decay(\n",
    "#   start_learning_rate, \n",
    "#   tf.multiply(global_step, batch_size), \n",
    "#   len(X_train), \n",
    "#   decay_rate,\n",
    "#   staircase=True,\n",
    "# )\n",
    "\n",
    "# Test the Adagrad optimzier\n",
    "# trainer = tf.train.AdagradDAOptimizer(\n",
    "#   learning_rate=learning_rate, \n",
    "#   initial_gradient_squared_accumulator_value=0.1,\n",
    "#   global_step=batch\n",
    "# )\n",
    "\n",
    "tf.summary.scalar(\"learning_rate\", learning_rate)\n",
    "\n",
    "# Use the Momentum optimizer\n",
    "trainer = tf.train.MomentumOptimizer(learning_rate, momentum_factor)\n",
    "optimizer = trainer.minimize(loss, global_step=global_step)\n",
    "\n",
    "# Merge all the summaries.\n",
    "merged = tf.summary.merge_all()\n",
    "writer = tf.summary.FileWriter(logdir=\"./events/%s\" % get_time_id(), graph=graph)"
   ]
  },
  {
   "cell_type": "markdown",
   "metadata": {
    "deletable": true,
    "editable": true
   },
   "source": [
    "### 5.2 Training"
   ]
  },
  {
   "cell_type": "markdown",
   "metadata": {
    "deletable": true,
    "editable": true
   },
   "source": [
    "These variabls control the key settings of a training."
   ]
  },
  {
   "cell_type": "code",
   "execution_count": 23,
   "metadata": {
    "collapsed": true,
    "deletable": true,
    "editable": true
   },
   "outputs": [],
   "source": [
    "num_epochs = 1000\n",
    "log_frequency = 100\n",
    "eval_frequency = 200\n",
    "save_frequency = 2000"
   ]
  },
  {
   "cell_type": "markdown",
   "metadata": {
    "deletable": true,
    "editable": true
   },
   "source": [
    "Setup the saving path and the checkpoint file so that we can reuse this model later."
   ]
  },
  {
   "cell_type": "code",
   "execution_count": 24,
   "metadata": {
    "collapsed": false,
    "deletable": true,
    "editable": true
   },
   "outputs": [],
   "source": [
    "save_path = \"./saves\"\n",
    "chk_file = join(save_path, \"c9h7n.ckpt\")\n",
    "if not isdir(save_path):\n",
    "  makedirs(save_path)"
   ]
  },
  {
   "cell_type": "markdown",
   "metadata": {
    "deletable": true,
    "editable": true
   },
   "source": [
    "Small utility function to evaluate a dataset by feeding batches of data to ``{eval_dataset}`` and pulling the results \n",
    "from ``{eval_values}``. Saves memory and enables this to run on smaller GPUs."
   ]
  },
  {
   "cell_type": "code",
   "execution_count": 25,
   "metadata": {
    "collapsed": false,
    "deletable": true,
    "editable": true
   },
   "outputs": [],
   "source": [
    "def eval_in_batches(data):\n",
    "  \"\"\" Get all predictions for a dataset by running it in small batches. \"\"\"\n",
    "  size = data.shape[0]\n",
    "  if size < batch_size:\n",
    "    raise ValueError(\"batch size for evals larger than dataset: %d\" % size)\n",
    "  eval_values = np.ndarray(shape=(size, 1), dtype=NP_TYPE)\n",
    "  for i, inext in brange(0, size, batch_size):\n",
    "    eval_values[i: inext] = sess.run(\n",
    "      y_pred,\n",
    "      feed_dict={X_batch: data[i: inext, ...], keep_prob: 1.0, dense_keep_prob: 1.0})\n",
    "  return eval_values"
   ]
  },
  {
   "cell_type": "markdown",
   "metadata": {
    "deletable": true,
    "editable": true
   },
   "source": [
    "This helper function is used to restore the latest checkpoint if existed."
   ]
  },
  {
   "cell_type": "code",
   "execution_count": null,
   "metadata": {
    "collapsed": false,
    "deletable": true,
    "editable": true
   },
   "outputs": [],
   "source": [
    "def restore_latest_from_ckpt(save_dir):\n",
    "  \"\"\"\n",
    "  Restore the latest checkpoint from the 'scratch' if possible.\n",
    "  \"\"\"\n",
    "  if not isdir(save_dir):\n",
    "    return None\n",
    "  ckpt = tf.train.get_checkpoint_state(save_dir)\n",
    "  if ckpt and ckpt.model_checkpoint_path:\n",
    "    return ckpt.model_checkpoint_path"
   ]
  },
  {
   "cell_type": "markdown",
   "metadata": {
    "deletable": true,
    "editable": true
   },
   "source": [
    "Finally we invoke a new session and start this training."
   ]
  },
  {
   "cell_type": "code",
   "execution_count": null,
   "metadata": {
    "collapsed": false,
    "deletable": true,
    "editable": true
   },
   "outputs": [
    {
     "name": "stdout",
     "output_type": "stream",
     "text": [
      "Initialized!\n",
      "\n",
      "Training Samples      : 4000\n",
      "Batch Size            : 50\n",
      "Number of Epochs      : 1000\n",
      "Log Frequency         : 100\n",
      "Eval Frequency        : 200\n",
      "\n",
      "Step      0 (epoch    0.00), loss: 0.442410, time: 0.322 s\n",
      "\n",
      "Time since beginning  : 0.324 s\n",
      "\n",
      "Step    100 (epoch    1.25), loss: 0.333573, time: 5.657 s\n",
      "Step    200 (epoch    2.50), loss: 0.329838, time: 5.524 s, error: 0.167416\n",
      "Step    300 (epoch    3.75), loss: 0.325943, time: 5.707 s\n",
      "Step    400 (epoch    5.00), loss: 0.298224, time: 5.526 s, error: 0.181777\n",
      "Step    500 (epoch    6.25), loss: 0.345205, time: 5.692 s\n",
      "Step    600 (epoch    7.50), loss: 0.319645, time: 5.542 s, error: 0.167591\n",
      "Step    700 (epoch    8.75), loss: 0.321464, time: 5.729 s\n",
      "Step    800 (epoch   10.00), loss: 0.317238, time: 5.525 s, error: 0.170706\n",
      "Step    900 (epoch   11.25), loss: 0.330252, time: 5.674 s\n",
      "Step   1000 (epoch   12.50), loss: 0.325278, time: 5.524 s, error: 0.169783\n",
      "Step   1100 (epoch   13.75), loss: 0.297303, time: 5.702 s\n",
      "Step   1200 (epoch   15.00), loss: 0.297144, time: 5.522 s, error: 0.176851\n",
      "Step   1300 (epoch   16.25), loss: 0.309081, time: 5.681 s\n",
      "Step   1400 (epoch   17.50), loss: 0.284535, time: 5.554 s, error: 0.174194\n",
      "Step   1500 (epoch   18.75), loss: 0.299038, time: 5.680 s\n",
      "Step   1600 (epoch   20.00), loss: 0.304004, time: 5.533 s, error: 0.148632\n",
      "Step   1700 (epoch   21.25), loss: 0.281918, time: 5.687 s\n",
      "Step   1800 (epoch   22.50), loss: 0.275734, time: 5.528 s, error: 0.173154\n",
      "Step   1900 (epoch   23.75), loss: 0.279643, time: 5.676 s\n",
      "Step   2000 (epoch   25.00), loss: 0.301661, time: 5.519 s, error: 0.153334\n",
      "\n",
      "Time since beginning  : 112.670 s\n",
      "\n",
      "Step   2100 (epoch   26.25), loss: 0.282615, time: 5.807 s\n",
      "Step   2200 (epoch   27.50), loss: 0.258859, time: 5.551 s, error: 0.179604\n",
      "Step   2300 (epoch   28.75), loss: 0.245537, time: 5.696 s\n",
      "Step   2400 (epoch   30.00), loss: 0.258542, time: 5.543 s, error: 0.172011\n",
      "Step   2500 (epoch   31.25), loss: 0.262154, time: 5.719 s\n",
      "Step   2600 (epoch   32.50), loss: 0.274635, time: 5.533 s, error: 0.198266\n",
      "Step   2700 (epoch   33.75), loss: 0.254767, time: 5.695 s\n",
      "Step   2800 (epoch   35.00), loss: 0.267817, time: 5.524 s, error: 0.176590\n",
      "Step   2900 (epoch   36.25), loss: 0.259826, time: 5.725 s\n",
      "Step   3000 (epoch   37.50), loss: 0.245106, time: 5.543 s, error: 0.190084\n",
      "Step   3100 (epoch   38.75), loss: 0.250696, time: 5.702 s\n",
      "Step   3200 (epoch   40.00), loss: 0.272464, time: 5.542 s, error: 0.188979\n",
      "Step   3300 (epoch   41.25), loss: 0.255223, time: 5.690 s\n",
      "Step   3400 (epoch   42.50), loss: 0.264663, time: 5.529 s, error: 0.197738\n",
      "Step   3500 (epoch   43.75), loss: 0.254454, time: 5.688 s\n",
      "Step   3600 (epoch   45.00), loss: 0.267992, time: 5.523 s, error: 0.208493\n",
      "Step   3700 (epoch   46.25), loss: 0.253030, time: 5.742 s\n",
      "Step   3800 (epoch   47.50), loss: 0.250480, time: 5.529 s, error: 0.194153\n",
      "Step   3900 (epoch   48.75), loss: 0.233707, time: 5.693 s\n",
      "Step   4000 (epoch   50.00), loss: 0.249426, time: 5.550 s, error: 0.192040\n",
      "\n",
      "Time since beginning  : 225.216 s\n",
      "\n",
      "Step   4100 (epoch   51.25), loss: 0.274258, time: 5.827 s\n",
      "Step   4200 (epoch   52.50), loss: 0.266350, time: 5.554 s, error: 0.195702\n",
      "Step   4300 (epoch   53.75), loss: 0.239777, time: 5.706 s\n",
      "Step   4400 (epoch   55.00), loss: 0.228450, time: 5.560 s, error: 0.189934\n",
      "Step   4500 (epoch   56.25), loss: 0.234983, time: 5.720 s\n",
      "Step   4600 (epoch   57.50), loss: 0.250604, time: 5.528 s, error: 0.184517\n",
      "Step   4700 (epoch   58.75), loss: 0.229270, time: 5.709 s\n",
      "Step   4800 (epoch   60.00), loss: 0.231682, time: 5.535 s, error: 0.206411\n",
      "Step   4900 (epoch   61.25), loss: 0.228783, time: 5.700 s\n",
      "Step   5000 (epoch   62.50), loss: 0.223782, time: 5.536 s, error: 0.192315\n",
      "Step   5100 (epoch   63.75), loss: 0.233695, time: 5.708 s\n",
      "Step   5200 (epoch   65.00), loss: 0.221041, time: 5.562 s, error: 0.184565\n",
      "Step   5300 (epoch   66.25), loss: 0.225794, time: 5.694 s\n",
      "Step   5400 (epoch   67.50), loss: 0.223225, time: 5.545 s, error: 0.178676\n",
      "Step   5500 (epoch   68.75), loss: 0.234335, time: 5.716 s\n",
      "Step   5600 (epoch   70.00), loss: 0.224180, time: 5.523 s, error: 0.179872\n",
      "Step   5700 (epoch   71.25), loss: 0.205658, time: 5.700 s\n",
      "Step   5800 (epoch   72.50), loss: 0.231759, time: 5.543 s, error: 0.184577\n",
      "Step   5900 (epoch   73.75), loss: 0.211909, time: 5.717 s\n",
      "Step   6000 (epoch   75.00), loss: 0.202933, time: 5.539 s, error: 0.198180\n",
      "\n",
      "Time since beginning  : 337.815 s\n",
      "\n",
      "Step   6100 (epoch   76.25), loss: 0.220779, time: 5.820 s\n",
      "Step   6200 (epoch   77.50), loss: 0.219103, time: 5.537 s, error: 0.183110\n",
      "Step   6300 (epoch   78.75), loss: 0.192863, time: 5.697 s\n",
      "Step   6400 (epoch   80.00), loss: 0.204561, time: 5.545 s, error: 0.190204\n",
      "Step   6500 (epoch   81.25), loss: 0.207447, time: 5.694 s\n",
      "Step   6600 (epoch   82.50), loss: 0.194991, time: 5.526 s, error: 0.178855\n",
      "Step   6700 (epoch   83.75), loss: 0.198347, time: 5.730 s\n",
      "Step   6800 (epoch   85.00), loss: 0.209265, time: 5.535 s, error: 0.180834\n",
      "Step   6900 (epoch   86.25), loss: 0.208343, time: 5.690 s\n",
      "Step   7000 (epoch   87.50), loss: 0.214378, time: 5.532 s, error: 0.194366\n",
      "Step   7100 (epoch   88.75), loss: 0.208701, time: 5.701 s\n",
      "Step   7200 (epoch   90.00), loss: 0.191541, time: 5.534 s, error: 0.177599\n",
      "Step   7300 (epoch   91.25), loss: 0.190626, time: 5.689 s\n",
      "Step   7400 (epoch   92.50), loss: 0.203729, time: 5.558 s, error: 0.183312\n",
      "Step   7500 (epoch   93.75), loss: 0.212830, time: 5.713 s\n",
      "Step   7600 (epoch   95.00), loss: 0.209102, time: 5.537 s, error: 0.190074\n",
      "Step   7700 (epoch   96.25), loss: 0.194328, time: 5.709 s\n",
      "Step   7800 (epoch   97.50), loss: 0.199387, time: 5.524 s, error: 0.173581\n",
      "Step   7900 (epoch   98.75), loss: 0.203372, time: 5.699 s\n",
      "Step   8000 (epoch  100.00), loss: 0.188707, time: 5.534 s, error: 0.168959\n",
      "\n",
      "Time since beginning  : 450.318 s\n",
      "\n",
      "Step   8100 (epoch  101.25), loss: 0.198590, time: 5.774 s\n",
      "Step   8200 (epoch  102.50), loss: 0.223509, time: 5.564 s, error: 0.185188\n",
      "Step   8300 (epoch  103.75), loss: 0.160928, time: 5.712 s\n",
      "Step   8400 (epoch  105.00), loss: 0.182405, time: 5.542 s, error: 0.178387\n",
      "Step   8500 (epoch  106.25), loss: 0.188098, time: 5.711 s\n",
      "Step   8600 (epoch  107.50), loss: 0.178085, time: 5.555 s, error: 0.170474\n",
      "Step   8700 (epoch  108.75), loss: 0.197679, time: 5.701 s\n",
      "Step   8800 (epoch  110.00), loss: 0.195866, time: 5.535 s, error: 0.164569\n",
      "Step   8900 (epoch  111.25), loss: 0.158609, time: 5.716 s\n",
      "Step   9000 (epoch  112.50), loss: 0.177608, time: 5.569 s, error: 0.164031\n",
      "Step   9100 (epoch  113.75), loss: 0.159557, time: 5.711 s\n",
      "Step   9200 (epoch  115.00), loss: 0.185540, time: 5.545 s, error: 0.179995\n",
      "Step   9300 (epoch  116.25), loss: 0.167883, time: 5.685 s\n",
      "Step   9400 (epoch  117.50), loss: 0.184971, time: 5.533 s, error: 0.171953\n",
      "Step   9500 (epoch  118.75), loss: 0.168028, time: 5.710 s\n",
      "Step   9600 (epoch  120.00), loss: 0.182063, time: 5.550 s, error: 0.166765\n",
      "Step   9700 (epoch  121.25), loss: 0.195251, time: 5.727 s\n",
      "Step   9800 (epoch  122.50), loss: 0.152178, time: 5.538 s, error: 0.185787\n",
      "Step   9900 (epoch  123.75), loss: 0.173359, time: 5.684 s\n",
      "Step  10000 (epoch  125.00), loss: 0.158796, time: 5.530 s, error: 0.169231\n",
      "\n",
      "Time since beginning  : 562.913 s\n",
      "\n",
      "Step  10100 (epoch  126.25), loss: 0.160980, time: 5.801 s\n",
      "Step  10200 (epoch  127.50), loss: 0.170250, time: 5.528 s, error: 0.166427\n",
      "Step  10300 (epoch  128.75), loss: 0.174539, time: 5.695 s\n",
      "Step  10400 (epoch  130.00), loss: 0.134106, time: 5.560 s, error: 0.178010\n",
      "Step  10500 (epoch  131.25), loss: 0.148045, time: 5.725 s\n",
      "Step  10600 (epoch  132.50), loss: 0.153200, time: 5.549 s, error: 0.184208\n",
      "Step  10700 (epoch  133.75), loss: 0.179776, time: 5.702 s\n",
      "Step  10800 (epoch  135.00), loss: 0.145257, time: 5.541 s, error: 0.171860\n",
      "Step  10900 (epoch  136.25), loss: 0.151307, time: 5.695 s\n",
      "Step  11000 (epoch  137.50), loss: 0.150237, time: 5.528 s, error: 0.163079\n",
      "Step  11100 (epoch  138.75), loss: 0.158932, time: 5.709 s\n",
      "Step  11200 (epoch  140.00), loss: 0.154363, time: 5.568 s, error: 0.178584\n",
      "Step  11300 (epoch  141.25), loss: 0.140241, time: 5.697 s\n",
      "Step  11400 (epoch  142.50), loss: 0.163092, time: 5.534 s, error: 0.171963\n",
      "Step  11500 (epoch  143.75), loss: 0.152476, time: 5.692 s\n",
      "Step  11600 (epoch  145.00), loss: 0.142588, time: 5.546 s, error: 0.166613\n",
      "Step  11700 (epoch  146.25), loss: 0.156415, time: 5.689 s\n",
      "Step  11800 (epoch  147.50), loss: 0.149032, time: 5.538 s, error: 0.168587\n",
      "Step  11900 (epoch  148.75), loss: 0.138216, time: 5.711 s\n",
      "Step  12000 (epoch  150.00), loss: 0.141515, time: 5.573 s, error: 0.165476\n",
      "\n",
      "Time since beginning  : 675.493 s\n",
      "\n",
      "Step  12100 (epoch  151.25), loss: 0.157918, time: 5.782 s\n",
      "Step  12200 (epoch  152.50), loss: 0.151080, time: 5.539 s, error: 0.175036\n",
      "Step  12300 (epoch  153.75), loss: 0.132751, time: 5.720 s\n",
      "Step  12400 (epoch  155.00), loss: 0.150111, time: 5.524 s, error: 0.177297\n",
      "Step  12500 (epoch  156.25), loss: 0.149915, time: 5.679 s\n",
      "Step  12600 (epoch  157.50), loss: 0.140405, time: 5.525 s, error: 0.187619\n",
      "Step  12700 (epoch  158.75), loss: 0.151890, time: 5.733 s\n",
      "Step  12800 (epoch  160.00), loss: 0.129882, time: 5.532 s, error: 0.181077\n",
      "Step  12900 (epoch  161.25), loss: 0.124147, time: 5.707 s\n",
      "Step  13000 (epoch  162.50), loss: 0.138563, time: 5.530 s, error: 0.166936\n",
      "Step  13100 (epoch  163.75), loss: 0.136960, time: 5.678 s\n",
      "Step  13200 (epoch  165.00), loss: 0.149788, time: 5.524 s, error: 0.183618\n",
      "Step  13300 (epoch  166.25), loss: 0.131094, time: 5.694 s\n",
      "Step  13400 (epoch  167.50), loss: 0.138154, time: 5.525 s, error: 0.182986\n",
      "Step  13500 (epoch  168.75), loss: 0.126729, time: 5.723 s\n",
      "Step  31400 (epoch  392.50), loss: 0.082394, time: 5.535 s, error: 0.188183\n",
      "Step  31500 (epoch  393.75), loss: 0.083727, time: 5.686 s\n",
      "Step  31600 (epoch  395.00), loss: 0.080824, time: 5.545 s, error: 0.186139\n",
      "Step  31700 (epoch  396.25), loss: 0.081023, time: 5.684 s\n",
      "Step  31800 (epoch  397.50), loss: 0.078625, time: 5.552 s, error: 0.205755\n",
      "Step  31900 (epoch  398.75), loss: 0.082902, time: 5.698 s\n",
      "Step  32000 (epoch  400.00), loss: 0.067183, time: 5.534 s, error: 0.198231\n",
      "\n",
      "Time since beginning  : 1800.716 s\n",
      "\n",
      "Step  32100 (epoch  401.25), loss: 0.080707, time: 5.795 s\n",
      "Step  32200 (epoch  402.50), loss: 0.072158, time: 5.553 s, error: 0.196675\n",
      "Step  32300 (epoch  403.75), loss: 0.077072, time: 5.698 s\n",
      "Step  32400 (epoch  405.00), loss: 0.091263, time: 5.553 s, error: 0.221728\n",
      "Step  32500 (epoch  406.25), loss: 0.081486, time: 5.715 s\n",
      "Step  32600 (epoch  407.50), loss: 0.068643, time: 5.551 s, error: 0.189161\n",
      "Step  32700 (epoch  408.75), loss: 0.072525, time: 5.700 s\n",
      "Step  32800 (epoch  410.00), loss: 0.071724, time: 5.540 s, error: 0.192086\n",
      "Step  32900 (epoch  411.25), loss: 0.078035, time: 5.707 s\n",
      "Step  33000 (epoch  412.50), loss: 0.086338, time: 5.540 s, error: 0.214713\n",
      "Step  33100 (epoch  413.75), loss: 0.078208, time: 5.722 s\n",
      "Step  33200 (epoch  415.00), loss: 0.072152, time: 5.532 s, error: 0.192180\n",
      "Step  33300 (epoch  416.25), loss: 0.074247, time: 5.705 s\n",
      "Step  33400 (epoch  417.50), loss: 0.070362, time: 5.560 s, error: 0.199220\n",
      "Step  33500 (epoch  418.75), loss: 0.075987, time: 5.699 s\n",
      "Step  33600 (epoch  420.00), loss: 0.078640, time: 5.554 s, error: 0.199239\n",
      "Step  33700 (epoch  421.25), loss: 0.097584, time: 5.704 s\n",
      "Step  33800 (epoch  422.50), loss: 0.079609, time: 5.545 s, error: 0.191572\n",
      "Step  33900 (epoch  423.75), loss: 0.077018, time: 5.734 s\n",
      "Step  34000 (epoch  425.00), loss: 0.073309, time: 5.528 s, error: 0.197470\n",
      "\n",
      "Time since beginning  : 1913.352 s\n",
      "\n",
      "Step  34100 (epoch  426.25), loss: 0.080743, time: 5.801 s\n",
      "Step  34200 (epoch  427.50), loss: 0.088638, time: 5.529 s, error: 0.198910\n",
      "Step  34300 (epoch  428.75), loss: 0.081541, time: 5.713 s\n",
      "Step  34400 (epoch  430.00), loss: 0.072242, time: 5.541 s, error: 0.210873\n",
      "Step  34500 (epoch  431.25), loss: 0.080851, time: 5.698 s\n",
      "Step  34600 (epoch  432.50), loss: 0.069938, time: 5.572 s, error: 0.201567\n",
      "Step  34700 (epoch  433.75), loss: 0.077711, time: 5.702 s\n",
      "Step  34800 (epoch  435.00), loss: 0.080906, time: 5.529 s, error: 0.191514\n",
      "Step  34900 (epoch  436.25), loss: 0.074292, time: 5.703 s\n",
      "Step  35000 (epoch  437.50), loss: 0.074983, time: 5.527 s, error: 0.189621\n",
      "Step  35100 (epoch  438.75), loss: 0.075328, time: 5.679 s\n",
      "Step  35200 (epoch  440.00), loss: 0.071942, time: 5.541 s, error: 0.209995\n",
      "Step  35300 (epoch  441.25), loss: 0.068926, time: 5.687 s\n",
      "Step  35400 (epoch  442.50), loss: 0.078108, time: 5.571 s, error: 0.203664\n",
      "Step  35500 (epoch  443.75), loss: 0.070196, time: 5.713 s\n",
      "Step  35600 (epoch  445.00), loss: 0.074447, time: 5.538 s, error: 0.203340\n",
      "Step  35700 (epoch  446.25), loss: 0.064352, time: 5.723 s\n",
      "Step  35800 (epoch  447.50), loss: 0.088121, time: 5.539 s, error: 0.226162\n",
      "Step  35900 (epoch  448.75), loss: 0.074716, time: 5.694 s\n",
      "Step  36000 (epoch  450.00), loss: 0.078153, time: 5.539 s, error: 0.192331\n",
      "\n",
      "Time since beginning  : 2025.886 s\n",
      "\n",
      "Step  36100 (epoch  451.25), loss: 0.080114, time: 5.815 s\n",
      "Step  36200 (epoch  452.50), loss: 0.069894, time: 5.539 s, error: 0.190015\n",
      "Step  36300 (epoch  453.75), loss: 0.072303, time: 5.715 s\n",
      "Step  36400 (epoch  455.00), loss: 0.079365, time: 5.520 s, error: 0.220803\n",
      "Step  36500 (epoch  456.25), loss: 0.081544, time: 5.697 s\n",
      "Step  36600 (epoch  457.50), loss: 0.065286, time: 5.533 s, error: 0.196887\n",
      "Step  36700 (epoch  458.75), loss: 0.065656, time: 5.716 s\n",
      "Step  36800 (epoch  460.00), loss: 0.067895, time: 5.533 s, error: 0.204735\n",
      "Step  36900 (epoch  461.25), loss: 0.074805, time: 5.717 s\n",
      "Step  37000 (epoch  462.50), loss: 0.072629, time: 5.523 s, error: 0.207055\n",
      "Step  37100 (epoch  463.75), loss: 0.080536, time: 5.699 s\n",
      "Step  37200 (epoch  465.00), loss: 0.080548, time: 5.529 s, error: 0.188699\n",
      "Step  37300 (epoch  466.25), loss: 0.074336, time: 5.705 s\n",
      "Step  37400 (epoch  467.50), loss: 0.075635, time: 5.548 s, error: 0.201578\n",
      "Step  37500 (epoch  468.75), loss: 0.069815, time: 5.683 s\n",
      "Step  37600 (epoch  470.00), loss: 0.071294, time: 5.559 s, error: 0.212399\n",
      "Step  37700 (epoch  471.25), loss: 0.067667, time: 5.730 s\n",
      "Step  37800 (epoch  472.50), loss: 0.074733, time: 5.540 s, error: 0.209243\n",
      "Step  37900 (epoch  473.75), loss: 0.070486, time: 5.712 s\n",
      "Step  38000 (epoch  475.00), loss: 0.065935, time: 5.554 s, error: 0.200193\n",
      "\n",
      "Time since beginning  : 2138.455 s\n",
      "\n",
      "Step  38100 (epoch  476.25), loss: 0.068870, time: 5.794 s\n",
      "Step  38200 (epoch  477.50), loss: 0.065654, time: 5.539 s, error: 0.201864\n",
      "Step  38300 (epoch  478.75), loss: 0.070247, time: 5.696 s\n",
      "Step  38400 (epoch  480.00), loss: 0.080205, time: 5.556 s, error: 0.192653\n",
      "Step  38500 (epoch  481.25), loss: 0.067034, time: 5.695 s\n",
      "Step  38600 (epoch  482.50), loss: 0.062323, time: 5.531 s, error: 0.208816\n",
      "Step  38700 (epoch  483.75), loss: 0.064342, time: 5.703 s\n",
      "Step  38800 (epoch  485.00), loss: 0.069931, time: 5.522 s, error: 0.217588\n",
      "Step  38900 (epoch  486.25), loss: 0.062497, time: 5.719 s\n",
      "Step  39000 (epoch  487.50), loss: 0.070563, time: 5.542 s, error: 0.206476\n",
      "Step  39100 (epoch  488.75), loss: 0.074054, time: 5.708 s\n",
      "Step  39200 (epoch  490.00), loss: 0.068743, time: 5.542 s, error: 0.217566\n",
      "Step  39300 (epoch  491.25), loss: 0.071633, time: 5.706 s\n",
      "Step  39400 (epoch  492.50), loss: 0.073072, time: 5.524 s, error: 0.197908\n",
      "Step  39500 (epoch  493.75), loss: 0.070882, time: 5.703 s\n",
      "Step  39600 (epoch  495.00), loss: 0.069990, time: 5.550 s, error: 0.190482\n",
      "Step  39700 (epoch  496.25), loss: 0.072215, time: 5.703 s\n",
      "Step  39800 (epoch  497.50), loss: 0.074801, time: 5.522 s, error: 0.217421\n",
      "Step  39900 (epoch  498.75), loss: 0.063450, time: 5.737 s\n",
      "Step  40000 (epoch  500.00), loss: 0.066261, time: 5.548 s, error: 0.196405\n",
      "\n",
      "Time since beginning  : 2250.991 s\n",
      "\n",
      "Step  40100 (epoch  501.25), loss: 0.071474, time: 5.795 s\n",
      "Step  40200 (epoch  502.50), loss: 0.064061, time: 5.532 s, error: 0.202276\n",
      "Step  40300 (epoch  503.75), loss: 0.073116, time: 5.701 s\n",
      "Step  40400 (epoch  505.00), loss: 0.061249, time: 5.538 s, error: 0.213806\n",
      "Step  40500 (epoch  506.25), loss: 0.068058, time: 5.703 s\n",
      "Step  40600 (epoch  507.50), loss: 0.071662, time: 5.537 s, error: 0.190566\n",
      "Step  40700 (epoch  508.75), loss: 0.074204, time: 5.722 s\n",
      "Step  40800 (epoch  510.00), loss: 0.073399, time: 5.521 s, error: 0.202198\n",
      "Step  40900 (epoch  511.25), loss: 0.068271, time: 5.699 s\n",
      "Step  41000 (epoch  512.50), loss: 0.061555, time: 5.526 s, error: 0.214170\n",
      "Step  41100 (epoch  513.75), loss: 0.064869, time: 5.692 s\n",
      "Step  41200 (epoch  515.00), loss: 0.070468, time: 5.525 s, error: 0.207783\n",
      "Step  41300 (epoch  516.25), loss: 0.059820, time: 5.698 s\n",
      "Step  41400 (epoch  517.50), loss: 0.064312, time: 5.572 s, error: 0.200644\n",
      "Step  41500 (epoch  518.75), loss: 0.075698, time: 5.692 s\n",
      "Step  41600 (epoch  520.00), loss: 0.064644, time: 5.537 s, error: 0.205554\n",
      "Step  41700 (epoch  521.25), loss: 0.076817, time: 5.706 s\n",
      "Step  41800 (epoch  522.50), loss: 0.070716, time: 5.530 s, error: 0.193148\n",
      "Step  41900 (epoch  523.75), loss: 0.078541, time: 5.718 s\n",
      "Step  42000 (epoch  525.00), loss: 0.058380, time: 5.565 s, error: 0.209038\n",
      "\n",
      "Time since beginning  : 2363.500 s\n",
      "\n",
      "Step  42100 (epoch  526.25), loss: 0.071243, time: 5.813 s\n",
      "Step  42200 (epoch  527.50), loss: 0.063457, time: 5.568 s, error: 0.225883\n",
      "Step  42300 (epoch  528.75), loss: 0.077559, time: 5.720 s\n",
      "Step  42400 (epoch  530.00), loss: 0.059702, time: 5.559 s, error: 0.206500\n",
      "Step  42500 (epoch  531.25), loss: 0.064313, time: 5.727 s\n",
      "Step  42600 (epoch  532.50), loss: 0.068252, time: 5.537 s, error: 0.217850\n",
      "Step  42700 (epoch  533.75), loss: 0.061764, time: 5.699 s\n",
      "Step  42800 (epoch  535.00), loss: 0.069923, time: 5.531 s, error: 0.203729\n",
      "Step  42900 (epoch  536.25), loss: 0.066543, time: 5.736 s\n",
      "Step  43000 (epoch  537.50), loss: 0.066910, time: 5.553 s, error: 0.188390\n",
      "Step  43100 (epoch  538.75), loss: 0.058512, time: 5.712 s\n",
      "Step  43200 (epoch  540.00), loss: 0.064541, time: 5.525 s, error: 0.221590\n",
      "Step  43300 (epoch  541.25), loss: 0.062467, time: 5.702 s\n",
      "Step  43400 (epoch  542.50), loss: 0.063464, time: 5.525 s, error: 0.199250\n",
      "Step  43500 (epoch  543.75), loss: 0.068941, time: 5.707 s\n",
      "Step  43600 (epoch  545.00), loss: 0.064833, time: 5.549 s, error: 0.202361\n",
      "Step  43700 (epoch  546.25), loss: 0.065235, time: 5.733 s\n",
      "Step  43800 (epoch  547.50), loss: 0.063385, time: 5.539 s, error: 0.221064\n",
      "Step  43900 (epoch  548.75), loss: 0.070991, time: 5.703 s\n",
      "Step  44000 (epoch  550.00), loss: 0.057033, time: 5.538 s, error: 0.196378\n",
      "\n",
      "Time since beginning  : 2476.180 s\n",
      "\n",
      "Step  44100 (epoch  551.25), loss: 0.075461, time: 5.806 s\n",
      "Step  44200 (epoch  552.50), loss: 0.062425, time: 5.541 s, error: 0.203709\n",
      "Step  44300 (epoch  553.75), loss: 0.065957, time: 5.696 s\n",
      "Step  44400 (epoch  555.00), loss: 0.067249, time: 5.547 s, error: 0.217365\n",
      "Step  44500 (epoch  556.25), loss: 0.072487, time: 5.718 s\n",
      "Step  44600 (epoch  557.50), loss: 0.062836, time: 5.545 s, error: 0.204331\n",
      "Step  44700 (epoch  558.75), loss: 0.075147, time: 5.693 s\n",
      "Step  44800 (epoch  560.00), loss: 0.064142, time: 5.566 s, error: 0.204112\n",
      "Step  44900 (epoch  561.25), loss: 0.068057, time: 5.712 s\n",
      "Step  45000 (epoch  562.50), loss: 0.059234, time: 5.551 s, error: 0.213187\n",
      "Step  45100 (epoch  563.75), loss: 0.075894, time: 5.695 s\n",
      "Step  45200 (epoch  565.00), loss: 0.080177, time: 5.549 s, error: 0.201318\n",
      "Step  45300 (epoch  566.25), loss: 0.063251, time: 5.688 s\n",
      "Step  45400 (epoch  567.50), loss: 0.055951, time: 5.532 s, error: 0.210671\n",
      "Step  45500 (epoch  568.75), loss: 0.060307, time: 5.726 s\n",
      "Step  45600 (epoch  570.00), loss: 0.057901, time: 5.543 s, error: 0.229329\n",
      "Step  45700 (epoch  571.25), loss: 0.066205, time: 5.724 s\n",
      "Step  45800 (epoch  572.50), loss: 0.059211, time: 5.526 s, error: 0.208909\n",
      "Step  45900 (epoch  573.75), loss: 0.079519, time: 5.721 s\n",
      "Step  46000 (epoch  575.00), loss: 0.060898, time: 5.547 s, error: 0.216369\n",
      "\n",
      "Time since beginning  : 2588.807 s\n",
      "\n",
      "Step  46100 (epoch  576.25), loss: 0.059320, time: 5.791 s\n",
      "Step  46200 (epoch  577.50), loss: 0.056527, time: 5.541 s, error: 0.211800\n",
      "Step  46300 (epoch  578.75), loss: 0.073577, time: 5.708 s\n",
      "Step  46400 (epoch  580.00), loss: 0.062588, time: 5.532 s, error: 0.189061\n",
      "Step  46500 (epoch  581.25), loss: 0.053278, time: 5.697 s\n",
      "Step  46600 (epoch  582.50), loss: 0.059785, time: 5.540 s, error: 0.219122\n",
      "Step  46700 (epoch  583.75), loss: 0.069129, time: 5.721 s\n",
      "Step  46800 (epoch  585.00), loss: 0.059539, time: 5.545 s, error: 0.209128\n",
      "Step  46900 (epoch  586.25), loss: 0.057965, time: 5.711 s\n",
      "Step  47000 (epoch  587.50), loss: 0.059302, time: 5.553 s, error: 0.200700\n",
      "Step  47100 (epoch  588.75), loss: 0.050809, time: 5.707 s\n",
      "Step  47200 (epoch  590.00), loss: 0.066738, time: 5.538 s, error: 0.225827\n",
      "Step  47300 (epoch  591.25), loss: 0.073856, time: 5.703 s\n",
      "Step  47400 (epoch  592.50), loss: 0.070817, time: 5.545 s, error: 0.197705\n",
      "Step  47500 (epoch  593.75), loss: 0.066872, time: 5.728 s\n",
      "Step  47600 (epoch  595.00), loss: 0.055885, time: 5.545 s, error: 0.208727\n",
      "Step  47700 (epoch  596.25), loss: 0.063414, time: 5.698 s\n",
      "Step  47800 (epoch  597.50), loss: 0.056861, time: 5.528 s, error: 0.219068\n",
      "Step  47900 (epoch  598.75), loss: 0.061321, time: 5.705 s\n",
      "Step  48000 (epoch  600.00), loss: 0.055493, time: 5.543 s, error: 0.203521\n",
      "\n",
      "Time since beginning  : 2701.389 s\n",
      "\n",
      "Step  48100 (epoch  601.25), loss: 0.065568, time: 5.808 s\n",
      "Step  48200 (epoch  602.50), loss: 0.066628, time: 5.555 s, error: 0.204338\n",
      "Step  48300 (epoch  603.75), loss: 0.069704, time: 5.707 s\n",
      "Step  48400 (epoch  605.00), loss: 0.055062, time: 5.547 s, error: 0.219561\n",
      "Step  48500 (epoch  606.25), loss: 0.063282, time: 5.693 s\n",
      "Step  48600 (epoch  607.50), loss: 0.057197, time: 5.556 s, error: 0.208224\n",
      "Step  48700 (epoch  608.75), loss: 0.068956, time: 5.687 s\n",
      "Step  48800 (epoch  610.00), loss: 0.055330, time: 5.539 s, error: 0.213152\n",
      "Step  48900 (epoch  611.25), loss: 0.060234, time: 5.709 s\n",
      "Step  49000 (epoch  612.50), loss: 0.065583, time: 5.557 s, error: 0.230440\n",
      "Step  49100 (epoch  613.75), loss: 0.055885, time: 5.710 s\n",
      "Step  49200 (epoch  615.00), loss: 0.067969, time: 5.532 s, error: 0.209296\n",
      "Step  49300 (epoch  616.25), loss: 0.057383, time: 5.688 s\n",
      "Step  49400 (epoch  617.50), loss: 0.064893, time: 5.532 s, error: 0.212079\n",
      "Step  49500 (epoch  618.75), loss: 0.068469, time: 5.693 s\n",
      "Step  49600 (epoch  620.00), loss: 0.061353, time: 5.542 s, error: 0.218481\n",
      "Step  49700 (epoch  621.25), loss: 0.063765, time: 5.713 s\n",
      "Step  49800 (epoch  622.50), loss: 0.067453, time: 5.542 s, error: 0.193876\n",
      "Step  49900 (epoch  623.75), loss: 0.059870, time: 5.712 s\n",
      "Step  50000 (epoch  625.00), loss: 0.068075, time: 5.543 s, error: 0.215573\n",
      "\n",
      "Time since beginning  : 2813.958 s\n",
      "\n",
      "Step  50100 (epoch  626.25), loss: 0.063886, time: 5.794 s\n",
      "Step  50200 (epoch  627.50), loss: 0.058011, time: 5.526 s, error: 0.214621\n",
      "Step  50300 (epoch  628.75), loss: 0.058643, time: 5.706 s\n",
      "Step  50400 (epoch  630.00), loss: 0.054143, time: 5.547 s, error: 0.200670\n",
      "Step  50500 (epoch  631.25), loss: 0.063157, time: 5.735 s\n",
      "Step  50600 (epoch  632.50), loss: 0.061492, time: 5.545 s, error: 0.229235\n",
      "Step  50700 (epoch  633.75), loss: 0.056963, time: 5.692 s\n",
      "Step  50800 (epoch  635.00), loss: 0.052888, time: 5.521 s, error: 0.207006\n",
      "Step  50900 (epoch  636.25), loss: 0.064348, time: 5.713 s\n",
      "Step  51000 (epoch  637.50), loss: 0.051514, time: 5.540 s, error: 0.209236\n",
      "Step  51100 (epoch  638.75), loss: 0.063833, time: 5.727 s\n",
      "Step  51200 (epoch  640.00), loss: 0.056819, time: 5.568 s, error: 0.220739\n",
      "Step  51300 (epoch  641.25), loss: 0.055009, time: 5.698 s\n",
      "Step  51400 (epoch  642.50), loss: 0.065621, time: 5.536 s, error: 0.203325\n",
      "Step  51500 (epoch  643.75), loss: 0.053059, time: 5.724 s\n",
      "Step  51600 (epoch  645.00), loss: 0.057795, time: 5.550 s, error: 0.207882\n",
      "Step  51700 (epoch  646.25), loss: 0.063051, time: 5.700 s\n",
      "Step  51800 (epoch  647.50), loss: 0.061973, time: 5.534 s, error: 0.220496\n",
      "Step  51900 (epoch  648.75), loss: 0.055747, time: 5.699 s\n",
      "Step  52000 (epoch  650.00), loss: 0.058146, time: 5.561 s, error: 0.216364\n",
      "\n",
      "Time since beginning  : 2926.576 s\n",
      "\n",
      "Step  52100 (epoch  651.25), loss: 0.063236, time: 5.778 s\n",
      "Step  52200 (epoch  652.50), loss: 0.067217, time: 5.529 s, error: 0.217521\n",
      "Step  52300 (epoch  653.75), loss: 0.059745, time: 5.701 s\n",
      "Step  52400 (epoch  655.00), loss: 0.064239, time: 5.533 s, error: 0.228848\n",
      "Step  52500 (epoch  656.25), loss: 0.056565, time: 5.705 s\n",
      "Step  52600 (epoch  657.50), loss: 0.055439, time: 5.546 s, error: 0.210578\n",
      "Step  52700 (epoch  658.75), loss: 0.056873, time: 5.743 s\n",
      "Step  52800 (epoch  660.00), loss: 0.056591, time: 5.546 s, error: 0.206797\n",
      "Step  52900 (epoch  661.25), loss: 0.056032, time: 5.715 s\n",
      "Step  53000 (epoch  662.50), loss: 0.065091, time: 5.550 s, error: 0.221579\n",
      "Step  53100 (epoch  663.75), loss: 0.055464, time: 5.710 s\n",
      "Step  53200 (epoch  665.00), loss: 0.063547, time: 5.543 s, error: 0.196391\n",
      "Step  53300 (epoch  666.25), loss: 0.059458, time: 5.701 s\n",
      "Step  53400 (epoch  667.50), loss: 0.061819, time: 5.531 s, error: 0.215575\n",
      "Step  53500 (epoch  668.75), loss: 0.054757, time: 5.738 s\n",
      "Step  53600 (epoch  670.00), loss: 0.058910, time: 5.546 s, error: 0.220977\n",
      "Step  53700 (epoch  671.25), loss: 0.063499, time: 5.715 s\n",
      "Step  53800 (epoch  672.50), loss: 0.057187, time: 5.541 s, error: 0.199478\n",
      "Step  53900 (epoch  673.75), loss: 0.054683, time: 5.696 s\n",
      "Step  54000 (epoch  675.00), loss: 0.066110, time: 5.556 s, error: 0.229659\n",
      "\n",
      "Time since beginning  : 3039.194 s\n",
      "\n",
      "Step  54100 (epoch  676.25), loss: 0.051679, time: 5.789 s\n",
      "Step  54200 (epoch  677.50), loss: 0.056732, time: 5.549 s, error: 0.211968\n",
      "Step  54300 (epoch  678.75), loss: 0.062795, time: 5.720 s\n",
      "Step  54400 (epoch  680.00), loss: 0.058068, time: 5.560 s, error: 0.208541\n",
      "Step  54500 (epoch  681.25), loss: 0.056319, time: 5.705 s\n",
      "Step  54600 (epoch  682.50), loss: 0.065334, time: 5.567 s, error: 0.221332\n",
      "Step  54700 (epoch  683.75), loss: 0.058999, time: 5.720 s\n",
      "Step  54800 (epoch  685.00), loss: 0.058047, time: 5.551 s, error: 0.205109\n",
      "Step  54900 (epoch  686.25), loss: 0.055712, time: 5.691 s\n",
      "Step  55000 (epoch  687.50), loss: 0.058913, time: 5.551 s, error: 0.209850\n",
      "Step  55100 (epoch  688.75), loss: 0.067549, time: 5.718 s\n",
      "Step  55200 (epoch  690.00), loss: 0.064183, time: 5.543 s, error: 0.224653\n",
      "Step  55300 (epoch  691.25), loss: 0.060091, time: 5.686 s\n",
      "Step  55400 (epoch  692.50), loss: 0.053449, time: 5.520 s, error: 0.217382\n",
      "Step  55500 (epoch  693.75), loss: 0.059328, time: 5.700 s\n",
      "Step  55600 (epoch  695.00), loss: 0.056598, time: 5.540 s, error: 0.221164\n",
      "Step  55700 (epoch  696.25), loss: 0.054995, time: 5.711 s\n",
      "Step  55800 (epoch  697.50), loss: 0.055013, time: 5.560 s, error: 0.225387\n",
      "Step  55900 (epoch  698.75), loss: 0.050102, time: 5.708 s\n",
      "Step  56000 (epoch  700.00), loss: 0.059266, time: 5.545 s, error: 0.210755\n",
      "\n",
      "Time since beginning  : 3151.828 s\n",
      "\n",
      "Step  56100 (epoch  701.25), loss: 0.061818, time: 5.780 s\n",
      "Step  56200 (epoch  702.50), loss: 0.051896, time: 5.541 s, error: 0.206453\n",
      "Step  56300 (epoch  703.75), loss: 0.052773, time: 5.706 s\n",
      "Step  56400 (epoch  705.00), loss: 0.063886, time: 5.531 s, error: 0.222352\n",
      "Step  56500 (epoch  706.25), loss: 0.051194, time: 5.734 s\n",
      "Step  56600 (epoch  707.50), loss: 0.064930, time: 5.539 s, error: 0.203194\n",
      "Step  56700 (epoch  708.75), loss: 0.059507, time: 5.707 s\n",
      "Step  56800 (epoch  710.00), loss: 0.053437, time: 5.539 s, error: 0.217422\n",
      "Step  56900 (epoch  711.25), loss: 0.058874, time: 5.695 s\n",
      "Step  57000 (epoch  712.50), loss: 0.051631, time: 5.541 s, error: 0.225719\n",
      "Step  57100 (epoch  713.75), loss: 0.053591, time: 5.704 s\n",
      "Step  57200 (epoch  715.00), loss: 0.051940, time: 5.547 s, error: 0.202000\n",
      "Step  57300 (epoch  716.25), loss: 0.047329, time: 5.723 s\n",
      "Step  57400 (epoch  717.50), loss: 0.053186, time: 5.557 s, error: 0.229329\n",
      "Step  57500 (epoch  718.75), loss: 0.051676, time: 5.692 s\n",
      "Step  57600 (epoch  720.00), loss: 0.048651, time: 5.565 s, error: 0.216279\n",
      "Step  57700 (epoch  721.25), loss: 0.056297, time: 5.709 s\n",
      "Step  57800 (epoch  722.50), loss: 0.050505, time: 5.541 s, error: 0.209287\n",
      "Step  57900 (epoch  723.75), loss: 0.059451, time: 5.704 s\n",
      "Step  58000 (epoch  725.00), loss: 0.053185, time: 5.553 s, error: 0.226688\n",
      "\n",
      "Time since beginning  : 3264.433 s\n",
      "\n",
      "Step  58100 (epoch  726.25), loss: 0.057030, time: 5.778 s\n",
      "Step  58200 (epoch  727.50), loss: 0.058005, time: 5.558 s, error: 0.209363\n",
      "Step  58300 (epoch  728.75), loss: 0.058940, time: 5.714 s\n",
      "Step  58400 (epoch  730.00), loss: 0.053842, time: 5.540 s, error: 0.213661\n",
      "Step  58500 (epoch  731.25), loss: 0.061877, time: 5.695 s\n",
      "Step  58600 (epoch  732.50), loss: 0.052524, time: 5.528 s, error: 0.228393\n",
      "Step  58700 (epoch  733.75), loss: 0.045690, time: 5.733 s\n",
      "Step  58800 (epoch  735.00), loss: 0.057461, time: 5.560 s, error: 0.220962\n",
      "Step  58900 (epoch  736.25), loss: 0.054431, time: 5.713 s\n",
      "Step  59000 (epoch  737.50), loss: 0.053035, time: 5.536 s, error: 0.221289\n",
      "Step  59100 (epoch  738.75), loss: 0.060904, time: 5.703 s\n",
      "Step  59200 (epoch  740.00), loss: 0.051600, time: 5.563 s, error: 0.222504\n",
      "Step  59300 (epoch  741.25), loss: 0.057548, time: 5.714 s\n",
      "Step  59400 (epoch  742.50), loss: 0.060256, time: 5.534 s, error: 0.211956\n",
      "Step  59500 (epoch  743.75), loss: 0.053972, time: 5.736 s\n",
      "Step  59600 (epoch  745.00), loss: 0.049636, time: 5.545 s, error: 0.208041\n",
      "Step  59700 (epoch  746.25), loss: 0.058098, time: 5.713 s\n",
      "Step  59800 (epoch  747.50), loss: 0.052755, time: 5.559 s, error: 0.221340\n",
      "Step  59900 (epoch  748.75), loss: 0.056417, time: 5.697 s\n",
      "Step  60000 (epoch  750.00), loss: 0.051662, time: 5.533 s, error: 0.209588\n",
      "\n",
      "Time since beginning  : 3377.087 s\n",
      "\n",
      "Step  60100 (epoch  751.25), loss: 0.047269, time: 5.796 s\n",
      "Step  60200 (epoch  752.50), loss: 0.057145, time: 5.563 s, error: 0.218125\n",
      "Step  60300 (epoch  753.75), loss: 0.047583, time: 5.730 s\n",
      "Step  60400 (epoch  755.00), loss: 0.054409, time: 5.543 s, error: 0.229878\n",
      "Step  60500 (epoch  756.25), loss: 0.047695, time: 5.711 s\n",
      "Step  60600 (epoch  757.50), loss: 0.059324, time: 5.528 s, error: 0.206627\n",
      "Step  60700 (epoch  758.75), loss: 0.049895, time: 5.700 s\n",
      "Step  60800 (epoch  760.00), loss: 0.060405, time: 5.537 s, error: 0.230613\n",
      "Step  60900 (epoch  761.25), loss: 0.057872, time: 5.700 s\n",
      "Step  61000 (epoch  762.50), loss: 0.050200, time: 5.571 s, error: 0.218407\n",
      "Step  61100 (epoch  763.75), loss: 0.063879, time: 5.710 s\n",
      "Step  61200 (epoch  765.00), loss: 0.053859, time: 5.538 s, error: 0.210303\n",
      "Step  61300 (epoch  766.25), loss: 0.052465, time: 5.698 s\n",
      "Step  61400 (epoch  767.50), loss: 0.054298, time: 5.536 s, error: 0.228116\n",
      "Step  61500 (epoch  768.75), loss: 0.055524, time: 5.695 s\n",
      "Step  61600 (epoch  770.00), loss: 0.046570, time: 5.528 s, error: 0.214290\n",
      "Step  61700 (epoch  771.25), loss: 0.049924, time: 5.698 s\n",
      "Step  61800 (epoch  772.50), loss: 0.064076, time: 5.576 s, error: 0.216523\n",
      "Step  61900 (epoch  773.75), loss: 0.051256, time: 5.730 s\n",
      "Step  62000 (epoch  775.00), loss: 0.057981, time: 5.549 s, error: 0.230301\n",
      "\n",
      "Time since beginning  : 3489.720 s\n",
      "\n",
      "Step  62100 (epoch  776.25), loss: 0.054959, time: 5.782 s\n",
      "Step  62200 (epoch  777.50), loss: 0.056186, time: 5.538 s, error: 0.223629\n",
      "Step  62300 (epoch  778.75), loss: 0.058003, time: 5.696 s\n",
      "Step  62400 (epoch  780.00), loss: 0.060599, time: 5.533 s, error: 0.222916\n",
      "Step  62500 (epoch  781.25), loss: 0.051500, time: 5.711 s\n",
      "Step  62600 (epoch  782.50), loss: 0.049408, time: 5.529 s, error: 0.224790\n",
      "Step  62700 (epoch  783.75), loss: 0.058462, time: 5.701 s\n",
      "Step  62800 (epoch  785.00), loss: 0.053344, time: 5.535 s, error: 0.214102\n",
      "Step  62900 (epoch  786.25), loss: 0.051221, time: 5.717 s\n",
      "Step  63000 (epoch  787.50), loss: 0.066385, time: 5.536 s, error: 0.209035\n",
      "Step  63100 (epoch  788.75), loss: 0.057830, time: 5.700 s\n",
      "Step  63200 (epoch  790.00), loss: 0.050618, time: 5.543 s, error: 0.220845\n",
      "Step  63300 (epoch  791.25), loss: 0.050285, time: 5.735 s\n",
      "Step  63400 (epoch  792.50), loss: 0.053230, time: 5.533 s, error: 0.214617\n",
      "Step  63500 (epoch  793.75), loss: 0.048529, time: 5.697 s\n",
      "Step  63600 (epoch  795.00), loss: 0.052342, time: 5.558 s, error: 0.215513\n",
      "Step  63700 (epoch  796.25), loss: 0.051239, time: 5.702 s\n",
      "Step  63800 (epoch  797.50), loss: 0.047515, time: 5.531 s, error: 0.234751\n",
      "Step  63900 (epoch  798.75), loss: 0.059075, time: 5.700 s\n",
      "Step  64000 (epoch  800.00), loss: 0.054827, time: 5.554 s, error: 0.211297\n",
      "\n",
      "Time since beginning  : 3602.263 s\n",
      "\n",
      "Step  64100 (epoch  801.25), loss: 0.051505, time: 5.818 s\n",
      "Step  64200 (epoch  802.50), loss: 0.049179, time: 5.537 s, error: 0.228457\n",
      "Step  64300 (epoch  803.75), loss: 0.047665, time: 5.695 s\n",
      "Step  64400 (epoch  805.00), loss: 0.047322, time: 5.543 s, error: 0.224695\n",
      "Step  64500 (epoch  806.25), loss: 0.061606, time: 5.704 s\n",
      "Step  64600 (epoch  807.50), loss: 0.050703, time: 5.533 s, error: 0.211082\n"
     ]
    }
   ],
   "source": [
    "# Build an initialization operation.\n",
    "tf.global_variables_initializer().run()\n",
    "\n",
    "# Register a model saver\n",
    "saver = tf.train.Saver()\n",
    "\n",
    "# Load the previous checkpoint if existed.\n",
    "checkpoint_path = restore_latest_from_ckpt(save_path)\n",
    "load = False\n",
    "if load and checkpoint_path:\n",
    "  saver.restore(sess, checkpoint_path)\n",
    "  print(\"Restore from the lastest checkpoint file %s ...\" % checkpoint_path)\n",
    "  print(\"\")\n",
    "\n",
    "print(\"Initialized!\")\n",
    "print(\"\")\n",
    "print(\"Training Samples      :\", len(X_train))\n",
    "print(\"Batch Size            :\", batch_size)\n",
    "print(\"Number of Epochs      :\", num_epochs)\n",
    "print(\"Log Frequency         :\", log_frequency)\n",
    "print(\"Eval Frequency        :\", eval_frequency)\n",
    "print(\"\")\n",
    "\n",
    "# Save the graph\n",
    "saver.save(sess, save_path=chk_file, global_step=0)\n",
    "\n",
    "tic = time.time()\n",
    "tstart = time.time()\n",
    "\n",
    "# Keep the validation errors locally\n",
    "valid_hists = []\n",
    "\n",
    "# Loop through training steps.\n",
    "for step in range(int(num_epochs * len(X_train)) // batch_size):\n",
    "  \n",
    "  # Compute the offset of the current minibatch in the data.\n",
    "  # The dataset was already shuffled in assignment 1 so we do not need to\n",
    "  # randomize it.\n",
    "  offset = (step * batch_size) % (len(X_train) - batch_size)\n",
    "  batch_dataset = X_train[offset: (offset + batch_size), ...]\n",
    "  batch_targets = y_train[offset: (offset + batch_size), ...]\n",
    "  \n",
    "  # Build the feed dict to feed previous defined placeholders.\n",
    "  feed_dict = {\n",
    "    X_batch: batch_dataset, \n",
    "    y_batch: batch_targets, \n",
    "    keep_prob: 0.7, \n",
    "    dense_keep_prob: 0.5\n",
    "  }\n",
    "  \n",
    "  # Run the optimization session.\n",
    "  sess.run([optimizer], feed_dict=feed_dict)\n",
    "  \n",
    "  # Run the step decay function\n",
    "  if step > 0 and step % (len(X_train) // batch_size) == 0:\n",
    "    sess.run([global_epoch_op])\n",
    "  \n",
    "  # Save the training accuracy every 100 steps.\n",
    "  if step % log_frequency == 0:\n",
    "    summary, error = sess.run([merged, loss], feed_dict=feed_dict)\n",
    "    elapsed_time = time.time() - tic\n",
    "    tic = time.time()\n",
    "    eval_run = (step % eval_frequency == 0) and (step > 0)\n",
    "    if not eval_run:\n",
    "      print(\"Step %6d (epoch %7.2f), loss: %.6f, time: %.3f s\" % (\n",
    "        step, float(step) * batch_size / len(X_train), error, elapsed_time))\n",
    "    writer.add_summary(summary, step)\n",
    "    # Every `eval_frequency` steps we shall take several extra operations,\n",
    "    # including printing the validation accuracy and updating the learning\n",
    "    # rate.\n",
    "    if eval_run:\n",
    "      lr = sess.run(learning_rate)\n",
    "      valid_error = root_mean_squred(y_test - eval_in_batches(X_test))\n",
    "      valid_hists.append([step, valid_error])\n",
    "      print(\"Step %6d (epoch %7.2f), loss: %.6f, time: %.3f s, error: %.6f\" % (\n",
    "        step, float(step) * batch_size / len(X_train), error, elapsed_time, valid_error))\n",
    "    sys.stdout.flush()\n",
    "  \n",
    "  # Save the trained model every 1000 steps.\n",
    "  if step % save_frequency == 0:\n",
    "    print(\"\")\n",
    "    print(\"Time since beginning  : %.3f s\" % (time.time() - tstart))\n",
    "    print(\"\")\n",
    "    saver.save(sess, save_path=chk_file, global_step=global_step)\n",
    "\n",
    "# Close the writer\n",
    "writer.close()\n",
    "\n",
    "# Finally the training is completed. Now let me see if this MBE model can\n",
    "# really estimate DFT energies.\n",
    "print(\"\")\n",
    "print(\"-> Test error         : %.6f\" % root_mean_squred(y_test - eval_in_batches(X_test)))\n",
    "print(\"\")\n",
    "\n",
    "# Do not forget to save the model one last time!\n",
    "saver.save(sess, save_path=chk_file, global_step=global_step)"
   ]
  },
  {
   "cell_type": "markdown",
   "metadata": {
    "deletable": true,
    "editable": true
   },
   "source": [
    "### 5.3 Figures"
   ]
  },
  {
   "cell_type": "markdown",
   "metadata": {
    "deletable": true,
    "editable": true
   },
   "source": [
    "In this section we will display some figures to analyze the results."
   ]
  },
  {
   "cell_type": "code",
   "execution_count": 31,
   "metadata": {
    "collapsed": false,
    "deletable": true,
    "editable": true
   },
   "outputs": [
    {
     "data": {
      "text/plain": [
       "<matplotlib.text.Text at 0x7fbbd401dc18>"
      ]
     },
     "execution_count": 31,
     "metadata": {},
     "output_type": "execute_result"
    },
    {
     "data": {
      "image/png": "[encoded data removed]",
      "text/plain": [
       "<matplotlib.figure.Figure at 0x7fbbd4020ac8>"
      ]
     },
     "metadata": {},
     "output_type": "display_data"
    }
   ],
   "source": [
    "# Plot the smoothed validation errors\n",
    "xy = np.asarray(valid_hists)\n",
    "size = 10\n",
    "x, y = xy[:, 0], smooth(xy[:, 1], size)[:len(xy)]\n",
    "fig, ax = plt.subplots(1, 1, figsize=[12, 7])\n",
    "ax.plot(x, y, \"r-\")\n",
    "ax.set_ylabel(\"Validation RMSE\", fontsize=12)\n",
    "ax.set_xlabel(\"Steps\", fontsize=12)"
   ]
  },
  {
   "cell_type": "code",
   "execution_count": 32,
   "metadata": {
    "collapsed": false,
    "deletable": true,
    "editable": true
   },
   "outputs": [],
   "source": [
    "# Transform the estimates and targets back to energies\n",
    "y_train_est = eval_in_batches(X_train)\n",
    "y_test_est = eval_in_batches(X_test)\n",
    "energies_train = scaler.inverse_transform(y_train)\n",
    "energies_train_pred = scaler.inverse_transform(y_train_est)\n",
    "energies_test = scaler.inverse_transform(y_test)\n",
    "energies_test_pred = scaler.inverse_transform(y_test_est)"
   ]
  },
  {
   "cell_type": "code",
   "execution_count": 33,
   "metadata": {
    "collapsed": false,
    "deletable": true,
    "editable": true
   },
   "outputs": [
    {
     "data": {
      "image/png": "[encoded data removed]",
      "text/plain": [
       "<matplotlib.figure.Figure at 0x7fbbbc74a630>"
      ]
     },
     "metadata": {},
     "output_type": "display_data"
    }
   ],
   "source": [
    "# Plot the regression figure using ``seaborn.regplot``.\n",
    "fig, axes = plt.subplots(1, 2, figsize=[16, 8], sharey=False)\n",
    "\n",
    "def plot_regression(y_true, y_pred, iax, title):\n",
    "  r2 = r2_score(y_true, y_pred)\n",
    "  mae = mean_abs_error(y_true, y_pred)\n",
    "  diff = y_true - y_pred\n",
    "  stddev = np.var(diff)\n",
    "  ax = sns.regplot(x=y_true.flatten(), y=y_pred.flatten(), ax=axes[iax])\n",
    "  ax.set_ylabel(\"DFTB Energy (eV)\", fontsize=12)\n",
    "  ax.set_xlabel(\"DNN Energy (eV)\", fontsize=12)\n",
    "  ax.set_title(\"%s, $R^2$=%.3f, MAE=%.3f, stddev=%.3f\" % (title, r2, mae, stddev), fontsize=12)\n",
    "\n",
    "# Plot the training result\n",
    "plot_regression(energies_train, energies_train_pred, 0, \"Training Data\")\n",
    "\n",
    "# Plot the testing result\n",
    "plot_regression(energies_test, energies_test_pred, 1, \"Testing Data\")"
   ]
  },
  {
   "cell_type": "code",
   "execution_count": null,
   "metadata": {
    "collapsed": true,
    "deletable": true,
    "editable": true
   },
   "outputs": [],
   "source": []
  }
 ],
 "metadata": {
  "kernelspec": {
   "display_name": "Python 3",
   "language": "python",
   "name": "python3"
  },
  "language_info": {
   "codemirror_mode": {
    "name": "ipython",
    "version": 3
   },
   "file_extension": ".py",
   "mimetype": "text/x-python",
   "name": "python",
   "nbconvert_exporter": "python",
   "pygments_lexer": "ipython3",
   "version": "3.5.2"
  }
 },
 "nbformat": 4,
 "nbformat_minor": 2
}
