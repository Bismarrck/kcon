{
 "cells": [
  {
   "cell_type": "code",
   "execution_count": 1,
   "metadata": {
    "collapsed": true,
    "deletable": true,
    "editable": true
   },
   "outputs": [],
   "source": [
    "%matplotlib inline"
   ]
  },
  {
   "cell_type": "markdown",
   "metadata": {
    "deletable": true,
    "editable": true
   },
   "source": [
    "# Xin Chen's implementation of the MBE-NN network"
   ]
  },
  {
   "cell_type": "markdown",
   "metadata": {
    "deletable": true,
    "editable": true
   },
   "source": [
    "* Author: Xin Chen\n",
    "* Email: Bismarrck@me.com\n",
    "\n",
    "This jupyter notebook is used to repeat the work of http://doi.org/10.1021/acs.jctc.6b00994. \n",
    "\n",
    "The test cluster is $\\textrm{C}_{9}\\textrm{H}_{7}\\textrm{N}$. The reference energies are calculated with DFTB.\n",
    "\n",
    "<img src=\"./C9H7N.png\" alt=\"network\" style=\"width: 600px;\"/>"
   ]
  },
  {
   "cell_type": "markdown",
   "metadata": {
    "deletable": true,
    "editable": true
   },
   "source": [
    "## 1. Overview"
   ]
  },
  {
   "cell_type": "markdown",
   "metadata": {
    "deletable": true,
    "editable": true
   },
   "source": [
    "The structure of the deep convolutional neural network for the $Pt_{13}$ cluster is as follows:\n",
    "\n",
    "<img src=\"./convnet.jpg\" alt=\"network\" style=\"width: 800px;\"/>\n",
    "\n",
    "The input features are transformed interatomic distances. The output node represents the estimated DFT energies.\n",
    "The detailed explanantion of this convolutionary neural network will be given in the following section **Inference**."
   ]
  },
  {
   "cell_type": "markdown",
   "metadata": {
    "deletable": true,
    "editable": true
   },
   "source": [
    "## 2. Declarations"
   ]
  },
  {
   "cell_type": "markdown",
   "metadata": {
    "deletable": true,
    "editable": true
   },
   "source": [
    "In this section we shall import python modules and declare global constants."
   ]
  },
  {
   "cell_type": "code",
   "execution_count": 2,
   "metadata": {
    "collapsed": false,
    "deletable": true,
    "editable": true
   },
   "outputs": [],
   "source": [
    "import tensorflow as tf\n",
    "import numpy as np\n",
    "import seaborn as sns\n",
    "import re\n",
    "import h5py\n",
    "import sys\n",
    "import time\n",
    "import hashlib\n",
    "import shutil\n",
    "from os.path import isfile, isdir, join\n",
    "from os import makedirs\n",
    "from scipy.misc import comb\n",
    "from sklearn.preprocessing import MinMaxScaler\n",
    "from sklearn.model_selection import train_test_split\n",
    "from sklearn.metrics import pairwise_distances\n",
    "from itertools import combinations\n",
    "from matplotlib import pyplot as plt\n",
    "from IPython.display import clear_output, Image, display, HTML\n",
    "plt.rcParams[\"figure.figsize\"] = [15, 12]"
   ]
  },
  {
   "cell_type": "code",
   "execution_count": 3,
   "metadata": {
    "collapsed": false,
    "deletable": true,
    "editable": true
   },
   "outputs": [],
   "source": [
    "# The patch size is always 1x1\n",
    "PATCH_SIZE = 1\n",
    "\n",
    "# The HDF5 database file.\n",
    "HDF5_DATABASE_FILE = \"c9h7n.hdf5\"\n",
    "\n",
    "# The dimension of the cluster.\n",
    "NUM_SITES = 17\n",
    "\n",
    "# The total number of structures in the XYZ file should be 209660.\n",
    "XYZ_FILE = \"../datasets/C9H7N.xyz\"\n",
    "TOTAL_SIZE = 5000\n",
    "\n",
    "# Setup the size.\n",
    "LOAD_SIZE = 5000\n",
    "\n",
    "# Setup the random seed.\n",
    "SEED = 235\n",
    "\n",
    "# Setup the precision of floats. \n",
    "tf_type = tf.float32\n",
    "np_type = np.float32\n",
    "\n",
    "# Cuda\n",
    "cuda_on = False"
   ]
  },
  {
   "cell_type": "markdown",
   "metadata": {
    "deletable": true,
    "editable": true
   },
   "source": [
    "Invoke the interactive session"
   ]
  },
  {
   "cell_type": "code",
   "execution_count": 4,
   "metadata": {
    "collapsed": true,
    "deletable": true,
    "editable": true
   },
   "outputs": [],
   "source": [
    "graph = tf.Graph()\n",
    "sess = tf.InteractiveSession(graph=graph)"
   ]
  },
  {
   "cell_type": "markdown",
   "metadata": {
    "deletable": true,
    "editable": true
   },
   "source": [
    "Some global helper functions are declared here."
   ]
  },
  {
   "cell_type": "code",
   "execution_count": 5,
   "metadata": {
    "collapsed": true,
    "deletable": true,
    "editable": true
   },
   "outputs": [],
   "source": [
    "def brange(start, stop, batchsize):\n",
    "  \"\"\"\n",
    "  Range from `start` to `stop` given a batch size and return the start and stop of each batch.\n",
    "  \n",
    "  Args:\n",
    "    start: int, the start number of a sequence.\n",
    "    stop: int, the end number of a sequence.\n",
    "    batchsize: int, the size of each batch.\n",
    "  \n",
    "  \"\"\"\n",
    "  istart = start\n",
    "  while istart < stop:\n",
    "    istop = min(istart + batchsize, stop)\n",
    "    yield istart, istop\n",
    "    istart = istop\n",
    "\n",
    "\n",
    "def exponential(x, l=4.0):\n",
    "  \"\"\"\n",
    "  Exponentially scale the input value(s).  \n",
    "  \"\"\"\n",
    "  return np.exp(-x / l)\n",
    "\n",
    "\n",
    "def md5(filename):\n",
    "  \"\"\" \n",
    "  Return the md5 checksum of the given file.\n",
    "\n",
    "  Args:\n",
    "    filename: a file.\n",
    "\n",
    "  Returns:\n",
    "    checksum: the MD5 checksum of the file.\n",
    "\n",
    "  \"\"\"\n",
    "  hash_md5 = hashlib.md5()\n",
    "  with open(filename, \"rb\") as f:\n",
    "    for chunk in iter(lambda: f.read(4096), b\"\"):\n",
    "      hash_md5.update(chunk)\n",
    "  return hash_md5.hexdigest()\n",
    "\n",
    "\n",
    "def root_mean_squred(x):\n",
    "  \"\"\"\n",
    "  Return the root mean squared of the given array.\n",
    "  \"\"\"\n",
    "  return np.sqrt(np.mean(np.square(x)))"
   ]
  },
  {
   "cell_type": "markdown",
   "metadata": {
    "deletable": true,
    "editable": true
   },
   "source": [
    "## 3. Inference"
   ]
  },
  {
   "cell_type": "markdown",
   "metadata": {
    "deletable": true,
    "editable": true
   },
   "source": [
    "This convnet is a slightly different from normal convolutionary neural networks. Suppose N is the batch size:\n",
    "\n",
    "* The shape of the input tensor is: $[N, 1, C_{N}^{k}, C_{k}^{2}]$\n",
    "* The **k** defines the many-body expansion. In this paper, k is selected to be 4.\n",
    "* The patch (kernel) is always 1x1.\n",
    "* The padding scheme is 'SAME' and the strides are 1 in both directions.\n",
    "* A shape transpose action should be taken between layer 4 and 5.\n"
   ]
  },
  {
   "cell_type": "markdown",
   "metadata": {
    "deletable": true,
    "editable": true
   },
   "source": [
    "In this section we define some local helper functions."
   ]
  },
  {
   "cell_type": "code",
   "execution_count": 6,
   "metadata": {
    "collapsed": true,
    "deletable": true,
    "editable": true
   },
   "outputs": [],
   "source": [
    "def variable_summaries(tensor):\n",
    "  \"\"\"\n",
    "  Attach a lot of summaries to a Tensor (for TensorBoard visualization).\n",
    "\n",
    "  Args:\n",
    "    tensor: a Tensor.\n",
    "\n",
    "  \"\"\"\n",
    "  with tf.name_scope('summaries'):\n",
    "    mean = tf.reduce_mean(tensor)\n",
    "    tf.summary.scalar('mean', mean)\n",
    "    with tf.name_scope('stddev'):\n",
    "      stddev = tf.sqrt(tf.reduce_mean(tf.square(tf.subtract(tensor, mean))))\n",
    "      tf.summary.scalar('stddev', stddev)\n",
    "    tf.summary.scalar('max', tf.reduce_max(tensor))\n",
    "    tf.summary.scalar('min', tf.reduce_min(tensor))\n",
    "    tf.summary.histogram('histogram', tensor)\n",
    "\n",
    "    \n",
    "def print_activations(t):\n",
    "  \"\"\"\n",
    "  Print the name and shape of the input Tensor.\n",
    "\n",
    "  Args:\n",
    "    t: a Tensor.\n",
    "\n",
    "  \"\"\"\n",
    "  print(\"%-21s : %s\" % (t.op.name, t.get_shape().as_list()))"
   ]
  },
  {
   "cell_type": "markdown",
   "metadata": {
    "deletable": true,
    "editable": true
   },
   "source": [
    "All layers except the last in this MBE-NN network are convolutionary layers. The activation functions are ``tanh`` and ``softplus`` and there is no pooling operation before the output layer. So this function is used to create the conv2d layers of this network."
   ]
  },
  {
   "cell_type": "code",
   "execution_count": 7,
   "metadata": {
    "collapsed": true,
    "deletable": true,
    "editable": true
   },
   "outputs": [],
   "source": [
    "def mbe_conv2d(tensor, n_in, n_out, name, activate=tf.tanh, params_track=None, verbose=True):\n",
    "  \"\"\" A lazy inner function to create a `tf.nn.conv2d` Tensor.\n",
    "\n",
    "  Args:\n",
    "    tensor: a Tensor, [index, 1, w, n_in]\n",
    "    n_in: the number of input channels.\n",
    "    n_out: the number of output channels.\n",
    "    name: the name of this layer.\n",
    "    activate: the activation function, defaults to `tf.tanh`.\n",
    "    params_track: append the kernel and the bias into this list if not None.\n",
    "    verbose: print the layer if True\n",
    "\n",
    "  Returns:\n",
    "    activated: a Tensor of activated `tf.nn.conv2d`.\n",
    "\n",
    "  \"\"\"\n",
    "  with tf.name_scope(name):\n",
    "    with tf.name_scope(\"filter\"):\n",
    "      kernel = tf.Variable(\n",
    "        tf.truncated_normal(\n",
    "          [1, 1, n_in, n_out], stddev=0.1, seed=SEED, dtype=tf_type), \n",
    "        name=\"kernel\")\n",
    "      variable_summaries(kernel)\n",
    "    conv = tf.nn.conv2d(\n",
    "      tensor, kernel, [1, 1, 1, 1], padding=\"SAME\", use_cudnn_on_gpu=cuda_on)\n",
    "    with tf.name_scope(\"biases\"):\n",
    "      biases = tf.Variable(\n",
    "        tf.zeros([n_out], dtype=tf_type), name=\"biases\")\n",
    "      variable_summaries(biases)\n",
    "    bias = tf.nn.bias_add(conv, biases)\n",
    "    activated = activate(bias)\n",
    "    if isinstance(params_track, list):\n",
    "      params_track.extend([kernel, biases])\n",
    "    if verbose:\n",
    "      print_activations(activated)\n",
    "  return activated"
   ]
  },
  {
   "cell_type": "markdown",
   "metadata": {
    "deletable": true,
    "editable": true
   },
   "source": [
    "Now we can infer the MBE-NN neural network. "
   ]
  },
  {
   "cell_type": "code",
   "execution_count": 8,
   "metadata": {
    "collapsed": true,
    "deletable": true,
    "editable": true
   },
   "outputs": [],
   "source": [
    "def inference(dataset, cnk, verbose=True):\n",
    "  \"\"\"\n",
    "  Return the infered MBE-NN-M deep neural network model.\n",
    "\n",
    "  Args:\n",
    "    dataset: a 4D dataset Tensor as the input layer, [batch, 1, C(N,k), C(k,2)]\n",
    "    cnk: the value of C(N,k), an int.\n",
    "    verbose: print layer details if True.\n",
    "\n",
    "  Returns:\n",
    "    pool: the last Tensor of `tf.nn.avg_pool`, [batch, 1, 1, 1]\n",
    "\n",
    "  References:\n",
    "    Alexandrova, A. N. (2016). http://doi.org/10.1021/acs.jctc.6b00994\n",
    "\n",
    "  \"\"\"\n",
    "  if verbose:\n",
    "    print(\"-> Inference the MBE-NN-M model ...\")\n",
    "    print(\"\")\n",
    "\n",
    "  parameters = []\n",
    "\n",
    "  # Build the first three MBE layers.\n",
    "  # The shape of the input data tensor is [n, 1, C(N,k), C(k,2)].\n",
    "  # To fit Fk, the NN connection is localized in the second dimension, and the\n",
    "  # layer size of the first dimension is kept fixed. The weights and biases of\n",
    "  # NN connection are shared among different indices of the first dimension,\n",
    "  # so that the fitted function form of Fk is kept consistent among different\n",
    "  # k-body terms. The MBE part is composed of four layers with the following\n",
    "  # sizes:\n",
    "  # (C(N,k), C(k,2)) - (C(N,k), 40) - (C(N,k), 70) - (C(N,k), 60) - (C(N,k), 2).\n",
    "  conv1 = mbe_conv2d(dataset, 6, 40, \"Conv1\", activate=tf.nn.tanh)\n",
    "  conv2 = mbe_conv2d(conv1,  40, 70, \"Conv2\", activate=tf.nn.tanh)\n",
    "  conv3 = mbe_conv2d(conv2,  70, 60, \"Conv3\", activate=tf.nn.tanh)\n",
    "\n",
    "  # Then we build the three mixing layers.\n",
    "  # The mixing part is used to fit G. Within this part the NN connection is\n",
    "  # localized in the first dimension, and the size of the second dimension is\n",
    "  # kept fixed. The parameters of NN connection in this part are shared among\n",
    "  # different indices of the second dimension. In this work, the mixing part is\n",
    "  # composed of two layers with the following sizes:\n",
    "  # (C(N, k), 2) - (40, 2) - (10, 2).\n",
    "  conv4 = mbe_conv2d(conv3, 60, 2, \"Conv4\", activate=tf.nn.softplus)\n",
    "  conv5 = mbe_conv2d(tf.reshape(conv4, (-1, 1, 2, cnk)),\n",
    "                     cnk, 400, \"Conv5\", activate=tf.nn.softplus)\n",
    "  conv6 = mbe_conv2d(conv5, 400, 20, \"Conv6\", activate=tf.nn.softplus)\n",
    "\n",
    "  # The last part is used to transform the output of mixing part to a single\n",
    "  # value, representing the energy. The average-pooling is used, which means\n",
    "  # that we take the average value of all elements in the matrix of the previous\n",
    "  # layer as the final output. In this work, the pooling part is composed of one\n",
    "  # layer of the size:\n",
    "  # (10, 2) - (1).\n",
    "  with tf.name_scope(\"Pool7\"):\n",
    "    pool7 = tf.nn.avg_pool(tf.reshape(conv6, [-1, 20, 2, 1]),\n",
    "                           ksize=[1, 20, 2, 1],\n",
    "                           strides=[1, 1, 1, 1],\n",
    "                           padding=\"VALID\")\n",
    "    if verbose:\n",
    "      print_activations(pool7)\n",
    "      print(\"\")\n",
    "\n",
    "  return tf.reshape(pool7, (-1, 1)), parameters"
   ]
  },
  {
   "cell_type": "markdown",
   "metadata": {
    "deletable": true,
    "editable": true
   },
   "source": [
    "## 4. Preparing the Dataset"
   ]
  },
  {
   "cell_type": "markdown",
   "metadata": {
    "deletable": true,
    "editable": true
   },
   "source": [
    "### 4.1 Transformation"
   ]
  },
  {
   "cell_type": "markdown",
   "metadata": {
    "deletable": true,
    "editable": true
   },
   "source": [
    "It is known that Gaussian coordinates are not suitable to direcly used as input of NN. Therefor, two transformations are adapted here on the input sample data in Cartesian coordiantes $\\{r_{j}\\}$:\n",
    "\n",
    "1. Transform each set of combination indices $\\{j\\}$ ($k=4$) to interatomic distances $\\{d_{i,j}\\}$ ($C_{k}^{2}=6$). \n",
    "2. Dump these interatomic distances with the exponential function: $d_{i,j}' = e^{-d_{i,j}/L}$. $L$ is a fixed parameter and 4.0 was used in this paper.\n",
    "\n",
    "The following figure demonstrates the workflow of these transformations:\n",
    "\n",
    "<img src=\"./input_transform.png\" alt=\"Drawing\" style=\"width: 900px;\"/>\n",
    "\n",
    "The shape of the final input matrix should be: [1, $C_{N}^{k}$, $C_{k}^{2}$]\n",
    "\n",
    "* The width is 1\n",
    "* The height is $C_{N}^{k}$\n",
    "* The depth is $C_{k}^{2}$\n",
    "\n",
    "So that we can use it in a convolutionary neural network!"
   ]
  },
  {
   "cell_type": "code",
   "execution_count": 9,
   "metadata": {
    "collapsed": true,
    "deletable": true,
    "editable": true
   },
   "outputs": [],
   "source": [
    "def transform_coords(coords, chunksize, mapping, l=4.0, verbose=True):\n",
    "  \"\"\"\n",
    "  Transform the cartesian coordinates to input features.\n",
    "\n",
    "  Args:\n",
    "    coords: a 3D array with shape [M,N,3] representing the cartesian coordinates.\n",
    "    chunksize: the transformed array is too large. So save it piece by piece.\n",
    "    mapping: a `h5py.Dataset`, which is a symbolic to the real data on disk.\n",
    "    l: the exponential parameter.\n",
    "    verbose: print the transformation progress if True.\n",
    "\n",
    "  \"\"\"\n",
    "  ntotal, n = coords.shape[:2]\n",
    "  cnkv = comb(n, 4, exact=True)\n",
    "  ck2v = comb(4, 2, exact=True)\n",
    "  cnkl = list(combinations(range(NUM_SITES), 4))\n",
    "  # Using mapping indices can increase the speed 30 times!\n",
    "  indices = np.zeros((ck2v, cnkv), dtype=int)\n",
    "  for i in range(cnkv):\n",
    "    for j, (vi, vj) in enumerate(combinations(cnkl[i], 2)):\n",
    "      indices[j, i] = vi * n + vj\n",
    "  dataset = np.zeros((chunksize, 1, cnkv, ck2v), dtype=np_type)\n",
    "  tic = time.time()\n",
    "  if verbose:\n",
    "    print(\"Transform the cartesian coordinates ...\\n\")\n",
    "  for i, inext in brange(0, ntotal, chunksize):\n",
    "    for j in range(i, inext):\n",
    "      dists = pairwise_distances(coords[j]).flatten()\n",
    "      for k in range(ck2v):\n",
    "        dataset[j - i, 0, :, k] = exponential(dists[indices[k]])\n",
    "      del dists\n",
    "    batch_size = inext - i\n",
    "    mapping[i: inext, ...] = dataset[:batch_size, ...]\n",
    "    if verbose:\n",
    "      sys.stdout.write(\"\\rProgress: %7d  /  %7d\" % (inext, ntotal))\n",
    "    dataset.fill(0.0)\n",
    "  del indices\n",
    "  del dataset\n",
    "  if verbose:\n",
    "    print(\"\")\n",
    "    print(\"Total time: %.3f s\\n\" % (time.time() - tic))"
   ]
  },
  {
   "cell_type": "markdown",
   "metadata": {
    "deletable": true,
    "editable": true
   },
   "source": [
    "### 4.2 Extract"
   ]
  },
  {
   "cell_type": "markdown",
   "metadata": {
    "deletable": true,
    "editable": true
   },
   "source": [
    "Extract the XYZ coordinates and atomic symbols from the raw file. The raw file is not a standard XYZ file, so we need to write a helper function to do this."
   ]
  },
  {
   "cell_type": "code",
   "execution_count": 10,
   "metadata": {
    "collapsed": true,
    "deletable": true,
    "editable": true
   },
   "outputs": [],
   "source": [
    "def extract_xyz(filename, verbose=True):\n",
    "  \"\"\"\n",
    "  Extract symbols, coordiantes and forces (for later usage) from the raw file.\n",
    "  \n",
    "  Args:\n",
    "    filename: a str.\n",
    "    verbose: a bool.\n",
    "\n",
    "  Returns\n",
    "    energies: Array[N,]\n",
    "    coordinates: Array[N, 17, 3], a 3D array containing the atomic coordinates.\n",
    "    forces: Array[N, 17, 3], a 3D array containing the atomic forces.\n",
    "  \n",
    "  \"\"\"\n",
    "  group = \"raw\"\n",
    "  hdb = h5py.File(HDF5_DATABASE_FILE)\n",
    "  if group not in hdb:\n",
    "    hdb.create_group(group)\n",
    "  \n",
    "  try:\n",
    "    energies = hdb[group][\"energies\"][:]\n",
    "    coordinates = hdb[group][\"coordinates\"][:]\n",
    "    forces = hdb[group][\"forces\"][:]\n",
    "\n",
    "  except Exception:\n",
    "    energies = np.zeros((TOTAL_SIZE,), dtype=np_type)\n",
    "    coordinates = np.zeros((TOTAL_SIZE, NUM_SITES, 3), dtype=np_type)\n",
    "    forces = np.zeros((TOTAL_SIZE, NUM_SITES, 3), dtype=np_type)\n",
    "    stage = 0\n",
    "    i = 0\n",
    "    j = 0\n",
    "    energy_patt = re.compile(r\".*energy=([\\d.-]+).*\")\n",
    "    string_patt = re.compile(r\"([A-Za-z]{1,2})\\s+([\\d.-]+)\\s+([\\d.-]+)\\s+([\\d.-]+)\\s+\"\n",
    "                              \"\\d+\\s+\\d.\\d+\\s+\\d+\\s+([\\d.-]+)\\s+([\\d.-]+)\\s+([\\d.-]+)\")\n",
    "    tic = time.time()\n",
    "    if verbose:\n",
    "      sys.stdout.write(\"Extract cartesian coordinates ...\\n\")\n",
    "    with open(filename) as f:\n",
    "      for line in f:\n",
    "        if i == TOTAL_SIZE:\n",
    "          break\n",
    "        l = line.strip()\n",
    "        if l == \"\":\n",
    "          continue\n",
    "        if stage == 0:\n",
    "          if l.isdigit():\n",
    "            n = int(l)\n",
    "            if n != NUM_SITES:\n",
    "              raise ValueError(\"The parsed size %d != NUM_SITES\" % n)\n",
    "            stage += 1\n",
    "        elif stage == 1:\n",
    "          m = energy_patt.search(l)\n",
    "          if m:\n",
    "            energies[i] = float(m.group(1))\n",
    "            stage += 1\n",
    "        elif stage == 2:\n",
    "          m = string_patt.search(l)\n",
    "          if m:\n",
    "            coordinates[i, j, :] = float(m.group(2)), float(m.group(3)), float(m.group(4))\n",
    "            forces[i, j, :] = float(m.group(5)), float(m.group(6)), float(m.group(7))\n",
    "            j += 1\n",
    "            if j == NUM_SITES:\n",
    "              j = 0\n",
    "              stage = 0\n",
    "              i += 1\n",
    "              if verbose and i % 1000 == 0:\n",
    "                sys.stdout.write(\"\\rProgress: %7d  /  %7d\" % (i, TOTAL_SIZE))\n",
    "      if verbose:\n",
    "        print(\"\")\n",
    "        print(\"Total time: %.3f s\\n\" % (time.time() - tic))\n",
    "      hdb[group].create_dataset(\"energies\", data=energies)\n",
    "      hdb[group].create_dataset(\"coordinates\", data=coordinates)\n",
    "      hdb[group].create_dataset(\"forces\", data=forces)\n",
    "  \n",
    "  finally:\n",
    "    hdb.close()\n",
    "  \n",
    "  return energies, coordinates, forces"
   ]
  },
  {
   "cell_type": "code",
   "execution_count": 38,
   "metadata": {
    "collapsed": false,
    "deletable": true,
    "editable": true
   },
   "outputs": [
    {
     "data": {
      "text/plain": [
       "[<matplotlib.lines.Line2D at 0x14985c6a0>]"
      ]
     },
     "execution_count": 38,
     "metadata": {},
     "output_type": "execute_result"
    },
    {
     "data": {
      "image/png": "[encoded data removed]",
      "text/plain": [
       "<matplotlib.figure.Figure at 0x13e537518>"
      ]
     },
     "metadata": {},
     "output_type": "display_data"
    }
   ],
   "source": [
    "plt.rcParams[\"figure.figsize\"] = [12, 9]\n",
    "energies, coordinates, _ = extract_xyz(XYZ_FILE)\n",
    "sns.set_style(\"white\")\n",
    "plt.xlabel(\"Index\")\n",
    "plt.ylabel(\"DFTB Energy (a.u.)\")\n",
    "plt.plot(energies, 'r.')"
   ]
  },
  {
   "cell_type": "markdown",
   "metadata": {
    "deletable": true,
    "editable": true
   },
   "source": [
    "Build the dataset and split it into training, validation and testing datasets:\n",
    "\n",
    "1. Initialize a new hdf5 file if it can not be accessed.\n",
    "1. Extract symbols, energies, atomic coordinates and forces from the file.\n",
    "2. Transform and scale the coordinates to build the 4D array $[N, 1, C_{N}^{k}, C_{k}^{2}]$.\n",
    "\n",
    "**Warning: in this case ($\\textrm{C}_{9}\\textrm{H}_{7}\\textrm{N}$), all samples are considered unique!**"
   ]
  },
  {
   "cell_type": "code",
   "execution_count": 12,
   "metadata": {
    "collapsed": true,
    "deletable": true,
    "editable": true
   },
   "outputs": [],
   "source": [
    "def may_build_dataset(filename, l=4.0, verbose=True):\n",
    "  \"\"\"\n",
    "  Build the training, validation and testing dataset and targets from a XYZ file.\n",
    "\n",
    "  Args:\n",
    "    filename: str, a file with CP2K/XYZ format.\n",
    "    l: float, the exponential parameter.\n",
    "    verbose: bool, print the building progress if True.\n",
    "\n",
    "  Returns:\n",
    "    features: a 4D array as the transformed input features.\n",
    "    targets: a 2D array as the scaled ([0, 1]) targets.\n",
    "    scaler: a ``sklearn.preprocessing.MinMaxScaler``.\n",
    "\n",
    "  \"\"\"\n",
    "  # Compute the MD5 checksum of the xyzfile\n",
    "  checksum = md5(filename)\n",
    "\n",
    "  if verbose:\n",
    "    print(\"-> Load the training, validation and testing datasets ...\\n\")\n",
    "\n",
    "  coords, energies = None, None\n",
    "  features, targets = None, None\n",
    "  backup_hdf5 = False\n",
    "  extract_coords = True\n",
    "  build_features = True\n",
    "\n",
    "  # If the HDF5 file is already existed, we try to load dataset and targets from\n",
    "  # the HDF5 file directly if the checksums are equal.\n",
    "  if isfile(HDF5_DATABASE_FILE):\n",
    "    with h5py.File(HDF5_DATABASE_FILE, \"r\") as hdb:\n",
    "      if hdb.attrs.get(\"checksum\", 0) == checksum:\n",
    "        # There are two main groups in this HDF5 file:\n",
    "        # 1. the first group is 'train' where training data and training targets\n",
    "        # are stored.\n",
    "        if \"train\" in hdb:\n",
    "          features = hdb[\"train\"][\"dataset\"][:LOAD_SIZE]\n",
    "          targets = hdb[\"train\"][\"targets\"][:LOAD_SIZE]\n",
    "          build_features = False\n",
    "          extract_coords = False\n",
    "        # 2. the second group is 'unique' where uniquified cartesian coordinates\n",
    "        # and their energies extracted from a CP2K/XYZ file are saved.\n",
    "        elif \"unique\" in hdb.keys():\n",
    "          coords = hdb[\"unique\"][\"coords\"][:]\n",
    "          energies = hdb[\"unique\"][\"energies\"][:]\n",
    "          extract_coords = False\n",
    "      # The checksum are not equal, so we backup the existed HDF5 databse by\n",
    "      # renaming it.\n",
    "      else:\n",
    "        backup_hdf5 = True\n",
    "    if backup_hdf5:\n",
    "      if verbose:\n",
    "        print(\"MD5 checksums mismatched. Build a new dataset.\\n\")\n",
    "      shutil.move(HDF5_DATABASE_FILE, HDF5_DATABASE_FILE + \".bak\")\n",
    "\n",
    "  # Extract the raw cartesian coordinates and energis (eV) from the CP2K/XYZ\n",
    "  # file and save these data into group 'raw'. All data are compressed with the\n",
    "  # lossless gzip filter.\n",
    "  if extract_coords:\n",
    "    energies, coords, _ = extract_xyz(filename, verbose=verbose)\n",
    "    # Remove the duplicates to reduce the dataset\n",
    "    # coords, energies = remove_duplicates(coords, energies, verbose=verbose)\n",
    "    with h5py.File(HDF5_DATABASE_FILE) as hdb:\n",
    "      # Delete the previous group `unique`. This should not happen, but it may\n",
    "      # be inserted manually for debugging.\n",
    "      group = \"unique\"\n",
    "      if group in hdb.keys():\n",
    "        del hdb[group]\n",
    "      hdb.attrs[\"checksum\"] = checksum\n",
    "      hdb.create_group(group)\n",
    "      hdb[group].create_dataset(\"coords\", data=coords, compression=\"gzip\")\n",
    "      hdb[group].create_dataset(\"energies\", data=energies, compression=\"gzip\")\n",
    "  elif verbose:\n",
    "    print(\"Use existed coordinates and energies.\\n\")\n",
    "\n",
    "  # Transform the cartesian coordinates to a 4D dataset. Permute this dataset\n",
    "  # several times and then we split it into three parts: training, validation\n",
    "  # and testing. Save these datasets and their targets into group 'cnn'.\n",
    "  if build_features:\n",
    "    # Allocate the disk space and then write transformed data piece by piece\n",
    "    # because my little computer only has 16GB memory.\n",
    "    shape = [len(energies), 1, comb(NUM_SITES, 4, True), comb(4, 2, True)]\n",
    "    hdb = h5py.File(HDF5_DATABASE_FILE)\n",
    "    try:\n",
    "      group = hdb.require_group(\"train\")\n",
    "      group.create_dataset(\"targets\", data=energies)\n",
    "      mapping = group.create_dataset(\n",
    "        \"dataset\", shape=shape, dtype=np.float32)\n",
    "      # Set the chunksize to 10000.\n",
    "      chunksize = 10000\n",
    "      transform_coords(coords, chunksize, mapping, l=l, verbose=verbose)\n",
    "    except Exception as excp:\n",
    "      del hdb[\"train\"]\n",
    "      raise excp\n",
    "    finally:\n",
    "      hdb.close()\n",
    "    # After the transformation we now load the whole dataset into memory.\n",
    "    with h5py.File(HDF5_DATABASE_FILE) as hdb:\n",
    "      features = hdb[\"train\"][\"dataset\"][:LOAD_SIZE]\n",
    "      targets = np.array(energies[:LOAD_SIZE], copy=False)\n",
    "    if verbose:\n",
    "      print(\"Dataset size (MB)     : \", dataset.nbytes / 1024 / 1024)\n",
    "      print(\"Targets size (MB)     : \", targets.nbytes / 1024 / 1024)\n",
    "      print(\"\")\n",
    "    del coords\n",
    "  elif verbose:\n",
    "    print(\"Use existed features and targets.\\n\")\n",
    "\n",
    "  # Determine the maximum and minimum energy. The energies should be scaled to\n",
    "  # [0, 1] during training.\n",
    "  scaler = MinMaxScaler()\n",
    "  targets = scaler.fit_transform(np.atleast_2d(targets).T)\n",
    "\n",
    "  if verbose:\n",
    "    print(\"-> Datasets and targets are loaded into memories.\")\n",
    "    print(\"\")\n",
    "  return features, targets, scaler"
   ]
  },
  {
   "cell_type": "code",
   "execution_count": 13,
   "metadata": {
    "collapsed": false,
    "deletable": true,
    "editable": true
   },
   "outputs": [
    {
     "name": "stdout",
     "output_type": "stream",
     "text": [
      "-> Load the training, validation and testing datasets ...\n",
      "\n",
      "Use existed coordinates and energies.\n",
      "\n",
      "Use existed features and targets.\n",
      "\n",
      "-> Datasets and targets are loaded into memories.\n",
      "\n"
     ]
    }
   ],
   "source": [
    "dataset, targets, scaler = may_build_dataset(XYZ_FILE)"
   ]
  },
  {
   "cell_type": "markdown",
   "metadata": {
    "deletable": true,
    "editable": true
   },
   "source": [
    "Define a helper function for scaling the RMS to the origin energy unit."
   ]
  },
  {
   "cell_type": "markdown",
   "metadata": {
    "deletable": true,
    "editable": true
   },
   "source": [
    "## 5. Training"
   ]
  },
  {
   "cell_type": "markdown",
   "metadata": {
    "deletable": true,
    "editable": true
   },
   "source": [
    "Now we can start training this network. The training settings defined in this paper are summerized here:\n",
    "\n",
    "* Root-mean-squared loss.\n",
    "* Mini-batch stochastic gradient descent with momentum\n",
    "     * Batch size: 50.\n",
    "     * Momentum factor: 0.7.\n",
    "* Step Decay Function: $s_{i} = s_{0}r/(r + i)$\n",
    "     * $s_0$ is the initial step length, which is 0.1 in this paper.\n",
    "     * r is a predefined factor and r = 60 in this paper.\n",
    "* Regularization factor is not mentioned in this paper.\n",
    "     * $\\lambda$ is set to None.\n",
    "* The exponentia ldecay rate is 0.9 in this implementaion.\n",
    "\n",
    "These parameters are declared in the following section:"
   ]
  },
  {
   "cell_type": "code",
   "execution_count": 14,
   "metadata": {
    "collapsed": true,
    "deletable": true,
    "editable": true
   },
   "outputs": [],
   "source": [
    "batch_size = 50\n",
    "momentum_factor = 0.7\n",
    "start_learning_rate = 0.1\n",
    "decay_rate = 0.9\n",
    "rlambda = None"
   ]
  },
  {
   "cell_type": "markdown",
   "metadata": {
    "deletable": true,
    "editable": true
   },
   "source": [
    "### 5.1 Setup"
   ]
  },
  {
   "cell_type": "markdown",
   "metadata": {
    "deletable": true,
    "editable": true
   },
   "source": [
    "Before we start training, the dataset should be splited. ``sklearn.model_selection.train_test_split`` can be used to achieve this. Remember to set the random state!"
   ]
  },
  {
   "cell_type": "code",
   "execution_count": 15,
   "metadata": {
    "collapsed": true,
    "deletable": true,
    "editable": true
   },
   "outputs": [],
   "source": [
    "X_train, X_test, y_train, y_test = train_test_split(dataset, targets, random_state=SEED, test_size=0.1)"
   ]
  },
  {
   "cell_type": "markdown",
   "metadata": {
    "deletable": true,
    "editable": true
   },
   "source": [
    "Now we can begin the training. Initialize a new ``graph`` and use it as the default graph. Then we get the infered network."
   ]
  },
  {
   "cell_type": "code",
   "execution_count": 16,
   "metadata": {
    "collapsed": false,
    "deletable": true,
    "editable": true
   },
   "outputs": [
    {
     "name": "stdout",
     "output_type": "stream",
     "text": [
      "-> Inference the MBE-NN-M model ...\n",
      "\n",
      "Conv1/Tanh            : [50, 1, 2380, 40]\n",
      "Conv2/Tanh            : [50, 1, 2380, 70]\n",
      "Conv3/Tanh            : [50, 1, 2380, 60]\n",
      "Conv4/Softplus        : [50, 1, 2380, 2]\n",
      "Conv5/Softplus        : [50, 1, 2, 400]\n",
      "Conv6/Softplus        : [50, 1, 2, 20]\n",
      "Pool7/AvgPool         : [50, 1, 1, 1]\n",
      "\n"
     ]
    }
   ],
   "source": [
    "width = 1\n",
    "height = comb(NUM_SITES, 4, exact=True)\n",
    "depth = 6\n",
    "\n",
    "X_batch = tf.placeholder(tf_type, [batch_size, width, height, depth])\n",
    "y_batch = tf.placeholder(tf_type, [batch_size, 1])\n",
    "\n",
    "estimates, parameters = inference(X_batch, height)"
   ]
  },
  {
   "cell_type": "markdown",
   "metadata": {
    "deletable": true,
    "editable": true
   },
   "source": [
    "Add helper functions to visualize the graph. These codes are copied from the official example **deepdream**. Uncomment the last line can display the network graph inline."
   ]
  },
  {
   "cell_type": "code",
   "execution_count": 17,
   "metadata": {
    "collapsed": false,
    "deletable": true,
    "editable": true
   },
   "outputs": [],
   "source": [
    "def strip_consts(graph_def, max_const_size=32):\n",
    "    \"\"\"Strip large constant values from graph_def.\"\"\"\n",
    "    strip_def = tf.GraphDef()\n",
    "    for n0 in graph_def.node:\n",
    "        n = strip_def.node.add() \n",
    "        n.MergeFrom(n0)\n",
    "        if n.op == 'Const':\n",
    "            tensor = n.attr['value'].tensor\n",
    "            size = len(tensor.tensor_content)\n",
    "            if size > max_const_size:\n",
    "                tensor.tensor_content = \"<stripped %d bytes>\"%size\n",
    "    return strip_def\n",
    "\n",
    "def show_graph(graph_def, max_const_size=32):\n",
    "    \"\"\"Visualize TensorFlow graph.\"\"\"\n",
    "    if hasattr(graph_def, 'as_graph_def'):\n",
    "        graph_def = graph_def.as_graph_def()\n",
    "    strip_def = strip_consts(graph_def, max_const_size=max_const_size)\n",
    "    code = \"\"\"\n",
    "        <script src=\"//cdnjs.cloudflare.com/ajax/libs/polymer/0.3.3/platform.js\"></script>\n",
    "        <script>\n",
    "          function load() {{\n",
    "            document.getElementById(\"{id}\").pbtxt = {data};\n",
    "          }}\n",
    "        </script>\n",
    "        <link rel=\"import\" href=\"https://tensorboard.appspot.com/tf-graph-basic.build.html\" onload=load()>\n",
    "        <div style=\"height:600px\">\n",
    "          <tf-graph-basic id=\"{id}\"></tf-graph-basic>\n",
    "        </div>\n",
    "    \"\"\".format(data=repr(str(strip_def)), id='graph'+str(np.random.rand()))\n",
    "\n",
    "    iframe = \"\"\"\n",
    "        <iframe seamless style=\"width:1200px;height:620px;border:0\" srcdoc=\"{}\"></iframe>\n",
    "    \"\"\".format(code.replace('\"', '&quot;'))\n",
    "    display(HTML(iframe))\n",
    "\n",
    "# Uncomment the following line to visualize the graph in this notebook. \n",
    "# show_graph(graph.as_graph_def())"
   ]
  },
  {
   "cell_type": "markdown",
   "metadata": {
    "deletable": true,
    "editable": true
   },
   "source": [
    "Setup the total loss."
   ]
  },
  {
   "cell_type": "code",
   "execution_count": 18,
   "metadata": {
    "collapsed": false,
    "deletable": true,
    "editable": true
   },
   "outputs": [],
   "source": [
    "with tf.name_scope(\"loss\"):\n",
    "  rms = tf.sqrt(tf.losses.mean_squared_error(estimates, y_batch))\n",
    "  tf.summary.scalar(\"rms\", rms)\n",
    "  if rlambda is not None:\n",
    "    with tf.name_scope(\"regularizers\"):\n",
    "      r = rlambda * tf.nn.l2_loss(parameters[0])\n",
    "      for params in parameters:\n",
    "        r += rlambda * tf.nn.l2_loss(params)\n",
    "      tf.summary.scalar(\"regularizer\", r)\n",
    "    loss = rms + r\n",
    "    tf.summary.scalar(\"loss\", loss)\n",
    "  else:\n",
    "    loss = rms"
   ]
  },
  {
   "cell_type": "markdown",
   "metadata": {
    "deletable": true,
    "editable": true
   },
   "source": [
    "Setup the learning rate decay and the momentum optimizer."
   ]
  },
  {
   "cell_type": "code",
   "execution_count": 19,
   "metadata": {
    "collapsed": false,
    "deletable": true,
    "editable": true
   },
   "outputs": [],
   "source": [
    "batch = tf.Variable(0, dtype=tf.int32)\n",
    "learning_rate = tf.train.exponential_decay(\n",
    "  start_learning_rate, \n",
    "  tf.multiply(batch, batch_size), \n",
    "  len(X_train), \n",
    "  decay_rate,\n",
    ")\n",
    "\n",
    "# Use the momentum optimizer\n",
    "trainer = tf.train.MomentumOptimizer(learning_rate, momentum_factor)\n",
    "optimizer = trainer.minimize(loss, global_step=batch)\n",
    "\n",
    "# Merge all the summaries.\n",
    "merged = tf.summary.merge_all()\n",
    "writer = tf.summary.FileWriter(logdir=\"./\", graph=graph)"
   ]
  },
  {
   "cell_type": "markdown",
   "metadata": {
    "deletable": true,
    "editable": true
   },
   "source": [
    "### 5.2 Train"
   ]
  },
  {
   "cell_type": "markdown",
   "metadata": {
    "deletable": true,
    "editable": true
   },
   "source": [
    "These variabls control the key settings of a training."
   ]
  },
  {
   "cell_type": "code",
   "execution_count": 20,
   "metadata": {
    "collapsed": true,
    "deletable": true,
    "editable": true
   },
   "outputs": [],
   "source": [
    "num_epochs = 40\n",
    "log_frequency = 100\n",
    "eval_frequency = 200\n",
    "save_frequency = 500"
   ]
  },
  {
   "cell_type": "markdown",
   "metadata": {
    "deletable": true,
    "editable": true
   },
   "source": [
    "Setup the saving path and the checkpoint file so that we can reuse this model later."
   ]
  },
  {
   "cell_type": "code",
   "execution_count": 21,
   "metadata": {
    "collapsed": false,
    "deletable": true,
    "editable": true
   },
   "outputs": [],
   "source": [
    "save_path = \"./saves\"\n",
    "chk_file = join(save_path, \"c9h7n.ckpt\")\n",
    "if not isdir(save_path):\n",
    "  makedirs(save_path)"
   ]
  },
  {
   "cell_type": "markdown",
   "metadata": {
    "deletable": true,
    "editable": true
   },
   "source": [
    "Small utility function to evaluate a dataset by feeding batches of data to ``{eval_dataset}`` and pulling the results \n",
    "from ``{eval_values}``. Saves memory and enables this to run on smaller GPUs."
   ]
  },
  {
   "cell_type": "code",
   "execution_count": 22,
   "metadata": {
    "collapsed": false,
    "deletable": true,
    "editable": true
   },
   "outputs": [],
   "source": [
    "def eval_in_batches(data):\n",
    "  \"\"\" Get all predictions for a dataset by running it in small batches. \"\"\"\n",
    "  size = data.shape[0]\n",
    "  if size < batch_size:\n",
    "    raise ValueError(\"batch size for evals larger than dataset: %d\" % size)\n",
    "  eval_values = np.ndarray(shape=(size, 1), dtype=np_type)\n",
    "  for i, inext in brange(0, size, batch_size):\n",
    "    eval_values[i: inext] = sess.run(\n",
    "      estimates,\n",
    "      feed_dict={X_batch: data[i: inext, ...]})\n",
    "  return eval_values"
   ]
  },
  {
   "cell_type": "markdown",
   "metadata": {
    "deletable": true,
    "editable": true
   },
   "source": [
    "Finally we invoke a new session and start this training."
   ]
  },
  {
   "cell_type": "code",
   "execution_count": 23,
   "metadata": {
    "collapsed": false,
    "deletable": true,
    "editable": true
   },
   "outputs": [
    {
     "name": "stdout",
     "output_type": "stream",
     "text": [
      "Initialized!\n",
      "\n",
      "Training Samples      : 4500\n",
      "Batch Size            : 50\n",
      "Number of Epochs      : 40\n",
      "Log Frequency         : 100\n",
      "Eval Frequency        : 200\n",
      "\n",
      "Step      0 (epoch  0.00)\n",
      "Minibatch loss        : 0.553566\n",
      "Minibatch time        : 0.602 s\n",
      "Validation error      : 0.491350\n",
      "learning rate         : 0.099883\n",
      "Time since beginning  : 1.761 s\n",
      "\n",
      "Step    100 (epoch  1.11)\n",
      "Minibatch loss        : 0.152868\n",
      "Minibatch time        : 42.790 s\n",
      "Step    200 (epoch  2.22)\n",
      "Minibatch loss        : 0.167433\n",
      "Minibatch time        : 34.142 s\n",
      "Validation error      : 0.166750\n",
      "learning rate         : 0.079033\n",
      "Time since beginning  : 78.569 s\n",
      "\n",
      "Step    300 (epoch  3.33)\n",
      "Minibatch loss        : 0.177509\n",
      "Minibatch time        : 33.642 s\n",
      "Step    400 (epoch  4.44)\n",
      "Minibatch loss        : 0.162442\n",
      "Minibatch time        : 33.399 s\n",
      "Validation error      : 0.160923\n",
      "learning rate         : 0.062535\n",
      "Time since beginning  : 145.853 s\n",
      "\n",
      "Step    500 (epoch  5.56)\n",
      "Minibatch loss        : 0.155950\n",
      "Minibatch time        : 36.119 s\n",
      "Step    600 (epoch  6.67)\n",
      "Minibatch loss        : 0.143903\n",
      "Minibatch time        : 36.862 s\n",
      "Validation error      : 0.163510\n",
      "learning rate         : 0.049481\n",
      "Time since beginning  : 218.595 s\n",
      "\n",
      "Step    700 (epoch  7.78)\n",
      "Minibatch loss        : 0.127906\n",
      "Minibatch time        : 33.069 s\n",
      "Step    800 (epoch  8.89)\n",
      "Minibatch loss        : 0.148754\n",
      "Minibatch time        : 33.565 s\n",
      "Validation error      : 0.147799\n",
      "learning rate         : 0.039152\n",
      "Time since beginning  : 285.374 s\n",
      "\n",
      "Step    900 (epoch 10.00)\n",
      "Minibatch loss        : 0.156390\n",
      "Minibatch time        : 35.069 s\n",
      "Step   1000 (epoch 11.11)\n",
      "Minibatch loss        : 0.146952\n",
      "Minibatch time        : 34.827 s\n",
      "Validation error      : 0.155278\n",
      "learning rate         : 0.030980\n",
      "Time since beginning  : 355.482 s\n",
      "\n",
      "Step   1100 (epoch 12.22)\n",
      "Minibatch loss        : 0.140402\n",
      "Minibatch time        : 38.289 s\n",
      "Step   1200 (epoch 13.33)\n",
      "Minibatch loss        : 0.145824\n",
      "Minibatch time        : 33.873 s\n",
      "Validation error      : 0.148357\n",
      "learning rate         : 0.024513\n",
      "Time since beginning  : 427.384 s\n",
      "\n",
      "Step   1300 (epoch 14.44)\n",
      "Minibatch loss        : 0.129824\n",
      "Minibatch time        : 34.238 s\n",
      "Step   1400 (epoch 15.56)\n",
      "Minibatch loss        : 0.141222\n",
      "Minibatch time        : 34.878 s\n",
      "Validation error      : 0.149376\n",
      "learning rate         : 0.019396\n",
      "Time since beginning  : 496.648 s\n",
      "\n",
      "Step   1500 (epoch 16.67)\n",
      "Minibatch loss        : 0.143540\n",
      "Minibatch time        : 36.406 s\n",
      "Step   1600 (epoch 17.78)\n",
      "Minibatch loss        : 0.122711\n",
      "Minibatch time        : 39.086 s\n",
      "Validation error      : 0.150224\n",
      "learning rate         : 0.015347\n",
      "Time since beginning  : 571.897 s\n",
      "\n",
      "Step   1700 (epoch 18.89)\n",
      "Minibatch loss        : 0.132427\n",
      "Minibatch time        : 32.787 s\n",
      "Step   1800 (epoch 20.00)\n",
      "Minibatch loss        : 0.148935\n",
      "Minibatch time        : 32.397 s\n",
      "Validation error      : 0.152565\n",
      "learning rate         : 0.012143\n",
      "Time since beginning  : 637.396 s\n",
      "\n",
      "Step   1900 (epoch 21.11)\n",
      "Minibatch loss        : 0.163261\n",
      "Minibatch time        : 35.351 s\n",
      "Step   2000 (epoch 22.22)\n",
      "Minibatch loss        : 0.134792\n",
      "Minibatch time        : 34.251 s\n",
      "Validation error      : 0.147121\n",
      "learning rate         : 0.009609\n",
      "Time since beginning  : 706.654 s\n",
      "\n",
      "Step   2100 (epoch 23.33)\n",
      "Minibatch loss        : 0.128015\n",
      "Minibatch time        : 37.510 s\n",
      "Step   2200 (epoch 24.44)\n",
      "Minibatch loss        : 0.133091\n",
      "Minibatch time        : 33.052 s\n",
      "Validation error      : 0.147081\n",
      "learning rate         : 0.007603\n",
      "Time since beginning  : 777.299 s\n",
      "\n",
      "Step   2300 (epoch 25.56)\n",
      "Minibatch loss        : 0.132072\n",
      "Minibatch time        : 34.113 s\n",
      "Step   2400 (epoch 26.67)\n",
      "Minibatch loss        : 0.154867\n",
      "Minibatch time        : 32.252 s\n",
      "Validation error      : 0.148688\n",
      "learning rate         : 0.006016\n",
      "Time since beginning  : 843.641 s\n",
      "\n",
      "Step   2500 (epoch 27.78)\n",
      "Minibatch loss        : 0.111750\n",
      "Minibatch time        : 34.490 s\n",
      "Step   2600 (epoch 28.89)\n",
      "Minibatch loss        : 0.120317\n",
      "Minibatch time        : 38.527 s\n",
      "Validation error      : 0.147921\n",
      "learning rate         : 0.004760\n",
      "Time since beginning  : 917.118 s\n",
      "\n",
      "Step   2700 (epoch 30.00)\n",
      "Minibatch loss        : 0.152311\n",
      "Minibatch time        : 34.747 s\n",
      "Step   2800 (epoch 31.11)\n",
      "Minibatch loss        : 0.160216\n",
      "Minibatch time        : 34.807 s\n",
      "Validation error      : 0.148007\n",
      "learning rate         : 0.003766\n",
      "Time since beginning  : 986.346 s\n",
      "\n",
      "Step   2900 (epoch 32.22)\n",
      "Minibatch loss        : 0.157733\n",
      "Minibatch time        : 33.178 s\n",
      "Step   3000 (epoch 33.33)\n",
      "Minibatch loss        : 0.157719\n",
      "Minibatch time        : 36.365 s\n",
      "Validation error      : 0.146984\n",
      "learning rate         : 0.002980\n",
      "Time since beginning  : 1055.847 s\n",
      "\n",
      "Step   3100 (epoch 34.44)\n",
      "Minibatch loss        : 0.126363\n",
      "Minibatch time        : 41.713 s\n",
      "Step   3200 (epoch 35.56)\n",
      "Minibatch loss        : 0.134714\n",
      "Minibatch time        : 33.246 s\n",
      "Validation error      : 0.149103\n",
      "learning rate         : 0.002358\n",
      "Time since beginning  : 1130.788 s\n",
      "\n",
      "Step   3300 (epoch 36.67)\n",
      "Minibatch loss        : 0.141744\n",
      "Minibatch time        : 37.069 s\n",
      "Step   3400 (epoch 37.78)\n",
      "Minibatch loss        : 0.140757\n",
      "Minibatch time        : 43.482 s\n",
      "Validation error      : 0.146969\n",
      "learning rate         : 0.001866\n",
      "Time since beginning  : 1211.692 s\n",
      "\n",
      "Step   3500 (epoch 38.89)\n",
      "Minibatch loss        : 0.134312\n",
      "Minibatch time        : 34.479 s\n",
      "\n",
      "-> Test error         : 0.148891\n",
      "\n"
     ]
    },
    {
     "data": {
      "text/plain": [
       "'./saves/c9h7n.ckpt-3600'"
      ]
     },
     "execution_count": 23,
     "metadata": {},
     "output_type": "execute_result"
    }
   ],
   "source": [
    "# Build an initialization operation.\n",
    "tf.global_variables_initializer().run()\n",
    "\n",
    "# Register a model saver\n",
    "saver = tf.train.Saver()\n",
    "\n",
    "print(\"Initialized!\")\n",
    "print(\"\")\n",
    "print(\"Training Samples      :\", len(X_train))\n",
    "print(\"Batch Size            :\", batch_size)\n",
    "print(\"Number of Epochs      :\", num_epochs)\n",
    "print(\"Log Frequency         :\", log_frequency)\n",
    "print(\"Eval Frequency        :\", eval_frequency)\n",
    "print(\"\")\n",
    "\n",
    "tic = time.time()\n",
    "tstart = time.time()\n",
    "\n",
    "# Loop through training steps.\n",
    "for step in range(int(num_epochs * len(X_train)) // batch_size):\n",
    "  # Compute the offset of the current minibatch in the data.\n",
    "  # The dataset was already shuffled in assignment 1 so we do not need to\n",
    "  # randomize it.\n",
    "  offset = (step * batch_size) % (len(X_train) - batch_size)\n",
    "  batch_dataset = X_train[offset: (offset + batch_size), ...]\n",
    "  batch_targets = y_train[offset: (offset + batch_size), ...]\n",
    "  # Build the feed dict to feed previous defined placeholders.\n",
    "  feed_dict = {X_batch: batch_dataset, y_batch: batch_targets}\n",
    "  # Run the optimization session.\n",
    "  sess.run([optimizer], feed_dict=feed_dict)\n",
    "  # Save the training accuracy every 100 steps.\n",
    "  if step % log_frequency == 0:\n",
    "    summary, error = sess.run([merged, loss], feed_dict=feed_dict)\n",
    "    elapsed_time = time.time() - tic\n",
    "    tic = time.time()\n",
    "    print(\"Step %6d (epoch %5.2f)\" % (\n",
    "      step, float(step) * batch_size / len(X_train)))\n",
    "    print(\"Minibatch loss        : %.6f\" % error)\n",
    "    print(\"Minibatch time        : %.3f s\" % elapsed_time)\n",
    "    writer.add_summary(summary, step)\n",
    "    # Every `eval_frequency` steps we shall take several extra operations,\n",
    "    # including printing the validation accuracy and updating the learning\n",
    "    # rate.\n",
    "    if step % eval_frequency == 0:\n",
    "      lr = sess.run(learning_rate)\n",
    "      valid_error = root_mean_squred(y_test - eval_in_batches(X_test))\n",
    "      print(\"Validation error      : %.6f\" % valid_error)\n",
    "      print(\"learning rate         : %.6f\" % lr)\n",
    "      print(\"Time since beginning  : %.3f s\" % (time.time() - tstart))\n",
    "      print(\"\")\n",
    "    sys.stdout.flush()\n",
    "  # Save the trained model every 1000 steps.\n",
    "  if step % save_frequency == 0:\n",
    "    saver.save(sess, save_path=chk_file, global_step=batch)\n",
    "# Close the writer\n",
    "writer.close()\n",
    "# Finally the training is completed. Now let me see if this MBE model can\n",
    "# really estimate DFT energies.\n",
    "print(\"\")\n",
    "print(\"-> Test error         : %.6f\" % root_mean_squred(y_test - eval_in_batches(X_test)))\n",
    "print(\"\")\n",
    "# Do not forget to save the model one last time!\n",
    "saver.save(sess, save_path=chk_file, global_step=batch)"
   ]
  },
  {
   "cell_type": "markdown",
   "metadata": {
    "deletable": true,
    "editable": true
   },
   "source": [
    "### 5.3 Figures"
   ]
  },
  {
   "cell_type": "markdown",
   "metadata": {
    "deletable": true,
    "editable": true
   },
   "source": [
    "In this section we will display some figures to analyze the results."
   ]
  },
  {
   "cell_type": "code",
   "execution_count": 34,
   "metadata": {
    "collapsed": true,
    "deletable": true,
    "editable": true
   },
   "outputs": [],
   "source": [
    "y_train_est = eval_in_batches(X_train)\n",
    "train_orders = np.argsort(y_train.flatten())\n",
    "\n",
    "y_test_est = eval_in_batches(X_test)\n",
    "test_orders = np.argsort(y_test.flatten())"
   ]
  },
  {
   "cell_type": "code",
   "execution_count": 37,
   "metadata": {
    "collapsed": false,
    "deletable": true,
    "editable": true
   },
   "outputs": [
    {
     "data": {
      "text/plain": [
       "<matplotlib.text.Text at 0x13fb5e630>"
      ]
     },
     "execution_count": 37,
     "metadata": {},
     "output_type": "execute_result"
    },
    {
     "data": {
      "image/png": "[encoded data removed]",
      "text/plain": [
       "<matplotlib.figure.Figure at 0x13e4bec50>"
      ]
     },
     "metadata": {},
     "output_type": "display_data"
    }
   ],
   "source": [
    "plt.rcParams[\"figure.figsize\"] = [15, 12]\n",
    "\n",
    "sns.set_style(\"white\")\n",
    "fig, (ax1, ax2) = plt.subplots(2, 1)\n",
    "ax1.plot(y_train[train_orders], \"r.\")\n",
    "ax1.plot(y_train_est[train_orders], \"g.\")\n",
    "ax1.set_ylabel(\"Scaled Energy (eV)\", fontsize=15)\n",
    "ax1.set_title(\"Training Data\", fontsize=18)\n",
    "\n",
    "ax2.plot(y_test[test_orders], \"r.\")\n",
    "ax2.plot(y_test_est[test_orders], \"g.\")\n",
    "ax2.set_xlabel(\"Atomic Index\", fontsize=15)\n",
    "ax2.set_ylabel(\"Scaled Energy (eV)\", fontsize=15)\n",
    "ax2.set_title(\"Testing Data\", fontsize=18)"
   ]
  },
  {
   "cell_type": "code",
   "execution_count": null,
   "metadata": {
    "collapsed": true,
    "deletable": true,
    "editable": true
   },
   "outputs": [],
   "source": []
  }
 ],
 "metadata": {
  "kernelspec": {
   "display_name": "Python 3",
   "language": "python",
   "name": "python3"
  },
  "language_info": {
   "codemirror_mode": {
    "name": "ipython",
    "version": 3
   },
   "file_extension": ".py",
   "mimetype": "text/x-python",
   "name": "python",
   "nbconvert_exporter": "python",
   "pygments_lexer": "ipython3",
   "version": "3.6.0"
  }
 },
 "nbformat": 4,
 "nbformat_minor": 2
}
