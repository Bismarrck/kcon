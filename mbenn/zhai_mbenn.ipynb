{
 "cells": [
  {
   "cell_type": "code",
   "execution_count": 1,
   "metadata": {
    "collapsed": true,
    "deletable": true,
    "editable": true
   },
   "outputs": [],
   "source": [
    "%matplotlib inline"
   ]
  },
  {
   "cell_type": "markdown",
   "metadata": {
    "deletable": true,
    "editable": true
   },
   "source": [
    "# Xin Chen's implementation of the MBE-NN network"
   ]
  },
  {
   "cell_type": "markdown",
   "metadata": {
    "deletable": true,
    "editable": true
   },
   "source": [
    "* Author: Xin Chen\n",
    "* Email: Bismarrck@me.com\n",
    "\n",
    "This jupyter notebook is used to repeat the work of http://doi.org/10.1021/acs.jctc.6b00994. \n",
    "\n",
    "The test cluster is $\\textrm{C}_{9}\\textrm{H}_{7}\\textrm{N}$. The reference energies are calculated with DFTB.\n",
    "\n",
    "<img src=\"./C9H7N.png\" alt=\"network\" style=\"width: 600px;\"/>"
   ]
  },
  {
   "cell_type": "markdown",
   "metadata": {
    "deletable": true,
    "editable": true
   },
   "source": [
    "## 1. Overview"
   ]
  },
  {
   "cell_type": "markdown",
   "metadata": {
    "deletable": true,
    "editable": true
   },
   "source": [
    "The structure of the deep convolutional neural network for the $Pt_{13}$ cluster is as follows:\n",
    "\n",
    "<img src=\"./convnet.jpg\" alt=\"network\" style=\"width: 800px;\"/>\n",
    "\n",
    "The input features are transformed interatomic distances. The output node represents the estimated DFT energies.\n",
    "The detailed explanantion of this convolutionary neural network will be given in the following section **Inference**."
   ]
  },
  {
   "cell_type": "markdown",
   "metadata": {
    "deletable": true,
    "editable": true
   },
   "source": [
    "## 2. Declarations"
   ]
  },
  {
   "cell_type": "markdown",
   "metadata": {
    "deletable": true,
    "editable": true
   },
   "source": [
    "In this section we shall import python modules and declare global constants."
   ]
  },
  {
   "cell_type": "code",
   "execution_count": 57,
   "metadata": {
    "collapsed": false,
    "deletable": true,
    "editable": true
   },
   "outputs": [],
   "source": [
    "import tensorflow as tf\n",
    "import numpy as np\n",
    "import seaborn as sns\n",
    "import re\n",
    "import h5py\n",
    "import sys\n",
    "import time\n",
    "import hashlib\n",
    "import shutil\n",
    "from fnmatch import fnmatch\n",
    "from itertools import repeat\n",
    "from os.path import isfile, isdir, join, basename, splitext\n",
    "from os import makedirs, listdir\n",
    "from scipy.misc import comb\n",
    "from sklearn.preprocessing import MinMaxScaler\n",
    "from sklearn.model_selection import train_test_split\n",
    "from sklearn.metrics import pairwise_distances, r2_score\n",
    "from itertools import combinations\n",
    "from matplotlib import pyplot as plt\n",
    "from IPython.display import clear_output, Image, display, HTML\n",
    "from tensorflow.python.framework import constant_op\n",
    "from tensorflow.python.framework import ops\n",
    "from tensorflow.python.ops import control_flow_ops\n",
    "from tensorflow.python.ops import math_ops\n",
    "sns.set(font=\"serif\")\n",
    "plt.rcParams[\"figure.figsize\"] = [15, 12]"
   ]
  },
  {
   "cell_type": "code",
   "execution_count": 3,
   "metadata": {
    "collapsed": false,
    "deletable": true,
    "editable": true
   },
   "outputs": [],
   "source": [
    "# The patch size is always 1x1\n",
    "PATCH_SIZE = 1\n",
    "\n",
    "# The HDF5 database file.\n",
    "HDF5_DATABASE_FILE = \"c9h7n.hdf5\"\n",
    "\n",
    "# The dimension of the cluster.\n",
    "NUM_SITES = 17\n",
    "\n",
    "# The total number of structures in the XYZ file should be 209660.\n",
    "XYZ_FILE = \"../datasets/C9H7N.xyz\"\n",
    "TOTAL_SIZE = 5000\n",
    "\n",
    "# Setup the size.\n",
    "LOAD_SIZE = 5000\n",
    "\n",
    "# Setup the random seed.\n",
    "SEED = 235\n",
    "\n",
    "# Setup the precision of floats. \n",
    "tf_type = tf.float32\n",
    "np_type = np.float32\n",
    "\n",
    "# Cuda\n",
    "cuda_on = True"
   ]
  },
  {
   "cell_type": "markdown",
   "metadata": {
    "deletable": true,
    "editable": true
   },
   "source": [
    "The following cell defines the pyykko radii matrix for exponentially scaling interactomic distances. In this $\\textrm{C}_{9}\\textrm{H}_{7}\\textrm{N}$ case, the pyykko bond lengths of C-H, C-N and C-C varys."
   ]
  },
  {
   "cell_type": "code",
   "execution_count": 36,
   "metadata": {
    "collapsed": false,
    "deletable": true,
    "editable": true
   },
   "outputs": [
    {
     "data": {
      "text/plain": [
       "<matplotlib.axes._subplots.AxesSubplot at 0x7efc9966d198>"
      ]
     },
     "execution_count": 36,
     "metadata": {},
     "output_type": "execute_result"
    },
    {
     "data": {
      "image/png": "[encoded data removed]",
      "text/plain": [
       "<matplotlib.figure.Figure at 0x7efc985c4b70>"
      ]
     },
     "metadata": {},
     "output_type": "display_data"
    }
   ],
   "source": [
    "plt.rcParams[\"figure.figsize\"] = [12, 9]\n",
    "factor = 1.5\n",
    "pyykko_radii = {\"N\": 0.71, \"C\": 0.75, \"H\": 0.32}\n",
    "species = [\"N\"] + list(repeat(\"C\", 9)) + list(repeat(\"H\", 7))\n",
    "rr = np.asarray([pyykko_radii[specie] for specie in species])[:, np.newaxis]\n",
    "lmat = factor * (rr + rr.T).flatten()\n",
    "sns.heatmap(lmat.reshape((17, 17)), xticklabels=species, yticklabels=species)"
   ]
  },
  {
   "cell_type": "markdown",
   "metadata": {
    "deletable": true,
    "editable": true
   },
   "source": [
    "Invoke the interactive session"
   ]
  },
  {
   "cell_type": "code",
   "execution_count": 5,
   "metadata": {
    "collapsed": false,
    "deletable": true,
    "editable": true
   },
   "outputs": [],
   "source": [
    "graph = tf.Graph()\n",
    "sess = tf.InteractiveSession(graph=graph)"
   ]
  },
  {
   "cell_type": "markdown",
   "metadata": {
    "deletable": true,
    "editable": true
   },
   "source": [
    "Some global helper functions are declared here."
   ]
  },
  {
   "cell_type": "code",
   "execution_count": 6,
   "metadata": {
    "collapsed": true,
    "deletable": true,
    "editable": true
   },
   "outputs": [],
   "source": [
    "def brange(start, stop, batchsize):\n",
    "  \"\"\"\n",
    "  Range from `start` to `stop` given a batch size and return the start and stop of each batch.\n",
    "  \n",
    "  Args:\n",
    "    start: int, the start number of a sequence.\n",
    "    stop: int, the end number of a sequence.\n",
    "    batchsize: int, the size of each batch.\n",
    "  \n",
    "  \"\"\"\n",
    "  istart = start\n",
    "  while istart < stop:\n",
    "    istop = min(istart + batchsize, stop)\n",
    "    yield istart, istop\n",
    "    istart = istop\n",
    "\n",
    "\n",
    "def exponential(x, l=4.0):\n",
    "  \"\"\"\n",
    "  Exponentially scale the input value(s).  \n",
    "  \"\"\"\n",
    "  return np.exp(-x / l)\n",
    "\n",
    "\n",
    "def md5(filename):\n",
    "  \"\"\" \n",
    "  Return the md5 checksum of the given file.\n",
    "\n",
    "  Args:\n",
    "    filename: a file.\n",
    "\n",
    "  Returns:\n",
    "    checksum: the MD5 checksum of the file.\n",
    "\n",
    "  \"\"\"\n",
    "  hash_md5 = hashlib.md5()\n",
    "  with open(filename, \"rb\") as f:\n",
    "    for chunk in iter(lambda: f.read(4096), b\"\"):\n",
    "      hash_md5.update(chunk)\n",
    "  return hash_md5.hexdigest()\n",
    "\n",
    "\n",
    "def root_mean_squred(x):\n",
    "  \"\"\"\n",
    "  Return the root mean squared of the given array.\n",
    "  \"\"\"\n",
    "  return np.sqrt(np.mean(np.square(x)))\n",
    "\n",
    "\n",
    "def mean_abs_error(y_true, y_pred):\n",
    "  \"\"\"\n",
    "  Return the mean absolute error.\n",
    "  \"\"\"\n",
    "  return np.mean(np.abs(y_true - y_pred))"
   ]
  },
  {
   "cell_type": "markdown",
   "metadata": {
    "deletable": true,
    "editable": true
   },
   "source": [
    "## 3. Inference"
   ]
  },
  {
   "cell_type": "markdown",
   "metadata": {
    "deletable": true,
    "editable": true
   },
   "source": [
    "This convnet is a slightly different from normal convolutionary neural networks. Suppose N is the batch size:\n",
    "\n",
    "* The shape of the input tensor is: $[N, 1, C_{N}^{k}, C_{k}^{2}]$\n",
    "* The **k** defines the many-body expansion. In this paper, k is selected to be 4.\n",
    "* The patch (kernel) is always 1x1.\n",
    "* The padding scheme is 'SAME' and the strides are 1 in both directions.\n",
    "* A shape transpose action should be taken between layer 4 and 5.\n"
   ]
  },
  {
   "cell_type": "markdown",
   "metadata": {
    "deletable": true,
    "editable": true
   },
   "source": [
    "In this section we define some local helper functions."
   ]
  },
  {
   "cell_type": "code",
   "execution_count": 7,
   "metadata": {
    "collapsed": true,
    "deletable": true,
    "editable": true
   },
   "outputs": [],
   "source": [
    "def variable_summaries(tensor):\n",
    "  \"\"\"\n",
    "  Attach a lot of summaries to a Tensor (for TensorBoard visualization).\n",
    "\n",
    "  Args:\n",
    "    tensor: a Tensor.\n",
    "\n",
    "  \"\"\"\n",
    "  with tf.name_scope('summaries'):\n",
    "    mean = tf.reduce_mean(tensor)\n",
    "    tf.summary.scalar('mean', mean)\n",
    "    with tf.name_scope('stddev'):\n",
    "      stddev = tf.sqrt(tf.reduce_mean(tf.square(tf.subtract(tensor, mean))))\n",
    "      tf.summary.scalar('stddev', stddev)\n",
    "    tf.summary.scalar('max', tf.reduce_max(tensor))\n",
    "    tf.summary.scalar('min', tf.reduce_min(tensor))\n",
    "    tf.summary.histogram('histogram', tensor)\n",
    "\n",
    "    \n",
    "def print_activations(t):\n",
    "  \"\"\"\n",
    "  Print the name and shape of the input Tensor.\n",
    "\n",
    "  Args:\n",
    "    t: a Tensor.\n",
    "\n",
    "  \"\"\"\n",
    "  print(\"%-21s : %s\" % (t.op.name, t.get_shape().as_list()))"
   ]
  },
  {
   "cell_type": "markdown",
   "metadata": {
    "deletable": true,
    "editable": true
   },
   "source": [
    "All layers except the last in this MBE-NN network are convolutionary layers. The activation functions are ``tanh`` and ``softplus`` and there is no pooling operation before the output layer. So this function is used to create the conv2d layers of this network."
   ]
  },
  {
   "cell_type": "code",
   "execution_count": 8,
   "metadata": {
    "collapsed": true,
    "deletable": true,
    "editable": true
   },
   "outputs": [],
   "source": [
    "def mbe_conv2d(tensor, n_in, n_out, name, activate=tf.tanh, params_track=None, verbose=True):\n",
    "  \"\"\" A lazy inner function to create a `tf.nn.conv2d` Tensor.\n",
    "\n",
    "  Args:\n",
    "    tensor: a Tensor, [index, 1, w, n_in]\n",
    "    n_in: the number of input channels.\n",
    "    n_out: the number of output channels.\n",
    "    name: the name of this layer.\n",
    "    activate: the activation function, defaults to `tf.tanh`.\n",
    "    params_track: append the kernel and the bias into this list if not None.\n",
    "    verbose: print the layer if True\n",
    "\n",
    "  Returns:\n",
    "    activated: a Tensor of activated `tf.nn.conv2d`.\n",
    "\n",
    "  \"\"\"\n",
    "  with tf.name_scope(name):\n",
    "    with tf.name_scope(\"filter\"):\n",
    "      kernel = tf.Variable(\n",
    "        tf.truncated_normal(\n",
    "          [1, 1, n_in, n_out], stddev=0.1, seed=SEED, dtype=tf_type), \n",
    "        name=\"kernel\")\n",
    "      variable_summaries(kernel)\n",
    "    conv = tf.nn.conv2d(\n",
    "      tensor, kernel, [1, 1, 1, 1], padding=\"SAME\", use_cudnn_on_gpu=cuda_on)\n",
    "    with tf.name_scope(\"biases\"):\n",
    "      biases = tf.Variable(\n",
    "        tf.zeros([n_out], dtype=tf_type), name=\"biases\")\n",
    "      variable_summaries(biases)\n",
    "    bias = tf.nn.bias_add(conv, biases)\n",
    "    activated = activate(bias)\n",
    "    if isinstance(params_track, list):\n",
    "      params_track.extend([kernel, biases])\n",
    "    if verbose:\n",
    "      print_activations(activated)\n",
    "  return activated"
   ]
  },
  {
   "cell_type": "markdown",
   "metadata": {
    "deletable": true,
    "editable": true
   },
   "source": [
    "Now we can infer the MBE-NN neural network. "
   ]
  },
  {
   "cell_type": "code",
   "execution_count": 9,
   "metadata": {
    "collapsed": true,
    "deletable": true,
    "editable": true
   },
   "outputs": [],
   "source": [
    "def inference(dataset, cnk, verbose=True):\n",
    "  \"\"\"\n",
    "  Return the infered MBE-NN-M deep neural network model.\n",
    "\n",
    "  Args:\n",
    "    dataset: a 4D dataset Tensor as the input layer, [batch, 1, C(N,k), C(k,2)]\n",
    "    cnk: the value of C(N,k), an int.\n",
    "    verbose: print layer details if True.\n",
    "\n",
    "  Returns:\n",
    "    pool: the last Tensor of `tf.nn.avg_pool`, [batch, 1, 1, 1]\n",
    "\n",
    "  References:\n",
    "    Alexandrova, A. N. (2016). http://doi.org/10.1021/acs.jctc.6b00994\n",
    "\n",
    "  \"\"\"\n",
    "  if verbose:\n",
    "    print(\"-> Inference the MBE-NN-M model ...\")\n",
    "    print(\"\")\n",
    "\n",
    "  parameters = []\n",
    "\n",
    "  # Build the first three MBE layers.\n",
    "  # The shape of the input data tensor is [n, 1, C(N,k), C(k,2)].\n",
    "  # To fit Fk, the NN connection is localized in the second dimension, and the\n",
    "  # layer size of the first dimension is kept fixed. The weights and biases of\n",
    "  # NN connection are shared among different indices of the first dimension,\n",
    "  # so that the fitted function form of Fk is kept consistent among different\n",
    "  # k-body terms. The MBE part is composed of four layers with the following\n",
    "  # sizes:\n",
    "  # (C(N,k), C(k,2)) - (C(N,k), 40) - (C(N,k), 70) - (C(N,k), 60) - (C(N,k), 2).\n",
    "  conv1 = mbe_conv2d(dataset, 6,  48, \"Conv1\", activate=tf.nn.tanh)\n",
    "  conv2 = mbe_conv2d(conv1,  48,  96, \"Conv2\", activate=tf.nn.tanh)\n",
    "  conv3 = mbe_conv2d(conv2,  96,  60, \"Conv3\", activate=tf.nn.tanh)\n",
    "\n",
    "  # Then we build the three mixing layers.\n",
    "  # The mixing part is used to fit G. Within this part the NN connection is\n",
    "  # localized in the first dimension, and the size of the second dimension is\n",
    "  # kept fixed. The parameters of NN connection in this part are shared among\n",
    "  # different indices of the second dimension. In this work, the mixing part is\n",
    "  # composed of two layers with the following sizes:\n",
    "  # (C(N, k), 2) - (40, 2) - (10, 2).\n",
    "  conv4 = mbe_conv2d(conv3, 60, 2, \"Conv4\", activate=tf.nn.softplus)\n",
    "  conv5 = mbe_conv2d(tf.reshape(conv4, (-1, 1, 2, cnk)),\n",
    "                     cnk, 100, \"Conv5\", activate=tf.nn.softplus)\n",
    "  conv6 = mbe_conv2d(conv5, 100, 20, \"Conv6\", activate=tf.nn.softplus)\n",
    "\n",
    "  # The last part is used to transform the output of mixing part to a single\n",
    "  # value, representing the energy. The average-pooling is used, which means\n",
    "  # that we take the average value of all elements in the matrix of the previous\n",
    "  # layer as the final output. In this work, the pooling part is composed of one\n",
    "  # layer of the size:\n",
    "  # (10, 2) - (1).\n",
    "  with tf.name_scope(\"Pool7\"):\n",
    "    pool7 = tf.nn.avg_pool(tf.reshape(conv6, [-1, 20, 2, 1]),\n",
    "                           ksize=[1, 20, 2, 1],\n",
    "                           strides=[1, 1, 1, 1],\n",
    "                           padding=\"VALID\")\n",
    "    if verbose:\n",
    "      print_activations(pool7)\n",
    "      print(\"\")\n",
    "\n",
    "  return tf.reshape(pool7, (-1, 1)), parameters"
   ]
  },
  {
   "cell_type": "markdown",
   "metadata": {
    "deletable": true,
    "editable": true
   },
   "source": [
    "## 4. Preparing the Dataset"
   ]
  },
  {
   "cell_type": "markdown",
   "metadata": {
    "deletable": true,
    "editable": true
   },
   "source": [
    "### 4.1 Transformation"
   ]
  },
  {
   "cell_type": "markdown",
   "metadata": {
    "deletable": true,
    "editable": true
   },
   "source": [
    "It is known that Gaussian coordinates are not suitable to direcly used as input of NN. Therefor, two transformations are adapted here on the input sample data in Cartesian coordiantes $\\{r_{j}\\}$:\n",
    "\n",
    "1. Transform each set of combination indices $\\{j\\}$ ($k=4$) to interatomic distances $\\{d_{i,j}\\}$ ($C_{k}^{2}=6$). \n",
    "2. Dump these interatomic distances with the exponential function: $d_{i,j}' = e^{-d_{i,j}/L}$. $L$ is a fixed parameter and 4.0 was used in this paper.\n",
    "\n",
    "The following figure demonstrates the workflow of these transformations:\n",
    "\n",
    "<img src=\"./input_transform.png\" alt=\"Drawing\" style=\"width: 900px;\"/>\n",
    "\n",
    "The shape of the final input matrix should be: [1, $C_{N}^{k}$, $C_{k}^{2}$]\n",
    "\n",
    "* The width is 1\n",
    "* The height is $C_{N}^{k}$\n",
    "* The depth is $C_{k}^{2}$\n",
    "\n",
    "So that we can use it in a convolutionary neural network!"
   ]
  },
  {
   "cell_type": "code",
   "execution_count": 10,
   "metadata": {
    "collapsed": true,
    "deletable": true,
    "editable": true
   },
   "outputs": [],
   "source": [
    "def transform_coords(coords, chunksize, mapping, l=4.0, verbose=True):\n",
    "  \"\"\"\n",
    "  Transform the cartesian coordinates to input features.\n",
    "\n",
    "  Args:\n",
    "    coords: a 3D array with shape [M,N,3] representing the cartesian coordinates.\n",
    "    chunksize: the transformed array is too large. So save it piece by piece.\n",
    "    mapping: a `h5py.Dataset`, which is a symbolic to the real data on disk.\n",
    "    l: the exponential parameter.\n",
    "    verbose: print the transformation progress if True.\n",
    "\n",
    "  \"\"\"\n",
    "  ntotal, n = coords.shape[:2]\n",
    "  cnkv = comb(n, 4, exact=True)\n",
    "  ck2v = comb(4, 2, exact=True)\n",
    "  cnkl = list(combinations(range(NUM_SITES), 4))\n",
    "  # Using mapping indices can increase the speed 30 times!\n",
    "  indices = np.zeros((ck2v, cnkv), dtype=int)\n",
    "  for i in range(cnkv):\n",
    "    for j, (vi, vj) in enumerate(combinations(cnkl[i], 2)):\n",
    "      indices[j, i] = vi * n + vj\n",
    "  dataset = np.zeros((chunksize, 1, cnkv, ck2v), dtype=np_type)\n",
    "  tic = time.time()\n",
    "  if verbose:\n",
    "    print(\"Transform the cartesian coordinates ...\\n\")\n",
    "  for i, inext in brange(0, ntotal, chunksize):\n",
    "    for j in range(i, inext):\n",
    "      dists = pairwise_distances(coords[j]).flatten()\n",
    "      dists = exponential(dists, l=l)\n",
    "      for k in range(ck2v):\n",
    "        dataset[j - i, 0, :, k] = dists[indices[k]]\n",
    "      del dists\n",
    "    batch_size = inext - i\n",
    "    mapping[i: inext, ...] = dataset[:batch_size, ...]\n",
    "    if verbose:\n",
    "      sys.stdout.write(\"\\rProgress: %7d  /  %7d\" % (inext, ntotal))\n",
    "    dataset.fill(0.0)\n",
    "  del indices\n",
    "  del dataset\n",
    "  if verbose:\n",
    "    print(\"\")\n",
    "    print(\"Total time: %.3f s\\n\" % (time.time() - tic))"
   ]
  },
  {
   "cell_type": "markdown",
   "metadata": {
    "deletable": true,
    "editable": true
   },
   "source": [
    "### 4.2 Parsing"
   ]
  },
  {
   "cell_type": "markdown",
   "metadata": {
    "deletable": true,
    "editable": true
   },
   "source": [
    "Extract the XYZ coordinates and atomic symbols from the raw file. The raw file is not a standard XYZ file, so we need to write a helper function to do this."
   ]
  },
  {
   "cell_type": "code",
   "execution_count": 11,
   "metadata": {
    "collapsed": true,
    "deletable": true,
    "editable": true
   },
   "outputs": [],
   "source": [
    "def extract_xyz(filename, verbose=True):\n",
    "  \"\"\"\n",
    "  Extract symbols, coordiantes and forces (for later usage) from the raw file.\n",
    "  \n",
    "  Args:\n",
    "    filename: a str.\n",
    "    verbose: a bool.\n",
    "\n",
    "  Returns\n",
    "    energies: Array[N,]\n",
    "    coordinates: Array[N, 17, 3], a 3D array containing the atomic coordinates.\n",
    "    forces: Array[N, 17, 3], a 3D array containing the atomic forces.\n",
    "  \n",
    "  \"\"\"\n",
    "  group = \"raw\"\n",
    "  hdb = h5py.File(HDF5_DATABASE_FILE)\n",
    "  if group not in hdb:\n",
    "    hdb.create_group(group)\n",
    "  \n",
    "  try:\n",
    "    energies = hdb[group][\"energies\"][:]\n",
    "    coordinates = hdb[group][\"coordinates\"][:]\n",
    "    forces = hdb[group][\"forces\"][:]\n",
    "\n",
    "  except Exception:\n",
    "    energies = np.zeros((TOTAL_SIZE,), dtype=np_type)\n",
    "    coordinates = np.zeros((TOTAL_SIZE, NUM_SITES, 3), dtype=np_type)\n",
    "    forces = np.zeros((TOTAL_SIZE, NUM_SITES, 3), dtype=np_type)\n",
    "    stage = 0\n",
    "    i = 0\n",
    "    j = 0\n",
    "    energy_patt = re.compile(r\".*energy=([\\d.-]+).*\")\n",
    "    string_patt = re.compile(r\"([A-Za-z]{1,2})\\s+([\\d.-]+)\\s+([\\d.-]+)\\s+([\\d.-]+)\\s+\"\n",
    "                              \"\\d+\\s+\\d.\\d+\\s+\\d+\\s+([\\d.-]+)\\s+([\\d.-]+)\\s+([\\d.-]+)\")\n",
    "    tic = time.time()\n",
    "    if verbose:\n",
    "      sys.stdout.write(\"Extract cartesian coordinates ...\\n\")\n",
    "    with open(filename) as f:\n",
    "      for line in f:\n",
    "        if i == TOTAL_SIZE:\n",
    "          break\n",
    "        l = line.strip()\n",
    "        if l == \"\":\n",
    "          continue\n",
    "        if stage == 0:\n",
    "          if l.isdigit():\n",
    "            n = int(l)\n",
    "            if n != NUM_SITES:\n",
    "              raise ValueError(\"The parsed size %d != NUM_SITES\" % n)\n",
    "            stage += 1\n",
    "        elif stage == 1:\n",
    "          m = energy_patt.search(l)\n",
    "          if m:\n",
    "            energies[i] = float(m.group(1))\n",
    "            stage += 1\n",
    "        elif stage == 2:\n",
    "          m = string_patt.search(l)\n",
    "          if m:\n",
    "            coordinates[i, j, :] = float(m.group(2)), float(m.group(3)), float(m.group(4))\n",
    "            forces[i, j, :] = float(m.group(5)), float(m.group(6)), float(m.group(7))\n",
    "            j += 1\n",
    "            if j == NUM_SITES:\n",
    "              j = 0\n",
    "              stage = 0\n",
    "              i += 1\n",
    "              if verbose and i % 1000 == 0:\n",
    "                sys.stdout.write(\"\\rProgress: %7d  /  %7d\" % (i, TOTAL_SIZE))\n",
    "      if verbose:\n",
    "        print(\"\")\n",
    "        print(\"Total time: %.3f s\\n\" % (time.time() - tic))\n",
    "      hdb[group].create_dataset(\"energies\", data=energies)\n",
    "      hdb[group].create_dataset(\"coordinates\", data=coordinates)\n",
    "      hdb[group].create_dataset(\"forces\", data=forces)\n",
    "  \n",
    "  finally:\n",
    "    hdb.close()\n",
    "  \n",
    "  return energies, coordinates, forces"
   ]
  },
  {
   "cell_type": "code",
   "execution_count": 78,
   "metadata": {
    "collapsed": false,
    "deletable": true,
    "editable": true
   },
   "outputs": [
    {
     "data": {
      "text/plain": [
       "<matplotlib.text.Text at 0x7efc5befae10>"
      ]
     },
     "execution_count": 78,
     "metadata": {},
     "output_type": "execute_result"
    },
    {
     "data": {
      "image/png": "[encoded data removed]",
      "text/plain": [
       "<matplotlib.figure.Figure at 0x7efc600d0f28>"
      ]
     },
     "metadata": {},
     "output_type": "display_data"
    }
   ],
   "source": [
    "energies, coordinates, _ = extract_xyz(XYZ_FILE)\n",
    "ax = sns.distplot(energies)\n",
    "ax.set_xlabel(\"DFTB Energy (eV)\", fontsize=14)\n",
    "ax.set_ylabel(\"Probablity\", fontsize=14)"
   ]
  },
  {
   "cell_type": "markdown",
   "metadata": {
    "deletable": true,
    "editable": true
   },
   "source": [
    "### 4.3 Building"
   ]
  },
  {
   "cell_type": "markdown",
   "metadata": {
    "deletable": true,
    "editable": true
   },
   "source": [
    "Build the dataset and split it into training, validation and testing datasets:\n",
    "\n",
    "1. Initialize a new hdf5 file if it can not be accessed.\n",
    "1. Extract symbols, energies, atomic coordinates and forces from the file.\n",
    "2. Transform and scale the coordinates to build the 4D array $[N, 1, C_{N}^{k}, C_{k}^{2}]$.\n",
    "\n",
    "**Warning: in this case ($\\textrm{C}_{9}\\textrm{H}_{7}\\textrm{N}$), all samples are considered unique!**"
   ]
  },
  {
   "cell_type": "code",
   "execution_count": 13,
   "metadata": {
    "collapsed": true,
    "deletable": true,
    "editable": true
   },
   "outputs": [],
   "source": [
    "def may_build_dataset(filename, l=4.0, verbose=True):\n",
    "  \"\"\"\n",
    "  Build the training, validation and testing dataset and targets from a XYZ file.\n",
    "\n",
    "  Args:\n",
    "    filename: str, a file with CP2K/XYZ format.\n",
    "    l: float, the exponential parameter.\n",
    "    verbose: bool, print the building progress if True.\n",
    "\n",
    "  Returns:\n",
    "    features: a 4D array as the transformed input features.\n",
    "    targets: a 2D array as the scaled ([0, 1]) targets.\n",
    "    scaler: a ``sklearn.preprocessing.MinMaxScaler``.\n",
    "\n",
    "  \"\"\"\n",
    "  # Compute the MD5 checksum of the xyzfile\n",
    "  checksum = md5(filename)\n",
    "\n",
    "  if verbose:\n",
    "    print(\"-> Load the training, validation and testing datasets ...\\n\")\n",
    "\n",
    "  coords, energies = None, None\n",
    "  features, targets = None, None\n",
    "  backup_hdf5 = False\n",
    "  extract_coords = True\n",
    "  build_features = True\n",
    "\n",
    "  # If the HDF5 file is already existed, we try to load dataset and targets from\n",
    "  # the HDF5 file directly if the checksums are equal.\n",
    "  if isfile(HDF5_DATABASE_FILE):\n",
    "    with h5py.File(HDF5_DATABASE_FILE, \"r\") as hdb:\n",
    "      if hdb.attrs.get(\"checksum\", 0) == checksum:\n",
    "        # There are two main groups in this HDF5 file:\n",
    "        # 1. the first group is 'train' where training data and training targets\n",
    "        # are stored.\n",
    "        if \"train\" in hdb:\n",
    "          features = hdb[\"train\"][\"dataset\"][:LOAD_SIZE]\n",
    "          targets = hdb[\"train\"][\"targets\"][:LOAD_SIZE]\n",
    "          build_features = False\n",
    "          extract_coords = False\n",
    "        # 2. the second group is 'unique' where uniquified cartesian coordinates\n",
    "        # and their energies extracted from a CP2K/XYZ file are saved.\n",
    "        elif \"unique\" in hdb.keys():\n",
    "          coords = hdb[\"unique\"][\"coords\"][:]\n",
    "          energies = hdb[\"unique\"][\"energies\"][:]\n",
    "          extract_coords = False\n",
    "      # The checksum are not equal, so we backup the existed HDF5 databse by\n",
    "      # renaming it.\n",
    "      else:\n",
    "        backup_hdf5 = True\n",
    "    if backup_hdf5:\n",
    "      if verbose:\n",
    "        print(\"MD5 checksums mismatched. Build a new dataset.\\n\")\n",
    "      shutil.move(HDF5_DATABASE_FILE, HDF5_DATABASE_FILE + \".bak\")\n",
    "\n",
    "  # Extract the raw cartesian coordinates and energis (eV) from the CP2K/XYZ\n",
    "  # file and save these data into group 'raw'. All data are compressed with the\n",
    "  # lossless gzip filter.\n",
    "  if extract_coords:\n",
    "    energies, coords, _ = extract_xyz(filename, verbose=verbose)\n",
    "    # Remove the duplicates to reduce the dataset\n",
    "    # coords, energies = remove_duplicates(coords, energies, verbose=verbose)\n",
    "    with h5py.File(HDF5_DATABASE_FILE) as hdb:\n",
    "      # Delete the previous group `unique`. This should not happen, but it may\n",
    "      # be inserted manually for debugging.\n",
    "      group = \"unique\"\n",
    "      if group in hdb.keys():\n",
    "        del hdb[group]\n",
    "      hdb.attrs[\"checksum\"] = checksum\n",
    "      hdb.create_group(group)\n",
    "      hdb[group].create_dataset(\"coords\", data=coords, compression=\"gzip\")\n",
    "      hdb[group].create_dataset(\"energies\", data=energies, compression=\"gzip\")\n",
    "  elif verbose:\n",
    "    print(\"Use existed coordinates and energies.\\n\")\n",
    "\n",
    "  # Transform the cartesian coordinates to a 4D dataset. Permute this dataset\n",
    "  # several times and then we split it into three parts: training, validation\n",
    "  # and testing. Save these datasets and their targets into group 'cnn'.\n",
    "  if build_features:\n",
    "    # Allocate the disk space and then write transformed data piece by piece\n",
    "    # because my little computer only has 16GB memory.\n",
    "    shape = [len(energies), 1, comb(NUM_SITES, 4, True), comb(4, 2, True)]\n",
    "    hdb = h5py.File(HDF5_DATABASE_FILE)\n",
    "    try:\n",
    "      group = hdb.require_group(\"train\")\n",
    "      group.create_dataset(\"targets\", data=energies)\n",
    "      mapping = group.create_dataset(\n",
    "        \"dataset\", shape=shape, dtype=np.float32)\n",
    "      # Set the chunksize to 10000.\n",
    "      chunksize = 10000\n",
    "      transform_coords(coords, chunksize, mapping, l=l, verbose=verbose)\n",
    "    except Exception as excp:\n",
    "      del hdb[\"train\"]\n",
    "      raise excp\n",
    "    finally:\n",
    "      hdb.close()\n",
    "    # After the transformation we now load the whole dataset into memory.\n",
    "    with h5py.File(HDF5_DATABASE_FILE) as hdb:\n",
    "      features = hdb[\"train\"][\"dataset\"][:LOAD_SIZE]\n",
    "      targets = np.array(energies[:LOAD_SIZE], copy=False)\n",
    "    if verbose:\n",
    "      print(\"Dataset size (MB)     : \", features.nbytes / 1024 / 1024)\n",
    "      print(\"Targets size (MB)     : \", targets.nbytes / 1024 / 1024)\n",
    "      print(\"\")\n",
    "    del coords\n",
    "  elif verbose:\n",
    "    print(\"Use existed features and targets.\\n\")\n",
    "\n",
    "  # Determine the maximum and minimum energy. The energies should be scaled to\n",
    "  # [0, 1] during training.\n",
    "  scaler = MinMaxScaler()\n",
    "  targets = scaler.fit_transform(np.atleast_2d(targets).T)\n",
    "\n",
    "  if verbose:\n",
    "    print(\"-> Datasets and targets are loaded into memories.\")\n",
    "    print(\"\")\n",
    "  return features, targets, scaler"
   ]
  },
  {
   "cell_type": "code",
   "execution_count": 14,
   "metadata": {
    "collapsed": false,
    "deletable": true,
    "editable": true
   },
   "outputs": [
    {
     "name": "stdout",
     "output_type": "stream",
     "text": [
      "-> Load the training, validation and testing datasets ...\n",
      "\n",
      "MD5 checksums mismatched. Build a new dataset.\n",
      "\n",
      "Extract cartesian coordinates ...\n",
      "Progress:    5000  /     5000\n",
      "Total time: 0.672 s\n",
      "\n",
      "Transform the cartesian coordinates ...\n",
      "\n",
      "Progress:    5000  /     5000\n",
      "Total time: 0.957 s\n",
      "\n",
      "Dataset size (MB)     :  272.369384765625\n",
      "Targets size (MB)     :  0.019073486328125\n",
      "\n",
      "-> Datasets and targets are loaded into memories.\n",
      "\n"
     ]
    }
   ],
   "source": [
    "features, targets, scaler = may_build_dataset(XYZ_FILE, l=lmat)"
   ]
  },
  {
   "cell_type": "markdown",
   "metadata": {
    "deletable": true,
    "editable": true
   },
   "source": [
    "### 4.4 The Distribution"
   ]
  },
  {
   "cell_type": "markdown",
   "metadata": {
    "deletable": true,
    "editable": true
   },
   "source": [
    "The following figure demonstrates the distribution of all values in the dataset."
   ]
  },
  {
   "cell_type": "code",
   "execution_count": 75,
   "metadata": {
    "collapsed": false,
    "deletable": true,
    "editable": true
   },
   "outputs": [
    {
     "data": {
      "text/plain": [
       "<matplotlib.axes._subplots.AxesSubplot at 0x7efc982d3b38>"
      ]
     },
     "execution_count": 75,
     "metadata": {},
     "output_type": "execute_result"
    },
    {
     "data": {
      "image/png": "[encoded data removed]",
      "text/plain": [
       "<matplotlib.figure.Figure at 0x7efc6013a748>"
      ]
     },
     "metadata": {},
     "output_type": "display_data"
    }
   ],
   "source": [
    "sns.distplot(features.flatten()[::20])"
   ]
  },
  {
   "cell_type": "markdown",
   "metadata": {},
   "source": [
    "### 4.5 Preprocessing"
   ]
  },
  {
   "cell_type": "markdown",
   "metadata": {},
   "source": [
    "In this section further data preprocessing procedures will be taken. See http://cs231n.github.io/neural-networks-2/#batchnorm for explanantions.\n",
    "\n",
    "Some important notes:\n",
    "\n",
    "1. **In practice: ** it is very important to zero-center the data.\n",
    "2. **Common pitfall: ** An important point to make about the preprocessing is that any preprocessing statistics (e.g. the data mean) must only be computed on the training data, and then applied to the validation / test data. E.g. computing the mean and subtracting it from every image across the entire dataset and then splitting the data into train/val/test splits would be a mistake. Instead, the mean must be computed only over the training data and then subtracted equally from all splits (train/val/test).\n"
   ]
  },
  {
   "cell_type": "markdown",
   "metadata": {
    "deletable": true,
    "editable": true
   },
   "source": [
    "## 5. Training"
   ]
  },
  {
   "cell_type": "markdown",
   "metadata": {
    "deletable": true,
    "editable": true
   },
   "source": [
    "Now we can start training this network. The training settings defined in this paper are summerized here:\n",
    "\n",
    "* Root-mean-squared loss.\n",
    "* Mini-batch stochastic gradient descent with momentum\n",
    "     * Batch size: 50.\n",
    "     * Momentum factor: 0.7.\n",
    "* Step Decay Function: $s_{i} = s_{0}r/(r + i)$\n",
    "     * $s_0$ is the initial step length, which is 0.1 in this paper.\n",
    "     * r is a predefined factor and r = 60 in this paper.\n",
    "* Regularization factor is not mentioned in this paper.\n",
    "     * $\\lambda$ is set to None.\n",
    "* The exponentia ldecay rate is 0.9 in this implementaion.\n",
    "* The total number of epochs for the reference dataset is 1400.\n",
    "\n",
    "These parameters are declared in the following section:"
   ]
  },
  {
   "cell_type": "code",
   "execution_count": 16,
   "metadata": {
    "collapsed": true,
    "deletable": true,
    "editable": true
   },
   "outputs": [],
   "source": [
    "batch_size = 50\n",
    "momentum_factor = 0.7\n",
    "start_learning_rate = 0.1\n",
    "decay_rate = 0.9\n",
    "decay_factor = 60\n",
    "rlambda = None"
   ]
  },
  {
   "cell_type": "markdown",
   "metadata": {
    "deletable": true,
    "editable": true
   },
   "source": [
    "### 5.1 Setup"
   ]
  },
  {
   "cell_type": "markdown",
   "metadata": {
    "deletable": true,
    "editable": true
   },
   "source": [
    "Before we start training, the dataset should be splited. ``sklearn.model_selection.train_test_split`` can be used to achieve this. Remember to set the random state!"
   ]
  },
  {
   "cell_type": "code",
   "execution_count": 17,
   "metadata": {
    "collapsed": true,
    "deletable": true,
    "editable": true
   },
   "outputs": [],
   "source": [
    "X_train, X_test, y_train, y_test = train_test_split(features, targets, random_state=SEED, test_size=0.1)"
   ]
  },
  {
   "cell_type": "markdown",
   "metadata": {
    "deletable": true,
    "editable": true
   },
   "source": [
    "Now we can begin the training. Initialize a new ``graph`` and use it as the default graph. Then we get the infered network."
   ]
  },
  {
   "cell_type": "code",
   "execution_count": 18,
   "metadata": {
    "collapsed": false,
    "deletable": true,
    "editable": true
   },
   "outputs": [
    {
     "name": "stdout",
     "output_type": "stream",
     "text": [
      "-> Inference the MBE-NN-M model ...\n",
      "\n",
      "Conv1/Tanh            : [50, 1, 2380, 48]\n",
      "Conv2/Tanh            : [50, 1, 2380, 96]\n",
      "Conv3/Tanh            : [50, 1, 2380, 60]\n",
      "Conv4/Softplus        : [50, 1, 2380, 2]\n",
      "Conv5/Softplus        : [50, 1, 2, 100]\n",
      "Conv6/Softplus        : [50, 1, 2, 20]\n",
      "Pool7/AvgPool         : [50, 1, 1, 1]\n",
      "\n"
     ]
    }
   ],
   "source": [
    "width = 1\n",
    "height = comb(NUM_SITES, 4, exact=True)\n",
    "depth = 6\n",
    "\n",
    "X_batch = tf.placeholder(tf_type, [batch_size, width, height, depth])\n",
    "y_batch = tf.placeholder(tf_type, [batch_size, 1])\n",
    "\n",
    "estimates, parameters = inference(X_batch, height)"
   ]
  },
  {
   "cell_type": "markdown",
   "metadata": {
    "deletable": true,
    "editable": true
   },
   "source": [
    "Add helper functions to visualize the graph. These codes are copied from the official example **deepdream**. Uncomment the last line can display the network graph inline."
   ]
  },
  {
   "cell_type": "code",
   "execution_count": 19,
   "metadata": {
    "collapsed": false,
    "deletable": true,
    "editable": true
   },
   "outputs": [],
   "source": [
    "def strip_consts(graph_def, max_const_size=32):\n",
    "    \"\"\"Strip large constant values from graph_def.\"\"\"\n",
    "    strip_def = tf.GraphDef()\n",
    "    for n0 in graph_def.node:\n",
    "        n = strip_def.node.add() \n",
    "        n.MergeFrom(n0)\n",
    "        if n.op == 'Const':\n",
    "            tensor = n.attr['value'].tensor\n",
    "            size = len(tensor.tensor_content)\n",
    "            if size > max_const_size:\n",
    "                tensor.tensor_content = \"<stripped %d bytes>\"%size\n",
    "    return strip_def\n",
    "\n",
    "def show_graph(graph_def, max_const_size=32):\n",
    "    \"\"\"Visualize TensorFlow graph.\"\"\"\n",
    "    if hasattr(graph_def, 'as_graph_def'):\n",
    "        graph_def = graph_def.as_graph_def()\n",
    "    strip_def = strip_consts(graph_def, max_const_size=max_const_size)\n",
    "    code = \"\"\"\n",
    "        <script src=\"//cdnjs.cloudflare.com/ajax/libs/polymer/0.3.3/platform.js\"></script>\n",
    "        <script>\n",
    "          function load() {{\n",
    "            document.getElementById(\"{id}\").pbtxt = {data};\n",
    "          }}\n",
    "        </script>\n",
    "        <link rel=\"import\" href=\"https://tensorboard.appspot.com/tf-graph-basic.build.html\" onload=load()>\n",
    "        <div style=\"height:600px\">\n",
    "          <tf-graph-basic id=\"{id}\"></tf-graph-basic>\n",
    "        </div>\n",
    "    \"\"\".format(data=repr(str(strip_def)), id='graph'+str(np.random.rand()))\n",
    "\n",
    "    iframe = \"\"\"\n",
    "        <iframe seamless style=\"width:1200px;height:620px;border:0\" srcdoc=\"{}\"></iframe>\n",
    "    \"\"\".format(code.replace('\"', '&quot;'))\n",
    "    display(HTML(iframe))\n",
    "\n",
    "# Uncomment the following line to visualize the graph in this notebook. \n",
    "# show_graph(graph.as_graph_def())"
   ]
  },
  {
   "cell_type": "markdown",
   "metadata": {
    "deletable": true,
    "editable": true
   },
   "source": [
    "Setup the total loss."
   ]
  },
  {
   "cell_type": "code",
   "execution_count": 20,
   "metadata": {
    "collapsed": false,
    "deletable": true,
    "editable": true
   },
   "outputs": [],
   "source": [
    "with tf.name_scope(\"loss\"):\n",
    "  rms = tf.sqrt(tf.losses.mean_squared_error(estimates, y_batch))\n",
    "  tf.summary.scalar(\"rms\", rms)\n",
    "  if rlambda is not None:\n",
    "    with tf.name_scope(\"regularizers\"):\n",
    "      r = rlambda * tf.nn.l2_loss(parameters[0])\n",
    "      for params in parameters:\n",
    "        r += rlambda * tf.nn.l2_loss(params)\n",
    "      tf.summary.scalar(\"regularizer\", r)\n",
    "    loss = rms + r\n",
    "    tf.summary.scalar(\"loss\", loss)\n",
    "  else:\n",
    "    loss = rms"
   ]
  },
  {
   "cell_type": "markdown",
   "metadata": {
    "deletable": true,
    "editable": true
   },
   "source": [
    "Setup the learning rate decay and the momentum optimizer. The learning rate $r_i$ computed by the inverse decay function in this paper is implemented here:\n",
    "$$r_{i} = \\frac{rs_{0}}{r + i}$$\n",
    "where $i$ is the epoch, $r$ is a constant decay factor and $s_0$ is the initial learning rate. $r$ is set to 60 in this case."
   ]
  },
  {
   "cell_type": "code",
   "execution_count": 21,
   "metadata": {
    "collapsed": true,
    "deletable": true,
    "editable": true
   },
   "outputs": [],
   "source": [
    "def inverse_decay(learning_rate, epoch, decay_factor, name=None):\n",
    "  \"\"\"\n",
    "  The inverse decay function.\n",
    "  \n",
    "  Args:\n",
    "    learning_rate: A scalar `float32` or `float64` `Tensor` or a\n",
    "      Python number.  The initial learning rate.\n",
    "    global_epoch: A scalar `int32` or `int64` `Tensor` or a Python number.\n",
    "      Global epoch to use for the decay computation.  Must not be negative.\n",
    "    decay_factor: A scalar `int32` or `int64` `Tensor` or a Python number.\n",
    "      Must be positive.  See the decay equation above.\n",
    "    name: String.  Optional name of the operation.  Defaults to\n",
    "      'ExponentialDecay'.\n",
    "\n",
    "  Returns:\n",
    "    A scalar `Tensor` of the same type as `learning_rate`.  The decayed\n",
    "    learning rate.\n",
    "  \n",
    "  \"\"\"\n",
    "  if epoch is None:\n",
    "    raise ValueError(\"global_step is required for inv_decay.\")\n",
    "  with ops.name_scope(name, \"InvDecay\", \n",
    "                      [learning_rate, epoch, decay_factor]) as name:\n",
    "    learning_rate = ops.convert_to_tensor(learning_rate, name=\"learning_rate\")\n",
    "    dtype = learning_rate.dtype\n",
    "    epoch = math_ops.cast(epoch, dtype)\n",
    "    decay_factor = math_ops.cast(decay_factor, dtype)\n",
    "    top = math_ops.multiply(learning_rate, decay_factor)\n",
    "    return math_ops.div(top, math_ops.add(epoch, decay_factor), name=name)"
   ]
  },
  {
   "cell_type": "code",
   "execution_count": 22,
   "metadata": {
    "collapsed": false,
    "deletable": true,
    "editable": true
   },
   "outputs": [],
   "source": [
    "global_epoch = tf.Variable(0, dtype=tf.int64, trainable=False, name=\"global_epoch\")\n",
    "global_epoch_op = tf.assign(global_epoch, global_epoch + 1)\n",
    "learning_rate = inverse_decay(start_learning_rate, global_epoch, decay_factor)\n",
    "\n",
    "batch = tf.Variable(0, dtype=tf.int64)\n",
    "\n",
    "# learning_rate = tf.train.exponential_decay(\n",
    "#   start_learning_rate, \n",
    "#   tf.multiply(batch, batch_size), \n",
    "#   len(X_train), \n",
    "#   decay_rate,\n",
    "# )\n",
    "# Test the Adagrad optimzier\n",
    "# trainer = tf.train.AdagradDAOptimizer(\n",
    "#   learning_rate=learning_rate, \n",
    "#   initial_gradient_squared_accumulator_value=0.1,\n",
    "#   global_step=batch\n",
    "# )\n",
    "\n",
    "# Use the Momentum optimizer\n",
    "\n",
    "trainer = tf.train.MomentumOptimizer(learning_rate, momentum_factor)\n",
    "optimizer = trainer.minimize(loss, global_step=batch)\n",
    "\n",
    "# Merge all the summaries.\n",
    "merged = tf.summary.merge_all()\n",
    "writer = tf.summary.FileWriter(logdir=\"./events\", graph=graph)"
   ]
  },
  {
   "cell_type": "markdown",
   "metadata": {
    "deletable": true,
    "editable": true
   },
   "source": [
    "### 5.2 Training"
   ]
  },
  {
   "cell_type": "markdown",
   "metadata": {
    "deletable": true,
    "editable": true
   },
   "source": [
    "These variabls control the key settings of a training."
   ]
  },
  {
   "cell_type": "code",
   "execution_count": 23,
   "metadata": {
    "collapsed": true,
    "deletable": true,
    "editable": true
   },
   "outputs": [],
   "source": [
    "num_epochs = 300\n",
    "log_frequency = 200\n",
    "eval_frequency = 1000\n",
    "save_frequency = 2000"
   ]
  },
  {
   "cell_type": "markdown",
   "metadata": {
    "deletable": true,
    "editable": true
   },
   "source": [
    "Setup the saving path and the checkpoint file so that we can reuse this model later."
   ]
  },
  {
   "cell_type": "code",
   "execution_count": 24,
   "metadata": {
    "collapsed": false,
    "deletable": true,
    "editable": true
   },
   "outputs": [],
   "source": [
    "save_path = \"./saves\"\n",
    "chk_file = join(save_path, \"c9h7n.ckpt\")\n",
    "if not isdir(save_path):\n",
    "  makedirs(save_path)"
   ]
  },
  {
   "cell_type": "markdown",
   "metadata": {
    "deletable": true,
    "editable": true
   },
   "source": [
    "Small utility function to evaluate a dataset by feeding batches of data to ``{eval_dataset}`` and pulling the results \n",
    "from ``{eval_values}``. Saves memory and enables this to run on smaller GPUs."
   ]
  },
  {
   "cell_type": "code",
   "execution_count": 25,
   "metadata": {
    "collapsed": false,
    "deletable": true,
    "editable": true
   },
   "outputs": [],
   "source": [
    "def eval_in_batches(data):\n",
    "  \"\"\" Get all predictions for a dataset by running it in small batches. \"\"\"\n",
    "  size = data.shape[0]\n",
    "  if size < batch_size:\n",
    "    raise ValueError(\"batch size for evals larger than dataset: %d\" % size)\n",
    "  eval_values = np.ndarray(shape=(size, 1), dtype=np_type)\n",
    "  for i, inext in brange(0, size, batch_size):\n",
    "    eval_values[i: inext] = sess.run(\n",
    "      estimates,\n",
    "      feed_dict={X_batch: data[i: inext, ...]})\n",
    "  return eval_values"
   ]
  },
  {
   "cell_type": "markdown",
   "metadata": {
    "deletable": true,
    "editable": true
   },
   "source": [
    "This helper function is used to restore the latest checkpoint if existed."
   ]
  },
  {
   "cell_type": "code",
   "execution_count": 26,
   "metadata": {
    "collapsed": false,
    "deletable": true,
    "editable": true
   },
   "outputs": [],
   "source": [
    "def restore_latest_from_ckpt(save_dir, chk):\n",
    "  \"\"\"\n",
    "  Restore the latest checkpoint from the 'scratch' if possible.\n",
    "  \"\"\"\n",
    "  if not isdir(save_dir):\n",
    "    return None\n",
    "  cpkt_patt = \"%s*\" % basename(chk)\n",
    "  files = []\n",
    "  for afile in listdir(save_dir):\n",
    "    if fnmatch(afile, cpkt_patt):\n",
    "      files.append(afile)\n",
    "  if len(files) == 0:\n",
    "    return None\n",
    "  files.sort(reverse=True)\n",
    "  return join(save_dir, splitext(files[0])[0])"
   ]
  },
  {
   "cell_type": "markdown",
   "metadata": {
    "deletable": true,
    "editable": true
   },
   "source": [
    "Finally we invoke a new session and start this training."
   ]
  },
  {
   "cell_type": "code",
   "execution_count": 27,
   "metadata": {
    "collapsed": false,
    "deletable": true,
    "editable": true
   },
   "outputs": [
    {
     "name": "stdout",
     "output_type": "stream",
     "text": [
      "Initialized!\n",
      "\n",
      "Training Samples      : 4500\n",
      "Batch Size            : 50\n",
      "Number of Epochs      : 300\n",
      "Log Frequency         : 200\n",
      "Eval Frequency        : 1000\n",
      "\n",
      "Step      0 (epoch  0.00)\n",
      "Minibatch loss        : 0.284476\n",
      "Minibatch time        : 0.299 s\n",
      "Validation error      : 0.236768\n",
      "learning rate         : 0.100000\n",
      "Time since beginning  : 0.434 s\n",
      "\n",
      "Step    200 (epoch  2.22)\n",
      "Minibatch loss        : 0.171705\n",
      "Minibatch time        : 11.361 s\n",
      "Step    400 (epoch  4.44)\n",
      "Minibatch loss        : 0.176896\n",
      "Minibatch time        : 10.988 s\n",
      "Step    600 (epoch  6.67)\n",
      "Minibatch loss        : 0.170579\n",
      "Minibatch time        : 10.972 s\n",
      "Step    800 (epoch  8.89)\n",
      "Minibatch loss        : 0.186496\n",
      "Minibatch time        : 10.974 s\n",
      "Step   1000 (epoch 11.11)\n",
      "Minibatch loss        : 0.175022\n",
      "Minibatch time        : 10.993 s\n",
      "Validation error      : 0.166323\n",
      "learning rate         : 0.084507\n",
      "Time since beginning  : 55.678 s\n",
      "\n",
      "Step   1200 (epoch 13.33)\n",
      "Minibatch loss        : 0.163937\n",
      "Minibatch time        : 11.089 s\n",
      "Step   1400 (epoch 15.56)\n",
      "Minibatch loss        : 0.150723\n",
      "Minibatch time        : 10.995 s\n",
      "Step   1600 (epoch 17.78)\n",
      "Minibatch loss        : 0.155311\n",
      "Minibatch time        : 10.995 s\n",
      "Step   1800 (epoch 20.00)\n",
      "Minibatch loss        : 0.160424\n",
      "Minibatch time        : 11.002 s\n",
      "Step   2000 (epoch 22.22)\n",
      "Minibatch loss        : 0.151921\n",
      "Minibatch time        : 11.020 s\n",
      "Validation error      : 0.160735\n",
      "learning rate         : 0.073171\n",
      "Time since beginning  : 110.777 s\n",
      "\n",
      "Step   2200 (epoch 24.44)\n",
      "Minibatch loss        : 0.138210\n",
      "Minibatch time        : 11.151 s\n",
      "Step   2400 (epoch 26.67)\n",
      "Minibatch loss        : 0.148204\n",
      "Minibatch time        : 11.005 s\n",
      "Step   2600 (epoch 28.89)\n",
      "Minibatch loss        : 0.109106\n",
      "Minibatch time        : 11.014 s\n",
      "Step   2800 (epoch 31.11)\n",
      "Minibatch loss        : 0.157173\n",
      "Minibatch time        : 11.017 s\n",
      "Step   3000 (epoch 33.33)\n",
      "Minibatch loss        : 0.154036\n",
      "Minibatch time        : 11.025 s\n",
      "Validation error      : 0.144423\n",
      "learning rate         : 0.064516\n",
      "Time since beginning  : 165.989 s\n",
      "\n",
      "Step   3200 (epoch 35.56)\n",
      "Minibatch loss        : 0.137064\n",
      "Minibatch time        : 11.107 s\n",
      "Step   3400 (epoch 37.78)\n",
      "Minibatch loss        : 0.129146\n",
      "Minibatch time        : 11.020 s\n",
      "Step   3600 (epoch 40.00)\n",
      "Minibatch loss        : 0.125037\n",
      "Minibatch time        : 11.017 s\n",
      "Step   3800 (epoch 42.22)\n",
      "Minibatch loss        : 0.119365\n",
      "Minibatch time        : 11.016 s\n",
      "Step   4000 (epoch 44.44)\n",
      "Minibatch loss        : 0.136954\n",
      "Minibatch time        : 11.012 s\n",
      "Validation error      : 0.141575\n",
      "learning rate         : 0.057692\n",
      "Time since beginning  : 221.159 s\n",
      "\n",
      "Step   4200 (epoch 46.67)\n",
      "Minibatch loss        : 0.121305\n",
      "Minibatch time        : 11.141 s\n",
      "Step   4400 (epoch 48.89)\n",
      "Minibatch loss        : 0.105996\n",
      "Minibatch time        : 11.005 s\n",
      "Step   4600 (epoch 51.11)\n",
      "Minibatch loss        : 0.107488\n",
      "Minibatch time        : 11.015 s\n",
      "Step   4800 (epoch 53.33)\n",
      "Minibatch loss        : 0.121526\n",
      "Minibatch time        : 11.038 s\n",
      "Step   5000 (epoch 55.56)\n",
      "Minibatch loss        : 0.136361\n",
      "Minibatch time        : 11.011 s\n",
      "Validation error      : 0.146507\n",
      "learning rate         : 0.052174\n",
      "Time since beginning  : 276.369 s\n",
      "\n",
      "Step   5200 (epoch 57.78)\n",
      "Minibatch loss        : 0.129581\n",
      "Minibatch time        : 11.099 s\n",
      "Step   5400 (epoch 60.00)\n",
      "Minibatch loss        : 0.114977\n",
      "Minibatch time        : 11.023 s\n",
      "Step   5600 (epoch 62.22)\n",
      "Minibatch loss        : 0.120460\n",
      "Minibatch time        : 11.023 s\n",
      "Step   5800 (epoch 64.44)\n",
      "Minibatch loss        : 0.074144\n",
      "Minibatch time        : 11.047 s\n",
      "Step   6000 (epoch 66.67)\n",
      "Minibatch loss        : 0.091888\n",
      "Minibatch time        : 11.015 s\n",
      "Validation error      : 0.167051\n",
      "learning rate         : 0.047619\n",
      "Time since beginning  : 331.579 s\n",
      "\n",
      "Step   6200 (epoch 68.89)\n",
      "Minibatch loss        : 0.094887\n",
      "Minibatch time        : 11.170 s\n",
      "Step   6400 (epoch 71.11)\n",
      "Minibatch loss        : 0.092202\n",
      "Minibatch time        : 11.013 s\n",
      "Step   6600 (epoch 73.33)\n",
      "Minibatch loss        : 0.071787\n",
      "Minibatch time        : 11.020 s\n",
      "Step   6800 (epoch 75.56)\n",
      "Minibatch loss        : 0.065565\n",
      "Minibatch time        : 11.041 s\n",
      "Step   7000 (epoch 77.78)\n",
      "Minibatch loss        : 0.049838\n",
      "Minibatch time        : 11.035 s\n",
      "Validation error      : 0.167721\n",
      "learning rate         : 0.043796\n",
      "Time since beginning  : 386.855 s\n",
      "\n",
      "Step   7200 (epoch 80.00)\n",
      "Minibatch loss        : 0.073267\n",
      "Minibatch time        : 11.122 s\n",
      "Step   7400 (epoch 82.22)\n",
      "Minibatch loss        : 0.065880\n",
      "Minibatch time        : 11.039 s\n",
      "Step   7600 (epoch 84.44)\n",
      "Minibatch loss        : 0.086514\n",
      "Minibatch time        : 11.045 s\n",
      "Step   7800 (epoch 86.67)\n",
      "Minibatch loss        : 0.081259\n",
      "Minibatch time        : 11.024 s\n",
      "Step   8000 (epoch 88.89)\n",
      "Minibatch loss        : 0.061103\n",
      "Minibatch time        : 11.003 s\n",
      "Validation error      : 0.179054\n",
      "learning rate         : 0.040541\n",
      "Time since beginning  : 442.087 s\n",
      "\n",
      "Step   8200 (epoch 91.11)\n",
      "Minibatch loss        : 0.048792\n",
      "Minibatch time        : 11.126 s\n",
      "Step   8400 (epoch 93.33)\n",
      "Minibatch loss        : 0.044061\n",
      "Minibatch time        : 10.995 s\n",
      "Step   8600 (epoch 95.56)\n",
      "Minibatch loss        : 0.057821\n",
      "Minibatch time        : 10.986 s\n",
      "Step   8800 (epoch 97.78)\n",
      "Minibatch loss        : 0.043958\n",
      "Minibatch time        : 11.024 s\n",
      "Step   9000 (epoch 100.00)\n",
      "Minibatch loss        : 0.041702\n",
      "Minibatch time        : 10.996 s\n",
      "Validation error      : 0.185975\n",
      "learning rate         : 0.037500\n",
      "Time since beginning  : 497.214 s\n",
      "\n",
      "Step   9200 (epoch 102.22)\n",
      "Minibatch loss        : 0.055455\n",
      "Minibatch time        : 11.108 s\n",
      "Step   9400 (epoch 104.44)\n",
      "Minibatch loss        : 0.050100\n",
      "Minibatch time        : 11.013 s\n",
      "Step   9600 (epoch 106.67)\n",
      "Minibatch loss        : 0.037306\n",
      "Minibatch time        : 11.004 s\n",
      "Step   9800 (epoch 108.89)\n",
      "Minibatch loss        : 0.041147\n",
      "Minibatch time        : 10.965 s\n",
      "Step  10000 (epoch 111.11)\n",
      "Minibatch loss        : 0.044347\n",
      "Minibatch time        : 10.999 s\n",
      "Validation error      : 0.204639\n",
      "learning rate         : 0.035088\n",
      "Time since beginning  : 552.302 s\n",
      "\n",
      "Step  10200 (epoch 113.33)\n",
      "Minibatch loss        : 0.041859\n",
      "Minibatch time        : 11.115 s\n",
      "Step  10400 (epoch 115.56)\n",
      "Minibatch loss        : 0.029455\n",
      "Minibatch time        : 10.991 s\n",
      "Step  10600 (epoch 117.78)\n",
      "Minibatch loss        : 0.027524\n",
      "Minibatch time        : 10.992 s\n",
      "Step  10800 (epoch 120.00)\n",
      "Minibatch loss        : 0.040391\n",
      "Minibatch time        : 10.983 s\n",
      "Step  11000 (epoch 122.22)\n",
      "Minibatch loss        : 0.039416\n",
      "Minibatch time        : 10.971 s\n",
      "Validation error      : 0.187477\n",
      "learning rate         : 0.032967\n",
      "Time since beginning  : 607.355 s\n",
      "\n",
      "Step  11200 (epoch 124.44)\n",
      "Minibatch loss        : 0.031626\n",
      "Minibatch time        : 11.074 s\n",
      "Step  11400 (epoch 126.67)\n",
      "Minibatch loss        : 0.020037\n",
      "Minibatch time        : 10.976 s\n",
      "Step  11600 (epoch 128.89)\n",
      "Minibatch loss        : 0.022025\n",
      "Minibatch time        : 10.986 s\n",
      "Step  11800 (epoch 131.11)\n",
      "Minibatch loss        : 0.034050\n",
      "Minibatch time        : 10.990 s\n",
      "Step  12000 (epoch 133.33)\n",
      "Minibatch loss        : 0.031696\n",
      "Minibatch time        : 11.009 s\n",
      "Validation error      : 0.185573\n",
      "learning rate         : 0.031088\n",
      "Time since beginning  : 662.390 s\n",
      "\n",
      "Step  12200 (epoch 135.56)\n",
      "Minibatch loss        : 0.023147\n",
      "Minibatch time        : 11.162 s\n",
      "Step  12400 (epoch 137.78)\n",
      "Minibatch loss        : 0.027769\n",
      "Minibatch time        : 11.009 s\n",
      "Step  12600 (epoch 140.00)\n",
      "Minibatch loss        : 0.027321\n",
      "Minibatch time        : 11.003 s\n",
      "Step  12800 (epoch 142.22)\n",
      "Minibatch loss        : 0.038920\n",
      "Minibatch time        : 10.981 s\n",
      "Step  13000 (epoch 144.44)\n",
      "Minibatch loss        : 0.045854\n",
      "Minibatch time        : 10.977 s\n",
      "Validation error      : 0.175066\n",
      "learning rate         : 0.029412\n",
      "Time since beginning  : 717.522 s\n",
      "\n",
      "Step  13200 (epoch 146.67)\n",
      "Minibatch loss        : 0.027500\n",
      "Minibatch time        : 11.062 s\n",
      "Step  13400 (epoch 148.89)\n",
      "Minibatch loss        : 0.035406\n",
      "Minibatch time        : 10.981 s\n",
      "Step  13600 (epoch 151.11)\n",
      "Minibatch loss        : 0.032406\n",
      "Minibatch time        : 10.974 s\n",
      "Step  13800 (epoch 153.33)\n",
      "Minibatch loss        : 0.029897\n",
      "Minibatch time        : 11.007 s\n",
      "Step  14000 (epoch 155.56)\n",
      "Minibatch loss        : 0.018868\n",
      "Minibatch time        : 11.014 s\n",
      "Validation error      : 0.174410\n",
      "learning rate         : 0.027907\n",
      "Time since beginning  : 772.560 s\n",
      "\n",
      "Step  14200 (epoch 157.78)\n",
      "Minibatch loss        : 0.041274\n",
      "Minibatch time        : 11.137 s\n",
      "Step  14400 (epoch 160.00)\n",
      "Minibatch loss        : 0.019547\n",
      "Minibatch time        : 11.011 s\n",
      "Step  14600 (epoch 162.22)\n",
      "Minibatch loss        : 0.027907\n",
      "Minibatch time        : 11.002 s\n",
      "Step  14800 (epoch 164.44)\n",
      "Minibatch loss        : 0.028365\n",
      "Minibatch time        : 11.014 s\n",
      "Step  15000 (epoch 166.67)\n",
      "Minibatch loss        : 0.017639\n",
      "Minibatch time        : 10.999 s\n",
      "Validation error      : 0.182847\n",
      "learning rate         : 0.026549\n",
      "Time since beginning  : 827.726 s\n",
      "\n",
      "Step  15200 (epoch 168.89)\n",
      "Minibatch loss        : 0.026829\n",
      "Minibatch time        : 11.073 s\n",
      "Step  15400 (epoch 171.11)\n",
      "Minibatch loss        : 0.023224\n",
      "Minibatch time        : 11.001 s\n",
      "Step  15600 (epoch 173.33)\n",
      "Minibatch loss        : 0.034376\n",
      "Minibatch time        : 11.011 s\n",
      "Step  15800 (epoch 175.56)\n",
      "Minibatch loss        : 0.009771\n",
      "Minibatch time        : 11.022 s\n",
      "Step  16000 (epoch 177.78)\n",
      "Minibatch loss        : 0.022125\n",
      "Minibatch time        : 10.996 s\n",
      "Validation error      : 0.181111\n",
      "learning rate         : 0.025316\n",
      "Time since beginning  : 882.828 s\n",
      "\n",
      "Step  16200 (epoch 180.00)\n",
      "Minibatch loss        : 0.018377\n",
      "Minibatch time        : 11.152 s\n",
      "Step  16400 (epoch 182.22)\n",
      "Minibatch loss        : 0.025346\n",
      "Minibatch time        : 11.004 s\n",
      "Step  16600 (epoch 184.44)\n",
      "Minibatch loss        : 0.028836\n",
      "Minibatch time        : 10.978 s\n",
      "Step  16800 (epoch 186.67)\n",
      "Minibatch loss        : 0.022520\n",
      "Minibatch time        : 10.984 s\n",
      "Step  17000 (epoch 188.89)\n",
      "Minibatch loss        : 0.022113\n",
      "Minibatch time        : 11.037 s\n",
      "Validation error      : 0.190653\n",
      "learning rate         : 0.024194\n",
      "Time since beginning  : 937.982 s\n",
      "\n",
      "Step  17200 (epoch 191.11)\n",
      "Minibatch loss        : 0.019235\n",
      "Minibatch time        : 11.073 s\n",
      "Step  17400 (epoch 193.33)\n",
      "Minibatch loss        : 0.022790\n",
      "Minibatch time        : 11.024 s\n",
      "Step  17600 (epoch 195.56)\n",
      "Minibatch loss        : 0.016382\n",
      "Minibatch time        : 11.018 s\n",
      "Step  17800 (epoch 197.78)\n",
      "Minibatch loss        : 0.021841\n",
      "Minibatch time        : 11.017 s\n",
      "Step  18000 (epoch 200.00)\n",
      "Minibatch loss        : 0.018839\n",
      "Minibatch time        : 10.992 s\n",
      "Validation error      : 0.174768\n",
      "learning rate         : 0.023077\n",
      "Time since beginning  : 993.105 s\n",
      "\n",
      "Step  18200 (epoch 202.22)\n",
      "Minibatch loss        : 0.014233\n",
      "Minibatch time        : 11.128 s\n",
      "Step  18400 (epoch 204.44)\n",
      "Minibatch loss        : 0.016409\n",
      "Minibatch time        : 11.004 s\n",
      "Step  18600 (epoch 206.67)\n",
      "Minibatch loss        : 0.017189\n",
      "Minibatch time        : 10.987 s\n",
      "Step  18800 (epoch 208.89)\n",
      "Minibatch loss        : 0.020986\n",
      "Minibatch time        : 10.969 s\n",
      "Step  19000 (epoch 211.11)\n",
      "Minibatch loss        : 0.012619\n",
      "Minibatch time        : 11.007 s\n",
      "Validation error      : 0.174133\n",
      "learning rate         : 0.022140\n",
      "Time since beginning  : 1048.199 s\n",
      "\n",
      "Step  19200 (epoch 213.33)\n",
      "Minibatch loss        : 0.015555\n",
      "Minibatch time        : 11.082 s\n",
      "Step  19400 (epoch 215.56)\n",
      "Minibatch loss        : 0.026086\n",
      "Minibatch time        : 11.001 s\n",
      "Step  19600 (epoch 217.78)\n",
      "Minibatch loss        : 0.023253\n",
      "Minibatch time        : 11.001 s\n",
      "Step  19800 (epoch 220.00)\n",
      "Minibatch loss        : 0.008688\n",
      "Minibatch time        : 10.977 s\n",
      "Step  20000 (epoch 222.22)\n",
      "Minibatch loss        : 0.021425\n",
      "Minibatch time        : 10.982 s\n",
      "Validation error      : 0.181894\n",
      "learning rate         : 0.021277\n",
      "Time since beginning  : 1103.241 s\n",
      "\n",
      "Step  20200 (epoch 224.44)\n",
      "Minibatch loss        : 0.026295\n",
      "Minibatch time        : 11.126 s\n",
      "Step  20400 (epoch 226.67)\n",
      "Minibatch loss        : 0.019437\n",
      "Minibatch time        : 10.999 s\n",
      "Step  20600 (epoch 228.89)\n",
      "Minibatch loss        : 0.014276\n",
      "Minibatch time        : 11.009 s\n",
      "Step  20800 (epoch 231.11)\n",
      "Minibatch loss        : 0.015165\n",
      "Minibatch time        : 10.981 s\n",
      "Step  21000 (epoch 233.33)\n",
      "Minibatch loss        : 0.008305\n",
      "Minibatch time        : 11.003 s\n",
      "Validation error      : 0.175266\n",
      "learning rate         : 0.020478\n",
      "Time since beginning  : 1158.360 s\n",
      "\n",
      "Step  21200 (epoch 235.56)\n",
      "Minibatch loss        : 0.009330\n",
      "Minibatch time        : 11.080 s\n",
      "Step  21400 (epoch 237.78)\n",
      "Minibatch loss        : 0.010284\n",
      "Minibatch time        : 11.009 s\n",
      "Step  21600 (epoch 240.00)\n",
      "Minibatch loss        : 0.012216\n",
      "Minibatch time        : 11.024 s\n",
      "Step  21800 (epoch 242.22)\n",
      "Minibatch loss        : 0.012300\n",
      "Minibatch time        : 10.977 s\n",
      "Step  22000 (epoch 244.44)\n",
      "Minibatch loss        : 0.010969\n",
      "Minibatch time        : 10.984 s\n",
      "Validation error      : 0.173124\n",
      "learning rate         : 0.019737\n",
      "Time since beginning  : 1213.433 s\n",
      "\n",
      "Step  22200 (epoch 246.67)\n",
      "Minibatch loss        : 0.014210\n",
      "Minibatch time        : 11.156 s\n",
      "Step  22400 (epoch 248.89)\n",
      "Minibatch loss        : 0.017455\n",
      "Minibatch time        : 10.981 s\n",
      "Step  22600 (epoch 251.11)\n",
      "Minibatch loss        : 0.017047\n",
      "Minibatch time        : 10.988 s\n",
      "Step  22800 (epoch 253.33)\n",
      "Minibatch loss        : 0.010128\n",
      "Minibatch time        : 10.982 s\n",
      "Step  23000 (epoch 255.56)\n",
      "Minibatch loss        : 0.015159\n",
      "Minibatch time        : 11.003 s\n",
      "Validation error      : 0.183869\n",
      "learning rate         : 0.019048\n",
      "Time since beginning  : 1268.542 s\n",
      "\n",
      "Step  23200 (epoch 257.78)\n",
      "Minibatch loss        : 0.008150\n",
      "Minibatch time        : 11.124 s\n",
      "Step  23400 (epoch 260.00)\n",
      "Minibatch loss        : 0.013776\n",
      "Minibatch time        : 11.094 s\n",
      "Step  23600 (epoch 262.22)\n",
      "Minibatch loss        : 0.013823\n",
      "Minibatch time        : 11.088 s\n",
      "Step  23800 (epoch 264.44)\n",
      "Minibatch loss        : 0.011630\n",
      "Minibatch time        : 11.095 s\n",
      "Step  24000 (epoch 266.67)\n",
      "Minibatch loss        : 0.007551\n",
      "Minibatch time        : 11.093 s\n",
      "Validation error      : 0.180948\n",
      "learning rate         : 0.018405\n",
      "Time since beginning  : 1324.037 s\n",
      "\n",
      "Step  24200 (epoch 268.89)\n",
      "Minibatch loss        : 0.013271\n",
      "Minibatch time        : 11.241 s\n",
      "Step  24400 (epoch 271.11)\n",
      "Minibatch loss        : 0.013722\n",
      "Minibatch time        : 11.101 s\n",
      "Step  24600 (epoch 273.33)\n",
      "Minibatch loss        : 0.012466\n",
      "Minibatch time        : 11.096 s\n",
      "Step  24800 (epoch 275.56)\n",
      "Minibatch loss        : 0.015322\n",
      "Minibatch time        : 11.100 s\n",
      "Step  25000 (epoch 277.78)\n",
      "Minibatch loss        : 0.012127\n",
      "Minibatch time        : 11.092 s\n",
      "Validation error      : 0.178203\n",
      "learning rate         : 0.017804\n",
      "Time since beginning  : 1379.669 s\n",
      "\n",
      "Step  25200 (epoch 280.00)\n",
      "Minibatch loss        : 0.009887\n",
      "Minibatch time        : 11.183 s\n",
      "Step  25400 (epoch 282.22)\n",
      "Minibatch loss        : 0.016423\n",
      "Minibatch time        : 11.089 s\n",
      "Step  25600 (epoch 284.44)\n",
      "Minibatch loss        : 0.011161\n",
      "Minibatch time        : 11.088 s\n",
      "Step  25800 (epoch 286.67)\n",
      "Minibatch loss        : 0.016553\n",
      "Minibatch time        : 11.084 s\n",
      "Step  26000 (epoch 288.89)\n",
      "Minibatch loss        : 0.007786\n",
      "Minibatch time        : 11.078 s\n",
      "Validation error      : 0.178614\n",
      "learning rate         : 0.017241\n",
      "Time since beginning  : 1435.188 s\n",
      "\n",
      "Step  26200 (epoch 291.11)\n",
      "Minibatch loss        : 0.014306\n",
      "Minibatch time        : 11.217 s\n",
      "Step  26400 (epoch 293.33)\n",
      "Minibatch loss        : 0.009461\n",
      "Minibatch time        : 11.069 s\n",
      "Step  26600 (epoch 295.56)\n",
      "Minibatch loss        : 0.007693\n",
      "Minibatch time        : 11.066 s\n",
      "Step  26800 (epoch 297.78)\n",
      "Minibatch loss        : 0.013910\n",
      "Minibatch time        : 11.064 s\n",
      "\n",
      "-> Test error         : 0.175180\n",
      "\n"
     ]
    },
    {
     "data": {
      "text/plain": [
       "'./saves/c9h7n.ckpt-27000'"
      ]
     },
     "execution_count": 27,
     "metadata": {},
     "output_type": "execute_result"
    }
   ],
   "source": [
    "# Build an initialization operation.\n",
    "tf.global_variables_initializer().run()\n",
    "\n",
    "# Register a model saver\n",
    "saver = tf.train.Saver()\n",
    "\n",
    "# Load the previous checkpoint if existed.\n",
    "prev_cpkt = restore_latest_from_ckpt(save_path, chk_file)\n",
    "load = False\n",
    "if load and prev_cpkt:\n",
    "  saver.restore(sess, prev_cpkt)\n",
    "  print(\"Restore from the lastest checkpoint file %s ...\" % prev_cpkt)\n",
    "  print(\"\")\n",
    "\n",
    "print(\"Initialized!\")\n",
    "print(\"\")\n",
    "print(\"Training Samples      :\", len(X_train))\n",
    "print(\"Batch Size            :\", batch_size)\n",
    "print(\"Number of Epochs      :\", num_epochs)\n",
    "print(\"Log Frequency         :\", log_frequency)\n",
    "print(\"Eval Frequency        :\", eval_frequency)\n",
    "print(\"\")\n",
    "\n",
    "tic = time.time()\n",
    "tstart = time.time()\n",
    "\n",
    "# Loop through training steps.\n",
    "for step in range(int(num_epochs * len(X_train)) // batch_size):\n",
    "  # Compute the offset of the current minibatch in the data.\n",
    "  # The dataset was already shuffled in assignment 1 so we do not need to\n",
    "  # randomize it.\n",
    "  offset = (step * batch_size) % (len(X_train) - batch_size)\n",
    "  batch_dataset = X_train[offset: (offset + batch_size), ...]\n",
    "  batch_targets = y_train[offset: (offset + batch_size), ...]\n",
    "  # Build the feed dict to feed previous defined placeholders.\n",
    "  feed_dict = {X_batch: batch_dataset, y_batch: batch_targets}\n",
    "  # Run the optimization session.\n",
    "  sess.run([optimizer], feed_dict=feed_dict)\n",
    "  # Run the step decay function\n",
    "  if step > 0 and step % (len(X_train) // batch_size) == 0:\n",
    "    sess.run([global_epoch_op])\n",
    "  # Save the training accuracy every 100 steps.\n",
    "  if step % log_frequency == 0:\n",
    "    summary, error = sess.run([merged, loss], feed_dict=feed_dict)\n",
    "    elapsed_time = time.time() - tic\n",
    "    tic = time.time()\n",
    "    print(\"Step %6d (epoch %5.2f)\" % (\n",
    "      step, float(step) * batch_size / len(X_train)))\n",
    "    print(\"Minibatch loss        : %.6f\" % error)\n",
    "    print(\"Minibatch time        : %.3f s\" % elapsed_time)\n",
    "    writer.add_summary(summary, step)\n",
    "    # Every `eval_frequency` steps we shall take several extra operations,\n",
    "    # including printing the validation accuracy and updating the learning\n",
    "    # rate.\n",
    "    if step % eval_frequency == 0:\n",
    "      lr = sess.run(learning_rate)\n",
    "      valid_error = root_mean_squred(y_test - eval_in_batches(X_test))\n",
    "      print(\"Validation error      : %.6f\" % valid_error)\n",
    "      print(\"learning rate         : %.6f\" % lr)\n",
    "      print(\"Time since beginning  : %.3f s\" % (time.time() - tstart))\n",
    "      print(\"\")\n",
    "    sys.stdout.flush()\n",
    "  # Save the trained model every 1000 steps.\n",
    "  if step % save_frequency == 0:\n",
    "    saver.save(sess, save_path=chk_file, global_step=batch)\n",
    "# Close the writer\n",
    "writer.close()\n",
    "# Finally the training is completed. Now let me see if this MBE model can\n",
    "# really estimate DFT energies.\n",
    "print(\"\")\n",
    "print(\"-> Test error         : %.6f\" % root_mean_squred(y_test - eval_in_batches(X_test)))\n",
    "print(\"\")\n",
    "# Do not forget to save the model one last time!\n",
    "saver.save(sess, save_path=chk_file, global_step=batch)"
   ]
  },
  {
   "cell_type": "markdown",
   "metadata": {
    "deletable": true,
    "editable": true
   },
   "source": [
    "### 5.3 Figures"
   ]
  },
  {
   "cell_type": "markdown",
   "metadata": {
    "deletable": true,
    "editable": true
   },
   "source": [
    "In this section we will display some figures to analyze the results."
   ]
  },
  {
   "cell_type": "code",
   "execution_count": 46,
   "metadata": {
    "collapsed": true,
    "deletable": true,
    "editable": true
   },
   "outputs": [],
   "source": [
    "# Transform the estimates and targets back to energies\n",
    "y_train_est = eval_in_batches(X_train)\n",
    "y_test_est = eval_in_batches(X_test)\n",
    "energies_train = scaler.inverse_transform(y_train)\n",
    "energies_train_pred = scaler.inverse_transform(y_train_est)\n",
    "energies_test = scaler.inverse_transform(y_test)\n",
    "energies_test_pred = scaler.inverse_transform(y_test_est)"
   ]
  },
  {
   "cell_type": "code",
   "execution_count": 79,
   "metadata": {
    "collapsed": false
   },
   "outputs": [
    {
     "data": {
      "image/png": "[encoded data removed]",
      "text/plain": [
       "<matplotlib.figure.Figure at 0x7efc5be19588>"
      ]
     },
     "metadata": {},
     "output_type": "display_data"
    }
   ],
   "source": [
    "# Plot the regression figure using ``seaborn.regplot``.\n",
    "fig, axes = plt.subplots(1, 2, figsize=[16, 8])\n",
    "\n",
    "def plot_regression(y_true, y_pred, iax, title):\n",
    "  r2 = r2_score(y_true, y_pred)\n",
    "  mae = mean_abs_error(y_true, y_pred)\n",
    "  diff = y_true - y_pred\n",
    "  stddev = np.var(diff)\n",
    "  ax = sns.regplot(x=y_true.flatten(), y=y_pred.flatten(), ax=axes[iax])\n",
    "  ax.set_ylabel(\"DFTB Energy (eV)\", fontsize=12)\n",
    "  ax.set_xlabel(\"DNN Energy (eV)\", fontsize=12)\n",
    "  ax.set_title(\"%s, $R^2$=%.3f, MAE=%.3f, stddev=%.3f\" % (title, r2, mae, stddev), fontsize=12)\n",
    "\n",
    "# Plot the training result\n",
    "plot_regression(energies_train, energies_train_pred, 0, \"Training Data\")\n",
    "\n",
    "# Plot the testing result\n",
    "plot_regression(energies_test, energies_test_pred, 1, \"Testing Data\")"
   ]
  },
  {
   "cell_type": "code",
   "execution_count": null,
   "metadata": {
    "collapsed": true
   },
   "outputs": [],
   "source": []
  }
 ],
 "metadata": {
  "kernelspec": {
   "display_name": "Python 3",
   "language": "python",
   "name": "python3"
  },
  "language_info": {
   "codemirror_mode": {
    "name": "ipython",
    "version": 3
   },
   "file_extension": ".py",
   "mimetype": "text/x-python",
   "name": "python",
   "nbconvert_exporter": "python",
   "pygments_lexer": "ipython3",
   "version": "3.5.2"
  }
 },
 "nbformat": 4,
 "nbformat_minor": 2
}
