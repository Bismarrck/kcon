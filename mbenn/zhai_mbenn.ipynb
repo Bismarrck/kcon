{
 "cells": [
  {
   "cell_type": "code",
   "execution_count": 1,
   "metadata": {
    "collapsed": true,
    "deletable": true,
    "editable": true
   },
   "outputs": [],
   "source": [
    "%matplotlib inline"
   ]
  },
  {
   "cell_type": "markdown",
   "metadata": {
    "deletable": true,
    "editable": true
   },
   "source": [
    "# Xin Chen's implementation of the MBE-NN network"
   ]
  },
  {
   "cell_type": "markdown",
   "metadata": {
    "deletable": true,
    "editable": true
   },
   "source": [
    "* Author: Xin Chen\n",
    "* Email: Bismarrck@me.com\n",
    "\n",
    "This jupyter notebook is used to repeat the work of http://doi.org/10.1021/acs.jctc.6b00994. \n",
    "\n",
    "The test cluster is $\\textrm{C}_{9}\\textrm{H}_{7}\\textrm{N}$. The reference energies are calculated with DFTB.\n",
    "\n",
    "<img src=\"./C9H7N.png\" alt=\"network\" style=\"width: 600px;\"/>"
   ]
  },
  {
   "cell_type": "markdown",
   "metadata": {
    "deletable": true,
    "editable": true
   },
   "source": [
    "## 1. Overview"
   ]
  },
  {
   "cell_type": "markdown",
   "metadata": {
    "deletable": true,
    "editable": true
   },
   "source": [
    "The structure of the deep convolutional neural network for the $Pt_{13}$ cluster is as follows:\n",
    "\n",
    "<img src=\"./convnet.jpg\" alt=\"network\" style=\"width: 800px;\"/>\n",
    "\n",
    "The input features are transformed interatomic distances. The output node represents the estimated DFT energies.\n",
    "The detailed explanantion of this convolutionary neural network will be given in the following section **Inference**."
   ]
  },
  {
   "cell_type": "markdown",
   "metadata": {
    "deletable": true,
    "editable": true
   },
   "source": [
    "## 2. Declarations"
   ]
  },
  {
   "cell_type": "markdown",
   "metadata": {
    "deletable": true,
    "editable": true
   },
   "source": [
    "In this section we shall import python modules and declare global constants."
   ]
  },
  {
   "cell_type": "code",
   "execution_count": 2,
   "metadata": {
    "collapsed": false,
    "deletable": true,
    "editable": true
   },
   "outputs": [],
   "source": [
    "import tensorflow as tf\n",
    "import numpy as np\n",
    "import seaborn as sns\n",
    "import re\n",
    "import h5py\n",
    "import sys\n",
    "import time\n",
    "import hashlib\n",
    "import shutil\n",
    "from datetime import datetime\n",
    "from fnmatch import fnmatch\n",
    "from itertools import repeat\n",
    "from os.path import isfile, isdir, join, basename, splitext\n",
    "from os import makedirs, listdir\n",
    "from scipy.misc import comb\n",
    "from sklearn.preprocessing import MinMaxScaler\n",
    "from sklearn.model_selection import train_test_split\n",
    "from sklearn.metrics import pairwise_distances, r2_score\n",
    "from itertools import combinations\n",
    "from matplotlib import pyplot as plt\n",
    "from IPython.display import clear_output, Image, display, HTML\n",
    "from tensorflow.python.framework import constant_op\n",
    "from tensorflow.python.framework import ops\n",
    "from tensorflow.python.ops import control_flow_ops\n",
    "from tensorflow.python.ops import math_ops\n",
    "from tensorflow.contrib.learn import ModeKeys\n",
    "sns.set(font=\"serif\")\n",
    "plt.rcParams[\"figure.figsize\"] = [15, 12]"
   ]
  },
  {
   "cell_type": "code",
   "execution_count": 3,
   "metadata": {
    "collapsed": false,
    "deletable": true,
    "editable": true
   },
   "outputs": [],
   "source": [
    "# The patch size is always 1x1\n",
    "PATCH_SIZE = 1\n",
    "\n",
    "# The HDF5 database file.\n",
    "HDF5_DATABASE_FILE = \"c9h7n.hdf5\"\n",
    "\n",
    "# The dimension of the cluster.\n",
    "NUM_SITES = 17\n",
    "\n",
    "# The total number of structures in the XYZ file should be 209660.\n",
    "XYZ_FILE = \"../datasets/C9H7N.xyz\"\n",
    "TOTAL_SIZE = 5000\n",
    "\n",
    "# Setup the size.\n",
    "LOAD_SIZE = 5000\n",
    "TEST_SIZE = 0.2\n",
    "\n",
    "# Setup the random seed.\n",
    "SEED = 235\n",
    "\n",
    "# Setup the precision of floats. \n",
    "TF_TYPE = tf.float32\n",
    "NP_TYPE = np.float32\n",
    "\n",
    "# Cuda\n",
    "CUDA_ON = True\n",
    "\n",
    "# Set this to True to make input features zero-centered.\n",
    "ZERO_CENTER = False\n",
    "\n",
    "# The fixed constants: C(N,k) and C(k,2) where k is 4.\n",
    "CNK = comb(NUM_SITES, 4, exact=True)\n",
    "CK2 = comb(4, 2, exact=True)\n",
    "\n",
    "# The pyykko radius (+1) for each element.\n",
    "pyykko = {\n",
    "  'Ac': 1.86, 'Ag': 1.28, 'Al': 1.26, 'Am': 1.66, 'Ar': 0.96, 'As': 1.21,\n",
    "  'At': 1.47, 'Au': 1.24, 'B': 0.85, 'Ba': 1.96, 'Be': 1.02, 'Bh': 1.41,\n",
    "  'Bi': 1.51, 'Bk': 1.68, 'Br': 1.14, 'C': 0.75, 'Ca': 1.71, 'Cd': 1.36,\n",
    "  'Ce': 1.63, 'Cf': 1.68, 'Cl': 0.99, 'Cm': 1.66, 'Co': 1.11, 'Cr': 1.22,\n",
    "  'Cs': 2.32, 'Cu': 1.12, 'Db': 1.49, 'Ds': 1.28, 'Dy': 1.67, 'Er': 1.65,\n",
    "  'Es': 1.65, 'Eu': 1.68, 'F': 0.64, 'Fe': 1.16, 'Fm': 1.67, 'Fr': 2.23,\n",
    "  'Ga': 1.24, 'Gd': 1.69, 'Ge': 1.21, 'H': 0.32, 'He': 0.46, 'Hf': 1.52,\n",
    "  'Hg': 1.33, 'Ho': 1.66, 'Hs': 1.34, 'I': 1.33, 'In': 1.42, 'Ir': 1.22,\n",
    "  'K': 1.96, 'Kr': 1.17, 'La': 1.8, 'Li': 1.33, 'Lu': 1.62, 'Md': 1.73,\n",
    "  'Mg': 1.39, 'Mn': 1.19, 'Mo': 1.38, 'Mt': 1.29, 'N': 0.71, 'Na': 1.55,\n",
    "  'Nb': 1.47, 'Nd': 1.74, 'Ne': 0.67, 'Ni': 1.1, 'No': 1.76, 'Np': 1.71,\n",
    "  'O': 0.63, 'Os': 1.29, 'P': 1.11, 'Pa': 1.69, 'Pb': 1.44, 'Pd': 1.2,\n",
    "  'Pm': 1.73, 'Po': 1.45, 'Pr': 1.76, 'Pt': 1.23, 'Pu': 1.72, 'Ra': 2.01,\n",
    "  'Rb': 2.1, 'Re': 1.31, 'Rf': 1.57, 'Rh': 1.25, 'Rn': 1.42, 'Ru': 1.25,\n",
    "  'S': 1.03, 'Sb': 1.4, 'Sc': 1.48, 'Se': 1.16, 'Sg': 1.43, 'Si': 1.16,\n",
    "  'Sm': 1.72, 'Sn': 1.4, 'Sr': 1.85, 'Ta': 1.46, 'Tb': 1.68, 'Tc': 1.28,\n",
    "  'Te': 1.36, 'Th': 1.75, 'Ti': 1.36, 'Tl': 1.44, 'Tm': 1.64, 'U': 1.7,\n",
    "  'V': 1.34, 'W': 1.37, 'X': 0.32, 'Xe': 1.31, 'Y': 1.63, 'Yb': 1.7,\n",
    "  'Zn': 1.18, 'Zr': 1.54\n",
    "}"
   ]
  },
  {
   "cell_type": "markdown",
   "metadata": {
    "deletable": true,
    "editable": true
   },
   "source": [
    "The following cell defines the pyykko radii matrix for exponentially scaling interactomic distances. In this $\\textrm{C}_{9}\\textrm{H}_{7}\\textrm{N}$ case, the pyykko bond lengths of C-H, C-N and C-C varys."
   ]
  },
  {
   "cell_type": "code",
   "execution_count": 4,
   "metadata": {
    "collapsed": false,
    "deletable": true,
    "editable": true
   },
   "outputs": [
    {
     "data": {
      "text/plain": [
       "<matplotlib.axes._subplots.AxesSubplot at 0x7f4112e48ef0>"
      ]
     },
     "execution_count": 4,
     "metadata": {},
     "output_type": "execute_result"
    },
    {
     "data": {
      "image/png": "[encoded data removed]",
      "text/plain": [
       "<matplotlib.figure.Figure at 0x7f4112e48748>"
      ]
     },
     "metadata": {},
     "output_type": "display_data"
    }
   ],
   "source": [
    "plt.rcParams[\"figure.figsize\"] = [8, 6]\n",
    "factor = 1.5\n",
    "pyykko_radii = {\"N\": 0.71, \"C\": 0.75, \"H\": 0.32}\n",
    "species = [\"N\"] + list(repeat(\"C\", 9)) + list(repeat(\"H\", 7))\n",
    "rr = np.asarray([pyykko_radii[specie] for specie in species])[:, np.newaxis]\n",
    "lmat = factor * (rr + rr.T).flatten()\n",
    "sns.heatmap(lmat.reshape((17, 17)), xticklabels=species, yticklabels=species)"
   ]
  },
  {
   "cell_type": "markdown",
   "metadata": {
    "deletable": true,
    "editable": true
   },
   "source": [
    "Invoke the interactive session"
   ]
  },
  {
   "cell_type": "code",
   "execution_count": 5,
   "metadata": {
    "collapsed": false,
    "deletable": true,
    "editable": true
   },
   "outputs": [],
   "source": [
    "graph = tf.Graph()\n",
    "sess = tf.InteractiveSession(graph=graph)"
   ]
  },
  {
   "cell_type": "markdown",
   "metadata": {
    "deletable": true,
    "editable": true
   },
   "source": [
    "Some global helper functions are declared here."
   ]
  },
  {
   "cell_type": "code",
   "execution_count": 6,
   "metadata": {
    "collapsed": true,
    "deletable": true,
    "editable": true
   },
   "outputs": [],
   "source": [
    "def brange(start, stop, batchsize):\n",
    "  \"\"\"\n",
    "  Range from `start` to `stop` given a batch size and return the start and stop of each batch.\n",
    "  \n",
    "  Args:\n",
    "    start: int, the start number of a sequence.\n",
    "    stop: int, the end number of a sequence.\n",
    "    batchsize: int, the size of each batch.\n",
    "  \n",
    "  \"\"\"\n",
    "  istart = start\n",
    "  while istart < stop:\n",
    "    istop = min(istart + batchsize, stop)\n",
    "    yield istart, istop\n",
    "    istart = istop\n",
    "\n",
    "\n",
    "def exponential(x, l=4.0):\n",
    "  \"\"\"\n",
    "  Exponentially scale the input value(s).  \n",
    "  \"\"\"\n",
    "  return np.exp(-x / l)\n",
    "\n",
    "\n",
    "def md5(filename):\n",
    "  \"\"\" \n",
    "  Return the md5 checksum of the given file.\n",
    "\n",
    "  Args:\n",
    "    filename: a file.\n",
    "\n",
    "  Returns:\n",
    "    checksum: the MD5 checksum of the file.\n",
    "\n",
    "  \"\"\"\n",
    "  hash_md5 = hashlib.md5()\n",
    "  with open(filename, \"rb\") as f:\n",
    "    for chunk in iter(lambda: f.read(4096), b\"\"):\n",
    "      hash_md5.update(chunk)\n",
    "  return hash_md5.hexdigest()\n",
    "\n",
    "\n",
    "def root_mean_squred(x):\n",
    "  \"\"\"\n",
    "  Return the root mean squared of the given array.\n",
    "  \"\"\"\n",
    "  return np.sqrt(np.mean(np.square(x)))\n",
    "\n",
    "\n",
    "def mean_abs_error(y_true, y_pred):\n",
    "  \"\"\"\n",
    "  Return the mean absolute error.\n",
    "  \"\"\"\n",
    "  return np.mean(np.abs(y_true - y_pred))\n",
    "\n",
    "\n",
    "def get_time_id():\n",
    "  \"\"\"\n",
    "  Return a string as the ID of this run.\n",
    "  \"\"\"\n",
    "  return datetime.strftime(datetime.fromtimestamp(time.time()), \"%m%d%H%M\")\n",
    "\n",
    "\n",
    "def get_pyykko_scaling_matrix(species, factor=1.5, flat=True):\n",
    "  \"\"\"\n",
    "  Return the pyykko-bond-length based scaling matrix.\n",
    "  \n",
    "  Args:\n",
    "    species: List[str], a list of species.\n",
    "  \n",
    "  \"\"\"\n",
    "  rr = np.asarray([pyykko_radii[specie] for specie in species])[:, np.newaxis]\n",
    "  lmat = factor * (rr + rr.T)\n",
    "  if flat:\n",
    "    return lmat.flatten()\n",
    "  else:\n",
    "    return lmat\n",
    "\n",
    "\n",
    "def smooth(x, window_len=11, window='hanning'):\n",
    "  \"\"\"\n",
    "  smooth the data using a window with requested size.\n",
    "\n",
    "  This method is based on the convolution of a scaled window with the signal.\n",
    "  The signal is prepared by introducing reflected copies of the signal\n",
    "  (with the window size) in both ends so that transient parts are minimized\n",
    "  in the begining and end part of the output signal.\n",
    "\n",
    "  Args:\n",
    "    x: the input signal\n",
    "    window_len: the dimension of the smoothing window; should be an odd integer\n",
    "    window: the type of window from 'flat', 'hanning', 'hamming', 'bartlett', 'blackman' \n",
    "      flat window will produce a moving average smoothing.\n",
    "\n",
    "  output:\n",
    "    the smoothed signal\n",
    "  \"\"\"\n",
    "\n",
    "  if x.ndim != 1:\n",
    "    raise ValueError(\"smooth only accepts 1 dimension arrays.\")\n",
    "\n",
    "  if x.size < window_len:\n",
    "    raise ValueError(\"Input vector needs to be bigger than window size.\")\n",
    "\n",
    "  if window_len < 3:\n",
    "    return x\n",
    "\n",
    "  if not window in ['flat', 'hanning', 'hamming', 'bartlett', 'blackman']:\n",
    "    raise ValueError(\"Window is on of 'flat', 'hanning', 'hamming', 'bartlett', 'blackman'\")\n",
    "\n",
    "  s = np.r_[x[window_len-1:0:-1],x,x[-1:-window_len:-1]]\n",
    "  if window == 'flat':\n",
    "    w = np.ones(window_len,'d')\n",
    "  else:\n",
    "    w = eval('np.'+ window +'(window_len)')\n",
    "\n",
    "  return np.convolve(w / w.sum(), s, mode='valid')"
   ]
  },
  {
   "cell_type": "markdown",
   "metadata": {
    "deletable": true,
    "editable": true
   },
   "source": [
    "## 3. Inference"
   ]
  },
  {
   "cell_type": "markdown",
   "metadata": {
    "deletable": true,
    "editable": true
   },
   "source": [
    "This convnet is a slightly different from normal convolutionary neural networks. Suppose N is the batch size:\n",
    "\n",
    "* The shape of the input tensor is: $[N, 1, C_{N}^{k}, C_{k}^{2}]$\n",
    "* The **k** defines the many-body expansion. In this paper, k is selected to be 4.\n",
    "* The patch (kernel) is always 1x1.\n",
    "* The padding scheme is 'SAME' and the strides are 1 in both directions.\n",
    "* A shape transpose action should be taken between layer 4 and 5.\n"
   ]
  },
  {
   "cell_type": "markdown",
   "metadata": {
    "deletable": true,
    "editable": true
   },
   "source": [
    "In this section we define some local helper functions."
   ]
  },
  {
   "cell_type": "code",
   "execution_count": 7,
   "metadata": {
    "collapsed": true,
    "deletable": true,
    "editable": true
   },
   "outputs": [],
   "source": [
    "def variable_summaries(tensor):\n",
    "  \"\"\"\n",
    "  Attach a lot of summaries to a Tensor (for TensorBoard visualization).\n",
    "\n",
    "  Args:\n",
    "    tensor: a Tensor.\n",
    "\n",
    "  \"\"\"\n",
    "  with tf.name_scope('summaries'):\n",
    "    mean = tf.reduce_mean(tensor)\n",
    "    tf.summary.scalar('mean', mean)\n",
    "    with tf.name_scope('stddev'):\n",
    "      stddev = tf.sqrt(tf.reduce_mean(tf.square(tf.subtract(tensor, mean))))\n",
    "      tf.summary.scalar('stddev', stddev)\n",
    "    tf.summary.scalar('max', tf.reduce_max(tensor))\n",
    "    tf.summary.scalar('min', tf.reduce_min(tensor))\n",
    "    tf.summary.histogram('histogram', tensor)\n",
    "\n",
    "    \n",
    "def print_activations(t):\n",
    "  \"\"\"\n",
    "  Print the name and shape of the input Tensor.\n",
    "\n",
    "  Args:\n",
    "    t: a Tensor.\n",
    "\n",
    "  \"\"\"\n",
    "  dims = \",\".join([\"%5d\" % dim for dim in t.get_shape().as_list()])\n",
    "  print(\"%-21s : [%s]\" % (t.op.name, dims))"
   ]
  },
  {
   "cell_type": "markdown",
   "metadata": {
    "deletable": true,
    "editable": true
   },
   "source": [
    "All layers except the last in this MBE-NN network are convolutionary layers. The activation functions are ``tanh`` and ``softplus`` and there is no pooling operation before the output layer. So this function is used to create the conv2d layers of this network."
   ]
  },
  {
   "cell_type": "code",
   "execution_count": 8,
   "metadata": {
    "collapsed": false,
    "deletable": true,
    "editable": true
   },
   "outputs": [],
   "source": [
    "def mbe_conv2d(tensor, n_in, n_out, name, activate=tf.tanh, verbose=True):\n",
    "  \"\"\" A lazy inner function to create a `tf.nn.conv2d` Tensor.\n",
    "\n",
    "  Args:\n",
    "    tensor: a Tensor, [index, 1, w, n_in]\n",
    "    n_in: the number of input channels.\n",
    "    n_out: the number of output channels.\n",
    "    name: the name of this layer.\n",
    "    activate: the activation function, defaults to `tf.tanh`.\n",
    "    verbose: print the layer if True\n",
    "\n",
    "  Returns:\n",
    "    activated: a Tensor of activated `tf.nn.conv2d`.\n",
    "\n",
    "  \"\"\"\n",
    "  with tf.name_scope(name):\n",
    "    with tf.name_scope(\"filter\"):\n",
    "      kernel = tf.Variable(\n",
    "        tf.truncated_normal(\n",
    "          [1, 1, n_in, n_out], stddev=0.1, seed=SEED, dtype=TF_TYPE), \n",
    "        name=\"kernel\")\n",
    "      variable_summaries(kernel)\n",
    "    conv = tf.nn.conv2d(\n",
    "      tensor, kernel, [1, 1, 1, 1], padding=\"SAME\", use_cudnn_on_gpu=CUDA_ON)\n",
    "    with tf.name_scope(\"biases\"):\n",
    "      biases = tf.Variable(\n",
    "        tf.zeros([n_out], dtype=TF_TYPE), name=\"biases\")\n",
    "      variable_summaries(biases)\n",
    "    bias = tf.nn.bias_add(conv, biases)\n",
    "    activated = activate(bias)\n",
    "    if verbose:\n",
    "      print_activations(activated)\n",
    "  return activated"
   ]
  },
  {
   "cell_type": "markdown",
   "metadata": {
    "deletable": true,
    "editable": true
   },
   "source": [
    "Now we can infer the MBE-NN neural network. "
   ]
  },
  {
   "cell_type": "code",
   "execution_count": 9,
   "metadata": {
    "collapsed": false,
    "deletable": true,
    "editable": true
   },
   "outputs": [],
   "source": [
    "def inference(input_tensor, keep_prob, dims=None, verbose=True):\n",
    "  \"\"\"\n",
    "  Return the infered MBE-NN-M deep neural network model.\n",
    "\n",
    "  Args:\n",
    "    input_tensor: a 4D dataset Tensor as the input layer, [batch, 1, C(N,k), C(k,2)]\n",
    "    keep_prob: a float tensor for dropout layers.\n",
    "    dims: List[int], a list of major dimensions. If None, the default \n",
    "      [40, 60, 70, 2, 40, 10] will be used.\n",
    "    verbose: print layer details if True.\n",
    "\n",
    "  Returns:\n",
    "    pool: the last Tensor of `tf.nn.avg_pool`, [batch, 1, 1, 1]\n",
    "\n",
    "  References:\n",
    "    Alexandrova, A. N. (2016). http://doi.org/10.1021/acs.jctc.6b00994\n",
    "\n",
    "  \"\"\"\n",
    "  if verbose:\n",
    "    print(\"-> Inference the MBE-NN-M model ...\")\n",
    "    print(\"\")\n",
    "  \n",
    "  if dims is None:\n",
    "    dims = [40, 60, 70, 2, 40, 10]\n",
    "\n",
    "  # Build the first three MBE layers.\n",
    "  # The shape of the input data tensor is [n, 1, C(N,k), C(k,2)].\n",
    "  # To fit Fk, the NN connection is localized in the second dimension, and the\n",
    "  # layer size of the first dimension is kept fixed. The weights and biases of\n",
    "  # NN connection are shared among different indices of the first dimension,\n",
    "  # so that the fitted function form of Fk is kept consistent among different\n",
    "  # k-body terms. The MBE part is composed of four layers with the following\n",
    "  # sizes:\n",
    "  # (C(N,k), C(k,2)) - (C(N,k), 40) - (C(N,k), 70) - (C(N,k), 60) - (C(N,k), 2).\n",
    "  conv1 = mbe_conv2d(\n",
    "    input_tensor, \n",
    "    CK2, \n",
    "    dims[0], \n",
    "    \"Conv1\", \n",
    "    activate=tf.nn.tanh\n",
    "  )\n",
    "  \n",
    "  conv2 = mbe_conv2d(\n",
    "    conv1, \n",
    "    dims[0], \n",
    "    dims[1], \n",
    "    \"Conv2\", \n",
    "    activate=tf.nn.tanh\n",
    "  )\n",
    "  drop = tf.nn.dropout(conv2, keep_prob=keep_prob, name=\"drop2\")\n",
    "  \n",
    "  conv3 = mbe_conv2d(\n",
    "    drop, \n",
    "    dims[1], \n",
    "    dims[2], \n",
    "    \"Conv3\", \n",
    "    activate=tf.nn.tanh\n",
    "  )\n",
    "  \n",
    "  conv4 = mbe_conv2d(\n",
    "    conv3, \n",
    "    dims[2], \n",
    "    dims[3], \n",
    "    \"Conv4\", \n",
    "    activate=tf.nn.softplus\n",
    "  )\n",
    "  drop = tf.nn.dropout(conv4, keep_prob=keep_prob, name=\"drop4\")\n",
    "  \n",
    "  # Then we build the three mixing layers.\n",
    "  # The mixing part is used to fit G. Within this part the NN connection is\n",
    "  # localized in the first dimension, and the size of the second dimension is\n",
    "  # kept fixed. The parameters of NN connection in this part are shared among\n",
    "  # different indices of the second dimension. In this work, the mixing part is\n",
    "  # composed of two layers with the following sizes:\n",
    "  # (C(N, k), 2) - (40, 2) - (10, 2).  \n",
    "  reshape = tf.reshape(drop, (-1, 1, dims[3], CNK), name=\"h2dep\")\n",
    "  \n",
    "  conv5 = mbe_conv2d(\n",
    "    reshape, \n",
    "    CNK, \n",
    "    dims[4], \n",
    "    \"Conv5\", \n",
    "    activate=tf.nn.softplus\n",
    "  )\n",
    "  conv6 = mbe_conv2d(\n",
    "    conv5, \n",
    "    dims[4], \n",
    "    dims[5], \n",
    "    \"Conv6\", \n",
    "    activate=tf.nn.softplus\n",
    "  )\n",
    "  drop = tf.nn.dropout(conv6, keep_prob=keep_prob, name=\"drop6\")\n",
    "  \n",
    "  conv7 = mbe_conv2d(\n",
    "    drop,\n",
    "    dims[5],\n",
    "    100,\n",
    "    \"Conv7\",\n",
    "    activate=tf.nn.softplus\n",
    "  )\n",
    "\n",
    "  # The last part is used to transform the output of mixing part to a single\n",
    "  # value, representing the energy. The average-pooling is used, which means\n",
    "  # that we take the average value of all elements in the matrix of the previous\n",
    "  # layer as the final output. In this work, the pooling part is composed of one\n",
    "  # layer of the size:\n",
    "  # (10, 2) - (1).\n",
    "  flat = tf.contrib.layers.flatten(conv7)\n",
    "  return tf.reduce_mean(\n",
    "    flat, \n",
    "    axis=1, \n",
    "    name=\"y_predictions\",\n",
    "    keep_dims=True\n",
    "  )"
   ]
  },
  {
   "cell_type": "markdown",
   "metadata": {
    "deletable": true,
    "editable": true
   },
   "source": [
    "## 4. Preparing the Dataset"
   ]
  },
  {
   "cell_type": "markdown",
   "metadata": {
    "deletable": true,
    "editable": true
   },
   "source": [
    "### 4.1 Transformation"
   ]
  },
  {
   "cell_type": "markdown",
   "metadata": {
    "deletable": true,
    "editable": true
   },
   "source": [
    "It is known that Gaussian coordinates are not suitable to direcly used as input of NN. Therefor, two transformations are adapted here on the input sample data in Cartesian coordiantes $\\{r_{j}\\}$:\n",
    "\n",
    "1. Transform each set of combination indices $\\{j\\}$ ($k=4$) to interatomic distances $\\{d_{i,j}\\}$ ($C_{k}^{2}=6$). \n",
    "2. Dump these interatomic distances with the exponential function: $d_{i,j}' = e^{-d_{i,j}/L}$. $L$ is a fixed parameter and 4.0 was used in this paper.\n",
    "\n",
    "The following figure demonstrates the workflow of these transformations:\n",
    "\n",
    "<img src=\"./input_transform.png\" alt=\"Drawing\" style=\"width: 900px;\"/>\n",
    "\n",
    "The shape of the final input matrix should be: [1, $C_{N}^{k}$, $C_{k}^{2}$]\n",
    "\n",
    "* The width is 1\n",
    "* The height is $C_{N}^{k}$\n",
    "* The depth is $C_{k}^{2}$\n",
    "\n",
    "So that we can use it in a convolutionary neural network!"
   ]
  },
  {
   "cell_type": "code",
   "execution_count": 10,
   "metadata": {
    "collapsed": true,
    "deletable": true,
    "editable": true
   },
   "outputs": [],
   "source": [
    "def transform_coords(coords, chunksize, mapping, l=4.0, verbose=True):\n",
    "  \"\"\"\n",
    "  Transform the cartesian coordinates to input features.\n",
    "\n",
    "  Args:\n",
    "    coords: a 3D array with shape [M,N,3] representing the cartesian coordinates.\n",
    "    chunksize: the transformed array is too large. So save it piece by piece.\n",
    "    mapping: a `h5py.Dataset`, which is a symbolic to the real data on disk.\n",
    "    l: the exponential parameter.\n",
    "    verbose: print the transformation progress if True.\n",
    "\n",
    "  \"\"\"\n",
    "  ntotal, n = coords.shape[:2]\n",
    "  cnkv = comb(n, 4, exact=True)\n",
    "  ck2v = comb(4, 2, exact=True)\n",
    "  cnkl = list(combinations(range(NUM_SITES), 4))\n",
    "  # Using mapping indices can increase the speed 30 times!\n",
    "  indices = np.zeros((ck2v, cnkv), dtype=int)\n",
    "  for i in range(cnkv):\n",
    "    for j, (vi, vj) in enumerate(combinations(cnkl[i], 2)):\n",
    "      indices[j, i] = vi * n + vj\n",
    "  dataset = np.zeros((chunksize, 1, cnkv, ck2v), dtype=NP_TYPE)\n",
    "  tic = time.time()\n",
    "  if verbose:\n",
    "    print(\"Transform the cartesian coordinates ...\\n\")\n",
    "  for i, inext in brange(0, ntotal, chunksize):\n",
    "    for j in range(i, inext):\n",
    "      dists = pairwise_distances(coords[j]).flatten()\n",
    "      dists = exponential(dists, l=l)\n",
    "      for k in range(ck2v):\n",
    "        dataset[j - i, 0, :, k] = dists[indices[k]]\n",
    "      del dists\n",
    "    batch_size = inext - i\n",
    "    mapping[i: inext, ...] = dataset[:batch_size, ...]\n",
    "    if verbose:\n",
    "      sys.stdout.write(\"\\rProgress: %7d  /  %7d\" % (inext, ntotal))\n",
    "    dataset.fill(0.0)\n",
    "  del indices\n",
    "  del dataset\n",
    "  if verbose:\n",
    "    print(\"\")\n",
    "    print(\"Total time: %.3f s\\n\" % (time.time() - tic))"
   ]
  },
  {
   "cell_type": "markdown",
   "metadata": {
    "deletable": true,
    "editable": true
   },
   "source": [
    "### 4.2 Parsing"
   ]
  },
  {
   "cell_type": "markdown",
   "metadata": {
    "deletable": true,
    "editable": true
   },
   "source": [
    "Extract the XYZ coordinates and atomic symbols from the raw file. The raw file is not a standard XYZ file, so we need to write a helper function to do this."
   ]
  },
  {
   "cell_type": "code",
   "execution_count": 11,
   "metadata": {
    "collapsed": true,
    "deletable": true,
    "editable": true
   },
   "outputs": [],
   "source": [
    "def extract_xyz(filename, verbose=True):\n",
    "  \"\"\"\n",
    "  Extract symbols, coordiantes and forces (for later usage) from the raw file.\n",
    "  \n",
    "  Args:\n",
    "    filename: a str.\n",
    "    verbose: a bool.\n",
    "\n",
    "  Returns\n",
    "    energies: Array[N,]\n",
    "    coordinates: Array[N, 17, 3], a 3D array containing the atomic coordinates.\n",
    "    forces: Array[N, 17, 3], a 3D array containing the atomic forces.\n",
    "  \n",
    "  \"\"\"\n",
    "  group = \"raw\"\n",
    "  hdb = h5py.File(HDF5_DATABASE_FILE)\n",
    "  if group not in hdb:\n",
    "    hdb.create_group(group)\n",
    "  \n",
    "  try:\n",
    "    energies = hdb[group][\"energies\"][:]\n",
    "    coordinates = hdb[group][\"coordinates\"][:]\n",
    "    forces = hdb[group][\"forces\"][:]\n",
    "\n",
    "  except Exception:\n",
    "    energies = np.zeros((TOTAL_SIZE,), dtype=NP_TYPE)\n",
    "    coordinates = np.zeros((TOTAL_SIZE, NUM_SITES, 3), dtype=NP_TYPE)\n",
    "    forces = np.zeros((TOTAL_SIZE, NUM_SITES, 3), dtype=NP_TYPE)\n",
    "    stage = 0\n",
    "    i = 0\n",
    "    j = 0\n",
    "    energy_patt = re.compile(r\".*energy=([\\d.-]+).*\")\n",
    "    string_patt = re.compile(r\"([A-Za-z]{1,2})\\s+([\\d.-]+)\\s+([\\d.-]+)\\s+([\\d.-]+)\\s+\"\n",
    "                              \"\\d+\\s+\\d.\\d+\\s+\\d+\\s+([\\d.-]+)\\s+([\\d.-]+)\\s+([\\d.-]+)\")\n",
    "    tic = time.time()\n",
    "    if verbose:\n",
    "      sys.stdout.write(\"Extract cartesian coordinates ...\\n\")\n",
    "    with open(filename) as f:\n",
    "      for line in f:\n",
    "        if i == TOTAL_SIZE:\n",
    "          break\n",
    "        l = line.strip()\n",
    "        if l == \"\":\n",
    "          continue\n",
    "        if stage == 0:\n",
    "          if l.isdigit():\n",
    "            n = int(l)\n",
    "            if n != NUM_SITES:\n",
    "              raise ValueError(\"The parsed size %d != NUM_SITES\" % n)\n",
    "            stage += 1\n",
    "        elif stage == 1:\n",
    "          m = energy_patt.search(l)\n",
    "          if m:\n",
    "            energies[i] = float(m.group(1))\n",
    "            stage += 1\n",
    "        elif stage == 2:\n",
    "          m = string_patt.search(l)\n",
    "          if m:\n",
    "            coordinates[i, j, :] = float(m.group(2)), float(m.group(3)), float(m.group(4))\n",
    "            forces[i, j, :] = float(m.group(5)), float(m.group(6)), float(m.group(7))\n",
    "            j += 1\n",
    "            if j == NUM_SITES:\n",
    "              j = 0\n",
    "              stage = 0\n",
    "              i += 1\n",
    "              if verbose and i % 1000 == 0:\n",
    "                sys.stdout.write(\"\\rProgress: %7d  /  %7d\" % (i, TOTAL_SIZE))\n",
    "      if verbose:\n",
    "        print(\"\")\n",
    "        print(\"Total time: %.3f s\\n\" % (time.time() - tic))\n",
    "      hdb[group].create_dataset(\"energies\", data=energies)\n",
    "      hdb[group].create_dataset(\"coordinates\", data=coordinates)\n",
    "      hdb[group].create_dataset(\"forces\", data=forces)\n",
    "  \n",
    "  finally:\n",
    "    hdb.close()\n",
    "  \n",
    "  return energies, coordinates, forces"
   ]
  },
  {
   "cell_type": "code",
   "execution_count": 12,
   "metadata": {
    "collapsed": false,
    "deletable": true,
    "editable": true
   },
   "outputs": [
    {
     "data": {
      "text/plain": [
       "<matplotlib.text.Text at 0x7f41105ce278>"
      ]
     },
     "execution_count": 12,
     "metadata": {},
     "output_type": "execute_result"
    },
    {
     "data": {
      "image/png": "[encoded data removed]",
      "text/plain": [
       "<matplotlib.figure.Figure at 0x7f4148ddd358>"
      ]
     },
     "metadata": {},
     "output_type": "display_data"
    }
   ],
   "source": [
    "energies, coordinates, _ = extract_xyz(XYZ_FILE)\n",
    "ax = sns.distplot(energies)\n",
    "ax.set_xlabel(\"DFTB Energy (eV)\", fontsize=14)\n",
    "ax.set_ylabel(\"Probablity\", fontsize=14)"
   ]
  },
  {
   "cell_type": "markdown",
   "metadata": {
    "deletable": true,
    "editable": true
   },
   "source": [
    "### 4.3 Building"
   ]
  },
  {
   "cell_type": "markdown",
   "metadata": {
    "deletable": true,
    "editable": true
   },
   "source": [
    "Build the dataset and split it into training, validation and testing datasets:\n",
    "\n",
    "1. Initialize a new hdf5 file if it can not be accessed.\n",
    "1. Extract symbols, energies, atomic coordinates and forces from the file.\n",
    "2. Transform and scale the coordinates to build the 4D array $[N, 1, C_{N}^{k}, C_{k}^{2}]$.\n",
    "\n",
    "**Warning: in this case ($\\textrm{C}_{9}\\textrm{H}_{7}\\textrm{N}$), all samples are considered unique!**"
   ]
  },
  {
   "cell_type": "code",
   "execution_count": 13,
   "metadata": {
    "collapsed": true,
    "deletable": true,
    "editable": true
   },
   "outputs": [],
   "source": [
    "def may_build_dataset(filename, l=4.0, verbose=True):\n",
    "  \"\"\"\n",
    "  Build the training, validation and testing dataset and targets from a XYZ file.\n",
    "\n",
    "  Args:\n",
    "    filename: str, a file with CP2K/XYZ format.\n",
    "    l: float, the exponential parameter.\n",
    "    verbose: bool, print the building progress if True.\n",
    "\n",
    "  Returns:\n",
    "    features: a 4D array as the transformed input features.\n",
    "    targets: a 2D array as the scaled ([0, 1]) targets.\n",
    "    scaler: a ``sklearn.preprocessing.MinMaxScaler``.\n",
    "\n",
    "  \"\"\"\n",
    "  # Compute the MD5 checksum of the xyzfile\n",
    "  checksum = md5(filename)\n",
    "\n",
    "  if verbose:\n",
    "    print(\"-> Load the training, validation and testing datasets ...\\n\")\n",
    "\n",
    "  coords, energies = None, None\n",
    "  features, targets = None, None\n",
    "  backup_hdf5 = False\n",
    "  extract_coords = True\n",
    "  build_features = True\n",
    "\n",
    "  # If the HDF5 file is already existed, we try to load dataset and targets from\n",
    "  # the HDF5 file directly if the checksums are equal.\n",
    "  if isfile(HDF5_DATABASE_FILE):\n",
    "    with h5py.File(HDF5_DATABASE_FILE, \"r\") as hdb:\n",
    "      if hdb.attrs.get(\"checksum\", 0) == checksum:\n",
    "        # There are two main groups in this HDF5 file:\n",
    "        # 1. the first group is 'train' where training data and training targets\n",
    "        # are stored.\n",
    "        if \"train\" in hdb:\n",
    "          features = hdb[\"train\"][\"dataset\"][:LOAD_SIZE]\n",
    "          targets = hdb[\"train\"][\"targets\"][:LOAD_SIZE]\n",
    "          build_features = False\n",
    "          extract_coords = False\n",
    "        # 2. the second group is 'unique' where uniquified cartesian coordinates\n",
    "        # and their energies extracted from a CP2K/XYZ file are saved.\n",
    "        elif \"unique\" in hdb.keys():\n",
    "          coords = hdb[\"unique\"][\"coords\"][:]\n",
    "          energies = hdb[\"unique\"][\"energies\"][:]\n",
    "          extract_coords = False\n",
    "      # The checksum are not equal, so we backup the existed HDF5 databse by\n",
    "      # renaming it.\n",
    "      else:\n",
    "        backup_hdf5 = True\n",
    "    if backup_hdf5:\n",
    "      if verbose:\n",
    "        print(\"MD5 checksums mismatched. Build a new dataset.\\n\")\n",
    "      shutil.move(HDF5_DATABASE_FILE, HDF5_DATABASE_FILE + \".bak\")\n",
    "\n",
    "  # Extract the raw cartesian coordinates and energis (eV) from the CP2K/XYZ\n",
    "  # file and save these data into group 'raw'. All data are compressed with the\n",
    "  # lossless gzip filter.\n",
    "  if extract_coords:\n",
    "    energies, coords, _ = extract_xyz(filename, verbose=verbose)\n",
    "    # Remove the duplicates to reduce the dataset\n",
    "    # coords, energies = remove_duplicates(coords, energies, verbose=verbose)\n",
    "    with h5py.File(HDF5_DATABASE_FILE) as hdb:\n",
    "      # Delete the previous group `unique`. This should not happen, but it may\n",
    "      # be inserted manually for debugging.\n",
    "      group = \"unique\"\n",
    "      if group in hdb.keys():\n",
    "        del hdb[group]\n",
    "      hdb.attrs[\"checksum\"] = checksum\n",
    "      hdb.create_group(group)\n",
    "      hdb[group].create_dataset(\"coords\", data=coords, compression=\"gzip\")\n",
    "      hdb[group].create_dataset(\"energies\", data=energies, compression=\"gzip\")\n",
    "  elif verbose:\n",
    "    print(\"Use existed coordinates and energies.\\n\")\n",
    "\n",
    "  # Transform the cartesian coordinates to a 4D dataset. Permute this dataset\n",
    "  # several times and then we split it into three parts: training, validation\n",
    "  # and testing. Save these datasets and their targets into group 'cnn'.\n",
    "  if build_features:\n",
    "    # Allocate the disk space and then write transformed data piece by piece\n",
    "    # because my little computer only has 16GB memory.\n",
    "    shape = [len(energies), 1, comb(NUM_SITES, 4, True), comb(4, 2, True)]\n",
    "    hdb = h5py.File(HDF5_DATABASE_FILE)\n",
    "    try:\n",
    "      group = hdb.require_group(\"train\")\n",
    "      group.create_dataset(\"targets\", data=energies)\n",
    "      mapping = group.create_dataset(\n",
    "        \"dataset\", shape=shape, dtype=np.float32)\n",
    "      # Set the chunksize to 10000.\n",
    "      chunksize = 10000\n",
    "      transform_coords(coords, chunksize, mapping, l=l, verbose=verbose)\n",
    "    except Exception as excp:\n",
    "      del hdb[\"train\"]\n",
    "      raise excp\n",
    "    finally:\n",
    "      hdb.close()\n",
    "    # After the transformation we now load the whole dataset into memory.\n",
    "    with h5py.File(HDF5_DATABASE_FILE) as hdb:\n",
    "      features = hdb[\"train\"][\"dataset\"][:LOAD_SIZE]\n",
    "      targets = np.array(energies[:LOAD_SIZE], copy=False)\n",
    "    if verbose:\n",
    "      print(\"Dataset size (MB)     : \", features.nbytes / 1024 / 1024)\n",
    "      print(\"Targets size (MB)     : \", targets.nbytes / 1024 / 1024)\n",
    "      print(\"\")\n",
    "    del coords\n",
    "  elif verbose:\n",
    "    print(\"Use existed features and targets.\\n\")\n",
    "\n",
    "  # Determine the maximum and minimum energy. The energies should be scaled to\n",
    "  # [0, 1] during training.\n",
    "  scaler = MinMaxScaler()\n",
    "  targets = scaler.fit_transform(np.atleast_2d(targets).T)\n",
    "\n",
    "  if verbose:\n",
    "    print(\"-> Datasets and targets are loaded into memories.\")\n",
    "    print(\"\")\n",
    "  return features, targets, scaler"
   ]
  },
  {
   "cell_type": "code",
   "execution_count": 14,
   "metadata": {
    "collapsed": false,
    "deletable": true,
    "editable": true
   },
   "outputs": [
    {
     "name": "stdout",
     "output_type": "stream",
     "text": [
      "-> Load the training, validation and testing datasets ...\n",
      "\n",
      "Use existed coordinates and energies.\n",
      "\n",
      "Use existed features and targets.\n",
      "\n",
      "-> Datasets and targets are loaded into memories.\n",
      "\n"
     ]
    }
   ],
   "source": [
    "features, targets, scaler = may_build_dataset(XYZ_FILE, l=lmat)"
   ]
  },
  {
   "cell_type": "markdown",
   "metadata": {
    "deletable": true,
    "editable": true
   },
   "source": [
    "### 4.4 Preprocessing"
   ]
  },
  {
   "cell_type": "markdown",
   "metadata": {
    "deletable": true,
    "editable": true
   },
   "source": [
    "In this section further data preprocessing procedures will be taken. See http://cs231n.github.io/neural-networks-2/#batchnorm for explanantions.\n",
    "\n",
    "Before preprocessing, let's first demonstrate the value distributions of the features:"
   ]
  },
  {
   "cell_type": "code",
   "execution_count": 15,
   "metadata": {
    "collapsed": false,
    "deletable": true,
    "editable": true
   },
   "outputs": [
    {
     "data": {
      "text/plain": [
       "<matplotlib.axes._subplots.AxesSubplot at 0x7f410c4a3e10>"
      ]
     },
     "execution_count": 15,
     "metadata": {},
     "output_type": "execute_result"
    },
    {
     "data": {
      "image/png": "[encoded data removed]",
      "text/plain": [
       "<matplotlib.figure.Figure at 0x7f410c3fb048>"
      ]
     },
     "metadata": {},
     "output_type": "display_data"
    }
   ],
   "source": [
    "sns.distplot(features.flatten()[::20])"
   ]
  },
  {
   "cell_type": "markdown",
   "metadata": {
    "deletable": true,
    "editable": true
   },
   "source": [
    "Then, before we start training, the dataset should also be splited. ``sklearn.model_selection.train_test_split`` can be used to achieve this. Remember to set the random state!\n",
    "\n",
    "Some important notes:\n",
    "\n",
    "1. **In practice: ** it is very important to zero-center the data.\n",
    "2. **Common pitfall: ** An important point to make about the preprocessing is that any preprocessing statistics (e.g. the data mean) must only be computed on the training data, and then applied to the validation / test data. E.g. computing the mean and subtracting it from every image across the entire dataset and then splitting the data into train/val/test splits would be a mistake. Instead, the mean must be computed only over the training data and then subtracted equally from all splits (train/val/test).\n"
   ]
  },
  {
   "cell_type": "code",
   "execution_count": 16,
   "metadata": {
    "collapsed": true,
    "deletable": true,
    "editable": true
   },
   "outputs": [],
   "source": [
    "# Split the datatset into training and testing datasets.\n",
    "X_train, X_test, y_train, y_test = train_test_split(\n",
    "  features, \n",
    "  targets, \n",
    "  random_state=SEED, \n",
    "  test_size=TEST_SIZE\n",
    ")\n",
    "\n",
    "# Further split the training dataset into training and validation datasets.\n",
    "# X_train, X_valid, y_train, y_valid = train_test_split(X_train, y_train, random_state=SEED, test_size=0.1)\n",
    "\n",
    "# Make the data zero-centered.\n",
    "if ZERO_CENTER:\n",
    "  mean = X_train.mean()\n",
    "  X_train -= mean\n",
    "  X_test -= mean"
   ]
  },
  {
   "cell_type": "markdown",
   "metadata": {
    "deletable": true,
    "editable": true
   },
   "source": [
    "Display the value distributions of ``X_train`` and ``X_test``."
   ]
  },
  {
   "cell_type": "code",
   "execution_count": 17,
   "metadata": {
    "collapsed": false,
    "deletable": true,
    "editable": true
   },
   "outputs": [
    {
     "data": {
      "text/plain": [
       "<matplotlib.text.Text at 0x7f410c2a9cf8>"
      ]
     },
     "execution_count": 17,
     "metadata": {},
     "output_type": "execute_result"
    },
    {
     "data": {
      "image/png": "[encoded data removed]",
      "text/plain": [
       "<matplotlib.figure.Figure at 0x7f410c3ce208>"
      ]
     },
     "metadata": {},
     "output_type": "display_data"
    }
   ],
   "source": [
    "fig, axes = plt.subplots(1, 2, figsize=[14, 7])\n",
    "\n",
    "ax = sns.distplot(X_train.flatten()[::20], ax=axes[0])\n",
    "ax.set_xlabel(\"Scaled Distance\", fontsize=12)\n",
    "ax.set_ylabel(\"Relative Numbers\", fontsize=12)\n",
    "ax.set_title(\"X_train\", fontsize=14)\n",
    "\n",
    "ax = sns.distplot(X_test.flatten()[::2], ax=axes[1])\n",
    "ax.set_xlabel(\"Scaled Distance\", fontsize=12)\n",
    "ax.set_ylabel(\"Relative Numbers\", fontsize=12)\n",
    "ax.set_title(\"X_test\", fontsize=14)"
   ]
  },
  {
   "cell_type": "markdown",
   "metadata": {
    "deletable": true,
    "editable": true
   },
   "source": [
    "## 5. Training"
   ]
  },
  {
   "cell_type": "markdown",
   "metadata": {
    "deletable": true,
    "editable": true
   },
   "source": [
    "Now we can start training this network. The training settings defined in this paper are summerized here:\n",
    "\n",
    "* Root-mean-squared loss.\n",
    "* Mini-batch stochastic gradient descent with momentum\n",
    "     * Batch size: 50.\n",
    "     * Momentum factor: 0.7.\n",
    "* Step Decay Function: $s_{i} = s_{0}r/(r + i)$\n",
    "     * $s_0$ is the initial step length, which is 0.1 in this paper.\n",
    "     * r is a predefined factor and r = 60 in this paper.\n",
    "* Regularization factor is not mentioned in this paper.\n",
    "     * $\\lambda$ is set to None.\n",
    "* The exponentia ldecay rate is 0.9 in this implementaion.\n",
    "* The total number of epochs for the reference dataset is 1400.\n",
    "\n",
    "These parameters are declared in the following section:"
   ]
  },
  {
   "cell_type": "code",
   "execution_count": 18,
   "metadata": {
    "collapsed": true,
    "deletable": true,
    "editable": true
   },
   "outputs": [],
   "source": [
    "batch_size = 50\n",
    "momentum_factor = 0.7\n",
    "start_learning_rate = 0.1\n",
    "decay_rate = 0.9\n",
    "decay_factor = 100\n",
    "rlambda = None"
   ]
  },
  {
   "cell_type": "markdown",
   "metadata": {
    "deletable": true,
    "editable": true
   },
   "source": [
    "### 5.1 Setup"
   ]
  },
  {
   "cell_type": "markdown",
   "metadata": {
    "deletable": true,
    "editable": true
   },
   "source": [
    "Now we can begin the training. Initialize a new ``graph`` and use it as the default graph. Then we get the infered network."
   ]
  },
  {
   "cell_type": "code",
   "execution_count": 19,
   "metadata": {
    "collapsed": false,
    "deletable": true,
    "editable": true
   },
   "outputs": [
    {
     "name": "stdout",
     "output_type": "stream",
     "text": [
      "-> Inference the MBE-NN-M model ...\n",
      "\n",
      "Conv1/Tanh            : [   50,    1, 2380,   40]\n",
      "Conv2/Tanh            : [   50,    1, 2380,   70]\n",
      "Conv3/Tanh            : [   50,    1, 2380,   60]\n",
      "Conv4/Softplus        : [   50,    1, 2380,    2]\n",
      "Conv5/Softplus        : [   50,    1,    2,  200]\n",
      "Conv6/Softplus        : [   50,    1,    2,  100]\n",
      "Conv7/Softplus        : [   50,    1,    2,  100]\n"
     ]
    }
   ],
   "source": [
    "X_batch = tf.placeholder(TF_TYPE, [batch_size, 1, CNK, CK2], name=\"X_batch\")\n",
    "y_batch = tf.placeholder(TF_TYPE, [batch_size, 1], name=\"y_batch\")\n",
    "keep_prob = tf.placeholder(TF_TYPE, name=\"keep_prob\")\n",
    "\n",
    "estimates = inference(X_batch, keep_prob, dims=[40, 70, 60, 2, 200, 100])"
   ]
  },
  {
   "cell_type": "markdown",
   "metadata": {
    "deletable": true,
    "editable": true
   },
   "source": [
    "Add helper functions to visualize the graph. These codes are copied from the official example **deepdream**. Uncomment the last line can display the network graph inline."
   ]
  },
  {
   "cell_type": "code",
   "execution_count": 20,
   "metadata": {
    "collapsed": false,
    "deletable": true,
    "editable": true
   },
   "outputs": [],
   "source": [
    "def strip_consts(graph_def, max_const_size=32):\n",
    "  \"\"\"\n",
    "  Strip large constant values from graph_def.\n",
    "  \"\"\"\n",
    "  strip_def = tf.GraphDef()\n",
    "  for n0 in graph_def.node:\n",
    "    n = strip_def.node.add() \n",
    "    n.MergeFrom(n0)\n",
    "    if n.op == 'Const':\n",
    "      tensor = n.attr['value'].tensor\n",
    "      size = len(tensor.tensor_content)\n",
    "      if size > max_const_size:\n",
    "        tensor.tensor_content = \"<stripped %d bytes>\"%size\n",
    "  return strip_def\n",
    "\n",
    "def show_graph(graph_def, max_const_size=32):\n",
    "  \"\"\"\n",
    "  Visualize TensorFlow graph.\n",
    "  \"\"\"\n",
    "  if hasattr(graph_def, 'as_graph_def'):\n",
    "    graph_def = graph_def.as_graph_def()\n",
    "  strip_def = strip_consts(graph_def, max_const_size=max_const_size)\n",
    "  code = \"\"\"\n",
    "    <script src=\"//cdnjs.cloudflare.com/ajax/libs/polymer/0.3.3/platform.js\"></script>\n",
    "    <script>\n",
    "      function load() {{\n",
    "        document.getElementById(\"{id}\").pbtxt = {data};\n",
    "      }}\n",
    "    </script>\n",
    "    <link rel=\"import\" href=\"https://tensorboard.appspot.com/tf-graph-basic.build.html\" onload=load()>\n",
    "    <div style=\"height:600px\">\n",
    "    <tf-graph-basic id=\"{id}\"></tf-graph-basic>\n",
    "    </div>\n",
    "  \"\"\".format(data=repr(str(strip_def)), id='graph'+str(np.random.rand()))\n",
    "  iframe = \"\"\"\n",
    "    <iframe seamless style=\"width:1200px;height:620px;border:0\" srcdoc=\"{}\"></iframe>\n",
    "  \"\"\".format(code.replace('\"', '&quot;'))\n",
    "  display(HTML(iframe))\n",
    "\n",
    "# Uncomment the following line to visualize the graph in this notebook. \n",
    "# show_graph(graph.as_graph_def())"
   ]
  },
  {
   "cell_type": "markdown",
   "metadata": {
    "deletable": true,
    "editable": true
   },
   "source": [
    "Setup the total loss."
   ]
  },
  {
   "cell_type": "code",
   "execution_count": 21,
   "metadata": {
    "collapsed": false,
    "deletable": true,
    "editable": true
   },
   "outputs": [],
   "source": [
    "with tf.name_scope(\"loss\"):\n",
    "  rms = tf.sqrt(tf.losses.mean_squared_error(estimates, y_batch))\n",
    "  tf.summary.scalar(\"rms\", rms)\n",
    "  if rlambda is not None:\n",
    "    with tf.name_scope(\"regularizer\"):\n",
    "      r = tf.multiply(\n",
    "        tf.add_n(\n",
    "          [tf.nn.l2_loss(v) for v in tf.trainable_variables() \n",
    "           if \"bias\" not in v.name]), rlambda)\n",
    "      tf.summary.scalar(\"l2\", r)\n",
    "    loss = rms + r\n",
    "    tf.summary.scalar(\"loss\", loss)\n",
    "  else:\n",
    "    loss = rms"
   ]
  },
  {
   "cell_type": "markdown",
   "metadata": {
    "deletable": true,
    "editable": true
   },
   "source": [
    "Setup the learning rate decay and the momentum optimizer. The learning rate $r_i$ computed by the inverse decay function in this paper is implemented here:\n",
    "$$r_{i} = \\frac{rs_{0}}{r + i}$$\n",
    "where $i$ is the epoch, $r$ is a constant decay factor and $s_0$ is the initial learning rate. $r$ is set to 60 in this case."
   ]
  },
  {
   "cell_type": "code",
   "execution_count": 22,
   "metadata": {
    "collapsed": true,
    "deletable": true,
    "editable": true
   },
   "outputs": [],
   "source": [
    "def inverse_decay(init_learning_rate, epoch, decay_factor, name=None):\n",
    "  \"\"\"\n",
    "  The inverse decay function.\n",
    "  \n",
    "  Args:\n",
    "    init_learning_rate: A scalar `float32` or `float64` `Tensor` or a\n",
    "      Python number.  The initial learning rate.\n",
    "    global_epoch: A scalar `int32` or `int64` `Tensor` or a Python number.\n",
    "      Global epoch to use for the decay computation.  Must not be negative.\n",
    "    decay_factor: A scalar `int32` or `int64` `Tensor` or a Python number.\n",
    "      Must be positive.  See the decay equation above.\n",
    "    name: String.  Optional name of the operation.  Defaults to\n",
    "      'ExponentialDecay'.\n",
    "\n",
    "  Returns:\n",
    "    A scalar `Tensor` of the same type as `learning_rate`.  The decayed\n",
    "    learning rate.\n",
    "  \n",
    "  \"\"\"\n",
    "  if epoch is None:\n",
    "    raise ValueError(\"global_step is required for inv_decay.\")\n",
    "  with ops.name_scope(name, \"InvDecay\", \n",
    "                      [init_learning_rate, epoch, decay_factor]) as name:\n",
    "    init_learning_rate = ops.convert_to_tensor(\n",
    "      init_learning_rate, name=\"init_learning_rate\")\n",
    "    dtype = init_learning_rate.dtype\n",
    "    epoch = math_ops.cast(epoch, dtype)\n",
    "    decay_factor = math_ops.cast(decay_factor, dtype)\n",
    "    top = math_ops.multiply(init_learning_rate, decay_factor)\n",
    "    return math_ops.div(top, math_ops.add(epoch, decay_factor), name=name)"
   ]
  },
  {
   "cell_type": "code",
   "execution_count": 23,
   "metadata": {
    "collapsed": false,
    "deletable": true,
    "editable": true
   },
   "outputs": [],
   "source": [
    "global_epoch = tf.Variable(0, dtype=tf.int64, trainable=False, name=\"global_epoch\")\n",
    "global_epoch_op = tf.assign(global_epoch, global_epoch + 1)\n",
    "learning_rate = inverse_decay(start_learning_rate, global_epoch, decay_factor)\n",
    "tf.summary.scalar(\"learning_rate\", learning_rate)\n",
    "\n",
    "batch = tf.Variable(0, dtype=tf.int64, trainable=False)\n",
    "\n",
    "# learning_rate = tf.train.exponential_decay(\n",
    "#   start_learning_rate, \n",
    "#   tf.multiply(batch, batch_size), \n",
    "#   len(X_train), \n",
    "#   decay_rate,\n",
    "# )\n",
    "# Test the Adagrad optimzier\n",
    "# trainer = tf.train.AdagradDAOptimizer(\n",
    "#   learning_rate=learning_rate, \n",
    "#   initial_gradient_squared_accumulator_value=0.1,\n",
    "#   global_step=batch\n",
    "# )\n",
    "\n",
    "# Use the Momentum optimizer\n",
    "trainer = tf.train.MomentumOptimizer(learning_rate, momentum_factor)\n",
    "optimizer = trainer.minimize(loss, global_step=batch)\n",
    "\n",
    "# Merge all the summaries.\n",
    "merged = tf.summary.merge_all()\n",
    "writer = tf.summary.FileWriter(logdir=\"./events/%s\" % get_time_id(), graph=graph)"
   ]
  },
  {
   "cell_type": "markdown",
   "metadata": {
    "deletable": true,
    "editable": true
   },
   "source": [
    "### 5.2 Training"
   ]
  },
  {
   "cell_type": "markdown",
   "metadata": {
    "deletable": true,
    "editable": true
   },
   "source": [
    "These variabls control the key settings of a training."
   ]
  },
  {
   "cell_type": "code",
   "execution_count": 24,
   "metadata": {
    "collapsed": true,
    "deletable": true,
    "editable": true
   },
   "outputs": [],
   "source": [
    "num_epochs = 400\n",
    "log_frequency = 100\n",
    "eval_frequency = 400\n",
    "save_frequency = 2000"
   ]
  },
  {
   "cell_type": "markdown",
   "metadata": {
    "deletable": true,
    "editable": true
   },
   "source": [
    "Setup the saving path and the checkpoint file so that we can reuse this model later."
   ]
  },
  {
   "cell_type": "code",
   "execution_count": 25,
   "metadata": {
    "collapsed": false,
    "deletable": true,
    "editable": true
   },
   "outputs": [],
   "source": [
    "save_path = \"./saves\"\n",
    "chk_file = join(save_path, \"c9h7n.ckpt\")\n",
    "if not isdir(save_path):\n",
    "  makedirs(save_path)"
   ]
  },
  {
   "cell_type": "markdown",
   "metadata": {
    "deletable": true,
    "editable": true
   },
   "source": [
    "Small utility function to evaluate a dataset by feeding batches of data to ``{eval_dataset}`` and pulling the results \n",
    "from ``{eval_values}``. Saves memory and enables this to run on smaller GPUs."
   ]
  },
  {
   "cell_type": "code",
   "execution_count": 26,
   "metadata": {
    "collapsed": false,
    "deletable": true,
    "editable": true
   },
   "outputs": [],
   "source": [
    "def eval_in_batches(data):\n",
    "  \"\"\" Get all predictions for a dataset by running it in small batches. \"\"\"\n",
    "  size = data.shape[0]\n",
    "  if size < batch_size:\n",
    "    raise ValueError(\"batch size for evals larger than dataset: %d\" % size)\n",
    "  eval_values = np.ndarray(shape=(size, 1), dtype=NP_TYPE)\n",
    "  for i, inext in brange(0, size, batch_size):\n",
    "    eval_values[i: inext] = sess.run(\n",
    "      estimates,\n",
    "      feed_dict={X_batch: data[i: inext, ...], keep_prob: 1.0})\n",
    "  return eval_values"
   ]
  },
  {
   "cell_type": "markdown",
   "metadata": {
    "deletable": true,
    "editable": true
   },
   "source": [
    "This helper function is used to restore the latest checkpoint if existed."
   ]
  },
  {
   "cell_type": "code",
   "execution_count": 27,
   "metadata": {
    "collapsed": false,
    "deletable": true,
    "editable": true
   },
   "outputs": [],
   "source": [
    "def restore_latest_from_ckpt(save_dir):\n",
    "  \"\"\"\n",
    "  Restore the latest checkpoint from the 'scratch' if possible.\n",
    "  \"\"\"\n",
    "  if not isdir(save_dir):\n",
    "    return None\n",
    "  ckpt = tf.train.get_checkpoint_state(save_dir)\n",
    "  if ckpt and ckpt.model_checkpoint_path:\n",
    "    return ckpt.model_checkpoint_path"
   ]
  },
  {
   "cell_type": "markdown",
   "metadata": {
    "deletable": true,
    "editable": true
   },
   "source": [
    "Finally we invoke a new session and start this training."
   ]
  },
  {
   "cell_type": "code",
   "execution_count": 28,
   "metadata": {
    "collapsed": false,
    "deletable": true,
    "editable": true
   },
   "outputs": [
    {
     "name": "stdout",
     "output_type": "stream",
     "text": [
      "Initialized!\n",
      "\n",
      "Training Samples      : 4000\n",
      "Batch Size            : 50\n",
      "Number of Epochs      : 400\n",
      "Log Frequency         : 100\n",
      "Eval Frequency        : 400\n",
      "\n",
      "Step      0 (epoch    0.00), loss: 0.482387, time: 0.333 s\n",
      "\n",
      "Time since beginning  : 0.335 s\n",
      "\n",
      "Step    100 (epoch    1.25), loss: 0.165405, time: 6.431 s\n",
      "Step    200 (epoch    2.50), loss: 0.178332, time: 6.183 s\n",
      "Step    300 (epoch    3.75), loss: 0.177510, time: 6.174 s\n",
      "Step    400 (epoch    5.00), loss: 0.139511, time: 6.193 s, error: 0.169564\n",
      "Step    500 (epoch    6.25), loss: 0.182030, time: 6.447 s\n",
      "Step    600 (epoch    7.50), loss: 0.171001, time: 6.190 s\n",
      "Step    700 (epoch    8.75), loss: 0.170315, time: 6.199 s\n",
      "Step    800 (epoch   10.00), loss: 0.159381, time: 6.183 s, error: 0.167995\n",
      "Step    900 (epoch   11.25), loss: 0.191134, time: 6.416 s\n",
      "Step   1000 (epoch   12.50), loss: 0.169183, time: 6.187 s\n",
      "Step   1100 (epoch   13.75), loss: 0.154121, time: 6.175 s\n",
      "Step   1200 (epoch   15.00), loss: 0.158959, time: 6.209 s, error: 0.167072\n",
      "Step   1300 (epoch   16.25), loss: 0.186048, time: 6.413 s\n",
      "Step   1400 (epoch   17.50), loss: 0.157803, time: 6.181 s\n",
      "Step   1500 (epoch   18.75), loss: 0.186273, time: 6.183 s\n",
      "Step   1600 (epoch   20.00), loss: 0.188879, time: 6.168 s, error: 0.167016\n",
      "Step   1700 (epoch   21.25), loss: 0.173921, time: 6.414 s\n",
      "Step   1800 (epoch   22.50), loss: 0.167109, time: 6.195 s\n",
      "Step   1900 (epoch   23.75), loss: 0.164179, time: 6.232 s\n",
      "Step   2000 (epoch   25.00), loss: 0.171869, time: 6.185 s, error: 0.166965\n",
      "\n",
      "Time since beginning  : 125.516 s\n",
      "\n",
      "Step   2100 (epoch   26.25), loss: 0.169434, time: 6.499 s\n",
      "Step   2200 (epoch   27.50), loss: 0.136630, time: 6.198 s\n",
      "Step   2300 (epoch   28.75), loss: 0.137391, time: 6.202 s\n",
      "Step   2400 (epoch   30.00), loss: 0.147049, time: 6.185 s, error: 0.166998\n",
      "Step   2500 (epoch   31.25), loss: 0.146643, time: 6.436 s\n",
      "Step   2600 (epoch   32.50), loss: 0.178741, time: 6.194 s\n",
      "Step   2700 (epoch   33.75), loss: 0.174270, time: 6.183 s\n",
      "Step   2800 (epoch   35.00), loss: 0.167472, time: 6.194 s, error: 0.166932\n",
      "Step   2900 (epoch   36.25), loss: 0.169223, time: 6.435 s\n",
      "Step   3000 (epoch   37.50), loss: 0.158103, time: 6.191 s\n",
      "Step   3100 (epoch   38.75), loss: 0.154934, time: 6.213 s\n",
      "Step   3200 (epoch   40.00), loss: 0.195314, time: 6.208 s, error: 0.166959\n",
      "Step   3300 (epoch   41.25), loss: 0.170503, time: 6.422 s\n",
      "Step   3400 (epoch   42.50), loss: 0.179002, time: 6.185 s\n",
      "Step   3500 (epoch   43.75), loss: 0.161022, time: 6.183 s\n",
      "Step   3600 (epoch   45.00), loss: 0.164390, time: 6.200 s, error: 0.166705\n",
      "Step   3700 (epoch   46.25), loss: 0.166729, time: 6.425 s\n",
      "Step   3800 (epoch   47.50), loss: 0.174433, time: 6.193 s\n",
      "Step   3900 (epoch   48.75), loss: 0.141885, time: 6.217 s\n",
      "Step   4000 (epoch   50.00), loss: 0.151684, time: 6.194 s, error: 0.166346\n",
      "\n",
      "Time since beginning  : 250.675 s\n",
      "\n",
      "Step   4100 (epoch   51.25), loss: 0.173080, time: 6.485 s\n",
      "Step   4200 (epoch   52.50), loss: 0.173315, time: 6.191 s\n",
      "Step   4300 (epoch   53.75), loss: 0.176479, time: 6.169 s\n",
      "Step   4400 (epoch   55.00), loss: 0.152276, time: 6.189 s, error: 0.166524\n",
      "Step   4500 (epoch   56.25), loss: 0.156390, time: 6.423 s\n",
      "Step   4600 (epoch   57.50), loss: 0.159217, time: 6.211 s\n",
      "Step   4700 (epoch   58.75), loss: 0.158550, time: 6.188 s\n",
      "Step   4800 (epoch   60.00), loss: 0.154356, time: 6.188 s, error: 0.166532\n",
      "Step   4900 (epoch   61.25), loss: 0.166142, time: 6.422 s\n",
      "Step   5000 (epoch   62.50), loss: 0.171565, time: 6.212 s\n",
      "Step   5100 (epoch   63.75), loss: 0.136180, time: 6.189 s\n",
      "Step   5200 (epoch   65.00), loss: 0.137860, time: 6.202 s, error: 0.163144\n",
      "Step   5300 (epoch   66.25), loss: 0.135329, time: 6.428 s\n",
      "Step   5400 (epoch   67.50), loss: 0.150005, time: 6.204 s\n",
      "Step   5500 (epoch   68.75), loss: 0.172354, time: 6.184 s\n",
      "Step   5600 (epoch   70.00), loss: 0.152609, time: 6.204 s, error: 0.149819\n",
      "Step   5700 (epoch   71.25), loss: 0.149866, time: 6.417 s\n",
      "Step   5800 (epoch   72.50), loss: 0.138641, time: 6.185 s\n",
      "Step   5900 (epoch   73.75), loss: 0.139917, time: 6.204 s\n",
      "Step   6000 (epoch   75.00), loss: 0.136461, time: 6.194 s, error: 0.156480\n",
      "\n",
      "Time since beginning  : 375.763 s\n",
      "\n",
      "Step   6100 (epoch   76.25), loss: 0.136291, time: 6.473 s\n",
      "Step   6200 (epoch   77.50), loss: 0.139709, time: 6.192 s\n",
      "Step   6300 (epoch   78.75), loss: 0.125366, time: 6.180 s\n",
      "Step   6400 (epoch   80.00), loss: 0.135469, time: 6.192 s, error: 0.159911\n",
      "Step   6500 (epoch   81.25), loss: 0.139538, time: 6.417 s\n",
      "Step   6600 (epoch   82.50), loss: 0.123135, time: 6.212 s\n",
      "Step   6700 (epoch   83.75), loss: 0.128483, time: 6.184 s\n",
      "Step   6800 (epoch   85.00), loss: 0.165725, time: 6.210 s, error: 0.152868\n",
      "Step   6900 (epoch   86.25), loss: 0.132689, time: 6.437 s\n",
      "Step   7000 (epoch   87.50), loss: 0.151183, time: 6.187 s\n",
      "Step   7100 (epoch   88.75), loss: 0.137237, time: 6.180 s\n",
      "Step   7200 (epoch   90.00), loss: 0.138082, time: 6.187 s, error: 0.151476\n",
      "Step   7300 (epoch   91.25), loss: 0.134474, time: 6.431 s\n",
      "Step   7400 (epoch   92.50), loss: 0.156699, time: 6.182 s\n",
      "Step   7500 (epoch   93.75), loss: 0.151205, time: 6.209 s\n",
      "Step   7600 (epoch   95.00), loss: 0.160388, time: 6.197 s, error: 0.159711\n",
      "Step   7700 (epoch   96.25), loss: 0.152105, time: 6.398 s\n",
      "Step   7800 (epoch   97.50), loss: 0.153516, time: 6.209 s\n",
      "Step   7900 (epoch   98.75), loss: 0.149686, time: 6.186 s\n",
      "Step   8000 (epoch  100.00), loss: 0.149270, time: 6.217 s, error: 0.152222\n",
      "\n",
      "Time since beginning  : 500.843 s\n",
      "\n",
      "Step   8100 (epoch  101.25), loss: 0.145921, time: 6.475 s\n",
      "Step   8200 (epoch  102.50), loss: 0.150626, time: 6.188 s\n",
      "Step   8300 (epoch  103.75), loss: 0.113759, time: 6.187 s\n",
      "Step   8400 (epoch  105.00), loss: 0.139437, time: 6.205 s, error: 0.149276\n",
      "Step   8500 (epoch  106.25), loss: 0.148958, time: 6.435 s\n",
      "Step   8600 (epoch  107.50), loss: 0.141774, time: 6.216 s\n",
      "Step   8700 (epoch  108.75), loss: 0.146310, time: 6.205 s\n",
      "Step   8800 (epoch  110.00), loss: 0.151423, time: 6.192 s, error: 0.153221\n",
      "Step   8900 (epoch  111.25), loss: 0.129775, time: 6.407 s\n",
      "Step   9000 (epoch  112.50), loss: 0.139444, time: 6.193 s\n",
      "Step   9100 (epoch  113.75), loss: 0.126235, time: 6.183 s\n",
      "Step   9200 (epoch  115.00), loss: 0.129432, time: 6.189 s, error: 0.148031\n",
      "Step   9300 (epoch  116.25), loss: 0.139338, time: 6.424 s\n",
      "Step   9400 (epoch  117.50), loss: 0.151140, time: 6.199 s\n",
      "Step   9500 (epoch  118.75), loss: 0.146689, time: 6.190 s\n",
      "Step   9600 (epoch  120.00), loss: 0.145523, time: 6.203 s, error: 0.146019\n",
      "Step   9700 (epoch  121.25), loss: 0.134994, time: 6.441 s\n",
      "Step   9800 (epoch  122.50), loss: 0.131320, time: 6.205 s\n",
      "Step   9900 (epoch  123.75), loss: 0.145895, time: 6.195 s\n",
      "Step  10000 (epoch  125.00), loss: 0.144031, time: 6.220 s, error: 0.147916\n",
      "\n",
      "Time since beginning  : 625.997 s\n",
      "\n",
      "Step  10100 (epoch  126.25), loss: 0.121230, time: 6.501 s\n",
      "Step  10200 (epoch  127.50), loss: 0.106547, time: 6.203 s\n",
      "Step  10300 (epoch  128.75), loss: 0.130999, time: 6.191 s\n",
      "Step  10400 (epoch  130.00), loss: 0.119350, time: 6.187 s, error: 0.147389\n",
      "Step  10500 (epoch  131.25), loss: 0.135684, time: 6.417 s\n",
      "Step  10600 (epoch  132.50), loss: 0.135703, time: 6.201 s\n",
      "Step  10700 (epoch  133.75), loss: 0.144681, time: 6.211 s\n",
      "Step  10800 (epoch  135.00), loss: 0.118733, time: 6.194 s, error: 0.143697\n",
      "Step  10900 (epoch  136.25), loss: 0.110066, time: 6.404 s\n",
      "Step  11000 (epoch  137.50), loss: 0.125010, time: 6.190 s\n",
      "Step  11100 (epoch  138.75), loss: 0.154870, time: 6.194 s\n",
      "Step  11200 (epoch  140.00), loss: 0.140095, time: 6.188 s, error: 0.146245\n",
      "Step  11300 (epoch  141.25), loss: 0.140390, time: 6.407 s\n",
      "Step  11400 (epoch  142.50), loss: 0.135494, time: 6.224 s\n",
      "Step  11500 (epoch  143.75), loss: 0.159361, time: 6.195 s\n",
      "Step  11600 (epoch  145.00), loss: 0.147210, time: 6.212 s, error: 0.144731\n",
      "Step  11700 (epoch  146.25), loss: 0.131046, time: 6.433 s\n",
      "Step  11800 (epoch  147.50), loss: 0.112759, time: 6.196 s\n",
      "Step  11900 (epoch  148.75), loss: 0.141211, time: 6.195 s\n",
      "Step  12000 (epoch  150.00), loss: 0.158267, time: 6.194 s, error: 0.143213\n",
      "\n",
      "Time since beginning  : 751.145 s\n",
      "\n",
      "Step  12100 (epoch  151.25), loss: 0.162494, time: 6.522 s\n",
      "Step  12200 (epoch  152.50), loss: 0.138938, time: 6.188 s\n",
      "Step  12300 (epoch  153.75), loss: 0.131698, time: 6.188 s\n",
      "Step  12400 (epoch  155.00), loss: 0.141467, time: 6.191 s, error: 0.144714\n",
      "Step  12500 (epoch  156.25), loss: 0.154926, time: 6.407 s\n",
      "Step  12600 (epoch  157.50), loss: 0.135622, time: 6.191 s\n",
      "Step  12700 (epoch  158.75), loss: 0.136100, time: 6.198 s\n",
      "Step  12800 (epoch  160.00), loss: 0.136089, time: 6.205 s, error: 0.144976\n",
      "Step  12900 (epoch  161.25), loss: 0.128751, time: 6.415 s\n",
      "Step  13000 (epoch  162.50), loss: 0.129689, time: 6.204 s\n",
      "Step  13100 (epoch  163.75), loss: 0.130478, time: 6.189 s\n",
      "Step  13200 (epoch  165.00), loss: 0.130754, time: 6.185 s, error: 0.144420\n",
      "Step  13300 (epoch  166.25), loss: 0.136591, time: 6.411 s\n",
      "Step  13400 (epoch  167.50), loss: 0.149652, time: 6.227 s\n",
      "Step  13500 (epoch  168.75), loss: 0.140391, time: 6.213 s\n",
      "Step  13600 (epoch  170.00), loss: 0.131713, time: 6.202 s, error: 0.141845\n",
      "Step  13700 (epoch  171.25), loss: 0.128784, time: 6.412 s\n",
      "Step  13800 (epoch  172.50), loss: 0.119505, time: 6.199 s\n",
      "Step  13900 (epoch  173.75), loss: 0.133812, time: 6.201 s\n",
      "Step  14000 (epoch  175.00), loss: 0.137565, time: 6.184 s, error: 0.146226\n",
      "\n",
      "Time since beginning  : 876.264 s\n",
      "\n",
      "Step  14100 (epoch  176.25), loss: 0.127428, time: 6.518 s\n",
      "Step  14200 (epoch  177.50), loss: 0.115091, time: 6.182 s\n",
      "Step  14300 (epoch  178.75), loss: 0.121105, time: 6.187 s\n",
      "Step  14400 (epoch  180.00), loss: 0.135528, time: 6.187 s, error: 0.142013\n",
      "Step  14500 (epoch  181.25), loss: 0.128762, time: 6.405 s\n",
      "Step  14600 (epoch  182.50), loss: 0.119741, time: 6.198 s\n",
      "Step  14700 (epoch  183.75), loss: 0.156812, time: 6.187 s\n",
      "Step  14800 (epoch  185.00), loss: 0.132018, time: 6.218 s, error: 0.142576\n",
      "Step  14900 (epoch  186.25), loss: 0.134403, time: 6.400 s\n",
      "Step  15000 (epoch  187.50), loss: 0.129717, time: 6.193 s\n",
      "Step  15100 (epoch  188.75), loss: 0.128742, time: 6.223 s\n",
      "Step  15200 (epoch  190.00), loss: 0.119293, time: 6.207 s, error: 0.143487\n",
      "Step  15300 (epoch  191.25), loss: 0.138050, time: 6.420 s\n",
      "Step  15400 (epoch  192.50), loss: 0.137037, time: 6.182 s\n",
      "Step  15500 (epoch  193.75), loss: 0.148273, time: 6.206 s\n",
      "Step  15600 (epoch  195.00), loss: 0.148813, time: 6.185 s, error: 0.142622\n",
      "Step  15700 (epoch  196.25), loss: 0.153794, time: 6.416 s\n",
      "Step  15800 (epoch  197.50), loss: 0.132894, time: 6.188 s\n",
      "Step  15900 (epoch  198.75), loss: 0.149156, time: 6.193 s\n",
      "Step  16000 (epoch  200.00), loss: 0.139522, time: 6.193 s, error: 0.142114\n",
      "\n",
      "Time since beginning  : 1001.355 s\n",
      "\n",
      "Step  16100 (epoch  201.25), loss: 0.154677, time: 6.498 s\n",
      "Step  16200 (epoch  202.50), loss: 0.101441, time: 6.195 s\n",
      "Step  16300 (epoch  203.75), loss: 0.141774, time: 6.191 s\n",
      "Step  16400 (epoch  205.00), loss: 0.137804, time: 6.196 s, error: 0.144698\n",
      "Step  16500 (epoch  206.25), loss: 0.133825, time: 6.407 s\n",
      "Step  16600 (epoch  207.50), loss: 0.154405, time: 6.198 s\n",
      "Step  16700 (epoch  208.75), loss: 0.148329, time: 6.179 s\n",
      "Step  16800 (epoch  210.00), loss: 0.122463, time: 6.231 s, error: 0.144682\n",
      "Step  16900 (epoch  211.25), loss: 0.143971, time: 6.421 s\n",
      "Step  17000 (epoch  212.50), loss: 0.126644, time: 6.204 s\n",
      "Step  17100 (epoch  213.75), loss: 0.129495, time: 6.206 s\n",
      "Step  17200 (epoch  215.00), loss: 0.118084, time: 6.210 s, error: 0.141880\n",
      "Step  17300 (epoch  216.25), loss: 0.143799, time: 6.422 s\n",
      "Step  17400 (epoch  217.50), loss: 0.144984, time: 6.194 s\n",
      "Step  17500 (epoch  218.75), loss: 0.145797, time: 6.205 s\n",
      "Step  17600 (epoch  220.00), loss: 0.137957, time: 6.177 s, error: 0.142871\n",
      "Step  17700 (epoch  221.25), loss: 0.111717, time: 6.404 s\n",
      "Step  17800 (epoch  222.50), loss: 0.135771, time: 6.187 s\n",
      "Step  17900 (epoch  223.75), loss: 0.125867, time: 6.197 s\n",
      "Step  18000 (epoch  225.00), loss: 0.129995, time: 6.189 s, error: 0.142501\n",
      "\n",
      "Time since beginning  : 1126.465 s\n",
      "\n",
      "Step  18100 (epoch  226.25), loss: 0.110827, time: 6.484 s\n",
      "Step  18200 (epoch  227.50), loss: 0.122031, time: 6.231 s\n",
      "Step  18300 (epoch  228.75), loss: 0.117009, time: 6.188 s\n",
      "Step  18400 (epoch  230.00), loss: 0.141078, time: 6.225 s, error: 0.141375\n",
      "Step  18500 (epoch  231.25), loss: 0.134723, time: 6.433 s\n",
      "Step  18600 (epoch  232.50), loss: 0.132634, time: 6.209 s\n",
      "Step  18700 (epoch  233.75), loss: 0.112557, time: 6.177 s\n",
      "Step  18800 (epoch  235.00), loss: 0.106147, time: 6.194 s, error: 0.141998\n",
      "Step  18900 (epoch  236.25), loss: 0.118527, time: 6.453 s\n",
      "Step  19000 (epoch  237.50), loss: 0.150131, time: 6.191 s\n",
      "Step  19100 (epoch  238.75), loss: 0.126229, time: 6.200 s\n",
      "Step  19200 (epoch  240.00), loss: 0.126144, time: 6.215 s, error: 0.146526\n",
      "Step  19300 (epoch  241.25), loss: 0.135153, time: 6.416 s\n",
      "Step  19400 (epoch  242.50), loss: 0.142009, time: 6.220 s\n",
      "Step  19500 (epoch  243.75), loss: 0.134303, time: 6.196 s\n",
      "Step  19600 (epoch  245.00), loss: 0.132622, time: 6.196 s, error: 0.144505\n",
      "Step  19700 (epoch  246.25), loss: 0.111950, time: 6.438 s\n",
      "Step  19800 (epoch  247.50), loss: 0.134122, time: 6.192 s\n",
      "Step  19900 (epoch  248.75), loss: 0.162178, time: 6.182 s\n",
      "Step  20000 (epoch  250.00), loss: 0.156638, time: 6.185 s, error: 0.141476\n",
      "\n",
      "Time since beginning  : 1251.694 s\n",
      "\n",
      "Step  20100 (epoch  251.25), loss: 0.131043, time: 6.486 s\n",
      "Step  20200 (epoch  252.50), loss: 0.128114, time: 6.219 s\n",
      "Step  20300 (epoch  253.75), loss: 0.126426, time: 6.197 s\n",
      "Step  20400 (epoch  255.00), loss: 0.142643, time: 6.196 s, error: 0.144392\n",
      "Step  20500 (epoch  256.25), loss: 0.129366, time: 6.408 s\n",
      "Step  20600 (epoch  257.50), loss: 0.134305, time: 6.196 s\n",
      "Step  20700 (epoch  258.75), loss: 0.130225, time: 6.181 s\n",
      "Step  20800 (epoch  260.00), loss: 0.131320, time: 6.188 s, error: 0.142156\n",
      "Step  20900 (epoch  261.25), loss: 0.115215, time: 6.455 s\n",
      "Step  21000 (epoch  262.50), loss: 0.118373, time: 6.193 s\n",
      "Step  21100 (epoch  263.75), loss: 0.120935, time: 6.206 s\n",
      "Step  21200 (epoch  265.00), loss: 0.133619, time: 6.183 s, error: 0.144952\n",
      "Step  21300 (epoch  266.25), loss: 0.140157, time: 6.402 s\n",
      "Step  21400 (epoch  267.50), loss: 0.138593, time: 6.187 s\n",
      "Step  21500 (epoch  268.75), loss: 0.128127, time: 6.190 s\n",
      "Step  21600 (epoch  270.00), loss: 0.124489, time: 6.215 s, error: 0.143282\n",
      "Step  21700 (epoch  271.25), loss: 0.107835, time: 6.421 s\n",
      "Step  21800 (epoch  272.50), loss: 0.129042, time: 6.207 s\n",
      "Step  21900 (epoch  273.75), loss: 0.133190, time: 6.196 s\n",
      "Step  22000 (epoch  275.00), loss: 0.122209, time: 6.195 s, error: 0.144505\n",
      "\n",
      "Time since beginning  : 1376.817 s\n",
      "\n",
      "Step  22100 (epoch  276.25), loss: 0.114680, time: 6.491 s\n",
      "Step  22200 (epoch  277.50), loss: 0.111176, time: 6.205 s\n",
      "Step  22300 (epoch  278.75), loss: 0.132062, time: 6.205 s\n",
      "Step  22400 (epoch  280.00), loss: 0.118456, time: 6.184 s, error: 0.141959\n",
      "Step  22500 (epoch  281.25), loss: 0.119940, time: 6.413 s\n",
      "Step  22600 (epoch  282.50), loss: 0.143493, time: 6.194 s\n",
      "Step  22700 (epoch  283.75), loss: 0.120757, time: 6.206 s\n",
      "Step  22800 (epoch  285.00), loss: 0.133971, time: 6.192 s, error: 0.146167\n",
      "Step  22900 (epoch  286.25), loss: 0.126862, time: 6.430 s\n",
      "Step  23000 (epoch  287.50), loss: 0.118449, time: 6.202 s\n",
      "Step  23100 (epoch  288.75), loss: 0.116168, time: 6.209 s\n",
      "Step  23200 (epoch  290.00), loss: 0.130385, time: 6.190 s, error: 0.148925\n",
      "Step  23300 (epoch  291.25), loss: 0.147756, time: 6.406 s\n",
      "Step  23400 (epoch  292.50), loss: 0.139431, time: 6.188 s\n",
      "Step  23500 (epoch  293.75), loss: 0.141532, time: 6.200 s\n",
      "Step  23600 (epoch  295.00), loss: 0.148890, time: 6.209 s, error: 0.142187\n",
      "Step  23700 (epoch  296.25), loss: 0.120075, time: 6.408 s\n",
      "Step  23800 (epoch  297.50), loss: 0.130476, time: 6.206 s\n",
      "Step  23900 (epoch  298.75), loss: 0.128279, time: 6.193 s\n",
      "Step  24000 (epoch  300.00), loss: 0.149239, time: 6.189 s, error: 0.145564\n",
      "\n",
      "Time since beginning  : 1501.936 s\n",
      "\n",
      "Step  24100 (epoch  301.25), loss: 0.095061, time: 6.502 s\n",
      "Step  24200 (epoch  302.50), loss: 0.132055, time: 6.204 s\n",
      "Step  24300 (epoch  303.75), loss: 0.140102, time: 6.216 s\n",
      "Step  24400 (epoch  305.00), loss: 0.126358, time: 6.208 s, error: 0.144953\n",
      "Step  24500 (epoch  306.25), loss: 0.151853, time: 6.426 s\n",
      "Step  24600 (epoch  307.50), loss: 0.140064, time: 6.183 s\n",
      "Step  24700 (epoch  308.75), loss: 0.109648, time: 6.189 s\n",
      "Step  24800 (epoch  310.00), loss: 0.127520, time: 6.194 s, error: 0.142078\n",
      "Step  24900 (epoch  311.25), loss: 0.118149, time: 6.402 s\n",
      "Step  25000 (epoch  312.50), loss: 0.128513, time: 6.228 s\n",
      "Step  25100 (epoch  313.75), loss: 0.107876, time: 6.200 s\n",
      "Step  25200 (epoch  315.00), loss: 0.140720, time: 6.206 s, error: 0.145784\n",
      "Step  25300 (epoch  316.25), loss: 0.139490, time: 6.417 s\n",
      "Step  25400 (epoch  317.50), loss: 0.140255, time: 6.198 s\n",
      "Step  25500 (epoch  318.75), loss: 0.125685, time: 6.181 s\n",
      "Step  25600 (epoch  320.00), loss: 0.112686, time: 6.187 s, error: 0.150477\n",
      "Step  25700 (epoch  321.25), loss: 0.129280, time: 6.455 s\n",
      "Step  25800 (epoch  322.50), loss: 0.109773, time: 6.195 s\n",
      "Step  25900 (epoch  323.75), loss: 0.118469, time: 6.192 s\n",
      "Step  26000 (epoch  325.00), loss: 0.096121, time: 6.198 s, error: 0.146983\n",
      "\n",
      "Time since beginning  : 1627.121 s\n",
      "\n",
      "Step  26100 (epoch  326.25), loss: 0.112669, time: 6.519 s\n",
      "Step  26200 (epoch  327.50), loss: 0.113038, time: 6.195 s\n",
      "Step  26300 (epoch  328.75), loss: 0.130409, time: 6.220 s\n",
      "Step  26400 (epoch  330.00), loss: 0.118109, time: 6.193 s, error: 0.144784\n",
      "Step  26500 (epoch  331.25), loss: 0.133790, time: 6.402 s\n",
      "Step  26600 (epoch  332.50), loss: 0.112979, time: 6.194 s\n",
      "Step  26700 (epoch  333.75), loss: 0.105758, time: 6.180 s\n",
      "Step  26800 (epoch  335.00), loss: 0.100721, time: 6.187 s, error: 0.147245\n",
      "Step  26900 (epoch  336.25), loss: 0.156314, time: 6.426 s\n",
      "Step  27000 (epoch  337.50), loss: 0.126218, time: 6.213 s\n",
      "Step  27100 (epoch  338.75), loss: 0.113322, time: 6.210 s\n",
      "Step  27200 (epoch  340.00), loss: 0.129606, time: 6.190 s, error: 0.144079\n",
      "Step  27300 (epoch  341.25), loss: 0.140357, time: 6.431 s\n",
      "Step  27400 (epoch  342.50), loss: 0.131079, time: 6.193 s\n",
      "Step  27500 (epoch  343.75), loss: 0.119681, time: 6.187 s\n",
      "Step  27600 (epoch  345.00), loss: 0.107298, time: 6.193 s, error: 0.149585\n",
      "Step  27700 (epoch  346.25), loss: 0.127153, time: 6.429 s\n",
      "Step  27800 (epoch  347.50), loss: 0.154990, time: 6.193 s\n",
      "Step  27900 (epoch  348.75), loss: 0.137004, time: 6.207 s\n",
      "Step  28000 (epoch  350.00), loss: 0.122365, time: 6.197 s, error: 0.146784\n",
      "\n",
      "Time since beginning  : 1752.276 s\n",
      "\n",
      "Step  28100 (epoch  351.25), loss: 0.116432, time: 6.506 s\n",
      "Step  28200 (epoch  352.50), loss: 0.109596, time: 6.193 s\n",
      "Step  28300 (epoch  353.75), loss: 0.141577, time: 6.206 s\n",
      "Step  28400 (epoch  355.00), loss: 0.118303, time: 6.220 s, error: 0.148972\n",
      "Step  28500 (epoch  356.25), loss: 0.119727, time: 6.410 s\n",
      "Step  28600 (epoch  357.50), loss: 0.112505, time: 6.200 s\n",
      "Step  28700 (epoch  358.75), loss: 0.122074, time: 6.210 s\n",
      "Step  28800 (epoch  360.00), loss: 0.114138, time: 6.219 s, error: 0.146818\n",
      "Step  28900 (epoch  361.25), loss: 0.102440, time: 6.430 s\n",
      "Step  29000 (epoch  362.50), loss: 0.116825, time: 6.180 s\n",
      "Step  29100 (epoch  363.75), loss: 0.125487, time: 6.216 s\n",
      "Step  29200 (epoch  365.00), loss: 0.133171, time: 6.192 s, error: 0.153157\n",
      "Step  29300 (epoch  366.25), loss: 0.121572, time: 6.411 s\n",
      "Step  29400 (epoch  367.50), loss: 0.111999, time: 6.194 s\n",
      "Step  29500 (epoch  368.75), loss: 0.116353, time: 6.187 s\n",
      "Step  29600 (epoch  370.00), loss: 0.106608, time: 6.183 s, error: 0.153498\n",
      "Step  29700 (epoch  371.25), loss: 0.123121, time: 6.427 s\n",
      "Step  29800 (epoch  372.50), loss: 0.116442, time: 6.214 s\n",
      "Step  29900 (epoch  373.75), loss: 0.123943, time: 6.195 s\n",
      "Step  30000 (epoch  375.00), loss: 0.100610, time: 6.189 s, error: 0.148516\n",
      "\n",
      "Time since beginning  : 1877.461 s\n",
      "\n",
      "Step  30100 (epoch  376.25), loss: 0.114484, time: 6.490 s\n",
      "Step  30200 (epoch  377.50), loss: 0.120605, time: 6.196 s\n",
      "Step  30300 (epoch  378.75), loss: 0.113229, time: 6.182 s\n",
      "Step  30400 (epoch  380.00), loss: 0.111698, time: 6.209 s, error: 0.148117\n",
      "Step  30500 (epoch  381.25), loss: 0.140446, time: 6.453 s\n",
      "Step  30600 (epoch  382.50), loss: 0.123226, time: 6.196 s\n",
      "Step  30700 (epoch  383.75), loss: 0.127214, time: 6.198 s\n",
      "Step  30800 (epoch  385.00), loss: 0.115318, time: 6.190 s, error: 0.149214\n",
      "Step  30900 (epoch  386.25), loss: 0.109321, time: 6.420 s\n",
      "Step  31000 (epoch  387.50), loss: 0.102591, time: 6.186 s\n",
      "Step  31100 (epoch  388.75), loss: 0.113760, time: 6.222 s\n",
      "Step  31200 (epoch  390.00), loss: 0.132457, time: 6.184 s, error: 0.147648\n",
      "Step  31300 (epoch  391.25), loss: 0.137614, time: 6.408 s\n",
      "Step  31400 (epoch  392.50), loss: 0.130249, time: 6.181 s\n",
      "Step  31500 (epoch  393.75), loss: 0.143049, time: 6.199 s\n",
      "Step  31600 (epoch  395.00), loss: 0.135892, time: 6.186 s, error: 0.147866\n",
      "Step  31700 (epoch  396.25), loss: 0.121146, time: 6.405 s\n",
      "Step  31800 (epoch  397.50), loss: 0.126438, time: 6.224 s\n",
      "Step  31900 (epoch  398.75), loss: 0.127575, time: 6.187 s\n",
      "\n",
      "-> Test error         : 0.153686\n",
      "\n"
     ]
    },
    {
     "data": {
      "text/plain": [
       "'./saves/c9h7n.ckpt-32000'"
      ]
     },
     "execution_count": 28,
     "metadata": {},
     "output_type": "execute_result"
    }
   ],
   "source": [
    "# Build an initialization operation.\n",
    "tf.global_variables_initializer().run()\n",
    "\n",
    "# Register a model saver\n",
    "saver = tf.train.Saver()\n",
    "\n",
    "# Load the previous checkpoint if existed.\n",
    "checkpoint_path = restore_latest_from_ckpt(save_path)\n",
    "load = False\n",
    "if load and checkpoint_path:\n",
    "  saver.restore(sess, checkpoint_path)\n",
    "  print(\"Restore from the lastest checkpoint file %s ...\" % checkpoint_path)\n",
    "  print(\"\")\n",
    "\n",
    "print(\"Initialized!\")\n",
    "print(\"\")\n",
    "print(\"Training Samples      :\", len(X_train))\n",
    "print(\"Batch Size            :\", batch_size)\n",
    "print(\"Number of Epochs      :\", num_epochs)\n",
    "print(\"Log Frequency         :\", log_frequency)\n",
    "print(\"Eval Frequency        :\", eval_frequency)\n",
    "print(\"\")\n",
    "\n",
    "tic = time.time()\n",
    "tstart = time.time()\n",
    "\n",
    "# Keep the validation errors locally\n",
    "valid_hists = []\n",
    "\n",
    "# Loop through training steps.\n",
    "for step in range(int(num_epochs * len(X_train)) // batch_size):\n",
    "  # Compute the offset of the current minibatch in the data.\n",
    "  # The dataset was already shuffled in assignment 1 so we do not need to\n",
    "  # randomize it.\n",
    "  offset = (step * batch_size) % (len(X_train) - batch_size)\n",
    "  batch_dataset = X_train[offset: (offset + batch_size), ...]\n",
    "  batch_targets = y_train[offset: (offset + batch_size), ...]\n",
    "  # Build the feed dict to feed previous defined placeholders.\n",
    "  feed_dict = {X_batch: batch_dataset, y_batch: batch_targets, keep_prob: 0.7}\n",
    "  # Run the optimization session.\n",
    "  sess.run([optimizer], feed_dict=feed_dict)\n",
    "  # Run the step decay function\n",
    "  if step > 0 and step % (len(X_train) // batch_size) == 0:\n",
    "    sess.run([global_epoch_op])\n",
    "  # Save the training accuracy every 100 steps.\n",
    "  if step % log_frequency == 0:\n",
    "    summary, error = sess.run([merged, loss], feed_dict=feed_dict)\n",
    "    elapsed_time = time.time() - tic\n",
    "    tic = time.time()\n",
    "    eval_run = (step % eval_frequency == 0) and (step > 0)\n",
    "    if not eval_run:\n",
    "      print(\"Step %6d (epoch %7.2f), loss: %.6f, time: %.3f s\" % (\n",
    "        step, float(step) * batch_size / len(X_train), error, elapsed_time))\n",
    "    writer.add_summary(summary, step)\n",
    "    # Every `eval_frequency` steps we shall take several extra operations,\n",
    "    # including printing the validation accuracy and updating the learning\n",
    "    # rate.\n",
    "    if eval_run:\n",
    "      lr = sess.run(learning_rate)\n",
    "      valid_error = root_mean_squred(y_test - eval_in_batches(X_test))\n",
    "      valid_hists.append([step, valid_error])\n",
    "      print(\"Step %6d (epoch %7.2f), loss: %.6f, time: %.3f s, error: %.6f\" % (\n",
    "        step, float(step) * batch_size / len(X_train), error, elapsed_time, valid_error))\n",
    "    sys.stdout.flush()\n",
    "  # Save the trained model every 1000 steps.\n",
    "  if step % save_frequency == 0:\n",
    "    print(\"\")\n",
    "    print(\"Time since beginning  : %.3f s\" % (time.time() - tstart))\n",
    "    print(\"\")\n",
    "    saver.save(sess, save_path=chk_file, global_step=batch)\n",
    "# Close the writer\n",
    "writer.close()\n",
    "# Finally the training is completed. Now let me see if this MBE model can\n",
    "# really estimate DFT energies.\n",
    "print(\"\")\n",
    "print(\"-> Test error         : %.6f\" % root_mean_squred(y_test - eval_in_batches(X_test)))\n",
    "print(\"\")\n",
    "# Do not forget to save the model one last time!\n",
    "saver.save(sess, save_path=chk_file, global_step=batch)"
   ]
  },
  {
   "cell_type": "markdown",
   "metadata": {
    "deletable": true,
    "editable": true
   },
   "source": [
    "### 5.3 Figures"
   ]
  },
  {
   "cell_type": "markdown",
   "metadata": {
    "deletable": true,
    "editable": true
   },
   "source": [
    "In this section we will display some figures to analyze the results."
   ]
  },
  {
   "cell_type": "code",
   "execution_count": 29,
   "metadata": {
    "collapsed": false,
    "deletable": true,
    "editable": true
   },
   "outputs": [
    {
     "data": {
      "text/plain": [
       "<matplotlib.text.Text at 0x7f410c0be668>"
      ]
     },
     "execution_count": 29,
     "metadata": {},
     "output_type": "execute_result"
    },
    {
     "data": {
      "image/png": "[encoded data removed]",
      "text/plain": [
       "<matplotlib.figure.Figure at 0x7f4110582a90>"
      ]
     },
     "metadata": {},
     "output_type": "display_data"
    }
   ],
   "source": [
    "# Plot the smoothed validation errors\n",
    "xy = np.asarray(valid_hists)\n",
    "size = 10\n",
    "x, y = xy[:, 0], smooth(xy[:, 1], size)[:len(xy)]\n",
    "fig, ax = plt.subplots(1, 1, figsize=[12, 7])\n",
    "ax.plot(x, y, \"r-\")\n",
    "ax.set_ylabel(\"Validation RMSE\", fontsize=12)\n",
    "ax.set_xlabel(\"Steps\", fontsize=12)"
   ]
  },
  {
   "cell_type": "code",
   "execution_count": 30,
   "metadata": {
    "collapsed": true,
    "deletable": true,
    "editable": true
   },
   "outputs": [],
   "source": [
    "# Transform the estimates and targets back to energies\n",
    "y_train_est = eval_in_batches(X_train)\n",
    "y_test_est = eval_in_batches(X_test)\n",
    "energies_train = scaler.inverse_transform(y_train)\n",
    "energies_train_pred = scaler.inverse_transform(y_train_est)\n",
    "energies_test = scaler.inverse_transform(y_test)\n",
    "energies_test_pred = scaler.inverse_transform(y_test_est)"
   ]
  },
  {
   "cell_type": "code",
   "execution_count": 31,
   "metadata": {
    "collapsed": false,
    "deletable": true,
    "editable": true
   },
   "outputs": [
    {
     "data": {
      "image/png": "[encoded data removed]",
      "text/plain": [
       "<matplotlib.figure.Figure at 0x7f40f0a89d68>"
      ]
     },
     "metadata": {},
     "output_type": "display_data"
    }
   ],
   "source": [
    "# Plot the regression figure using ``seaborn.regplot``.\n",
    "fig, axes = plt.subplots(1, 2, figsize=[16, 8], sharey=False)\n",
    "\n",
    "def plot_regression(y_true, y_pred, iax, title):\n",
    "  r2 = r2_score(y_true, y_pred)\n",
    "  mae = mean_abs_error(y_true, y_pred)\n",
    "  diff = y_true - y_pred\n",
    "  stddev = np.var(diff)\n",
    "  ax = sns.regplot(x=y_true.flatten(), y=y_pred.flatten(), ax=axes[iax])\n",
    "  ax.set_ylabel(\"DFTB Energy (eV)\", fontsize=12)\n",
    "  ax.set_xlabel(\"DNN Energy (eV)\", fontsize=12)\n",
    "  ax.set_title(\"%s, $R^2$=%.3f, MAE=%.3f, stddev=%.3f\" % (title, r2, mae, stddev), fontsize=12)\n",
    "\n",
    "# Plot the training result\n",
    "plot_regression(energies_train, energies_train_pred, 0, \"Training Data\")\n",
    "\n",
    "# Plot the testing result\n",
    "plot_regression(energies_test, energies_test_pred, 1, \"Testing Data\")"
   ]
  },
  {
   "cell_type": "code",
   "execution_count": null,
   "metadata": {
    "collapsed": true,
    "deletable": true,
    "editable": true
   },
   "outputs": [],
   "source": []
  }
 ],
 "metadata": {
  "kernelspec": {
   "display_name": "Python 3",
   "language": "python",
   "name": "python3"
  },
  "language_info": {
   "codemirror_mode": {
    "name": "ipython",
    "version": 3
   },
   "file_extension": ".py",
   "mimetype": "text/x-python",
   "name": "python",
   "nbconvert_exporter": "python",
   "pygments_lexer": "ipython3",
   "version": "3.5.2"
  }
 },
 "nbformat": 4,
 "nbformat_minor": 2
}
