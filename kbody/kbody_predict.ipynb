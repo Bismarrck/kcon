{
 "cells": [
  {
   "cell_type": "code",
   "execution_count": 6,
   "metadata": {
    "collapsed": true,
    "deletable": true,
    "editable": true
   },
   "outputs": [],
   "source": [
    "import numpy as np\n",
    "from kbody_predict import CNNPredictor\n",
    "from os.path import join"
   ]
  },
  {
   "cell_type": "markdown",
   "metadata": {
    "deletable": true,
    "editable": true
   },
   "source": [
    "One of the test example of $\\textrm{C}_9\\textrm{H}_7\\textrm{N}$:\n",
    "\n",
    "**Note:** \n",
    "\n",
    "1. The unit of the predicted energies is eV.\n",
    "2. The atomic coordinates should be stored in a 3D numpy array of shape `[num_examples, num_atoms, 3]`.\n",
    "3. The `species` should a list of strings and `len(species)` should be `num_atoms` but not `num_atoms * num_examples`."
   ]
  },
  {
   "cell_type": "code",
   "execution_count": 7,
   "metadata": {
    "collapsed": false,
    "deletable": true,
    "editable": true
   },
   "outputs": [],
   "source": [
    "example = {\n",
    "  \"coords\": np.array([\n",
    "    [13.64290653,      14.13624462,       5.00000000],\n",
    "    [14.15947101,      10.84962323,       5.00000000],\n",
    "    [14.76810787,       9.57195729,       5.00000000],\n",
    "    [15.48133668,       8.52875020,       5.00000000],\n",
    "    [12.43268116,      13.68893092,       5.00000000],\n",
    "    [12.80400662,      11.04896203,       5.00000000],\n",
    "    [10.69871088,      11.93562620,       5.00000000],\n",
    "    [10.49418002,      10.46513468,       5.00000000],\n",
    "    [11.80136861,       9.98973463,       5.00000000],\n",
    "    [12.02985377,      12.30192209,       5.00000000],\n",
    "    [13.81935751,      15.13241536,       5.00000000],\n",
    "    [14.45192832,      13.52872145,       5.00000000],\n",
    "    [14.86239638,      11.67891117,       5.00000000],\n",
    "    [11.63193585,      14.42890524,       5.00000000],\n",
    "    [ 9.87504964,      12.64680696,       5.00000000],\n",
    "    [12.06052266,       8.93300535,       5.00000000],\n",
    "    [14.30308267,       8.39805400,       5.00000000],\n",
    "  ]).reshape((1, 17, 3)),\n",
    "  \"energy\": -550.820680481,\n",
    "  \"species\": [\n",
    "    'N', \n",
    "    'C', 'C', 'C', 'C', 'C', 'C', 'C', 'C', 'C',\n",
    "    'H', 'H', 'H', 'H', 'H', 'H', 'H',\n",
    "  ]\n",
    "}\n",
    "species = example[\"species\"]\n",
    "coords = example[\"coords\"]"
   ]
  },
  {
   "cell_type": "markdown",
   "metadata": {
    "deletable": true,
    "editable": true
   },
   "source": [
    "Initialize a `CNNPredictor` from a trained model. This step may take tens of seconds. Please keep the instance of `CNNPredictor` in memory."
   ]
  },
  {
   "cell_type": "code",
   "execution_count": 8,
   "metadata": {
    "collapsed": false,
    "deletable": true,
    "editable": true
   },
   "outputs": [],
   "source": [
    "model_path = join(\"./\", \"models\", \"C9H7Nv1.v2.DFTB\", \"model.ckpt-3000000\")\n",
    "calculator = CNNPredictor([\"C\", \"H\", \"N\"], model_path, many_body_k=3, max_occurs={\"N\": 1})"
   ]
  },
  {
   "cell_type": "markdown",
   "metadata": {
    "deletable": true,
    "editable": true
   },
   "source": [
    "Then we can make predictions. The `CNNPredictor.predict` will return three values:\n",
    "\n",
    "1. `y_total` is a 1D array and `y_total[i]` is the `ith` energy.\n",
    "2. `y_atomic` is a 2D array and `y_atomic[i, j]` represents the energy of `jth` atom of `ith` structure.\n",
    "3. `y_kbody` is a 2D array as the predicted kbody contributions."
   ]
  },
  {
   "cell_type": "code",
   "execution_count": 9,
   "metadata": {
    "collapsed": false,
    "deletable": true,
    "editable": true
   },
   "outputs": [],
   "source": [
    "y_total, y_atomic, _ = calculator.predict(species, coords)"
   ]
  },
  {
   "cell_type": "code",
   "execution_count": 10,
   "metadata": {
    "collapsed": false,
    "deletable": true,
    "editable": true
   },
   "outputs": [
    {
     "data": {
      "text/plain": [
       "array([-550.87487793], dtype=float32)"
      ]
     },
     "execution_count": 10,
     "metadata": {},
     "output_type": "execute_result"
    }
   ],
   "source": [
    "y_total"
   ]
  },
  {
   "cell_type": "code",
   "execution_count": 11,
   "metadata": {
    "collapsed": false,
    "deletable": true,
    "editable": true
   },
   "outputs": [
    {
     "name": "stdout",
     "output_type": "stream",
     "text": [
      "Atom  1  N energy:   -47.405555 eV\n",
      "Atom  2  C energy:   -41.397311 eV\n",
      "Atom  3  C energy:   -41.856576 eV\n",
      "Atom  4  C energy:   -40.554235 eV\n",
      "Atom  5  C energy:   -41.748245 eV\n",
      "Atom  6  C energy:   -42.072774 eV\n",
      "Atom  7  C energy:   -41.773013 eV\n",
      "Atom  8  C energy:   -40.863932 eV\n",
      "Atom  9  C energy:   -41.821598 eV\n",
      "Atom 10  C energy:   -42.106484 eV\n",
      "Atom 11  H energy:   -18.514394 eV\n",
      "Atom 12  H energy:   -18.324350 eV\n",
      "Atom 13  H energy:   -18.525794 eV\n",
      "Atom 14  H energy:   -18.578355 eV\n",
      "Atom 15  H energy:   -18.480985 eV\n",
      "Atom 16  H energy:   -18.479390 eV\n",
      "Atom 17  H energy:   -18.371898 eV\n"
     ]
    }
   ],
   "source": [
    "for i in range(len(example[\"species\"])):\n",
    "  print(\"Atom %2d %2s energy: % 12.6f eV\" % (i + 1, species[i], y_atomic[0, i]))"
   ]
  }
 ],
 "metadata": {
  "kernelspec": {
   "display_name": "Python 3",
   "language": "python",
   "name": "python3"
  },
  "language_info": {
   "codemirror_mode": {
    "name": "ipython",
    "version": 3
   },
   "file_extension": ".py",
   "mimetype": "text/x-python",
   "name": "python",
   "nbconvert_exporter": "python",
   "pygments_lexer": "ipython3",
   "version": "3.6.0"
  }
 },
 "nbformat": 4,
 "nbformat_minor": 0
}
