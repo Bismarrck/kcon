{
 "cells": [
  {
   "cell_type": "code",
   "execution_count": 1,
   "metadata": {
    "collapsed": true,
    "deletable": true,
    "editable": true
   },
   "outputs": [],
   "source": [
    "%load_ext autoreload\n",
    "%autoreload 1\n",
    "%aimport kbody_transform\n",
    "\n",
    "import tensorflow as tf\n",
    "import numpy as np\n",
    "import re\n",
    "from sklearn.metrics import pairwise_distances"
   ]
  },
  {
   "cell_type": "markdown",
   "metadata": {
    "deletable": true,
    "editable": true
   },
   "source": [
    "One of the test example of $\\textrm{C}_9\\textrm{H}_7\\textrm{N}$:\n",
    "\n",
    "**Note: the unit of the energies should be eV.**"
   ]
  },
  {
   "cell_type": "code",
   "execution_count": 2,
   "metadata": {
    "collapsed": true,
    "deletable": true,
    "editable": true
   },
   "outputs": [],
   "source": [
    "example = \"\"\"17\n",
    "-550.820680481\n",
    "N     13.64290653      14.13624462       5.00000000  \n",
    "C     14.15947101      10.84962323       5.00000000  \n",
    "C     14.76810787       9.57195729       5.00000000  \n",
    "C     15.48133668       8.52875020       5.00000000  \n",
    "C     12.43268116      13.68893092       5.00000000  \n",
    "C     12.80400662      11.04896203       5.00000000  \n",
    "C     10.69871088      11.93562620       5.00000000  \n",
    "C     10.49418002      10.46513468       5.00000000  \n",
    "C     11.80136861       9.98973463       5.00000000  \n",
    "C     12.02985377      12.30192209       5.00000000  \n",
    "H     13.81935751      15.13241536       5.00000000  \n",
    "H     14.45192832      13.52872145       5.00000000  \n",
    "H     14.86239638      11.67891117       5.00000000  \n",
    "H     11.63193585      14.42890524       5.00000000  \n",
    "H      9.87504964      12.64680696       5.00000000  \n",
    "H     12.06052266       8.93300535       5.00000000  \n",
    "H     14.30308267       8.39805400       5.00000000  \n",
    "\"\"\""
   ]
  },
  {
   "cell_type": "markdown",
   "metadata": {
    "deletable": true,
    "editable": true
   },
   "source": [
    "The helper functions for converting atomic coordinates to input features."
   ]
  },
  {
   "cell_type": "code",
   "execution_count": 3,
   "metadata": {
    "collapsed": false,
    "deletable": true,
    "editable": true
   },
   "outputs": [],
   "source": [
    "energy_patt = re.compile(r\"([\\w.-]+)\")\n",
    "string_patt = re.compile(r\"([A-Za-z]+)\\s+([\\w.-]+)\\s+([\\w.-]+)\\s+([\\w.-]+)\")\n",
    "num_atoms = 17\n",
    "num_structures = 1\n",
    "\n",
    "def extract_xyz(string):\n",
    "  coords = np.zeros((num_structures, num_atoms, 3), dtype=np.float32)\n",
    "  species = []\n",
    "  parse_species = True\n",
    "  energies = np.zeros((num_structures, ), dtype=np.float64)\n",
    "  stage = 0\n",
    "  counter = 0\n",
    "  \n",
    "  for line in string.split(\"\\n\"):\n",
    "    i = int(counter // num_atoms)\n",
    "    if i == num_structures:\n",
    "      break\n",
    "    l = line.strip()\n",
    "    if l == \"\":\n",
    "      continue\n",
    "    elif stage == 0:\n",
    "      if l.isdigit():\n",
    "        n = int(l)\n",
    "        if n != num_atoms:\n",
    "          raise ValueError(\"The parsed size %d != NUM_SITES\" % n)\n",
    "        stage += 1\n",
    "    elif stage == 1:\n",
    "      m = energy_patt.search(l)\n",
    "      if m:\n",
    "        energies[i] = float(m.group(1))\n",
    "        stage = 2\n",
    "    elif stage == 2:\n",
    "      m = string_patt.search(l)\n",
    "      if m:\n",
    "        if parse_species:\n",
    "          species.append(m.group(1))\n",
    "          if len(species) == num_atoms:\n",
    "            parse_species = False\n",
    "        x, y, z = float(m.group(2)), float(m.group(3)), float(m.group(4))\n",
    "        coords[i, counter % num_atoms, :] = x, y, z\n",
    "        counter += 1\n",
    "        if counter % num_atoms == 0:\n",
    "          stage = 0\n",
    "  \n",
    "  return species, energies, coords"
   ]
  },
  {
   "cell_type": "markdown",
   "metadata": {
    "deletable": true,
    "editable": true
   },
   "source": [
    "Initialize a `Transformer` and we can easily obtain input features and training targets."
   ]
  },
  {
   "cell_type": "code",
   "execution_count": 4,
   "metadata": {
    "collapsed": false,
    "deletable": true,
    "editable": true
   },
   "outputs": [],
   "source": [
    "species, energies, coords = extract_xyz(example)\n",
    "clf = kbody_transform.Transformer(species, many_body_k=3)\n",
    "features, target = clf.transform(coords, energies)"
   ]
  },
  {
   "cell_type": "code",
   "execution_count": 5,
   "metadata": {
    "collapsed": false,
    "deletable": true,
    "editable": true
   },
   "outputs": [],
   "source": [
    "tf.reset_default_graph()\n",
    "sess = tf.InteractiveSession()  \n",
    "saver = tf.train.import_meta_graph(\"./events/model.ckpt-500.meta\")\n",
    "saver.restore(sess, \"./events/model.ckpt-500\")  \n",
    "graph = tf.get_default_graph()\n",
    "graph_def = graph.as_graph_def()"
   ]
  },
  {
   "cell_type": "code",
   "execution_count": 23,
   "metadata": {
    "collapsed": false,
    "deletable": true,
    "editable": true
   },
   "outputs": [],
   "source": [
    "tensor_names = [node.name for node in graph_def.node]"
   ]
  },
  {
   "cell_type": "code",
   "execution_count": 18,
   "metadata": {
    "collapsed": false,
    "deletable": true,
    "editable": true
   },
   "outputs": [],
   "source": [
    "extra_inputs = graph.get_tensor_by_name(\"placeholders/extra_inputs:0\")\n",
    "use_extra = graph.get_tensor_by_name(\"placeholders/use_extra_inputs:0\")\n",
    "is_predicting = graph.get_tensor_by_name(\"placeholders/is_predicting:0\")\n",
    "shuffle_batch = graph.get_tensor_by_name(\"input/shuffle_batch:0\")\n",
    "split_dims = graph.get_tensor_by_name(\"split_dims:0\")\n",
    "y_pred = graph.get_tensor_by_name(\"Outputs/squeeze:0\")"
   ]
  },
  {
   "cell_type": "code",
   "execution_count": 12,
   "metadata": {
    "collapsed": false,
    "deletable": true,
    "editable": true
   },
   "outputs": [],
   "source": [
    "fixed_shape = shuffle_batch.get_shape().as_list()"
   ]
  },
  {
   "cell_type": "code",
   "execution_count": 14,
   "metadata": {
    "collapsed": true
   },
   "outputs": [],
   "source": [
    "X_test = np.concatenate((features.reshape([1, 1, 680, 3]), np.zeros((1, 1, 680, 3), dtype=np.float32)))"
   ]
  },
  {
   "cell_type": "code",
   "execution_count": 15,
   "metadata": {
    "collapsed": false
   },
   "outputs": [
    {
     "data": {
      "text/plain": [
       "(2, 1, 680, 3)"
      ]
     },
     "execution_count": 15,
     "metadata": {},
     "output_type": "execute_result"
    }
   ],
   "source": [
    "X_test.shape"
   ]
  },
  {
   "cell_type": "code",
   "execution_count": 19,
   "metadata": {
    "collapsed": true
   },
   "outputs": [],
   "source": [
    "feed_dict = {\n",
    "  use_extra: True, \n",
    "  is_predicting: True, \n",
    "  extra_inputs: X_test, \n",
    "  shuffle_batch: np.zeros(fixed_shape, np.float32),\n",
    "  split_dims: clf._kbody_sizes\n",
    "}"
   ]
  },
  {
   "cell_type": "code",
   "execution_count": 20,
   "metadata": {
    "collapsed": false
   },
   "outputs": [
    {
     "data": {
      "text/plain": [
       "array([ 550.06317139,  548.69140625], dtype=float32)"
      ]
     },
     "execution_count": 20,
     "metadata": {},
     "output_type": "execute_result"
    }
   ],
   "source": [
    "sess.run(y_pred, feed_dict=feed_dict)"
   ]
  },
  {
   "cell_type": "code",
   "execution_count": 21,
   "metadata": {
    "collapsed": false
   },
   "outputs": [
    {
     "data": {
      "text/plain": [
       "array([ 550.82068048])"
      ]
     },
     "execution_count": 21,
     "metadata": {},
     "output_type": "execute_result"
    }
   ],
   "source": [
    "target"
   ]
  },
  {
   "cell_type": "code",
   "execution_count": 35,
   "metadata": {
    "collapsed": false,
    "scrolled": false
   },
   "outputs": [],
   "source": [
    "def get_formula(species):\n",
    "  \"\"\"\n",
    "  Return the molecular formula given a list of atomic species.\n",
    "  \"\"\"\n",
    "  return \"\".join(species)\n",
    "\n",
    "\n",
    "class CNNPredictor:\n",
    "  \"\"\"\n",
    "  An energy predictor based on the deep neural network of 'sum-kbody-cnn'.\n",
    "  \"\"\"\n",
    "  \n",
    "  def __init__(self, species, many_body_k=3):\n",
    "    \"\"\"\n",
    "    Initialization method.\n",
    "    \n",
    "    Args:\n",
    "      species: a `List[str]` as the species for the trained model.\n",
    "      many_body_k: a `int` as the many-body expansion.\n",
    "    \n",
    "    \"\"\"\n",
    "    self.transformer = kbody_transform.Transformer(species, many_body_k=many_body_k)\n",
    "    self.sess = tf.Session()\n",
    "    self._default_num_atoms = len(species)\n",
    "    self._formula = get_formula(species)\n",
    "    self._selections = []\n",
    "    for term, cnk_selection in self.transformer._selections.items():\n",
    "      self._selections.extend(cnk_selection)\n",
    "  \n",
    "  @property\n",
    "  def many_body_k(self):\n",
    "    return self.transformer.many_body_k\n",
    "  \n",
    "  @property\n",
    "  def ck2(self):\n",
    "    return self.transformer.ck2\n",
    "  \n",
    "  @property\n",
    "  def cnk(self):\n",
    "    return self.transformer.cnk\n",
    "  \n",
    "  def import_model(self, model, **kwargs):\n",
    "    \"\"\"\n",
    "    Import and restore the meta-model.\n",
    "    \n",
    "    Args:\n",
    "      model: a string representing the model path. This file should correspond to the \n",
    "        ckpt file with steps, eg `model.ckpt-8000`.\n",
    "      kwargs: additional key-value arguments for restoring the model.\n",
    "    \n",
    "    \"\"\"\n",
    "    self.saver = tf.train.import_meta_graph(\"{}.meta\".format(model))\n",
    "    self.saver.restore(self.sess, model, **kwargs)\n",
    "    self.y_total_op = graph.get_tensor_by_name(\"Outputs/squeeze:0\")    \n",
    "    self.y_kbody_op = graph.get_tensor_by_name(\"Contribs:0\")\n",
    "    self._extra_inputs = graph.get_tensor_by_name(\"placeholders/extra_inputs:0\")\n",
    "    self._use_extra = graph.get_tensor_by_name(\"placeholders/use_extra_inputs:0\")\n",
    "    self._is_predicting = graph.get_tensor_by_name(\"placeholders/is_predicting:0\")\n",
    "    self._split_dims = graph.get_tensor_by_name(\"split_dims:0\")\n",
    "    self._shuffle_batch = graph.get_tensor_by_name(\"input/shuffle_batch:0\")\n",
    "    self._defaut_batch = np.zeros(self._shuffle_batch.get_shape().as_list(), \n",
    "                                  dtype=np.float32)\n",
    "  \n",
    "  def _predict_same(self, coords):\n",
    "    \"\"\"\n",
    "    Make the prediction(s) for the molecule(s) with the exactly same species\n",
    "    with the trained model.\n",
    "    \n",
    "    Args:\n",
    "      coords: a 2D or 3D array as the atomic coordinates.\n",
    "    \n",
    "    Returns:\n",
    "      y_total: a 1D array as the predicted total energies.\n",
    "      y_atomic: a 2D array as the predicted atomic energies.\n",
    "    \n",
    "    \"\"\"\n",
    "    if len(coords.shape) == 2:\n",
    "      assert coords.shape[0] == self._default_num_atoms\n",
    "      num_atoms = len(coords)\n",
    "      coords = coords.reshape((1, num_atoms, 3))\n",
    "      num_mols = 1\n",
    "    else:\n",
    "      num_mols, num_atoms = coords.shape[0:2]\n",
    "    energies = np.zeros((num_mols, ), dtype=np.float64)\n",
    "    features, _ = self.transformer.transform(coords, energies)\n",
    "    features = features.reshape((num_mols, 1, -1, self.ck2))\n",
    "    y_total, y_kbody = sess.run([self.y_total_op, self.y_kbody_op], feed_dict={\n",
    "      self._extra_inputs: features,\n",
    "      self._use_extra: True,\n",
    "      self._is_predicting: True,\n",
    "      self._shuffle_batch: self._defaut_batch,\n",
    "      self._split_dims: self.transformer.split_dims,\n",
    "    })\n",
    "    atomic_energies = np.zeros((num_mols, num_atoms))\n",
    "    for step in range(num_mols):\n",
    "      for i in range(self.cnk):\n",
    "        for j in self._selections[i]:\n",
    "          atomic_energies[step, j] -= y_kbody[step, 0, i, 0]\n",
    "    return -y_total, atomic_energies / float(self.ck2)\n",
    "  \n",
    "  def _predict(self, species, coords):\n",
    "    \"\"\"\n",
    "    Make the prediction\n",
    "    \"\"\"\n",
    "    pass\n",
    "\n",
    "  def predict(self, species, coords):\n",
    "    \"\"\"\n",
    "    Make the prediction for the given molecule.\n",
    "    \n",
    "    Args:\n",
    "      species: a `List[str]` as the ordered atomic species of a molecule.\n",
    "      coords: a 2D array as the atomic coordinates of a molecule.\n",
    "    \n",
    "    Returns:\n",
    "      total_energy: a float as the predicted total energy.\n",
    "      atomic_energies: a 1D array as the predicted energy for each atom.\n",
    "      kbody_energies: a 1D array as the predicted energy of each k-body terms.\n",
    "    \n",
    "    \"\"\"\n",
    "    if get_formula(species) == self._formula:\n",
    "      return self._predict_same(coords)\n",
    "    else:\n",
    "      return self._predict(species, coords) "
   ]
  },
  {
   "cell_type": "code",
   "execution_count": 36,
   "metadata": {
    "collapsed": true
   },
   "outputs": [],
   "source": [
    "calculator = CNNPredictor(species, many_body_k=3)\n",
    "calculator.load(\"./events/model.ckpt-500\")"
   ]
  },
  {
   "cell_type": "code",
   "execution_count": 40,
   "metadata": {
    "collapsed": false
   },
   "outputs": [
    {
     "name": "stdout",
     "output_type": "stream",
     "text": [
      "100 loops, best of 3: 3.77 ms per loop\n"
     ]
    }
   ],
   "source": [
    "%timeit total_energy, atomic_energies = calculator.predict(species, coords)"
   ]
  },
  {
   "cell_type": "code",
   "execution_count": 38,
   "metadata": {
    "collapsed": false
   },
   "outputs": [
    {
     "data": {
      "text/plain": [
       "-550.06317"
      ]
     },
     "execution_count": 38,
     "metadata": {},
     "output_type": "execute_result"
    }
   ],
   "source": [
    "total_energy"
   ]
  },
  {
   "cell_type": "code",
   "execution_count": 39,
   "metadata": {
    "collapsed": false
   },
   "outputs": [
    {
     "data": {
      "text/plain": [
       "array([[  0.        , -20.32864237, -20.33601205, -20.34325353,\n",
       "        -20.35279616, -20.36083968, -20.37289699, -20.38856101,\n",
       "        -20.41240295, -20.45897953, -52.36914881, -52.37460534,\n",
       "        -52.38697068, -52.39125331, -52.39379803, -52.39618492,\n",
       "        -52.39680743]])"
      ]
     },
     "execution_count": 39,
     "metadata": {},
     "output_type": "execute_result"
    }
   ],
   "source": [
    "atomic_energies"
   ]
  },
  {
   "cell_type": "code",
   "execution_count": null,
   "metadata": {
    "collapsed": true
   },
   "outputs": [],
   "source": []
  }
 ],
 "metadata": {
  "kernelspec": {
   "display_name": "Python 3",
   "language": "python",
   "name": "python3"
  },
  "language_info": {
   "codemirror_mode": {
    "name": "ipython",
    "version": 3
   },
   "file_extension": ".py",
   "mimetype": "text/x-python",
   "name": "python",
   "nbconvert_exporter": "python",
   "pygments_lexer": "ipython3",
   "version": "3.6.0"
  }
 },
 "nbformat": 4,
 "nbformat_minor": 2
}
