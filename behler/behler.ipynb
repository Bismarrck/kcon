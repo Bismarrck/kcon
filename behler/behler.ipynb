{
 "cells": [
  {
   "cell_type": "markdown",
   "metadata": {
    "deletable": true,
    "editable": true
   },
   "source": [
    "# Naive Behler's Model"
   ]
  },
  {
   "cell_type": "markdown",
   "metadata": {
    "deletable": true,
    "editable": true
   },
   "source": [
    "* Author: Xin Chem\n",
    "* Email: Bismarrck@me.com\n",
    "\n",
    "This jupyter notebook will give a naive demo of Behler's neural network using optimized structures of $\\mathrm{B}_{20}$ clusters. The inner relation between Behler's model and Alexandrova's DNN will also be discussed.\n",
    "\n",
    "### References:\n",
    "\n",
    "1. Behler, J. (2011). Phys Chem Chem Phys 13: 17930-17955.\n",
    "2. Behler, J. (2015). International Journal of Quantum Chemistry, 115(16): 1032-1050.\n",
    "3. Zhai, H. and A. N. Alexandrova (2016). Journal of Chemical Theory and Computation: acs.jctc.6b00994-00914.\n"
   ]
  },
  {
   "cell_type": "markdown",
   "metadata": {
    "deletable": true,
    "editable": true
   },
   "source": [
    "## 1. Symmetry Functions"
   ]
  },
  {
   "cell_type": "markdown",
   "metadata": {
    "deletable": true,
    "editable": true
   },
   "source": [
    "Instead of using cartesian coordinates or interatomic distances directly, Behler uses some symmetry functions to generated local fingerprints for atoms. The symmetry functions were first proposed in [2007](http://journals.aps.org/prl/abstract/10.1103/PhysRevLett.98.146401). In [2011](http://dx.doi.org/10.1063/1.3553717), he discussed five different types of symmetry functions. These functions are labeled as $G_{i}^{k}$ where k is 1 to 5."
   ]
  },
  {
   "cell_type": "markdown",
   "metadata": {
    "deletable": true,
    "editable": true
   },
   "source": [
    "### 1.1 Equations\n",
    "\n",
    "The first three symmetry functions are radial functions, describing the radial environment of atom $i$:\n",
    "\n",
    "$$G_{i}^{1} = \\sum_{j}{f_{c}{(R_{ij})}}$$\n",
    "$$G_{i}^{2} = \\sum_{j}{e^{ -\\eta(R_{ij} - R_s)^2 } \\cdot f_{c}{(R_{ij})}}$$\n",
    "$$G_{i}^{3} = \\sum_{j}{cos(\\kappa R_{ij}) \\cdot f_{c}{(R_{ij})}}$$\n",
    "\n",
    "The two angular functions, $G^4_i$ and $G^5_i$, are summations of cosine functions of the angles $\\theta_{ijk} = acos(\\frac{R_{ij}R_{ik}}{|R_{ij}| \\cdot |R_{ik}|})$ centered at atom $i$. They are defined as:\n",
    "\n",
    "$$G_{i}^{4} = 2^{1 - \\zeta}{ \\sum_{j, j \\ne i} {\\sum_{k, k \\ne j, k \\ne i}} {\n",
    "     [1 + \\lambda cos\\theta_{ijk})^\\zeta \\cdot e^{-\\eta(R_{ij}^2 + R_{jk}^2 + R_{ik}^2) \n",
    "     }\\cdot f_{c}(R_{ij}) \\cdot f_{c}(R_{jk}) \\cdot f_{c}(R_{ik})]\n",
    "} }$$\n",
    "\n",
    "$$G_{i}^{5} = 2^{1 - \\zeta}{ \\sum_{j, j \\ne i} {\\sum_{k, k \\ne j, k \\ne i}} {\n",
    "     [1 + \\lambda cos\\theta_{ijk})^\\zeta \\cdot e^{-\\eta(R_{ij}^2 + R_{ik}^2) \n",
    "     }\\cdot f_{c}(R_{ij}) \\cdot f_{c}(R_{ik})]\n",
    "} }$$\n",
    "\n",
    "In these functions, $f_{c}(R)$ is a cutoff function. Given a cutoff value $R_{c}$, the output of $f_c(R_{ij})$ can be calculated with the following equation:\n",
    "\n",
    "$$f_{c}(R_{ij}) = \\left\\{\\begin{array}{c}\n",
    "0.5 \\cdot \\left[ cos(\\pi\\frac{R_{ij}}{R_{c}}) + 1 \\right] \\qquad R_{ij} \\le R_{c}\\\\ \n",
    "0 \\qquad R_{ij} > R_{c}\n",
    "\\end{array}\\right.$$"
   ]
  },
  {
   "cell_type": "markdown",
   "metadata": {
    "deletable": true,
    "editable": true
   },
   "source": [
    "### 1.2 Amp"
   ]
  },
  {
   "cell_type": "markdown",
   "metadata": {
    "deletable": true,
    "editable": true
   },
   "source": [
    "In Behler's implementation and later in [Amp](http://dx.doi.org/10.1016/j.cpc.2016.05.010), the radial function $G^2_i$ and the angular function $G^4_i$ are used. \n",
    "\n",
    "There are total 5 different empirical hyper-parameters used in these two functions:\n",
    "\n",
    "1. $\\eta$ for $G^2_i$\n",
    "2. $\\eta$, $\\lambda$ and $\\zeta$ for $G^4_i$.\n",
    "3. $R_{c}$ as the cutoff radius for $f_{c}(R_{ij})$.\n",
    "\n",
    "The default values of these hyper-paramters in Amp are:\n",
    "\n",
    "* Radial $\\eta$\n",
    "     * ``[0.05, 4., 20., 80.]``\n",
    "* Angular $\\eta$\n",
    "     * ``[0.005]``\n",
    "* Angular $\\lambda$\n",
    "     * ``[+1., -1.]``\n",
    "* Angular $\\zeta$\n",
    "     * ``[1., 4.]``\n",
    "* The default cutoff radius in Amp is 6.5 angstroms.\n",
    "\n",
    "**Note**: \n",
    "* $\\eta$ for $G^2_i$ and $G^4_i$ are totally different!\n",
    "* These hyper-parameters are atomic-species related. So for different kinds of atoms combinations, we (shall) choose different parameters.\n",
    "\n",
    "Typically we use more than 1 radial and 1 angular symmetry function to describe atoms. In the following sections we will discuss the dimensions of the fingerprints."
   ]
  },
  {
   "cell_type": "markdown",
   "metadata": {
    "deletable": true,
    "editable": true
   },
   "source": [
    "#### 1.2.1 $\\mathrm{B}_{20}$"
   ]
  },
  {
   "cell_type": "markdown",
   "metadata": {
    "deletable": true,
    "editable": true
   },
   "source": [
    "For $B_{20}$ or such kinds of monoatomic clusters, the dimension of the fingerprints for each atom is fixed to 8:\n",
    "\n",
    "* 4 radial fingerprints, as there are 4 different $\\eta$.\n",
    "* 4 angular fingerprints, as there are 1x2x2 different combinations of ($\\eta$, $\\lambda$, $\\zeta$).\n",
    "\n",
    "There is only one possible atomic symbols combination for both $G^2_i$ and $G^4_{i}$:\n",
    "\n",
    "* B-B for $G^2_i$\n",
    "* B-B-B for $G^4_i$"
   ]
  },
  {
   "cell_type": "markdown",
   "metadata": {
    "deletable": true,
    "editable": true
   },
   "source": [
    "#### 1.2.2 $\\mathrm{C}_{4}\\mathrm{H}_{8}$"
   ]
  },
  {
   "cell_type": "markdown",
   "metadata": {
    "deletable": true,
    "editable": true
   },
   "source": [
    "For molecules containing two kinds of atoms, the dimension of the fingerprints for each kind of atom can be computed with the following procedures:\n",
    "\n",
    "1. Radial:\n",
    "     * C-C: 4\n",
    "     * C-H: 4\n",
    "     * H-H: 4\n",
    "2. Angular:\n",
    "     * C-C-C: 4\n",
    "     * C-C-H: 4\n",
    "     * C-H-H: 4\n",
    "     * H-H-H: 4\n",
    "3. The total dimensions of the fingerprints for $\\mathrm{C}$ and $\\mathrm{H}$:\n",
    "     * C: **C-C** + **C-H** + **C-C-C** + **C-C-H** + **C-H-H** = 20\n",
    "     * H: **H-H** + **C-H** + **H-H-H** + **C-C-H** + **C-H-H** = 20"
   ]
  },
  {
   "cell_type": "markdown",
   "metadata": {
    "deletable": true,
    "editable": true
   },
   "source": [
    "#### 1.2.3 $\\mathrm{C}_9\\mathrm{H}_7\\mathrm{N}$"
   ]
  },
  {
   "cell_type": "markdown",
   "metadata": {
    "deletable": true,
    "editable": true
   },
   "source": [
    "Using the same method, we can get the dimensions of the fingerprints for $\\mathrm{C}_9\\mathrm{H}_7\\mathrm{N}$:\n",
    "\n",
    "* C\n",
    "     * C-C: 4\n",
    "     * C-H: 4\n",
    "     * C-N: 4\n",
    "     * C-C-C: 4\n",
    "     * C-C-H: 4\n",
    "     * C-H-H: 4\n",
    "     * C-C-N: 4\n",
    "     * C-H-N: 4\n",
    "     * Total: 32\n",
    "* H\n",
    "     * H-H: 4\n",
    "     * C-H: 4\n",
    "     * N-H: 4\n",
    "     * H-H-H: 4\n",
    "     * C-H-H: 4\n",
    "     * C-C-H: 4\n",
    "     * C-H-N: 4\n",
    "     * H-H-N: 4\n",
    "     * Total: 32\n",
    "* N\n",
    "     * C-N: 4\n",
    "     * H-N: 4\n",
    "     * C-C-N: 4\n",
    "     * C-H-N: 4\n",
    "     * H-H-N: 4\n",
    "     * Total: 20"
   ]
  },
  {
   "cell_type": "markdown",
   "metadata": {
    "deletable": true,
    "editable": true
   },
   "source": [
    "## 2. The Neural Network"
   ]
  },
  {
   "cell_type": "markdown",
   "metadata": {
    "deletable": true,
    "editable": true
   },
   "source": [
    "After calculating the fingerprints, Behler uses the standard feed-forward neural network to estimate energies. The overall structure of his network is demonstrated in the following [figure](http://pubs.rsc.org/en/Content/ArticleLanding/2011/CP/c1cp21668f):\n",
    "\n",
    "<img src=\"./images/behler.png\" width=500px>"
   ]
  },
  {
   "cell_type": "markdown",
   "metadata": {
    "deletable": true,
    "editable": true
   },
   "source": [
    "The fingerprints calculated by the symmetry functions are **local** features, so the neural networks are **atom-wise**, but not **molecule-wise**. The estimated total energy, $E^{total}$, is the sum of energy of each atom. The cost function, excluding the force term, is:\n",
    "\n",
    "$$\\mathrm{RMSE} = \\sqrt{\n",
    "     \\frac{1}{2}\\sum_{i}^{N^{traj}}{\\left[\\left(\\sum_{j}^{N^{atom}}{E_{i,j}}\\right) - \\hat{E_{i}}\\right]^2}}\n",
    "$$\n",
    "\n",
    "where:\n",
    "\n",
    "* $N^{traj}$ is the total number of trajectories.\n",
    "* $N^{atom}$ is the number of atoms in each configuration.\n",
    "* $\\hat{E^{i}}$ is the DFT energy of configuration $i$.\n",
    "* $E_{i,j}$ is the so called, \"atomic energy\", the estimted energy of atom $j$ of configration $i$."
   ]
  },
  {
   "cell_type": "markdown",
   "metadata": {
    "deletable": true,
    "editable": true
   },
   "source": [
    "**Note: the force term is ignored in this demo since it is extremely complicated!**"
   ]
  },
  {
   "cell_type": "markdown",
   "metadata": {
    "deletable": true,
    "editable": true
   },
   "source": [
    "## 3. Case Study: $\\mathrm{B}_{20}$"
   ]
  },
  {
   "cell_type": "markdown",
   "metadata": {
    "deletable": true,
    "editable": true
   },
   "source": [
    "Let's consider the simplest case, a monoatomic cluster, $\\mathrm{B}_{20}$. There is only one atomic neural network to train for this cluster as it just contains Boron atoms."
   ]
  },
  {
   "cell_type": "markdown",
   "metadata": {
    "deletable": true,
    "editable": true
   },
   "source": [
    "As described in **1.2.1**, each Boron atom is described by 8 fingerprints, including 4 radial features and 4 angular features. Suppose we use 2 hidden layers and each hidden layer has 100 units, the total number of parameters in this feed-forward network can be easily computed:\n",
    "\n",
    "* Input-Hidden: \n",
    "     * 8x100 + 100 = 900\n",
    "* Hidden-Hidden:\n",
    "     * 100x100 + 100 = 10100\n",
    "* Hidden-Output: \n",
    "     * 100x1 = 100\n",
    "* Total: 11100"
   ]
  },
  {
   "cell_type": "markdown",
   "metadata": {
    "deletable": true,
    "editable": true
   },
   "source": [
    "The Python codes to run **Amp** on this case:\n",
    "\n",
    "```\n",
    "from amp import Amp\n",
    "from amp.descriptor.gaussian import Gaussian\n",
    "from amp.regression.neuralnetwork import NeuralNetwork\n",
    "\n",
    "f = Trajectory(\"./B20.traj\")\n",
    "images = [image for image in f]\n",
    "f.close()\n",
    "\n",
    "print(images)\n",
    "\n",
    "o = Amp(descriptor=Gaussian(),\n",
    "     regression=NeuralNetwork(hiddenlayers=(10, 10)),\n",
    "     label=\"Behler\",\n",
    "     fortran=False)\n",
    "\n",
    "o.train(images)\n",
    "```"
   ]
  },
  {
   "cell_type": "markdown",
   "metadata": {
    "deletable": true,
    "editable": true
   },
   "source": [
    "## 4. Naive Implementation of Symmetry Functions"
   ]
  },
  {
   "cell_type": "markdown",
   "metadata": {
    "deletable": true,
    "editable": true
   },
   "source": [
    "There are tens of thousands of lines in **Amp**, so I implemented a naive version for $\\mathrm{B}_{20}$ or such monoatomic clusters."
   ]
  },
  {
   "cell_type": "code",
   "execution_count": 14,
   "metadata": {
    "collapsed": true,
    "deletable": true,
    "editable": true
   },
   "outputs": [],
   "source": [
    "import numpy as np\n",
    "import tensorflow as tf\n",
    "from tensorflow.contrib.layers.python.layers import conv2d, flatten\n",
    "from sklearn.metrics import pairwise_distances\n",
    "from itertools import product\n",
    "from pymatgen.io.xyz import XYZ\n",
    "from os.path import join"
   ]
  },
  {
   "cell_type": "markdown",
   "metadata": {
    "deletable": true,
    "editable": true
   },
   "source": [
    "This helper function is used to detect whether $i$ and $j$ are neighbours."
   ]
  },
  {
   "cell_type": "code",
   "execution_count": 2,
   "metadata": {
    "collapsed": true,
    "deletable": true,
    "editable": true
   },
   "outputs": [],
   "source": [
    "def get_neighbour_list(r, cutoff):\n",
    "  \"\"\"\n",
    "  A naive implementation of calculating neighbour list for non-periodic\n",
    "  molecules.\n",
    "\n",
    "  Args:\n",
    "    r: a `[N, N]` array as the pairwise interatomic distances.\n",
    "    cutoff: a float as the cutoff radius.\n",
    "\n",
    "  Returns:\n",
    "    neighbours: a `[N, N]` boolean array as the neighbour results.\n",
    "\n",
    "  \"\"\"\n",
    "  neighbours = r < cutoff\n",
    "  np.fill_diagonal(neighbours, False)\n",
    "  return neighbours"
   ]
  },
  {
   "cell_type": "markdown",
   "metadata": {
    "deletable": true,
    "editable": true
   },
   "source": [
    "An updated cutoff function. The origin cutoff function contains a ``if-else``: \n",
    "$$f_{c}(R_{ij}) = \\left\\{\\begin{array}{c}\n",
    "0.5 \\cdot \\left[ cos(\\pi\\frac{R_{ij}}{R_{c}}) + 1 \\right] \\qquad R_{ij} \\le R_{c}\\\\ \n",
    "0 \\qquad R_{ij} > R_{c}\n",
    "\\end{array}\\right.$$\n",
    "\n",
    "But we can use `min()` to vectorize this function:\n",
    "$$f_{c}(R_{ij}) = 0.5 \\cdot \\left[ cos \\left( \\mathrm{min}( \\frac{R_{ij}}{R_{c}}, 1) \\cdot \\pi \\right) + 1\\right]$$"
   ]
  },
  {
   "cell_type": "code",
   "execution_count": 3,
   "metadata": {
    "collapsed": true,
    "deletable": true,
    "editable": true
   },
   "outputs": [],
   "source": [
    "def cutoff_fxn(r, rc):\n",
    "  \"\"\"\n",
    "  The vectorized cutoff function.\n",
    "\n",
    "  Args:\n",
    "    r: a `float` or an array as the interatomic distances.\n",
    "    rc: a `float` as the cutoff radius.\n",
    "\n",
    "  Returns:\n",
    "    fr: the damped `r`.\n",
    "\n",
    "  \"\"\"\n",
    "  return (np.cos(np.minimum(r / rc, 1.0) * np.pi) + 1.0) * 0.5"
   ]
  },
  {
   "cell_type": "markdown",
   "metadata": {
    "deletable": true,
    "editable": true
   },
   "source": [
    "The radial and angular fingerprints can be calculated with the following functions:\n",
    "\n",
    "$$G_{i}^{2} = \\sum_{j}{e^{ -\\eta(R_{ij} - R_s)^2 } \\cdot f_{c}{(R_{ij})}}$$\n",
    "\n",
    "$$G_{i}^{4} = 2^{1 - \\zeta}{ \\sum_{j, j \\ne i} {\\sum_{k, k \\ne j, k \\ne i}} {\n",
    "     [1 + \\lambda cos\\theta_{ijk})^\\zeta \\cdot e^{-\\eta(R_{ij}^2 + R_{jk}^2 + R_{ik}^2) \n",
    "     }\\cdot f_{c}(R_{ij}) \\cdot f_{c}(R_{jk}) \\cdot f_{c}(R_{ik})]\n",
    "} }$$\n",
    "\n",
    "**Note**: \n",
    "\n",
    "the $R_{s}$ term in $G^2-i$ represents the closest position of atom $j$ to the center atom $i$. For non-periodic molecules, $R_{s}$ is equal to $R_{j}$."
   ]
  },
  {
   "cell_type": "code",
   "execution_count": 5,
   "metadata": {
    "collapsed": true,
    "deletable": true,
    "editable": true
   },
   "outputs": [],
   "source": [
    "def get_radial_fingerprints(coords, r, rc, etas):\n",
    "  \"\"\"\n",
    "  Return the fingerprints from the radial gaussian functions.\n",
    "\n",
    "  Args:\n",
    "    coords: a `[N, 3]` array as the cartesian coordinates.\n",
    "    r: a `[N, N]` array as the pairwise distance matrix.\n",
    "    rc: a float as the cutoff radius.\n",
    "    etas: a `List[float]` as the `eta` in the radial functions.\n",
    "\n",
    "  Returns:\n",
    "    x: a `[N, M]` array as the radial fingerprints.\n",
    "\n",
    "  \"\"\"\n",
    "\n",
    "  params = np.array(etas)\n",
    "  ndim = len(params)\n",
    "  natoms = len(coords)\n",
    "  x = np.zeros((natoms, ndim))\n",
    "  nl = get_neighbour_list(r, rc)\n",
    "  rc2 = rc ** 2\n",
    "  fr = cutoff_fxn(r, rc)\n",
    "\n",
    "  for l, eta in enumerate(etas):\n",
    "    for i in range(natoms):\n",
    "      v = 0.0\n",
    "      ri = coords[i]\n",
    "      for j in range(natoms):\n",
    "        if not nl[i, j]:\n",
    "          continue\n",
    "        rs = coords[j]\n",
    "        ris = np.sum(np.square(ri - rs))\n",
    "        v += np.exp(-eta * ris / rc2) * fr[i, j]\n",
    "      x[i, l] = v\n",
    "  return x\n",
    "\n",
    "\n",
    "def get_augular_fingerprints_naive(coords, r, rc, etas, gammas, zetas):\n",
    "  \"\"\"\n",
    "  Return the fingerprints from the augular functions.\n",
    "\n",
    "  Args:\n",
    "    coords: a `[N, 3]` array as the cartesian coordinates.\n",
    "    r: a `[N, N]` matrix as the pairwise distances.\n",
    "    rc: a float as the cutoff radius.\n",
    "    etas: a `List[float]` as the `eta` in the radial functions.\n",
    "    gammas: a `List[float]` as the `lambda` in the angular functions.\n",
    "    zetas: a `List[float]` as the `zeta` in the angular functions.\n",
    "\n",
    "  Returns:\n",
    "    x: a `[N, M]` array as the augular fingerprints.\n",
    "\n",
    "  \"\"\"\n",
    "  natoms = len(r)\n",
    "  params = np.array(list(product(etas, gammas, zetas)))\n",
    "  ndim = len(params)\n",
    "  rr = r + np.eye(natoms) * rc\n",
    "  r2 = rr ** 2\n",
    "  rc2 = rc ** 2\n",
    "  fr = cutoff_fxn(rr, rc)\n",
    "  x = np.zeros((natoms, ndim))\n",
    "\n",
    "  for l, (eta, gamma, zeta) in enumerate(params):\n",
    "    for i in range(natoms):\n",
    "      for j in range(natoms):\n",
    "        if j == i:\n",
    "          continue\n",
    "        for k in range(natoms):\n",
    "          if k == i or k == j:\n",
    "            continue\n",
    "          rij = coords[j] - coords[i]\n",
    "          rik = coords[k] - coords[i]\n",
    "          theta = np.dot(rij, rik) / (r[i, j] * r[i, k])\n",
    "          v = (1 + gamma * theta)**zeta\n",
    "          v *= np.exp(-eta * (r2[i, j] + r2[i, k] + r2[j, k]) / rc2)\n",
    "          v *= fr[i, j] * fr[j, k] * fr[i, k]\n",
    "          x[i, l] += v\n",
    "    x[:, l] *= 2.0 **(1 - zeta)\n",
    "\n",
    "  return x / 2.0"
   ]
  },
  {
   "cell_type": "markdown",
   "metadata": {
    "deletable": true,
    "editable": true
   },
   "source": [
    "Now let's test the codes above. The `v` below is calculated by **Amp** with $R_{c}=6.5$ and all default hyper-parameters:\n",
    "\n",
    "```\n",
    "v = [\n",
    "    7.4962211769419, 3.908699186062, 0.9606682539908, 0.02123383466,\n",
    "    25.00382305735, 15.2551697332, 6.6248599213, 0.6102237982\n",
    "]\n",
    "```"
   ]
  },
  {
   "cell_type": "code",
   "execution_count": 6,
   "metadata": {
    "collapsed": true,
    "deletable": true,
    "editable": true
   },
   "outputs": [],
   "source": [
    "def get_behler_fingerprints(coords, rc, radial_etas=None, angular_etas=None,\n",
    "                            gammas=None, zetas=None):\n",
    "  \"\"\"\n",
    "  Return the Behler's fingerprints.\n",
    "\n",
    "  Args:\n",
    "    coords: a `[N, 3]` array as the atomic coordinates.\n",
    "    rc: a float as the cutoff radius.\n",
    "    radial_etas: a `List[float]` as the `eta` in the radial functions.\n",
    "    angular_etas: a `List[float]` as the `eta` in the angular functions.\n",
    "    gammas: a `List[float]` as the `lambda` in the angular functions.\n",
    "    zetas: a `List[float]` as the `zeta` in the angular functions.\n",
    "\n",
    "  Returns:\n",
    "    fingerprints: a `[N, M]` array as the fingerprints of the given molecule.\n",
    "\n",
    "  \"\"\"\n",
    "\n",
    "  # These are default parameters defined by Behler. I just copied these from the\n",
    "  # Amp source file `gaussian.py`.\n",
    "  if radial_etas is None:\n",
    "    radial_etas = [0.05, 4., 20., 80.]\n",
    "  if angular_etas is None:\n",
    "    angular_etas = [0.005]\n",
    "  if gammas is None:\n",
    "    gammas = [+1., -1.]\n",
    "  if zetas is None:\n",
    "    zetas = [1., 4.]\n",
    "\n",
    "  r = pairwise_distances(coords)\n",
    "  radials = get_radial_fingerprints(\n",
    "    coords,\n",
    "    r,\n",
    "    rc,\n",
    "    radial_etas\n",
    "  )\n",
    "  augulars = get_augular_fingerprints_naive(\n",
    "    coords,\n",
    "    r,\n",
    "    rc,\n",
    "    angular_etas,\n",
    "    gammas, zetas\n",
    "  )\n",
    "  return np.hstack((radials, augulars))"
   ]
  },
  {
   "cell_type": "code",
   "execution_count": 8,
   "metadata": {
    "collapsed": false,
    "deletable": true,
    "editable": true
   },
   "outputs": [
    {
     "name": "stdout",
     "output_type": "stream",
     "text": [
      "The test is passed!\n"
     ]
    }
   ],
   "source": [
    "xyzfile = join(\"..\", \"datasets\", \"B20pbe_opted.xyz\")\n",
    "cart_coords = XYZ.from_file(xyzfile).molecule.cart_coords\n",
    "rc = 6.5\n",
    "fingers = get_behler_fingerprints(cart_coords, rc)\n",
    "v = [\n",
    "  7.4962211769419, 3.908699186062, 0.9606682539908, 0.02123383466,\n",
    "  25.00382305735, 15.2551697332, 6.6248599213, 0.6102237982\n",
    "]\n",
    "diff = np.linalg.norm(fingers[0] - v)\n",
    "if diff < 1e-6:\n",
    "  print(\"The test is passed!\")\n",
    "else:\n",
    "  print(\"The test is failed!\")"
   ]
  },
  {
   "cell_type": "markdown",
   "metadata": {
    "deletable": true,
    "editable": true
   },
   "source": [
    "## 5. Behler's is Alexandrova's "
   ]
  },
  {
   "cell_type": "markdown",
   "metadata": {
    "deletable": true,
    "editable": true
   },
   "source": [
    "**For mono-atomic clusters, the Behler's network can be expressed with Alexandrova's convolutional structure exactly.**\n",
    "\n",
    "I will show this interesting relation step by step."
   ]
  },
  {
   "cell_type": "markdown",
   "metadata": {
    "deletable": true,
    "editable": true
   },
   "source": [
    "### 5.1 Behler's on $\\mathrm{B}_{20}$"
   ]
  },
  {
   "cell_type": "markdown",
   "metadata": {
    "deletable": true,
    "editable": true
   },
   "source": [
    "Suppose there are total N different structuress of $\\mathrm{B}_{20}$ clusters. As described above, each $\\mathrm{B}_{20}$ cluster has 20 atoms and each Boron atom has 8 fingerprints. If we store all features in a 3D array, the shape of the dataset array should be:\n",
    "\n",
    "$$[N, 20, 8]$$"
   ]
  },
  {
   "cell_type": "markdown",
   "metadata": {
    "deletable": true,
    "editable": true
   },
   "source": [
    "This is a monoatomic cluster, so there is only one atomic neural network to train in Behler's model. Suppose we use two hidden layers and each hidden layer has 100 units, the feed-forward atomic neural network can be expressed as the following:\n",
    "\n",
    "<img src=\"./images/BehlerB20.png\" width=600px>"
   ]
  },
  {
   "cell_type": "markdown",
   "metadata": {
    "deletable": true,
    "editable": true
   },
   "source": [
    "There are three weights matrices in this feed-forward network:\n",
    "\n",
    "* $W_{ih}$\n",
    "     * Input->Hidden\n",
    "     * [8, 100]\n",
    "* $W_{hh}$\n",
    "     * Hidden->Hidden\n",
    "     * [100, 100]\n",
    "* $W_{ho}$\n",
    "     * Hidden->Output\n",
    "     * [100, 1]\n",
    "\n",
    "These weights matrices are shared by all atomic neural networks.\n",
    "\n",
    "The total energy of configuration $i$ can be calculated with the equation below:\n",
    "\n",
    "$$\n",
    "E^{pred}_{i} = \\sum_{j}^{20}{E^{i}_{j}} = \\sum_{j}^{20}{\\mathrm{NN}(x_{j}^i)} \n",
    "= \\sum{ \\left( \\mathrm{NN}( X^{i} ) \\right)}\n",
    "$$\n",
    "\n",
    "$$\n",
    "X^{i} = \\left[ \\begin{array}{cccccc} \n",
    "x_{1}^i & x_{2}^i & x_{3}^i & x_{4}^i & \\dots & x_{20}^i\n",
    "\\end{array}\\right]^T\n",
    "$$"
   ]
  },
  {
   "cell_type": "markdown",
   "metadata": {
    "deletable": true,
    "editable": true
   },
   "source": [
    "### 5.2 The Math Inside"
   ]
  },
  {
   "cell_type": "markdown",
   "metadata": {
    "deletable": true,
    "editable": true
   },
   "source": [
    "Suppose $x^i_{j}$ represents the fingerprints of atom $j$ in configuration $i$. The shape of this vector should be:\n",
    "\n",
    "$$[1, 8]$$\n",
    "\n",
    "Then we can get the values of the first hidden layer:\n",
    "\n",
    "$$z^i_j = x^i_j W_{ih} + b_{ih}$$\n",
    "\n",
    "The shape of $z^i_j$ should be **[1, 100]**."
   ]
  },
  {
   "cell_type": "markdown",
   "metadata": {
    "deletable": true,
    "editable": true
   },
   "source": [
    "For configuration $i$, we can write the above equation to its matrix form:\n",
    "\n",
    "$$\n",
    "z^i = \n",
    "\\left[\n",
    "\\begin{array}{c}\n",
    "x^i_1 W_{ih} + b_{ih}\\\\\n",
    "x^i_2 W_{ih} + b_{ih}\\\\\n",
    "x^i_3 W_{ih} + b_{ih}\\\\\n",
    "\\vdots \\\\\n",
    "x^i_{20} W_{ih} + b_{ih}\\\\\n",
    "\\end{array}\n",
    "\\right]\n",
    "$$"
   ]
  },
  {
   "cell_type": "markdown",
   "metadata": {
    "deletable": true,
    "editable": true
   },
   "source": [
    "The $z^i$ above is a **matrix** of shape [20, 100]. The **first column** of $z^{i}$ can be expanded to:"
   ]
  },
  {
   "cell_type": "markdown",
   "metadata": {
    "deletable": true,
    "editable": true
   },
   "source": [
    "$$ \n",
    "z^i = \\left[\\begin{array}{cc}\n",
    "\\sum_{k=1}^{8}{\\left(x^i_{1,k} \\cdot W^{ih}_{k,1}\\right)} + b^{ih}_{1}, & \\dots \\\\\n",
    "\\sum_{k=1}^{8}{\\left(x^i_{2,k} \\cdot W^{ih}_{k,1}\\right)} + b^{ih}_{1}, & \\dots \\\\\n",
    "\\sum_{k=1}^{8}{\\left(x^i_{3,k} \\cdot W^{ih}_{k,1}\\right)} + b^{ih}_{1}, & \\dots \\\\\n",
    "\\vdots & \\\\\n",
    "\\sum_{k=1}^{8}{\\left(x^i_{20,k} \\cdot W^{ih}_{k,1}\\right)} + b^{ih}_{1}, & \\dots \\\\\n",
    "\\end{array}\\right]\n",
    "$$"
   ]
  },
  {
   "cell_type": "markdown",
   "metadata": {
    "deletable": true,
    "editable": true
   },
   "source": [
    "**The first column of $z^{i}$ is exactly the result of applying a 1x1 convolution kernel on $x^{i}$!**\n",
    "\n",
    "<img src=\"./images/mathflow.png\" width=700px>"
   ]
  },
  {
   "cell_type": "markdown",
   "metadata": {
    "deletable": true,
    "editable": true
   },
   "source": [
    "The Input-to-Hidden weights and biases can be constructed by just stacking 100 such 1x1 convolution kernels."
   ]
  },
  {
   "cell_type": "markdown",
   "metadata": {
    "deletable": true,
    "editable": true
   },
   "source": [
    "The following Python codes just demonstrate how to conveniently build up a Behler's network using convolution layers. For more information please see `behler.py`."
   ]
  },
  {
   "cell_type": "code",
   "execution_count": 16,
   "metadata": {
    "collapsed": false,
    "deletable": true,
    "editable": true
   },
   "outputs": [],
   "source": [
    "def get_number_of_trainable_parameters(verbose=False):\n",
    "  \"\"\"\n",
    "  Return the number of trainable parameters in current graph.\n",
    "\n",
    "  Args:\n",
    "    verbose: a bool. If True, the number of parameters for each variable will\n",
    "    also be printed.\n",
    "\n",
    "  Returns:\n",
    "    ntotal: the total number of trainable parameters.\n",
    "\n",
    "  \"\"\"\n",
    "  print(\"\")\n",
    "  print(\"Compute the total number of trainable parameters ...\")\n",
    "  print(\"\")\n",
    "  ntotal = 0\n",
    "  for var in tf.trainable_variables():\n",
    "    nvar = np.prod(var.get_shape().as_list(), dtype=int)\n",
    "    if verbose:\n",
    "      print(\"{:25s}  {:d}\".format(var.name, nvar))\n",
    "    ntotal += nvar\n",
    "  print(\"\")\n",
    "  print(\"Total number of parameters: %d\" % ntotal)\n",
    "\n",
    "  \n",
    "def inference(conv, activation=tf.nn.tanh, hidden_sizes=(100, 100)):\n",
    "  \"\"\"\n",
    "  Infer the Behler's model for a monoatomic cluster.\n",
    "\n",
    "  Args:\n",
    "    conv: a `[-1, 1, N, M]` Tensor as the input. N is the number of atoms in\n",
    "      the monoatomic cluster and M is the number of features.\n",
    "    activation: the activation function. Defaults to `tf.nn.tanh`.\n",
    "    hidden_sizes: List[int], the number of units of each hidden layer.\n",
    "\n",
    "  Returns:\n",
    "    total_energy: the output Tensor of shape `[-1, 1]` as the estimated total\n",
    "      energies.\n",
    "    atomic_energies: a Tensor of `[-1, N]`, the estimated energy for each atom.\n",
    "\n",
    "  \"\"\"\n",
    "  assert len(hidden_sizes) >= 1\n",
    "\n",
    "  kernel_size = 1\n",
    "  stride = 1\n",
    "  padding = 'SAME'\n",
    "\n",
    "  for i, units in enumerate(hidden_sizes):\n",
    "    conv = conv2d(\n",
    "      conv,\n",
    "      units,\n",
    "      kernel_size,\n",
    "      activation_fn=activation,\n",
    "      stride=stride,\n",
    "      padding=padding,\n",
    "      scope=\"Hidden{:d}\".format(i + 1),\n",
    "    )\n",
    "\n",
    "  atomic_energies = conv2d(\n",
    "    conv,\n",
    "    1,\n",
    "    kernel_size,\n",
    "    activation_fn=None,\n",
    "    biases_initializer=None,\n",
    "    stride=stride,\n",
    "    padding=padding,\n",
    "    scope=\"AtomEnergy\"\n",
    "  )\n",
    "\n",
    "  flat = flatten(atomic_energies)\n",
    "  total_energy = tf.reduce_sum(flat, axis=1, keep_dims=False)\n",
    "  return total_energy, atomic_energies"
   ]
  },
  {
   "cell_type": "markdown",
   "metadata": {
    "deletable": true,
    "editable": true
   },
   "source": [
    "Now let's check the total number of trainable parameters in this network:"
   ]
  },
  {
   "cell_type": "code",
   "execution_count": 17,
   "metadata": {
    "collapsed": false,
    "deletable": true,
    "editable": true
   },
   "outputs": [
    {
     "name": "stdout",
     "output_type": "stream",
     "text": [
      "\n",
      "Compute the total number of trainable parameters ...\n",
      "\n",
      "Hidden1/weights:0          800\n",
      "Hidden1/biases:0           100\n",
      "Hidden2/weights:0          10000\n",
      "Hidden2/biases:0           100\n",
      "AtomEnergy/weights:0       100\n",
      "\n",
      "Total number of parameters: 11100\n"
     ]
    }
   ],
   "source": [
    "tf.reset_default_graph()\n",
    "x = tf.placeholder(tf.float32, [None, 1, 20, 8], name=\"input\")\n",
    "total_energy, _ = inference(x)\n",
    "get_number_of_trainable_parameters(verbose=True)"
   ]
  }
 ],
 "metadata": {
  "kernelspec": {
   "display_name": "Python 3",
   "language": "python",
   "name": "python3"
  },
  "language_info": {
   "codemirror_mode": {
    "name": "ipython",
    "version": 3
   },
   "file_extension": ".py",
   "mimetype": "text/x-python",
   "name": "python",
   "nbconvert_exporter": "python",
   "pygments_lexer": "ipython3",
   "version": "3.6.0"
  }
 },
 "nbformat": 4,
 "nbformat_minor": 2
}
