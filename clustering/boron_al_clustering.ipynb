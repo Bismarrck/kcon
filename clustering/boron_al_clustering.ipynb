{
 "cells": [
  {
   "cell_type": "markdown",
   "metadata": {
    "deletable": true,
    "editable": true
   },
   "source": [
    "# Hierarchical Clustering on Boron clusters"
   ]
  },
  {
   "cell_type": "markdown",
   "metadata": {
    "deletable": true,
    "editable": true
   },
   "source": [
    "* author: Xin Chen\n",
    "* email: Bismarrck@me.com\n",
    "\n",
    "This jupyter notebook is used to repeat the work of http://pubs.acs.org/doi/abs/10.1021/acs.jctc.6b01119. \n",
    "\n",
    "I will apply the clustering scheme on Boron clusters of $\\textrm{CoB}_{21}$."
   ]
  },
  {
   "cell_type": "markdown",
   "metadata": {
    "deletable": true,
    "editable": true
   },
   "source": [
    "## 1. Overview"
   ]
  },
  {
   "cell_type": "markdown",
   "metadata": {
    "deletable": true,
    "editable": true
   },
   "source": [
    "## 2. Declarations"
   ]
  },
  {
   "cell_type": "markdown",
   "metadata": {
    "deletable": true,
    "editable": true
   },
   "source": [
    "In this section we will import python modules and declare global constants."
   ]
  },
  {
   "cell_type": "code",
   "execution_count": 1,
   "metadata": {
    "collapsed": true
   },
   "outputs": [],
   "source": [
    "%matplotlib inline"
   ]
  },
  {
   "cell_type": "code",
   "execution_count": 2,
   "metadata": {
    "collapsed": true
   },
   "outputs": [],
   "source": [
    "import numpy as np"
   ]
  },
  {
   "cell_type": "code",
   "execution_count": null,
   "metadata": {
    "collapsed": true
   },
   "outputs": [],
   "source": []
  },
  {
   "cell_type": "markdown",
   "metadata": {
    "deletable": true,
    "editable": true
   },
   "source": [
    "## 3. Prepare the Data"
   ]
  },
  {
   "cell_type": "code",
   "execution_count": null,
   "metadata": {
    "collapsed": true,
    "deletable": true,
    "editable": true
   },
   "outputs": [],
   "source": [
    "def extract_xyz(filename, verbose=True):\n",
    "  \"\"\"\n",
    "  Extract symbols, coordiantes and forces (for later usage) from the raw file.\n",
    "  \n",
    "  Args:\n",
    "    filename: a str.\n",
    "    verbose: a bool.\n",
    "\n",
    "  Returns\n",
    "    energies: Array[N,]\n",
    "    coordinates: Array[N, 17, 3], a 3D array containing the atomic coordinates.\n",
    "    forces: Array[N, 17, 3], a 3D array containing the atomic forces.\n",
    "  \n",
    "  \"\"\"\n",
    "  energies = np.zeros((TOTAL_SIZE,), dtype=float)\n",
    "  coordinates = np.zeros((TOTAL_SIZE, NUM_SITES, 3), dtype=float)\n",
    "  forces = np.zeros((TOTAL_SIZE, NUM_SITES, 3), dtype=float)\n",
    "  stage = 0\n",
    "  i = 0\n",
    "  j = 0\n",
    "  energy_patt = re.compile(r\".*energy=([\\d.-]+).*\")\n",
    "  string_patt = re.compile(r\"([A-Za-z]{1,2})\\s+([\\d.-]+)\\s+([\\d.-]+)\\s+([\\d.-]+)\\s+\"\n",
    "                            \"\\d+\\s+\\d.\\d+\\s+\\d+\\s+([\\d.-]+)\\s+([\\d.-]+)\\s+([\\d.-]+)\")\n",
    "  tic = time.time()\n",
    "  if verbose:\n",
    "    sys.stdout.write(\"Extract cartesian coordinates ...\\n\")\n",
    "  with open(filename) as f:\n",
    "    for line in f:\n",
    "      if i == TOTAL_SIZE:\n",
    "        break\n",
    "      l = line.strip()\n",
    "      if l == \"\":\n",
    "        continue\n",
    "      if stage == 0:\n",
    "        if l.isdigit():\n",
    "          n = int(l)\n",
    "          if n != NUM_SITES:\n",
    "            raise ValueError(\"The parsed size %d != NUM_SITES\" % n)\n",
    "          stage += 1\n",
    "      elif stage == 1:\n",
    "        m = energy_patt.search(l)\n",
    "        if m:\n",
    "          energies[i] = float(m.group(1))\n",
    "          stage += 1\n",
    "      elif stage == 2:\n",
    "        m = string_patt.search(l)\n",
    "        if m:\n",
    "          coordinates[i, j, :] = float(m.group(2)), float(m.group(3)), float(m.group(4))\n",
    "          forces[i, j, :] = float(m.group(5)), float(m.group(6)), float(m.group(7))\n",
    "          j += 1\n",
    "          if j == NUM_SITES:\n",
    "            j = 0\n",
    "            stage = 0\n",
    "            i += 1\n",
    "            if verbose and i % 1000 == 0:\n",
    "              sys.stdout.write(\"\\rProgress: %7d  /  %7d\" % (i, TOTAL_SIZE))\n",
    "    if verbose:\n",
    "      print(\"\")\n",
    "      print(\"Total time: %.3f s\\n\" % (time.time() - tic))\n",
    "\n",
    "  return energies, coordinates, forces"
   ]
  }
 ],
 "metadata": {
  "kernelspec": {
   "display_name": "Python 2",
   "language": "python",
   "name": "python2"
  },
  "language_info": {
   "codemirror_mode": {
    "name": "ipython",
    "version": 2
   },
   "file_extension": ".py",
   "mimetype": "text/x-python",
   "name": "python",
   "nbconvert_exporter": "python",
   "pygments_lexer": "ipython2",
   "version": "2.7.13"
  }
 },
 "nbformat": 4,
 "nbformat_minor": 2
}
